{
  "nbformat": 4,
  "nbformat_minor": 0,
  "metadata": {
    "colab": {
      "name": "Analise de Dados_Indicadores_professores_bolsa_PUB_maio2021.ipynb",
      "provenance": [],
      "include_colab_link": true
    },
    "kernelspec": {
      "display_name": "Python 3",
      "language": "python",
      "name": "python3"
    },
    "language_info": {
      "codemirror_mode": {
        "name": "ipython",
        "version": 3
      },
      "file_extension": ".py",
      "mimetype": "text/x-python",
      "name": "python",
      "nbconvert_exporter": "python",
      "pygments_lexer": "ipython3",
      "version": "3.8.6"
    }
  },
  "cells": [
    {
      "cell_type": "markdown",
      "metadata": {
        "id": "view-in-github",
        "colab_type": "text"
      },
      "source": [
        "<a href=\"https://colab.research.google.com/github/gustavo-ifusp/edisc-analytics/blob/main/Analise_de_Dados_Indicadores_professores_bolsa_PUB_maio2021.ipynb\" target=\"_parent\"><img src=\"https://colab.research.google.com/assets/colab-badge.svg\" alt=\"Open In Colab\"/></a>"
      ]
    },
    {
      "cell_type": "markdown",
      "metadata": {
        "id": "YXbBfqWDN5LL"
      },
      "source": [
        "# **Analises de Dados (Maio/2021) - parte 2 - E-Disciplinas USP - Bolsa PUB 2020/2021**\n",
        "Professor Orientador Dr. Ewout Ter Haar\n",
        "\n",
        "Aluno Gustavo de Andrade\n",
        "\n",
        "Este estudo é uma continuação ao projeto do Programa Unificado de Bolsa da Universidade de São Paulo de apoio pedagógico na plataforma moodle E-Disciplinas USP. Aprofundaremos as leituras do dataframe da plataforma modelando os dados de forma a normalizá-los, buscando identificar indicadores já conhecidos e buscando novos que façam sentido, introduzindo a Machine Learning como agente facilitador, padronizando e rescalonando para fim de comparação.\n",
        "Buscarei introduzir na analise o engajamento dos docentes, fazendo comparações entre institutos e ao longo dos anos em sua participação normalizando os dados da seguinte forma:\n",
        "\n",
        "????\n",
        "\n",
        "Este estudo, assim como os dados apresentados, são te interesse particular, com fim educacional, sendo proíbido sua reprodução em todas hipóteses, permitido apenas a visualização no próprio canal disponivel.\n"
      ]
    },
    {
      "cell_type": "code",
      "metadata": {
        "id": "2gTSJMkMOCCp"
      },
      "source": [
        "import numpy as np\n",
        "import pandas as pd\n",
        "import matplotlib.pyplot as plt\n",
        "import seaborn as sns"
      ],
      "execution_count": null,
      "outputs": []
    },
    {
      "cell_type": "markdown",
      "metadata": {
        "id": "75AOb-esOljA"
      },
      "source": [
        "Este Dataframe apresenta a contagem da quantidade de docentes, disciplinas e turmas, separadas por unidade e por ano oriunda do sistema de matrículas (Jupiterweb) da Universidade de São Paulo."
      ]
    },
    {
      "cell_type": "code",
      "metadata": {
        "colab": {
          "base_uri": "https://localhost:8080/",
          "height": 111
        },
        "id": "NBJKp-HnOcsY",
        "outputId": "90d4dcd7-9f10-49ec-e6c8-d59badaa3282"
      },
      "source": [
        "url1 = \"https://raw.githubusercontent.com/atp/edisc-analytics/main/data/processed/docdistur.csv\"\n",
        "base = pd.read_csv(url1)\n",
        "base['sglund'] = base['sglund'].astype('object')\n",
        "base['ano'] = base['ano'].astype('int64')\n",
        "base.rename(columns={'sglund':'unidade'}, inplace = True)\n",
        "base = base[base[\"ano\"] > 2011]\n",
        "base.sample(2)"
      ],
      "execution_count": null,
      "outputs": [
        {
          "output_type": "execute_result",
          "data": {
            "text/html": [
              "<div>\n",
              "<style scoped>\n",
              "    .dataframe tbody tr th:only-of-type {\n",
              "        vertical-align: middle;\n",
              "    }\n",
              "\n",
              "    .dataframe tbody tr th {\n",
              "        vertical-align: top;\n",
              "    }\n",
              "\n",
              "    .dataframe thead th {\n",
              "        text-align: right;\n",
              "    }\n",
              "</style>\n",
              "<table border=\"1\" class=\"dataframe\">\n",
              "  <thead>\n",
              "    <tr style=\"text-align: right;\">\n",
              "      <th></th>\n",
              "      <th>unidade</th>\n",
              "      <th>ano</th>\n",
              "      <th>docentes</th>\n",
              "      <th>disciplinas</th>\n",
              "      <th>turmas</th>\n",
              "    </tr>\n",
              "  </thead>\n",
              "  <tbody>\n",
              "    <tr>\n",
              "      <th>430</th>\n",
              "      <td>FEA</td>\n",
              "      <td>2016</td>\n",
              "      <td>191</td>\n",
              "      <td>230</td>\n",
              "      <td>872</td>\n",
              "    </tr>\n",
              "    <tr>\n",
              "      <th>618</th>\n",
              "      <td>FOB</td>\n",
              "      <td>2019</td>\n",
              "      <td>51</td>\n",
              "      <td>14</td>\n",
              "      <td>160</td>\n",
              "    </tr>\n",
              "  </tbody>\n",
              "</table>\n",
              "</div>"
            ],
            "text/plain": [
              "    unidade   ano  docentes  disciplinas  turmas\n",
              "430     FEA  2016       191          230     872\n",
              "618     FOB  2019        51           14     160"
            ]
          },
          "metadata": {
            "tags": []
          },
          "execution_count": 7
        }
      ]
    },
    {
      "cell_type": "markdown",
      "metadata": {
        "id": "63iRNdsPOmTB"
      },
      "source": [
        "Este dataframe a seguir condiz com os dados do E-disciplina USP completo:"
      ]
    },
    {
      "cell_type": "code",
      "metadata": {
        "colab": {
          "base_uri": "https://localhost:8080/",
          "height": 199
        },
        "id": "N5KG7dAqOn5g",
        "outputId": "ce6e0a04-f50a-4065-b6cb-444e32677cfd"
      },
      "source": [
        "url2 = \"https://raw.githubusercontent.com/gustavo-ifusp/edisc-analytics/main/data/raw/mc-24-11-2020.csv\"\n",
        "dados = pd.read_csv(url2)\n",
        "dados.iloc[-2:]"
      ],
      "execution_count": null,
      "outputs": [
        {
          "output_type": "stream",
          "text": [
            "/usr/local/lib/python3.7/dist-packages/IPython/core/interactiveshell.py:2718: DtypeWarning: Columns (56) have mixed types.Specify dtype option on import or set low_memory=False.\n",
            "  interactivity=interactivity, compiler=compiler, result=result)\n"
          ],
          "name": "stderr"
        },
        {
          "output_type": "execute_result",
          "data": {
            "text/html": [
              "<div>\n",
              "<style scoped>\n",
              "    .dataframe tbody tr th:only-of-type {\n",
              "        vertical-align: middle;\n",
              "    }\n",
              "\n",
              "    .dataframe tbody tr th {\n",
              "        vertical-align: top;\n",
              "    }\n",
              "\n",
              "    .dataframe thead th {\n",
              "        text-align: right;\n",
              "    }\n",
              "</style>\n",
              "<table border=\"1\" class=\"dataframe\">\n",
              "  <thead>\n",
              "    <tr style=\"text-align: right;\">\n",
              "      <th></th>\n",
              "      <th>index</th>\n",
              "      <th>link</th>\n",
              "      <th>assign</th>\n",
              "      <th>attendance</th>\n",
              "      <th>bigbluebuttonbn</th>\n",
              "      <th>book</th>\n",
              "      <th>chat</th>\n",
              "      <th>choice</th>\n",
              "      <th>data</th>\n",
              "      <th>dialogue</th>\n",
              "      <th>folder</th>\n",
              "      <th>forum</th>\n",
              "      <th>glossary</th>\n",
              "      <th>imscp</th>\n",
              "      <th>label</th>\n",
              "      <th>lesson</th>\n",
              "      <th>lti</th>\n",
              "      <th>oublog</th>\n",
              "      <th>ouwiki</th>\n",
              "      <th>page</th>\n",
              "      <th>questionnaire</th>\n",
              "      <th>quiz</th>\n",
              "      <th>recordingsbn</th>\n",
              "      <th>resource</th>\n",
              "      <th>scorm</th>\n",
              "      <th>survey</th>\n",
              "      <th>url</th>\n",
              "      <th>wiki</th>\n",
              "      <th>workshop</th>\n",
              "      <th>sdi</th>\n",
              "      <th>Nunique</th>\n",
              "      <th>N</th>\n",
              "      <th>Nresource1</th>\n",
              "      <th>Nresource2</th>\n",
              "      <th>Ncommunication</th>\n",
              "      <th>Nfeedback</th>\n",
              "      <th>Nassess</th>\n",
              "      <th>Nadmin</th>\n",
              "      <th>fullname</th>\n",
              "      <th>shortname</th>\n",
              "      <th>idnumber</th>\n",
              "      <th>catname</th>\n",
              "      <th>unidade</th>\n",
              "      <th>ano</th>\n",
              "      <th>sem</th>\n",
              "      <th>advancedteacher</th>\n",
              "      <th>editingteacher</th>\n",
              "      <th>manager</th>\n",
              "      <th>monitor</th>\n",
              "      <th>student</th>\n",
              "      <th>studentcopy</th>\n",
              "      <th>teacher</th>\n",
              "      <th>nturmas</th>\n",
              "      <th>area</th>\n",
              "      <th>posgrad</th>\n",
              "      <th>coddis</th>\n",
              "      <th>semestre</th>\n",
              "      <th>activequiz</th>\n",
              "      <th>assignment</th>\n",
              "      <th>hvp</th>\n",
              "      <th>simplecertificate</th>\n",
              "      <th>videogallery</th>\n",
              "      <th>choicegroup</th>\n",
              "      <th>scheduler</th>\n",
              "      <th>vpl</th>\n",
              "      <th>offlinequiz</th>\n",
              "      <th>obs</th>\n",
              "      <th>journal</th>\n",
              "      <th>poster</th>\n",
              "      <th>feedback</th>\n",
              "      <th>checklist</th>\n",
              "      <th>pdfannotator</th>\n",
              "      <th>publication</th>\n",
              "      <th>studentquiz</th>\n",
              "      <th>game</th>\n",
              "      <th>quizgame</th>\n",
              "      <th>subcourse</th>\n",
              "    </tr>\n",
              "  </thead>\n",
              "  <tbody>\n",
              "    <tr>\n",
              "      <th>38292</th>\n",
              "      <td>83959</td>\n",
              "      <td>https://edisciplinas.usp.br/course/view.php?id...</td>\n",
              "      <td>1</td>\n",
              "      <td>0</td>\n",
              "      <td>0</td>\n",
              "      <td>0</td>\n",
              "      <td>0</td>\n",
              "      <td>0</td>\n",
              "      <td>0</td>\n",
              "      <td>0</td>\n",
              "      <td>0</td>\n",
              "      <td>1</td>\n",
              "      <td>0</td>\n",
              "      <td>0.0</td>\n",
              "      <td>0</td>\n",
              "      <td>0</td>\n",
              "      <td>0.0</td>\n",
              "      <td>0</td>\n",
              "      <td>0</td>\n",
              "      <td>0</td>\n",
              "      <td>0</td>\n",
              "      <td>0</td>\n",
              "      <td>0.0</td>\n",
              "      <td>0</td>\n",
              "      <td>0.0</td>\n",
              "      <td>0</td>\n",
              "      <td>0</td>\n",
              "      <td>0</td>\n",
              "      <td>0</td>\n",
              "      <td>0.693147</td>\n",
              "      <td>2</td>\n",
              "      <td>2</td>\n",
              "      <td>0</td>\n",
              "      <td>0</td>\n",
              "      <td>1</td>\n",
              "      <td>0</td>\n",
              "      <td>1</td>\n",
              "      <td>0</td>\n",
              "      <td>teste_marcos</td>\n",
              "      <td>teste_marcos</td>\n",
              "      <td>NaN</td>\n",
              "      <td>FFLCH</td>\n",
              "      <td>FFLCH</td>\n",
              "      <td>2020</td>\n",
              "      <td>2</td>\n",
              "      <td>0</td>\n",
              "      <td>0</td>\n",
              "      <td>0</td>\n",
              "      <td>0</td>\n",
              "      <td>1</td>\n",
              "      <td>0</td>\n",
              "      <td>0</td>\n",
              "      <td>0</td>\n",
              "      <td>humanas</td>\n",
              "      <td>0</td>\n",
              "      <td>0</td>\n",
              "      <td>0</td>\n",
              "      <td>0.0</td>\n",
              "      <td>0.0</td>\n",
              "      <td>0.0</td>\n",
              "      <td>0.0</td>\n",
              "      <td>0.0</td>\n",
              "      <td>0.0</td>\n",
              "      <td>0.0</td>\n",
              "      <td>0.0</td>\n",
              "      <td>0.0</td>\n",
              "      <td>0.0</td>\n",
              "      <td>0.0</td>\n",
              "      <td>0.0</td>\n",
              "      <td>0.0</td>\n",
              "      <td>0.0</td>\n",
              "      <td>0.0</td>\n",
              "      <td>0.0</td>\n",
              "      <td>0.0</td>\n",
              "      <td>0.0</td>\n",
              "      <td>0.0</td>\n",
              "      <td>0.0</td>\n",
              "    </tr>\n",
              "    <tr>\n",
              "      <th>38293</th>\n",
              "      <td>83965</td>\n",
              "      <td>https://edisciplinas.usp.br/course/view.php?id...</td>\n",
              "      <td>3</td>\n",
              "      <td>1</td>\n",
              "      <td>1</td>\n",
              "      <td>1</td>\n",
              "      <td>1</td>\n",
              "      <td>1</td>\n",
              "      <td>0</td>\n",
              "      <td>1</td>\n",
              "      <td>1</td>\n",
              "      <td>4</td>\n",
              "      <td>1</td>\n",
              "      <td>0.0</td>\n",
              "      <td>7</td>\n",
              "      <td>1</td>\n",
              "      <td>0.0</td>\n",
              "      <td>0</td>\n",
              "      <td>0</td>\n",
              "      <td>2</td>\n",
              "      <td>0</td>\n",
              "      <td>8</td>\n",
              "      <td>0.0</td>\n",
              "      <td>1</td>\n",
              "      <td>0.0</td>\n",
              "      <td>0</td>\n",
              "      <td>6</td>\n",
              "      <td>0</td>\n",
              "      <td>0</td>\n",
              "      <td>2.517794</td>\n",
              "      <td>18</td>\n",
              "      <td>42</td>\n",
              "      <td>15</td>\n",
              "      <td>4</td>\n",
              "      <td>7</td>\n",
              "      <td>1</td>\n",
              "      <td>12</td>\n",
              "      <td>2</td>\n",
              "      <td>STI FMRP 2020</td>\n",
              "      <td>STI FMRP 2020</td>\n",
              "      <td>NaN</td>\n",
              "      <td>STI</td>\n",
              "      <td>FMRP</td>\n",
              "      <td>2020</td>\n",
              "      <td>2</td>\n",
              "      <td>0</td>\n",
              "      <td>1</td>\n",
              "      <td>0</td>\n",
              "      <td>0</td>\n",
              "      <td>0</td>\n",
              "      <td>0</td>\n",
              "      <td>0</td>\n",
              "      <td>0</td>\n",
              "      <td>biologicas</td>\n",
              "      <td>0</td>\n",
              "      <td>0</td>\n",
              "      <td>0</td>\n",
              "      <td>0.0</td>\n",
              "      <td>0.0</td>\n",
              "      <td>0.0</td>\n",
              "      <td>0.0</td>\n",
              "      <td>0.0</td>\n",
              "      <td>1.0</td>\n",
              "      <td>0.0</td>\n",
              "      <td>0.0</td>\n",
              "      <td>0.0</td>\n",
              "      <td>0.0</td>\n",
              "      <td>0.0</td>\n",
              "      <td>0.0</td>\n",
              "      <td>0.0</td>\n",
              "      <td>1.0</td>\n",
              "      <td>0.0</td>\n",
              "      <td>0.0</td>\n",
              "      <td>0.0</td>\n",
              "      <td>0.0</td>\n",
              "      <td>0.0</td>\n",
              "      <td>0.0</td>\n",
              "    </tr>\n",
              "  </tbody>\n",
              "</table>\n",
              "</div>"
            ],
            "text/plain": [
              "       index  ... subcourse\n",
              "38292  83959  ...       0.0\n",
              "38293  83965  ...       0.0\n",
              "\n",
              "[2 rows x 77 columns]"
            ]
          },
          "metadata": {
            "tags": []
          },
          "execution_count": 8
        }
      ]
    },
    {
      "cell_type": "code",
      "metadata": {
        "colab": {
          "base_uri": "https://localhost:8080/"
        },
        "id": "wwZ4AcmyOsQg",
        "outputId": "9dfbc2dd-97b7-4b49-fef4-e858ce6104c7"
      },
      "source": [
        "dados.info()"
      ],
      "execution_count": null,
      "outputs": [
        {
          "output_type": "stream",
          "text": [
            "<class 'pandas.core.frame.DataFrame'>\n",
            "RangeIndex: 38294 entries, 0 to 38293\n",
            "Data columns (total 77 columns):\n",
            " #   Column             Non-Null Count  Dtype  \n",
            "---  ------             --------------  -----  \n",
            " 0   index              38294 non-null  int64  \n",
            " 1   link               38294 non-null  object \n",
            " 2   assign             38294 non-null  int64  \n",
            " 3   attendance         38294 non-null  int64  \n",
            " 4   bigbluebuttonbn    38294 non-null  int64  \n",
            " 5   book               38294 non-null  int64  \n",
            " 6   chat               38294 non-null  int64  \n",
            " 7   choice             38294 non-null  int64  \n",
            " 8   data               38294 non-null  int64  \n",
            " 9   dialogue           38294 non-null  int64  \n",
            " 10  folder             38294 non-null  int64  \n",
            " 11  forum              38294 non-null  int64  \n",
            " 12  glossary           38294 non-null  int64  \n",
            " 13  imscp              38294 non-null  float64\n",
            " 14  label              38294 non-null  int64  \n",
            " 15  lesson             38294 non-null  int64  \n",
            " 16  lti                38294 non-null  float64\n",
            " 17  oublog             38294 non-null  int64  \n",
            " 18  ouwiki             38294 non-null  int64  \n",
            " 19  page               38294 non-null  int64  \n",
            " 20  questionnaire      38294 non-null  int64  \n",
            " 21  quiz               38294 non-null  int64  \n",
            " 22  recordingsbn       38294 non-null  float64\n",
            " 23  resource           38294 non-null  int64  \n",
            " 24  scorm              38294 non-null  float64\n",
            " 25  survey             38294 non-null  int64  \n",
            " 26  url                38294 non-null  int64  \n",
            " 27  wiki               38294 non-null  int64  \n",
            " 28  workshop           38294 non-null  int64  \n",
            " 29  sdi                38294 non-null  float64\n",
            " 30  Nunique            38294 non-null  int64  \n",
            " 31  N                  38294 non-null  int64  \n",
            " 32  Nresource1         38294 non-null  int64  \n",
            " 33  Nresource2         38294 non-null  int64  \n",
            " 34  Ncommunication     38294 non-null  int64  \n",
            " 35  Nfeedback          38294 non-null  int64  \n",
            " 36  Nassess            38294 non-null  int64  \n",
            " 37  Nadmin             38294 non-null  int64  \n",
            " 38  fullname           38294 non-null  object \n",
            " 39  shortname          38294 non-null  object \n",
            " 40  idnumber           36980 non-null  object \n",
            " 41  catname            38294 non-null  object \n",
            " 42  unidade            38294 non-null  object \n",
            " 43  ano                38294 non-null  int64  \n",
            " 44  sem                38294 non-null  int64  \n",
            " 45  advancedteacher    38294 non-null  int64  \n",
            " 46  editingteacher     38294 non-null  int64  \n",
            " 47  manager            38294 non-null  int64  \n",
            " 48  monitor            38294 non-null  int64  \n",
            " 49  student            38294 non-null  int64  \n",
            " 50  studentcopy        38294 non-null  int64  \n",
            " 51  teacher            38294 non-null  int64  \n",
            " 52  nturmas            38294 non-null  int64  \n",
            " 53  area               38294 non-null  object \n",
            " 54  posgrad            38294 non-null  object \n",
            " 55  coddis             38294 non-null  object \n",
            " 56  semestre           38294 non-null  object \n",
            " 57  activequiz         38294 non-null  float64\n",
            " 58  assignment         38294 non-null  float64\n",
            " 59  hvp                38294 non-null  float64\n",
            " 60  simplecertificate  38294 non-null  float64\n",
            " 61  videogallery       38294 non-null  float64\n",
            " 62  choicegroup        38294 non-null  float64\n",
            " 63  scheduler          38294 non-null  float64\n",
            " 64  vpl                38294 non-null  float64\n",
            " 65  offlinequiz        38294 non-null  float64\n",
            " 66  obs                38294 non-null  float64\n",
            " 67  journal            38294 non-null  float64\n",
            " 68  poster             38294 non-null  float64\n",
            " 69  feedback           38294 non-null  float64\n",
            " 70  checklist          38294 non-null  float64\n",
            " 71  pdfannotator       38294 non-null  float64\n",
            " 72  publication        38294 non-null  float64\n",
            " 73  studentquiz        38294 non-null  float64\n",
            " 74  game               38294 non-null  float64\n",
            " 75  quizgame           38294 non-null  float64\n",
            " 76  subcourse          38294 non-null  float64\n",
            "dtypes: float64(25), int64(42), object(10)\n",
            "memory usage: 22.5+ MB\n"
          ],
          "name": "stdout"
        }
      ]
    },
    {
      "cell_type": "markdown",
      "metadata": {
        "id": "31AnU2zEYk7S"
      },
      "source": [
        "Este terceiro Dataframe a seguir informa por curso a quantidade de matriculados:"
      ]
    },
    {
      "cell_type": "code",
      "metadata": {
        "colab": {
          "base_uri": "https://localhost:8080/",
          "height": 204
        },
        "id": "GOL3hwldYmO4",
        "outputId": "73f0347f-bd06-4d10-ffc1-164c164e02d3"
      },
      "source": [
        "url3 = \"https://raw.githubusercontent.com/atp/edisc-analytics/main/data/processed/matrcurso.csv\"\n",
        "matrcurso = pd.read_csv(url3)\n",
        "matrcurso['sglund'] = matrcurso['sglund'].astype('object')\n",
        "matrcurso.rename(columns={'sglund':'unidade'}, inplace = True)\n",
        "matrcurso.sample(5)"
      ],
      "execution_count": null,
      "outputs": [
        {
          "output_type": "execute_result",
          "data": {
            "text/html": [
              "<div>\n",
              "<style scoped>\n",
              "    .dataframe tbody tr th:only-of-type {\n",
              "        vertical-align: middle;\n",
              "    }\n",
              "\n",
              "    .dataframe tbody tr th {\n",
              "        vertical-align: top;\n",
              "    }\n",
              "\n",
              "    .dataframe thead th {\n",
              "        text-align: right;\n",
              "    }\n",
              "</style>\n",
              "<table border=\"1\" class=\"dataframe\">\n",
              "  <thead>\n",
              "    <tr style=\"text-align: right;\">\n",
              "      <th></th>\n",
              "      <th>ano</th>\n",
              "      <th>sem</th>\n",
              "      <th>codclg</th>\n",
              "      <th>codcur</th>\n",
              "      <th>codhab</th>\n",
              "      <th>staalu</th>\n",
              "      <th>codund</th>\n",
              "      <th>unidade</th>\n",
              "      <th>nomcur</th>\n",
              "      <th>nomhab</th>\n",
              "      <th>matr</th>\n",
              "    </tr>\n",
              "  </thead>\n",
              "  <tbody>\n",
              "    <tr>\n",
              "      <th>4097</th>\n",
              "      <td>2015</td>\n",
              "      <td>1</td>\n",
              "      <td>8</td>\n",
              "      <td>8051</td>\n",
              "      <td>6702</td>\n",
              "      <td>M</td>\n",
              "      <td>8</td>\n",
              "      <td>FFLCH</td>\n",
              "      <td>Letras</td>\n",
              "      <td>Licenciatura - Habilitação: Francês</td>\n",
              "      <td>1</td>\n",
              "    </tr>\n",
              "    <tr>\n",
              "      <th>1994</th>\n",
              "      <td>2020</td>\n",
              "      <td>1</td>\n",
              "      <td>3</td>\n",
              "      <td>3111</td>\n",
              "      <td>Sem cadastro</td>\n",
              "      <td>A</td>\n",
              "      <td>3</td>\n",
              "      <td>EP</td>\n",
              "      <td>Engenharia</td>\n",
              "      <td>NaN</td>\n",
              "      <td>3</td>\n",
              "    </tr>\n",
              "    <tr>\n",
              "      <th>19249</th>\n",
              "      <td>2016</td>\n",
              "      <td>2</td>\n",
              "      <td>67</td>\n",
              "      <td>Sem cadastro</td>\n",
              "      <td>Sem cadastro</td>\n",
              "      <td>M</td>\n",
              "      <td>5</td>\n",
              "      <td>FM</td>\n",
              "      <td>NaN</td>\n",
              "      <td>NaN</td>\n",
              "      <td>1</td>\n",
              "    </tr>\n",
              "    <tr>\n",
              "      <th>4650</th>\n",
              "      <td>2016</td>\n",
              "      <td>1</td>\n",
              "      <td>8</td>\n",
              "      <td>8051</td>\n",
              "      <td>804</td>\n",
              "      <td>M</td>\n",
              "      <td>8</td>\n",
              "      <td>FFLCH</td>\n",
              "      <td>Letras</td>\n",
              "      <td>Bacharelado - Habilitação: Inglês</td>\n",
              "      <td>33</td>\n",
              "    </tr>\n",
              "    <tr>\n",
              "      <th>18672</th>\n",
              "      <td>2018</td>\n",
              "      <td>1</td>\n",
              "      <td>89</td>\n",
              "      <td>89001</td>\n",
              "      <td>Sem cadastro</td>\n",
              "      <td>A</td>\n",
              "      <td>89</td>\n",
              "      <td>FDRP</td>\n",
              "      <td>Direito</td>\n",
              "      <td>NaN</td>\n",
              "      <td>1</td>\n",
              "    </tr>\n",
              "  </tbody>\n",
              "</table>\n",
              "</div>"
            ],
            "text/plain": [
              "        ano  sem  codclg  ...      nomcur                               nomhab matr\n",
              "4097   2015    1       8  ...      Letras  Licenciatura - Habilitação: Francês    1\n",
              "1994   2020    1       3  ...  Engenharia                                  NaN    3\n",
              "19249  2016    2      67  ...         NaN                                  NaN    1\n",
              "4650   2016    1       8  ...      Letras    Bacharelado - Habilitação: Inglês   33\n",
              "18672  2018    1      89  ...     Direito                                  NaN    1\n",
              "\n",
              "[5 rows x 11 columns]"
            ]
          },
          "metadata": {
            "tags": []
          },
          "execution_count": 5
        }
      ]
    },
    {
      "cell_type": "markdown",
      "metadata": {
        "id": "8hsDexEtZn4W"
      },
      "source": [
        "# **Indicador 2: Mn /n° de docentes**\n",
        "O segundo indicador que vou analisar é a somatoria da coluna (Mn) / nº de docentes e visualizar as unidades mais representativas por ano, lembrando que temos 60 entradas em unidade nos três dataframes.\n",
        "\n",
        "M1 = Nfeedback;<br>\n",
        "M2 = feedback;<br>\n",
        "M3 = publication;<br>\n",
        "M4 = teacher;<br>\n",
        "M5 = editingteacher;<br>\n",
        "M6 = forum;<br>\n",
        "M7 = lesson;<br>\n",
        "M8 = journal;<br>\n",
        "M9 = poster;<br>\n",
        "M10 = Nassess;<br>\n",
        "M11 = Nadmin;<br>\n",
        "M12 = checklist;<br>\n",
        "M13 = advancedteacher;<br>\n",
        "NM = Número de docentes"
      ]
    },
    {
      "cell_type": "code",
      "metadata": {
        "id": "-ArKyrJ2dmdS"
      },
      "source": [
        "M1 = dados.groupby(['ano','unidade'])['Nfeedback'].sum()\n",
        "M2 = dados.groupby(['ano','unidade'])['feedback'].sum()\n",
        "M3 = dados.groupby(['ano','unidade'])['publication'].sum()\n",
        "M4 = dados.groupby(['ano','unidade'])['teacher'].sum()\n",
        "M5 = dados.groupby(['ano','unidade'])['editingteacher'].sum()\n",
        "M6 = dados.groupby(['ano','unidade'])['forum'].sum()\n",
        "M7 = dados.groupby(['ano','unidade'])['lesson'].sum()\n",
        "M8 = dados.groupby(['ano','unidade'])['journal'].sum()\n",
        "M9 = dados.groupby(['ano','unidade'])['poster'].sum()\n",
        "M10 = dados.groupby(['ano','unidade'])['Nassess'].sum()\n",
        "M11 = dados.groupby(['ano','unidade'])['Nadmin'].sum()\n",
        "M12 = dados.groupby(['ano','unidade'])['checklist'].sum()\n",
        "M13 = dados.groupby(['ano','unidade'])['advancedteacher'].sum()\n",
        "NM = base.groupby(['ano','unidade'])['docentes'].sum()\n",
        "i1 = pd.concat([M1,M2, M3, M4, M5, M6, M7, M8, M9, M10, M11, M12, M13, NM],axis = 1)\n",
        "i1 = i1.fillna(0)\n",
        "i1.reset_index(level=0, inplace=True)\n",
        "i1.reset_index(level=0, inplace=True)\n",
        "i1 = i1.query(\"docentes != '0'\")"
      ],
      "execution_count": null,
      "outputs": []
    },
    {
      "cell_type": "code",
      "metadata": {
        "colab": {
          "base_uri": "https://localhost:8080/",
          "height": 224
        },
        "id": "8h6M74nDfLx8",
        "outputId": "0cbba1cc-0c96-4a67-c3a0-9e577bf3416f"
      },
      "source": [
        "i1['indicador1'] = (i1['Nfeedback']/i1['docentes'])\n",
        "i1['indicador2'] = (i1['feedback']/i1['docentes'])\n",
        "i1['indicador3'] = (i1['publication']/i1['docentes'])\n",
        "i1['indicador4'] = (i1['teacher']/i1['docentes'])\n",
        "i1['indicador5'] = (i1['editingteacher']/i1['docentes'])\n",
        "i1['indicador6'] = (i1['forum']/i1['docentes'])\n",
        "i1['indicador7'] = (i1['lesson']/i1['docentes'])\n",
        "i1['indicador8'] = (i1['journal']/i1['docentes'])\n",
        "i1['indicador9'] = (i1['poster']/i1['docentes'])\n",
        "i1['indicador10'] = (i1['Nassess']/i1['docentes'])\n",
        "i1['indicador11'] = (i1['Nadmin']/i1['docentes'])\n",
        "i1['indicador12'] = (i1['checklist']/i1['docentes'])\n",
        "i1['indicador13'] = (i1['advancedteacher']/i1['docentes'])\n",
        "i1.head(5)"
      ],
      "execution_count": null,
      "outputs": [
        {
          "output_type": "execute_result",
          "data": {
            "text/html": [
              "<div>\n",
              "<style scoped>\n",
              "    .dataframe tbody tr th:only-of-type {\n",
              "        vertical-align: middle;\n",
              "    }\n",
              "\n",
              "    .dataframe tbody tr th {\n",
              "        vertical-align: top;\n",
              "    }\n",
              "\n",
              "    .dataframe thead th {\n",
              "        text-align: right;\n",
              "    }\n",
              "</style>\n",
              "<table border=\"1\" class=\"dataframe\">\n",
              "  <thead>\n",
              "    <tr style=\"text-align: right;\">\n",
              "      <th></th>\n",
              "      <th>unidade</th>\n",
              "      <th>ano</th>\n",
              "      <th>Nfeedback</th>\n",
              "      <th>feedback</th>\n",
              "      <th>publication</th>\n",
              "      <th>teacher</th>\n",
              "      <th>editingteacher</th>\n",
              "      <th>forum</th>\n",
              "      <th>lesson</th>\n",
              "      <th>journal</th>\n",
              "      <th>poster</th>\n",
              "      <th>Nassess</th>\n",
              "      <th>Nadmin</th>\n",
              "      <th>checklist</th>\n",
              "      <th>advancedteacher</th>\n",
              "      <th>docentes</th>\n",
              "      <th>indicador1</th>\n",
              "      <th>indicador2</th>\n",
              "      <th>indicador3</th>\n",
              "      <th>indicador4</th>\n",
              "      <th>indicador5</th>\n",
              "      <th>indicador6</th>\n",
              "      <th>indicador7</th>\n",
              "      <th>indicador8</th>\n",
              "      <th>indicador9</th>\n",
              "      <th>indicador10</th>\n",
              "      <th>indicador11</th>\n",
              "      <th>indicador12</th>\n",
              "      <th>indicador13</th>\n",
              "    </tr>\n",
              "  </thead>\n",
              "  <tbody>\n",
              "    <tr>\n",
              "      <th>0</th>\n",
              "      <td>CEBIMar</td>\n",
              "      <td>2012</td>\n",
              "      <td>0.0</td>\n",
              "      <td>0.0</td>\n",
              "      <td>0.0</td>\n",
              "      <td>0.0</td>\n",
              "      <td>0.0</td>\n",
              "      <td>0.0</td>\n",
              "      <td>0.0</td>\n",
              "      <td>0.0</td>\n",
              "      <td>0.0</td>\n",
              "      <td>0.0</td>\n",
              "      <td>0.0</td>\n",
              "      <td>0.0</td>\n",
              "      <td>0.0</td>\n",
              "      <td>2.0</td>\n",
              "      <td>0.000000</td>\n",
              "      <td>0.0</td>\n",
              "      <td>0.0</td>\n",
              "      <td>0.000000</td>\n",
              "      <td>0.000000</td>\n",
              "      <td>0.000000</td>\n",
              "      <td>0.000000</td>\n",
              "      <td>0.0</td>\n",
              "      <td>0.0</td>\n",
              "      <td>0.000000</td>\n",
              "      <td>0.000000</td>\n",
              "      <td>0.0</td>\n",
              "      <td>0.0</td>\n",
              "    </tr>\n",
              "    <tr>\n",
              "      <th>1</th>\n",
              "      <td>CENA</td>\n",
              "      <td>2012</td>\n",
              "      <td>0.0</td>\n",
              "      <td>0.0</td>\n",
              "      <td>0.0</td>\n",
              "      <td>0.0</td>\n",
              "      <td>2.0</td>\n",
              "      <td>2.0</td>\n",
              "      <td>0.0</td>\n",
              "      <td>0.0</td>\n",
              "      <td>0.0</td>\n",
              "      <td>1.0</td>\n",
              "      <td>0.0</td>\n",
              "      <td>0.0</td>\n",
              "      <td>0.0</td>\n",
              "      <td>27.0</td>\n",
              "      <td>0.000000</td>\n",
              "      <td>0.0</td>\n",
              "      <td>0.0</td>\n",
              "      <td>0.000000</td>\n",
              "      <td>0.074074</td>\n",
              "      <td>0.074074</td>\n",
              "      <td>0.000000</td>\n",
              "      <td>0.0</td>\n",
              "      <td>0.0</td>\n",
              "      <td>0.037037</td>\n",
              "      <td>0.000000</td>\n",
              "      <td>0.0</td>\n",
              "      <td>0.0</td>\n",
              "    </tr>\n",
              "    <tr>\n",
              "      <th>2</th>\n",
              "      <td>CEPEUSP</td>\n",
              "      <td>2012</td>\n",
              "      <td>0.0</td>\n",
              "      <td>0.0</td>\n",
              "      <td>0.0</td>\n",
              "      <td>0.0</td>\n",
              "      <td>0.0</td>\n",
              "      <td>0.0</td>\n",
              "      <td>0.0</td>\n",
              "      <td>0.0</td>\n",
              "      <td>0.0</td>\n",
              "      <td>0.0</td>\n",
              "      <td>0.0</td>\n",
              "      <td>0.0</td>\n",
              "      <td>0.0</td>\n",
              "      <td>1.0</td>\n",
              "      <td>0.000000</td>\n",
              "      <td>0.0</td>\n",
              "      <td>0.0</td>\n",
              "      <td>0.000000</td>\n",
              "      <td>0.000000</td>\n",
              "      <td>0.000000</td>\n",
              "      <td>0.000000</td>\n",
              "      <td>0.0</td>\n",
              "      <td>0.0</td>\n",
              "      <td>0.000000</td>\n",
              "      <td>0.000000</td>\n",
              "      <td>0.0</td>\n",
              "      <td>0.0</td>\n",
              "    </tr>\n",
              "    <tr>\n",
              "      <th>3</th>\n",
              "      <td>EACH</td>\n",
              "      <td>2012</td>\n",
              "      <td>0.0</td>\n",
              "      <td>0.0</td>\n",
              "      <td>0.0</td>\n",
              "      <td>2.0</td>\n",
              "      <td>20.0</td>\n",
              "      <td>42.0</td>\n",
              "      <td>0.0</td>\n",
              "      <td>0.0</td>\n",
              "      <td>0.0</td>\n",
              "      <td>61.0</td>\n",
              "      <td>0.0</td>\n",
              "      <td>0.0</td>\n",
              "      <td>0.0</td>\n",
              "      <td>257.0</td>\n",
              "      <td>0.000000</td>\n",
              "      <td>0.0</td>\n",
              "      <td>0.0</td>\n",
              "      <td>0.007782</td>\n",
              "      <td>0.077821</td>\n",
              "      <td>0.163424</td>\n",
              "      <td>0.000000</td>\n",
              "      <td>0.0</td>\n",
              "      <td>0.0</td>\n",
              "      <td>0.237354</td>\n",
              "      <td>0.000000</td>\n",
              "      <td>0.0</td>\n",
              "      <td>0.0</td>\n",
              "    </tr>\n",
              "    <tr>\n",
              "      <th>4</th>\n",
              "      <td>ECA</td>\n",
              "      <td>2012</td>\n",
              "      <td>6.0</td>\n",
              "      <td>0.0</td>\n",
              "      <td>0.0</td>\n",
              "      <td>1.0</td>\n",
              "      <td>40.0</td>\n",
              "      <td>51.0</td>\n",
              "      <td>1.0</td>\n",
              "      <td>0.0</td>\n",
              "      <td>0.0</td>\n",
              "      <td>87.0</td>\n",
              "      <td>1.0</td>\n",
              "      <td>0.0</td>\n",
              "      <td>0.0</td>\n",
              "      <td>194.0</td>\n",
              "      <td>0.030928</td>\n",
              "      <td>0.0</td>\n",
              "      <td>0.0</td>\n",
              "      <td>0.005155</td>\n",
              "      <td>0.206186</td>\n",
              "      <td>0.262887</td>\n",
              "      <td>0.005155</td>\n",
              "      <td>0.0</td>\n",
              "      <td>0.0</td>\n",
              "      <td>0.448454</td>\n",
              "      <td>0.005155</td>\n",
              "      <td>0.0</td>\n",
              "      <td>0.0</td>\n",
              "    </tr>\n",
              "  </tbody>\n",
              "</table>\n",
              "</div>"
            ],
            "text/plain": [
              "   unidade   ano  Nfeedback  ...  indicador11  indicador12  indicador13\n",
              "0  CEBIMar  2012        0.0  ...     0.000000          0.0          0.0\n",
              "1     CENA  2012        0.0  ...     0.000000          0.0          0.0\n",
              "2  CEPEUSP  2012        0.0  ...     0.000000          0.0          0.0\n",
              "3     EACH  2012        0.0  ...     0.000000          0.0          0.0\n",
              "4      ECA  2012        6.0  ...     0.005155          0.0          0.0\n",
              "\n",
              "[5 rows x 29 columns]"
            ]
          },
          "metadata": {
            "tags": []
          },
          "execution_count": 16
        }
      ]
    },
    {
      "cell_type": "code",
      "metadata": {
        "colab": {
          "base_uri": "https://localhost:8080/",
          "height": 131
        },
        "id": "JmUhvgqYY6UQ",
        "outputId": "b9bf0a9e-fc38-4409-80de-253e2277259e"
      },
      "source": [
        "i1.describe().loc[['mean','std']]"
      ],
      "execution_count": null,
      "outputs": [
        {
          "output_type": "execute_result",
          "data": {
            "text/html": [
              "<div>\n",
              "<style scoped>\n",
              "    .dataframe tbody tr th:only-of-type {\n",
              "        vertical-align: middle;\n",
              "    }\n",
              "\n",
              "    .dataframe tbody tr th {\n",
              "        vertical-align: top;\n",
              "    }\n",
              "\n",
              "    .dataframe thead th {\n",
              "        text-align: right;\n",
              "    }\n",
              "</style>\n",
              "<table border=\"1\" class=\"dataframe\">\n",
              "  <thead>\n",
              "    <tr style=\"text-align: right;\">\n",
              "      <th></th>\n",
              "      <th>ano</th>\n",
              "      <th>Nfeedback</th>\n",
              "      <th>feedback</th>\n",
              "      <th>publication</th>\n",
              "      <th>teacher</th>\n",
              "      <th>editingteacher</th>\n",
              "      <th>forum</th>\n",
              "      <th>lesson</th>\n",
              "      <th>journal</th>\n",
              "      <th>poster</th>\n",
              "      <th>Nassess</th>\n",
              "      <th>Nadmin</th>\n",
              "      <th>checklist</th>\n",
              "      <th>advancedteacher</th>\n",
              "      <th>docentes</th>\n",
              "      <th>indicador1</th>\n",
              "      <th>indicador2</th>\n",
              "      <th>indicador3</th>\n",
              "      <th>indicador4</th>\n",
              "      <th>indicador5</th>\n",
              "      <th>indicador6</th>\n",
              "      <th>indicador7</th>\n",
              "      <th>indicador8</th>\n",
              "      <th>indicador9</th>\n",
              "      <th>indicador10</th>\n",
              "      <th>indicador11</th>\n",
              "      <th>indicador12</th>\n",
              "      <th>indicador13</th>\n",
              "    </tr>\n",
              "  </thead>\n",
              "  <tbody>\n",
              "    <tr>\n",
              "      <th>mean</th>\n",
              "      <td>2015.989858</td>\n",
              "      <td>23.626775</td>\n",
              "      <td>0.513185</td>\n",
              "      <td>1.918864</td>\n",
              "      <td>5.858012</td>\n",
              "      <td>126.073022</td>\n",
              "      <td>129.718053</td>\n",
              "      <td>3.916836</td>\n",
              "      <td>0.221095</td>\n",
              "      <td>0.028398</td>\n",
              "      <td>309.002028</td>\n",
              "      <td>10.466531</td>\n",
              "      <td>0.180527</td>\n",
              "      <td>11.472617</td>\n",
              "      <td>98.040568</td>\n",
              "      <td>0.839395</td>\n",
              "      <td>0.015946</td>\n",
              "      <td>0.088475</td>\n",
              "      <td>0.348680</td>\n",
              "      <td>5.266115</td>\n",
              "      <td>4.306447</td>\n",
              "      <td>0.043096</td>\n",
              "      <td>0.014630</td>\n",
              "      <td>0.000198</td>\n",
              "      <td>7.321073</td>\n",
              "      <td>0.209845</td>\n",
              "      <td>0.006608</td>\n",
              "      <td>0.219845</td>\n",
              "    </tr>\n",
              "    <tr>\n",
              "      <th>std</th>\n",
              "      <td>2.576058</td>\n",
              "      <td>80.284673</td>\n",
              "      <td>4.143063</td>\n",
              "      <td>10.047322</td>\n",
              "      <td>12.834473</td>\n",
              "      <td>253.650019</td>\n",
              "      <td>255.596766</td>\n",
              "      <td>15.712974</td>\n",
              "      <td>1.537407</td>\n",
              "      <td>0.199605</td>\n",
              "      <td>779.146321</td>\n",
              "      <td>38.611171</td>\n",
              "      <td>1.288578</td>\n",
              "      <td>91.597197</td>\n",
              "      <td>103.308394</td>\n",
              "      <td>9.660158</td>\n",
              "      <td>0.271429</td>\n",
              "      <td>1.148545</td>\n",
              "      <td>2.951794</td>\n",
              "      <td>37.190467</td>\n",
              "      <td>27.303124</td>\n",
              "      <td>0.294484</td>\n",
              "      <td>0.192258</td>\n",
              "      <td>0.001547</td>\n",
              "      <td>54.787709</td>\n",
              "      <td>1.748496</td>\n",
              "      <td>0.087737</td>\n",
              "      <td>1.701779</td>\n",
              "    </tr>\n",
              "  </tbody>\n",
              "</table>\n",
              "</div>"
            ],
            "text/plain": [
              "              ano  Nfeedback  feedback  ...  indicador11  indicador12  indicador13\n",
              "mean  2015.989858  23.626775  0.513185  ...     0.209845     0.006608     0.219845\n",
              "std      2.576058  80.284673  4.143063  ...     1.748496     0.087737     1.701779\n",
              "\n",
              "[2 rows x 28 columns]"
            ]
          },
          "metadata": {
            "tags": []
          },
          "execution_count": 17
        }
      ]
    },
    {
      "cell_type": "markdown",
      "metadata": {
        "id": "aVraLhyUgE7f"
      },
      "source": [
        "#**Indicador 1: Nfeedback / Nº de docentes**"
      ]
    },
    {
      "cell_type": "code",
      "metadata": {
        "colab": {
          "base_uri": "https://localhost:8080/",
          "height": 131
        },
        "id": "ZoQ1CzhGgDaL",
        "outputId": "ad90389e-f25d-44f8-82ff-026616ce52e0"
      },
      "source": [
        "i1_1 = i1.loc[(i1['indicador1']) > 1.5] #esse filtro seleciona apenas as unidades que possuirem uma media >2\n",
        "i1_1.head(2)"
      ],
      "execution_count": null,
      "outputs": [
        {
          "output_type": "execute_result",
          "data": {
            "text/html": [
              "<div>\n",
              "<style scoped>\n",
              "    .dataframe tbody tr th:only-of-type {\n",
              "        vertical-align: middle;\n",
              "    }\n",
              "\n",
              "    .dataframe tbody tr th {\n",
              "        vertical-align: top;\n",
              "    }\n",
              "\n",
              "    .dataframe thead th {\n",
              "        text-align: right;\n",
              "    }\n",
              "</style>\n",
              "<table border=\"1\" class=\"dataframe\">\n",
              "  <thead>\n",
              "    <tr style=\"text-align: right;\">\n",
              "      <th></th>\n",
              "      <th>unidade</th>\n",
              "      <th>ano</th>\n",
              "      <th>Nfeedback</th>\n",
              "      <th>feedback</th>\n",
              "      <th>publication</th>\n",
              "      <th>teacher</th>\n",
              "      <th>editingteacher</th>\n",
              "      <th>forum</th>\n",
              "      <th>lesson</th>\n",
              "      <th>journal</th>\n",
              "      <th>poster</th>\n",
              "      <th>Nassess</th>\n",
              "      <th>Nadmin</th>\n",
              "      <th>checklist</th>\n",
              "      <th>advancedteacher</th>\n",
              "      <th>docentes</th>\n",
              "      <th>indicador1</th>\n",
              "      <th>indicador2</th>\n",
              "      <th>indicador3</th>\n",
              "      <th>indicador4</th>\n",
              "      <th>indicador5</th>\n",
              "      <th>indicador6</th>\n",
              "      <th>indicador7</th>\n",
              "      <th>indicador8</th>\n",
              "      <th>indicador9</th>\n",
              "      <th>indicador10</th>\n",
              "      <th>indicador11</th>\n",
              "      <th>indicador12</th>\n",
              "      <th>indicador13</th>\n",
              "    </tr>\n",
              "  </thead>\n",
              "  <tbody>\n",
              "    <tr>\n",
              "      <th>264</th>\n",
              "      <td>FMRP</td>\n",
              "      <td>2016</td>\n",
              "      <td>571.0</td>\n",
              "      <td>0.0</td>\n",
              "      <td>0.0</td>\n",
              "      <td>50.0</td>\n",
              "      <td>827.0</td>\n",
              "      <td>699.0</td>\n",
              "      <td>35.0</td>\n",
              "      <td>0.0</td>\n",
              "      <td>0.0</td>\n",
              "      <td>743.0</td>\n",
              "      <td>11.0</td>\n",
              "      <td>0.0</td>\n",
              "      <td>490.0</td>\n",
              "      <td>267.0</td>\n",
              "      <td>2.138577</td>\n",
              "      <td>0.0</td>\n",
              "      <td>0.0</td>\n",
              "      <td>0.187266</td>\n",
              "      <td>3.097378</td>\n",
              "      <td>2.617978</td>\n",
              "      <td>0.131086</td>\n",
              "      <td>0.0</td>\n",
              "      <td>0.0</td>\n",
              "      <td>2.782772</td>\n",
              "      <td>0.041199</td>\n",
              "      <td>0.0</td>\n",
              "      <td>1.835206</td>\n",
              "    </tr>\n",
              "    <tr>\n",
              "      <th>268</th>\n",
              "      <td>FORP</td>\n",
              "      <td>2016</td>\n",
              "      <td>4.0</td>\n",
              "      <td>0.0</td>\n",
              "      <td>0.0</td>\n",
              "      <td>0.0</td>\n",
              "      <td>13.0</td>\n",
              "      <td>14.0</td>\n",
              "      <td>0.0</td>\n",
              "      <td>0.0</td>\n",
              "      <td>0.0</td>\n",
              "      <td>40.0</td>\n",
              "      <td>4.0</td>\n",
              "      <td>0.0</td>\n",
              "      <td>0.0</td>\n",
              "      <td>1.0</td>\n",
              "      <td>4.000000</td>\n",
              "      <td>0.0</td>\n",
              "      <td>0.0</td>\n",
              "      <td>0.000000</td>\n",
              "      <td>13.000000</td>\n",
              "      <td>14.000000</td>\n",
              "      <td>0.000000</td>\n",
              "      <td>0.0</td>\n",
              "      <td>0.0</td>\n",
              "      <td>40.000000</td>\n",
              "      <td>4.000000</td>\n",
              "      <td>0.0</td>\n",
              "      <td>0.000000</td>\n",
              "    </tr>\n",
              "  </tbody>\n",
              "</table>\n",
              "</div>"
            ],
            "text/plain": [
              "    unidade   ano  Nfeedback  ...  indicador11  indicador12  indicador13\n",
              "264    FMRP  2016      571.0  ...     0.041199          0.0     1.835206\n",
              "268    FORP  2016        4.0  ...     4.000000          0.0     0.000000\n",
              "\n",
              "[2 rows x 29 columns]"
            ]
          },
          "metadata": {
            "tags": []
          },
          "execution_count": 28
        }
      ]
    },
    {
      "cell_type": "code",
      "metadata": {
        "colab": {
          "base_uri": "https://localhost:8080/",
          "height": 214
        },
        "id": "4TgperBGgLKp",
        "outputId": "477bb8b2-2b07-4212-bc80-e4fb10ce7ccd"
      },
      "source": [
        "sns.catplot(x=\"ano\", y=\"indicador1\", col=\"unidade\",\n",
        "                data=i1_1, \n",
        "                kind=\"bar\"\n",
        "                )"
      ],
      "execution_count": null,
      "outputs": [
        {
          "output_type": "execute_result",
          "data": {
            "text/plain": [
              "<seaborn.axisgrid.FacetGrid at 0x7f191c440dd0>"
            ]
          },
          "metadata": {
            "tags": []
          },
          "execution_count": 29
        },
        {
          "output_type": "display_data",
          "data": {
            "image/png": "[encoded data removed]",
            "text/plain": [
              "<Figure size 2520x360 with 7 Axes>"
            ]
          },
          "metadata": {
            "tags": [],
            "needs_background": "light"
          }
        }
      ]
    },
    {
      "cell_type": "markdown",
      "metadata": {
        "id": "-YW36sG6gg_X"
      },
      "source": [
        "#**Indicador 2: feedback / Nº de docentes**"
      ]
    },
    {
      "cell_type": "code",
      "metadata": {
        "colab": {
          "base_uri": "https://localhost:8080/",
          "height": 131
        },
        "id": "7JCq58-1gmXm",
        "outputId": "9b1f6c32-660b-4703-fe07-6a9aa92cbccd"
      },
      "source": [
        "i1_2 = i1.loc[(i1['indicador2']) > 0.1] \n",
        "i1_2.sample(2)"
      ],
      "execution_count": null,
      "outputs": [
        {
          "output_type": "execute_result",
          "data": {
            "text/html": [
              "<div>\n",
              "<style scoped>\n",
              "    .dataframe tbody tr th:only-of-type {\n",
              "        vertical-align: middle;\n",
              "    }\n",
              "\n",
              "    .dataframe tbody tr th {\n",
              "        vertical-align: top;\n",
              "    }\n",
              "\n",
              "    .dataframe thead th {\n",
              "        text-align: right;\n",
              "    }\n",
              "</style>\n",
              "<table border=\"1\" class=\"dataframe\">\n",
              "  <thead>\n",
              "    <tr style=\"text-align: right;\">\n",
              "      <th></th>\n",
              "      <th>unidade</th>\n",
              "      <th>ano</th>\n",
              "      <th>Nfeedback</th>\n",
              "      <th>feedback</th>\n",
              "      <th>publication</th>\n",
              "      <th>teacher</th>\n",
              "      <th>editingteacher</th>\n",
              "      <th>forum</th>\n",
              "      <th>lesson</th>\n",
              "      <th>journal</th>\n",
              "      <th>poster</th>\n",
              "      <th>Nassess</th>\n",
              "      <th>Nadmin</th>\n",
              "      <th>checklist</th>\n",
              "      <th>advancedteacher</th>\n",
              "      <th>docentes</th>\n",
              "      <th>indicador1</th>\n",
              "      <th>indicador2</th>\n",
              "      <th>indicador3</th>\n",
              "      <th>indicador4</th>\n",
              "      <th>indicador5</th>\n",
              "      <th>indicador6</th>\n",
              "      <th>indicador7</th>\n",
              "      <th>indicador8</th>\n",
              "      <th>indicador9</th>\n",
              "      <th>indicador10</th>\n",
              "      <th>indicador11</th>\n",
              "      <th>indicador12</th>\n",
              "      <th>indicador13</th>\n",
              "    </tr>\n",
              "  </thead>\n",
              "  <tbody>\n",
              "    <tr>\n",
              "      <th>536</th>\n",
              "      <td>RUSP</td>\n",
              "      <td>2020</td>\n",
              "      <td>7.0</td>\n",
              "      <td>2.0</td>\n",
              "      <td>0.0</td>\n",
              "      <td>5.0</td>\n",
              "      <td>61.0</td>\n",
              "      <td>235.0</td>\n",
              "      <td>0.0</td>\n",
              "      <td>1.0</td>\n",
              "      <td>0.0</td>\n",
              "      <td>155.0</td>\n",
              "      <td>2.0</td>\n",
              "      <td>0.0</td>\n",
              "      <td>2.0</td>\n",
              "      <td>6.0</td>\n",
              "      <td>1.166667</td>\n",
              "      <td>0.333333</td>\n",
              "      <td>0.000000</td>\n",
              "      <td>0.833333</td>\n",
              "      <td>10.166667</td>\n",
              "      <td>39.166667</td>\n",
              "      <td>0.000000</td>\n",
              "      <td>0.166667</td>\n",
              "      <td>0.0</td>\n",
              "      <td>25.833333</td>\n",
              "      <td>0.333333</td>\n",
              "      <td>0.0</td>\n",
              "      <td>0.333333</td>\n",
              "    </tr>\n",
              "    <tr>\n",
              "      <th>432</th>\n",
              "      <td>EESC</td>\n",
              "      <td>2019</td>\n",
              "      <td>61.0</td>\n",
              "      <td>60.0</td>\n",
              "      <td>1.0</td>\n",
              "      <td>10.0</td>\n",
              "      <td>612.0</td>\n",
              "      <td>770.0</td>\n",
              "      <td>2.0</td>\n",
              "      <td>3.0</td>\n",
              "      <td>0.0</td>\n",
              "      <td>1771.0</td>\n",
              "      <td>110.0</td>\n",
              "      <td>0.0</td>\n",
              "      <td>7.0</td>\n",
              "      <td>195.0</td>\n",
              "      <td>0.312821</td>\n",
              "      <td>0.307692</td>\n",
              "      <td>0.005128</td>\n",
              "      <td>0.051282</td>\n",
              "      <td>3.138462</td>\n",
              "      <td>3.948718</td>\n",
              "      <td>0.010256</td>\n",
              "      <td>0.015385</td>\n",
              "      <td>0.0</td>\n",
              "      <td>9.082051</td>\n",
              "      <td>0.564103</td>\n",
              "      <td>0.0</td>\n",
              "      <td>0.035897</td>\n",
              "    </tr>\n",
              "  </tbody>\n",
              "</table>\n",
              "</div>"
            ],
            "text/plain": [
              "    unidade   ano  Nfeedback  ...  indicador11  indicador12  indicador13\n",
              "536    RUSP  2020        7.0  ...     0.333333          0.0     0.333333\n",
              "432    EESC  2019       61.0  ...     0.564103          0.0     0.035897\n",
              "\n",
              "[2 rows x 29 columns]"
            ]
          },
          "metadata": {
            "tags": []
          },
          "execution_count": 24
        }
      ]
    },
    {
      "cell_type": "code",
      "metadata": {
        "colab": {
          "base_uri": "https://localhost:8080/",
          "height": 349
        },
        "id": "GSLZlyKzgmku",
        "outputId": "24cdc556-0983-467c-a6e8-7a44ee61486e"
      },
      "source": [
        "sns.catplot(x=\"ano\", y=\"indicador2\", col=\"unidade\",\n",
        "                data=i1_2, \n",
        "                kind=\"bar\"\n",
        "                )"
      ],
      "execution_count": null,
      "outputs": [
        {
          "output_type": "execute_result",
          "data": {
            "text/plain": [
              "<seaborn.axisgrid.FacetGrid at 0x7f191c81c5d0>"
            ]
          },
          "metadata": {
            "tags": []
          },
          "execution_count": 25
        },
        {
          "output_type": "display_data",
          "data": {
            "image/png": "[encoded data removed]",
            "text/plain": [
              "<Figure size 1440x360 with 4 Axes>"
            ]
          },
          "metadata": {
            "tags": [],
            "needs_background": "light"
          }
        }
      ]
    },
    {
      "cell_type": "markdown",
      "metadata": {
        "id": "dWDmcwfxgm5P"
      },
      "source": [
        "#**Indicador 3: publication / Nº de docentes**"
      ]
    },
    {
      "cell_type": "code",
      "metadata": {
        "colab": {
          "base_uri": "https://localhost:8080/",
          "height": 131
        },
        "id": "X_dfTJbhgsAv",
        "outputId": "04a3d963-7928-4094-ee6a-1ecc31f4bc47"
      },
      "source": [
        "i1_3 = i1.loc[(i1['indicador3']) > 0.5] \n",
        "i1_3.sample(2)"
      ],
      "execution_count": null,
      "outputs": [
        {
          "output_type": "execute_result",
          "data": {
            "text/html": [
              "<div>\n",
              "<style scoped>\n",
              "    .dataframe tbody tr th:only-of-type {\n",
              "        vertical-align: middle;\n",
              "    }\n",
              "\n",
              "    .dataframe tbody tr th {\n",
              "        vertical-align: top;\n",
              "    }\n",
              "\n",
              "    .dataframe thead th {\n",
              "        text-align: right;\n",
              "    }\n",
              "</style>\n",
              "<table border=\"1\" class=\"dataframe\">\n",
              "  <thead>\n",
              "    <tr style=\"text-align: right;\">\n",
              "      <th></th>\n",
              "      <th>unidade</th>\n",
              "      <th>ano</th>\n",
              "      <th>Nfeedback</th>\n",
              "      <th>feedback</th>\n",
              "      <th>publication</th>\n",
              "      <th>teacher</th>\n",
              "      <th>editingteacher</th>\n",
              "      <th>forum</th>\n",
              "      <th>lesson</th>\n",
              "      <th>journal</th>\n",
              "      <th>poster</th>\n",
              "      <th>Nassess</th>\n",
              "      <th>Nadmin</th>\n",
              "      <th>checklist</th>\n",
              "      <th>advancedteacher</th>\n",
              "      <th>docentes</th>\n",
              "      <th>indicador1</th>\n",
              "      <th>indicador2</th>\n",
              "      <th>indicador3</th>\n",
              "      <th>indicador4</th>\n",
              "      <th>indicador5</th>\n",
              "      <th>indicador6</th>\n",
              "      <th>indicador7</th>\n",
              "      <th>indicador8</th>\n",
              "      <th>indicador9</th>\n",
              "      <th>indicador10</th>\n",
              "      <th>indicador11</th>\n",
              "      <th>indicador12</th>\n",
              "      <th>indicador13</th>\n",
              "    </tr>\n",
              "  </thead>\n",
              "  <tbody>\n",
              "    <tr>\n",
              "      <th>488</th>\n",
              "      <td>EEL</td>\n",
              "      <td>2020</td>\n",
              "      <td>120.0</td>\n",
              "      <td>0.0</td>\n",
              "      <td>82.0</td>\n",
              "      <td>19.0</td>\n",
              "      <td>355.0</td>\n",
              "      <td>447.0</td>\n",
              "      <td>0.0</td>\n",
              "      <td>1.0</td>\n",
              "      <td>0.0</td>\n",
              "      <td>1459.0</td>\n",
              "      <td>63.0</td>\n",
              "      <td>4.0</td>\n",
              "      <td>2.0</td>\n",
              "      <td>141.0</td>\n",
              "      <td>0.851064</td>\n",
              "      <td>0.0</td>\n",
              "      <td>0.58156</td>\n",
              "      <td>0.134752</td>\n",
              "      <td>2.51773</td>\n",
              "      <td>3.170213</td>\n",
              "      <td>0.0</td>\n",
              "      <td>0.007092</td>\n",
              "      <td>0.0</td>\n",
              "      <td>10.347518</td>\n",
              "      <td>0.446809</td>\n",
              "      <td>0.028369</td>\n",
              "      <td>0.014184</td>\n",
              "    </tr>\n",
              "    <tr>\n",
              "      <th>489</th>\n",
              "      <td>EERP</td>\n",
              "      <td>2020</td>\n",
              "      <td>110.0</td>\n",
              "      <td>6.0</td>\n",
              "      <td>17.0</td>\n",
              "      <td>54.0</td>\n",
              "      <td>536.0</td>\n",
              "      <td>466.0</td>\n",
              "      <td>6.0</td>\n",
              "      <td>1.0</td>\n",
              "      <td>0.0</td>\n",
              "      <td>1087.0</td>\n",
              "      <td>36.0</td>\n",
              "      <td>0.0</td>\n",
              "      <td>3.0</td>\n",
              "      <td>1.0</td>\n",
              "      <td>110.000000</td>\n",
              "      <td>6.0</td>\n",
              "      <td>17.00000</td>\n",
              "      <td>54.000000</td>\n",
              "      <td>536.00000</td>\n",
              "      <td>466.000000</td>\n",
              "      <td>6.0</td>\n",
              "      <td>1.000000</td>\n",
              "      <td>0.0</td>\n",
              "      <td>1087.000000</td>\n",
              "      <td>36.000000</td>\n",
              "      <td>0.000000</td>\n",
              "      <td>3.000000</td>\n",
              "    </tr>\n",
              "  </tbody>\n",
              "</table>\n",
              "</div>"
            ],
            "text/plain": [
              "    unidade   ano  Nfeedback  ...  indicador11  indicador12  indicador13\n",
              "488     EEL  2020      120.0  ...     0.446809     0.028369     0.014184\n",
              "489    EERP  2020      110.0  ...    36.000000     0.000000     3.000000\n",
              "\n",
              "[2 rows x 29 columns]"
            ]
          },
          "metadata": {
            "tags": []
          },
          "execution_count": 34
        }
      ]
    },
    {
      "cell_type": "code",
      "metadata": {
        "colab": {
          "base_uri": "https://localhost:8080/",
          "height": 349
        },
        "id": "476IZrm4gsMO",
        "outputId": "41e46388-7bc7-40d1-a000-cb580f8f656a"
      },
      "source": [
        "sns.catplot(x=\"ano\", y=\"indicador3\", col=\"unidade\",\n",
        "                data=i1_3, \n",
        "                kind=\"bar\"\n",
        "                )"
      ],
      "execution_count": null,
      "outputs": [
        {
          "output_type": "execute_result",
          "data": {
            "text/plain": [
              "<seaborn.axisgrid.FacetGrid at 0x7f191b50bc10>"
            ]
          },
          "metadata": {
            "tags": []
          },
          "execution_count": 35
        },
        {
          "output_type": "display_data",
          "data": {
            "image/png": "[encoded data removed]",
            "text/plain": [
              "<Figure size 1440x360 with 4 Axes>"
            ]
          },
          "metadata": {
            "tags": [],
            "needs_background": "light"
          }
        }
      ]
    },
    {
      "cell_type": "markdown",
      "metadata": {
        "id": "8maiSu5sgsYm"
      },
      "source": [
        "#**Indicador 4: teacher / Nº de docentes**"
      ]
    },
    {
      "cell_type": "code",
      "metadata": {
        "colab": {
          "base_uri": "https://localhost:8080/",
          "height": 131
        },
        "id": "qq28LFDhg0B_",
        "outputId": "3419b9f9-e08a-401d-8d67-5b875df538b9"
      },
      "source": [
        "i1_4 = i1.loc[(i1['indicador4']) > 1] \n",
        "i1_4.sample(2)"
      ],
      "execution_count": null,
      "outputs": [
        {
          "output_type": "execute_result",
          "data": {
            "text/html": [
              "<div>\n",
              "<style scoped>\n",
              "    .dataframe tbody tr th:only-of-type {\n",
              "        vertical-align: middle;\n",
              "    }\n",
              "\n",
              "    .dataframe tbody tr th {\n",
              "        vertical-align: top;\n",
              "    }\n",
              "\n",
              "    .dataframe thead th {\n",
              "        text-align: right;\n",
              "    }\n",
              "</style>\n",
              "<table border=\"1\" class=\"dataframe\">\n",
              "  <thead>\n",
              "    <tr style=\"text-align: right;\">\n",
              "      <th></th>\n",
              "      <th>unidade</th>\n",
              "      <th>ano</th>\n",
              "      <th>Nfeedback</th>\n",
              "      <th>feedback</th>\n",
              "      <th>publication</th>\n",
              "      <th>teacher</th>\n",
              "      <th>editingteacher</th>\n",
              "      <th>forum</th>\n",
              "      <th>lesson</th>\n",
              "      <th>journal</th>\n",
              "      <th>poster</th>\n",
              "      <th>Nassess</th>\n",
              "      <th>Nadmin</th>\n",
              "      <th>checklist</th>\n",
              "      <th>advancedteacher</th>\n",
              "      <th>docentes</th>\n",
              "      <th>indicador1</th>\n",
              "      <th>indicador2</th>\n",
              "      <th>indicador3</th>\n",
              "      <th>indicador4</th>\n",
              "      <th>indicador5</th>\n",
              "      <th>indicador6</th>\n",
              "      <th>indicador7</th>\n",
              "      <th>indicador8</th>\n",
              "      <th>indicador9</th>\n",
              "      <th>indicador10</th>\n",
              "      <th>indicador11</th>\n",
              "      <th>indicador12</th>\n",
              "      <th>indicador13</th>\n",
              "    </tr>\n",
              "  </thead>\n",
              "  <tbody>\n",
              "    <tr>\n",
              "      <th>508</th>\n",
              "      <td>FORP</td>\n",
              "      <td>2020</td>\n",
              "      <td>25.0</td>\n",
              "      <td>0.0</td>\n",
              "      <td>2.0</td>\n",
              "      <td>8.0</td>\n",
              "      <td>450.0</td>\n",
              "      <td>346.0</td>\n",
              "      <td>2.0</td>\n",
              "      <td>0.0</td>\n",
              "      <td>0.0</td>\n",
              "      <td>530.0</td>\n",
              "      <td>26.0</td>\n",
              "      <td>0.0</td>\n",
              "      <td>11.0</td>\n",
              "      <td>6.0</td>\n",
              "      <td>4.166667</td>\n",
              "      <td>0.0</td>\n",
              "      <td>0.333333</td>\n",
              "      <td>1.333333</td>\n",
              "      <td>75.0</td>\n",
              "      <td>57.666667</td>\n",
              "      <td>0.333333</td>\n",
              "      <td>0.0</td>\n",
              "      <td>0.0</td>\n",
              "      <td>88.333333</td>\n",
              "      <td>4.333333</td>\n",
              "      <td>0.0</td>\n",
              "      <td>1.833333</td>\n",
              "    </tr>\n",
              "    <tr>\n",
              "      <th>182</th>\n",
              "      <td>EE</td>\n",
              "      <td>2015</td>\n",
              "      <td>1.0</td>\n",
              "      <td>0.0</td>\n",
              "      <td>0.0</td>\n",
              "      <td>23.0</td>\n",
              "      <td>84.0</td>\n",
              "      <td>53.0</td>\n",
              "      <td>0.0</td>\n",
              "      <td>0.0</td>\n",
              "      <td>0.0</td>\n",
              "      <td>16.0</td>\n",
              "      <td>0.0</td>\n",
              "      <td>0.0</td>\n",
              "      <td>3.0</td>\n",
              "      <td>3.0</td>\n",
              "      <td>0.333333</td>\n",
              "      <td>0.0</td>\n",
              "      <td>0.000000</td>\n",
              "      <td>7.666667</td>\n",
              "      <td>28.0</td>\n",
              "      <td>17.666667</td>\n",
              "      <td>0.000000</td>\n",
              "      <td>0.0</td>\n",
              "      <td>0.0</td>\n",
              "      <td>5.333333</td>\n",
              "      <td>0.000000</td>\n",
              "      <td>0.0</td>\n",
              "      <td>1.000000</td>\n",
              "    </tr>\n",
              "  </tbody>\n",
              "</table>\n",
              "</div>"
            ],
            "text/plain": [
              "    unidade   ano  Nfeedback  ...  indicador11  indicador12  indicador13\n",
              "508    FORP  2020       25.0  ...     4.333333          0.0     1.833333\n",
              "182      EE  2015        1.0  ...     0.000000          0.0     1.000000\n",
              "\n",
              "[2 rows x 29 columns]"
            ]
          },
          "metadata": {
            "tags": []
          },
          "execution_count": 36
        }
      ]
    },
    {
      "cell_type": "code",
      "metadata": {
        "colab": {
          "base_uri": "https://localhost:8080/",
          "height": 286
        },
        "id": "WZQr_nRHg0MF",
        "outputId": "b875840f-8e99-43f3-89f8-c07480f7a6f6"
      },
      "source": [
        "sns.catplot(x=\"ano\", y=\"indicador4\", col=\"unidade\",\n",
        "                data=i1_4, \n",
        "                kind=\"bar\"\n",
        "                )"
      ],
      "execution_count": null,
      "outputs": [
        {
          "output_type": "execute_result",
          "data": {
            "text/plain": [
              "<seaborn.axisgrid.FacetGrid at 0x7f191b2a4190>"
            ]
          },
          "metadata": {
            "tags": []
          },
          "execution_count": 37
        },
        {
          "output_type": "display_data",
          "data": {
            "image/png": "[encoded data removed]",
            "text/plain": [
              "<Figure size 1800x360 with 5 Axes>"
            ]
          },
          "metadata": {
            "tags": [],
            "needs_background": "light"
          }
        }
      ]
    },
    {
      "cell_type": "markdown",
      "metadata": {
        "id": "agiLzGCPg0X1"
      },
      "source": [
        "#**Indicador 5: editingteacher / Nº de docentes**"
      ]
    },
    {
      "cell_type": "code",
      "metadata": {
        "colab": {
          "base_uri": "https://localhost:8080/",
          "height": 131
        },
        "id": "655LMHpJhAG-",
        "outputId": "e14263b8-c02f-4598-82ea-d59ddae4529c"
      },
      "source": [
        "i1_5 = i1.loc[(i1['indicador5']) > 5 ]\n",
        "i1_5.sample(2)"
      ],
      "execution_count": null,
      "outputs": [
        {
          "output_type": "execute_result",
          "data": {
            "text/html": [
              "<div>\n",
              "<style scoped>\n",
              "    .dataframe tbody tr th:only-of-type {\n",
              "        vertical-align: middle;\n",
              "    }\n",
              "\n",
              "    .dataframe tbody tr th {\n",
              "        vertical-align: top;\n",
              "    }\n",
              "\n",
              "    .dataframe thead th {\n",
              "        text-align: right;\n",
              "    }\n",
              "</style>\n",
              "<table border=\"1\" class=\"dataframe\">\n",
              "  <thead>\n",
              "    <tr style=\"text-align: right;\">\n",
              "      <th></th>\n",
              "      <th>unidade</th>\n",
              "      <th>ano</th>\n",
              "      <th>Nfeedback</th>\n",
              "      <th>feedback</th>\n",
              "      <th>publication</th>\n",
              "      <th>teacher</th>\n",
              "      <th>editingteacher</th>\n",
              "      <th>forum</th>\n",
              "      <th>lesson</th>\n",
              "      <th>journal</th>\n",
              "      <th>poster</th>\n",
              "      <th>Nassess</th>\n",
              "      <th>Nadmin</th>\n",
              "      <th>checklist</th>\n",
              "      <th>advancedteacher</th>\n",
              "      <th>docentes</th>\n",
              "      <th>indicador1</th>\n",
              "      <th>indicador2</th>\n",
              "      <th>indicador3</th>\n",
              "      <th>indicador4</th>\n",
              "      <th>indicador5</th>\n",
              "      <th>indicador6</th>\n",
              "      <th>indicador7</th>\n",
              "      <th>indicador8</th>\n",
              "      <th>indicador9</th>\n",
              "      <th>indicador10</th>\n",
              "      <th>indicador11</th>\n",
              "      <th>indicador12</th>\n",
              "      <th>indicador13</th>\n",
              "    </tr>\n",
              "  </thead>\n",
              "  <tbody>\n",
              "    <tr>\n",
              "      <th>255</th>\n",
              "      <td>FCFRP</td>\n",
              "      <td>2016</td>\n",
              "      <td>0.0</td>\n",
              "      <td>0.0</td>\n",
              "      <td>0.0</td>\n",
              "      <td>1.0</td>\n",
              "      <td>18.0</td>\n",
              "      <td>14.0</td>\n",
              "      <td>0.0</td>\n",
              "      <td>0.0</td>\n",
              "      <td>0.0</td>\n",
              "      <td>6.0</td>\n",
              "      <td>0.0</td>\n",
              "      <td>0.0</td>\n",
              "      <td>0.0</td>\n",
              "      <td>1.0</td>\n",
              "      <td>0.000000</td>\n",
              "      <td>0.000000</td>\n",
              "      <td>0.000000</td>\n",
              "      <td>1.000000</td>\n",
              "      <td>18.000000</td>\n",
              "      <td>14.000000</td>\n",
              "      <td>0.000000</td>\n",
              "      <td>0.000000</td>\n",
              "      <td>0.000000</td>\n",
              "      <td>6.000000</td>\n",
              "      <td>0.000000</td>\n",
              "      <td>0.000000</td>\n",
              "      <td>0.000000</td>\n",
              "    </tr>\n",
              "    <tr>\n",
              "      <th>504</th>\n",
              "      <td>FMRP</td>\n",
              "      <td>2020</td>\n",
              "      <td>754.0</td>\n",
              "      <td>4.0</td>\n",
              "      <td>86.0</td>\n",
              "      <td>83.0</td>\n",
              "      <td>2102.0</td>\n",
              "      <td>2051.0</td>\n",
              "      <td>150.0</td>\n",
              "      <td>1.0</td>\n",
              "      <td>1.0</td>\n",
              "      <td>3571.0</td>\n",
              "      <td>276.0</td>\n",
              "      <td>17.0</td>\n",
              "      <td>579.0</td>\n",
              "      <td>238.0</td>\n",
              "      <td>3.168067</td>\n",
              "      <td>0.016807</td>\n",
              "      <td>0.361345</td>\n",
              "      <td>0.348739</td>\n",
              "      <td>8.831933</td>\n",
              "      <td>8.617647</td>\n",
              "      <td>0.630252</td>\n",
              "      <td>0.004202</td>\n",
              "      <td>0.004202</td>\n",
              "      <td>15.004202</td>\n",
              "      <td>1.159664</td>\n",
              "      <td>0.071429</td>\n",
              "      <td>2.432773</td>\n",
              "    </tr>\n",
              "  </tbody>\n",
              "</table>\n",
              "</div>"
            ],
            "text/plain": [
              "    unidade   ano  Nfeedback  ...  indicador11  indicador12  indicador13\n",
              "255   FCFRP  2016        0.0  ...     0.000000     0.000000     0.000000\n",
              "504    FMRP  2020      754.0  ...     1.159664     0.071429     2.432773\n",
              "\n",
              "[2 rows x 29 columns]"
            ]
          },
          "metadata": {
            "tags": []
          },
          "execution_count": 45
        }
      ]
    },
    {
      "cell_type": "code",
      "metadata": {
        "colab": {
          "base_uri": "https://localhost:8080/",
          "height": 192
        },
        "id": "RlBHnxpWhAQV",
        "outputId": "714af0d3-d8bc-4f53-8d22-7d2348d9212b"
      },
      "source": [
        "sns.catplot(x=\"ano\", y=\"indicador5\", col=\"unidade\",\n",
        "                data=i1_5, \n",
        "                kind=\"bar\"\n",
        "                )"
      ],
      "execution_count": null,
      "outputs": [
        {
          "output_type": "execute_result",
          "data": {
            "text/plain": [
              "<seaborn.axisgrid.FacetGrid at 0x7f191a96c0d0>"
            ]
          },
          "metadata": {
            "tags": []
          },
          "execution_count": 46
        },
        {
          "output_type": "display_data",
          "data": {
            "image/png": "[encoded data removed]",
            "text/plain": [
              "<Figure size 2880x360 with 8 Axes>"
            ]
          },
          "metadata": {
            "tags": [],
            "needs_background": "light"
          }
        }
      ]
    },
    {
      "cell_type": "markdown",
      "metadata": {
        "id": "5jKxsXpPhAdO"
      },
      "source": [
        "#**Indicador 6: forum / Nº de docentes**"
      ]
    },
    {
      "cell_type": "code",
      "metadata": {
        "colab": {
          "base_uri": "https://localhost:8080/",
          "height": 131
        },
        "id": "DIg8L8OChGNO",
        "outputId": "77d2f2e3-7620-4927-82de-5ebd3d1a9902"
      },
      "source": [
        "i1_6 = i1.loc[(i1['indicador6']) > 30] \n",
        "i1_6.sample(2)"
      ],
      "execution_count": null,
      "outputs": [
        {
          "output_type": "execute_result",
          "data": {
            "text/html": [
              "<div>\n",
              "<style scoped>\n",
              "    .dataframe tbody tr th:only-of-type {\n",
              "        vertical-align: middle;\n",
              "    }\n",
              "\n",
              "    .dataframe tbody tr th {\n",
              "        vertical-align: top;\n",
              "    }\n",
              "\n",
              "    .dataframe thead th {\n",
              "        text-align: right;\n",
              "    }\n",
              "</style>\n",
              "<table border=\"1\" class=\"dataframe\">\n",
              "  <thead>\n",
              "    <tr style=\"text-align: right;\">\n",
              "      <th></th>\n",
              "      <th>unidade</th>\n",
              "      <th>ano</th>\n",
              "      <th>Nfeedback</th>\n",
              "      <th>feedback</th>\n",
              "      <th>publication</th>\n",
              "      <th>teacher</th>\n",
              "      <th>editingteacher</th>\n",
              "      <th>forum</th>\n",
              "      <th>lesson</th>\n",
              "      <th>journal</th>\n",
              "      <th>poster</th>\n",
              "      <th>Nassess</th>\n",
              "      <th>Nadmin</th>\n",
              "      <th>checklist</th>\n",
              "      <th>advancedteacher</th>\n",
              "      <th>docentes</th>\n",
              "      <th>indicador1</th>\n",
              "      <th>indicador2</th>\n",
              "      <th>indicador3</th>\n",
              "      <th>indicador4</th>\n",
              "      <th>indicador5</th>\n",
              "      <th>indicador6</th>\n",
              "      <th>indicador7</th>\n",
              "      <th>indicador8</th>\n",
              "      <th>indicador9</th>\n",
              "      <th>indicador10</th>\n",
              "      <th>indicador11</th>\n",
              "      <th>indicador12</th>\n",
              "      <th>indicador13</th>\n",
              "    </tr>\n",
              "  </thead>\n",
              "  <tbody>\n",
              "    <tr>\n",
              "      <th>489</th>\n",
              "      <td>EERP</td>\n",
              "      <td>2020</td>\n",
              "      <td>110.0</td>\n",
              "      <td>6.0</td>\n",
              "      <td>17.0</td>\n",
              "      <td>54.0</td>\n",
              "      <td>536.0</td>\n",
              "      <td>466.0</td>\n",
              "      <td>6.0</td>\n",
              "      <td>1.0</td>\n",
              "      <td>0.0</td>\n",
              "      <td>1087.0</td>\n",
              "      <td>36.0</td>\n",
              "      <td>0.0</td>\n",
              "      <td>3.0</td>\n",
              "      <td>1.0</td>\n",
              "      <td>110.000000</td>\n",
              "      <td>6.0</td>\n",
              "      <td>17.0</td>\n",
              "      <td>54.0</td>\n",
              "      <td>536.000000</td>\n",
              "      <td>466.000000</td>\n",
              "      <td>6.0</td>\n",
              "      <td>1.0</td>\n",
              "      <td>0.0</td>\n",
              "      <td>1087.000000</td>\n",
              "      <td>36.0</td>\n",
              "      <td>0.000000</td>\n",
              "      <td>3.000000</td>\n",
              "    </tr>\n",
              "    <tr>\n",
              "      <th>507</th>\n",
              "      <td>FOB</td>\n",
              "      <td>2020</td>\n",
              "      <td>544.0</td>\n",
              "      <td>0.0</td>\n",
              "      <td>57.0</td>\n",
              "      <td>9.0</td>\n",
              "      <td>1286.0</td>\n",
              "      <td>605.0</td>\n",
              "      <td>0.0</td>\n",
              "      <td>12.0</td>\n",
              "      <td>0.0</td>\n",
              "      <td>848.0</td>\n",
              "      <td>30.0</td>\n",
              "      <td>5.0</td>\n",
              "      <td>22.0</td>\n",
              "      <td>3.0</td>\n",
              "      <td>181.333333</td>\n",
              "      <td>0.0</td>\n",
              "      <td>19.0</td>\n",
              "      <td>3.0</td>\n",
              "      <td>428.666667</td>\n",
              "      <td>201.666667</td>\n",
              "      <td>0.0</td>\n",
              "      <td>4.0</td>\n",
              "      <td>0.0</td>\n",
              "      <td>282.666667</td>\n",
              "      <td>10.0</td>\n",
              "      <td>1.666667</td>\n",
              "      <td>7.333333</td>\n",
              "    </tr>\n",
              "  </tbody>\n",
              "</table>\n",
              "</div>"
            ],
            "text/plain": [
              "    unidade   ano  Nfeedback  ...  indicador11  indicador12  indicador13\n",
              "489    EERP  2020      110.0  ...         36.0     0.000000     3.000000\n",
              "507     FOB  2020      544.0  ...         10.0     1.666667     7.333333\n",
              "\n",
              "[2 rows x 29 columns]"
            ]
          },
          "metadata": {
            "tags": []
          },
          "execution_count": 49
        }
      ]
    },
    {
      "cell_type": "code",
      "metadata": {
        "colab": {
          "base_uri": "https://localhost:8080/",
          "height": 244
        },
        "id": "6sJSSf47hGVd",
        "outputId": "18056e7a-cfe8-4f63-d7f7-ddbe9c6cc95a"
      },
      "source": [
        "sns.catplot(x=\"ano\", y=\"indicador6\", col=\"unidade\",\n",
        "                data=i1_6, \n",
        "                kind=\"bar\"\n",
        "                )"
      ],
      "execution_count": null,
      "outputs": [
        {
          "output_type": "execute_result",
          "data": {
            "text/plain": [
              "<seaborn.axisgrid.FacetGrid at 0x7f1919e35510>"
            ]
          },
          "metadata": {
            "tags": []
          },
          "execution_count": 50
        },
        {
          "output_type": "display_data",
          "data": {
            "image/png": "[encoded data removed]",
            "text/plain": [
              "<Figure size 2160x360 with 6 Axes>"
            ]
          },
          "metadata": {
            "tags": [],
            "needs_background": "light"
          }
        }
      ]
    },
    {
      "cell_type": "markdown",
      "metadata": {
        "id": "f-WM0nZKhG3t"
      },
      "source": [
        "#**Indicador 7: lesson / Nº de docentes**"
      ]
    },
    {
      "cell_type": "code",
      "metadata": {
        "colab": {
          "base_uri": "https://localhost:8080/",
          "height": 131
        },
        "id": "bmd1hKRmhOys",
        "outputId": "36bbd36d-269f-4076-a94c-890bd5869f36"
      },
      "source": [
        "i1_7 = i1.loc[(i1['indicador7']) > 0.5] #esse indicador possui uma média de uso muito pequena por aluno, possivelmente não faça sentido!\n",
        "i1_7.sample(2)"
      ],
      "execution_count": null,
      "outputs": [
        {
          "output_type": "execute_result",
          "data": {
            "text/html": [
              "<div>\n",
              "<style scoped>\n",
              "    .dataframe tbody tr th:only-of-type {\n",
              "        vertical-align: middle;\n",
              "    }\n",
              "\n",
              "    .dataframe tbody tr th {\n",
              "        vertical-align: top;\n",
              "    }\n",
              "\n",
              "    .dataframe thead th {\n",
              "        text-align: right;\n",
              "    }\n",
              "</style>\n",
              "<table border=\"1\" class=\"dataframe\">\n",
              "  <thead>\n",
              "    <tr style=\"text-align: right;\">\n",
              "      <th></th>\n",
              "      <th>unidade</th>\n",
              "      <th>ano</th>\n",
              "      <th>Nfeedback</th>\n",
              "      <th>feedback</th>\n",
              "      <th>publication</th>\n",
              "      <th>teacher</th>\n",
              "      <th>editingteacher</th>\n",
              "      <th>forum</th>\n",
              "      <th>lesson</th>\n",
              "      <th>journal</th>\n",
              "      <th>poster</th>\n",
              "      <th>Nassess</th>\n",
              "      <th>Nadmin</th>\n",
              "      <th>checklist</th>\n",
              "      <th>advancedteacher</th>\n",
              "      <th>docentes</th>\n",
              "      <th>indicador1</th>\n",
              "      <th>indicador2</th>\n",
              "      <th>indicador3</th>\n",
              "      <th>indicador4</th>\n",
              "      <th>indicador5</th>\n",
              "      <th>indicador6</th>\n",
              "      <th>indicador7</th>\n",
              "      <th>indicador8</th>\n",
              "      <th>indicador9</th>\n",
              "      <th>indicador10</th>\n",
              "      <th>indicador11</th>\n",
              "      <th>indicador12</th>\n",
              "      <th>indicador13</th>\n",
              "    </tr>\n",
              "  </thead>\n",
              "  <tbody>\n",
              "    <tr>\n",
              "      <th>393</th>\n",
              "      <td>FORP</td>\n",
              "      <td>2018</td>\n",
              "      <td>33.0</td>\n",
              "      <td>0.0</td>\n",
              "      <td>0.0</td>\n",
              "      <td>26.0</td>\n",
              "      <td>58.0</td>\n",
              "      <td>53.0</td>\n",
              "      <td>1.0</td>\n",
              "      <td>0.0</td>\n",
              "      <td>0.0</td>\n",
              "      <td>68.0</td>\n",
              "      <td>1.0</td>\n",
              "      <td>0.0</td>\n",
              "      <td>12.0</td>\n",
              "      <td>1.0</td>\n",
              "      <td>33.0</td>\n",
              "      <td>0.0</td>\n",
              "      <td>0.0</td>\n",
              "      <td>26.0</td>\n",
              "      <td>58.0</td>\n",
              "      <td>53.0</td>\n",
              "      <td>1.0</td>\n",
              "      <td>0.0</td>\n",
              "      <td>0.0</td>\n",
              "      <td>68.0</td>\n",
              "      <td>1.0</td>\n",
              "      <td>0.0</td>\n",
              "      <td>12.0</td>\n",
              "    </tr>\n",
              "    <tr>\n",
              "      <th>489</th>\n",
              "      <td>EERP</td>\n",
              "      <td>2020</td>\n",
              "      <td>110.0</td>\n",
              "      <td>6.0</td>\n",
              "      <td>17.0</td>\n",
              "      <td>54.0</td>\n",
              "      <td>536.0</td>\n",
              "      <td>466.0</td>\n",
              "      <td>6.0</td>\n",
              "      <td>1.0</td>\n",
              "      <td>0.0</td>\n",
              "      <td>1087.0</td>\n",
              "      <td>36.0</td>\n",
              "      <td>0.0</td>\n",
              "      <td>3.0</td>\n",
              "      <td>1.0</td>\n",
              "      <td>110.0</td>\n",
              "      <td>6.0</td>\n",
              "      <td>17.0</td>\n",
              "      <td>54.0</td>\n",
              "      <td>536.0</td>\n",
              "      <td>466.0</td>\n",
              "      <td>6.0</td>\n",
              "      <td>1.0</td>\n",
              "      <td>0.0</td>\n",
              "      <td>1087.0</td>\n",
              "      <td>36.0</td>\n",
              "      <td>0.0</td>\n",
              "      <td>3.0</td>\n",
              "    </tr>\n",
              "  </tbody>\n",
              "</table>\n",
              "</div>"
            ],
            "text/plain": [
              "    unidade   ano  Nfeedback  ...  indicador11  indicador12  indicador13\n",
              "393    FORP  2018       33.0  ...          1.0          0.0         12.0\n",
              "489    EERP  2020      110.0  ...         36.0          0.0          3.0\n",
              "\n",
              "[2 rows x 29 columns]"
            ]
          },
          "metadata": {
            "tags": []
          },
          "execution_count": 55
        }
      ]
    },
    {
      "cell_type": "code",
      "metadata": {
        "colab": {
          "base_uri": "https://localhost:8080/",
          "height": 244
        },
        "id": "64_YpW16hO7k",
        "outputId": "085e7141-f323-47f7-9d42-5c53e04dbf4b"
      },
      "source": [
        "sns.catplot(x=\"ano\", y=\"indicador7\", col=\"unidade\",\n",
        "                data=i1_7, \n",
        "                kind=\"bar\"\n",
        "                )"
      ],
      "execution_count": null,
      "outputs": [
        {
          "output_type": "execute_result",
          "data": {
            "text/plain": [
              "<seaborn.axisgrid.FacetGrid at 0x7f1917f8ce10>"
            ]
          },
          "metadata": {
            "tags": []
          },
          "execution_count": 56
        },
        {
          "output_type": "display_data",
          "data": {
            "image/png": "[encoded data removed]",
            "text/plain": [
              "<Figure size 2160x360 with 6 Axes>"
            ]
          },
          "metadata": {
            "tags": [],
            "needs_background": "light"
          }
        }
      ]
    },
    {
      "cell_type": "markdown",
      "metadata": {
        "id": "rIi5kVBbhPKd"
      },
      "source": [
        "#**Indicador 8: journal / Nº de docentes**"
      ]
    },
    {
      "cell_type": "code",
      "metadata": {
        "colab": {
          "base_uri": "https://localhost:8080/",
          "height": 131
        },
        "id": "KxqAztO4hWb8",
        "outputId": "45977b56-a677-4b02-f35f-485ad7f714b0"
      },
      "source": [
        "i1_8 = i1.loc[(i1['indicador8']) > 0.1] \n",
        "i1_8.sample(2)"
      ],
      "execution_count": null,
      "outputs": [
        {
          "output_type": "execute_result",
          "data": {
            "text/html": [
              "<div>\n",
              "<style scoped>\n",
              "    .dataframe tbody tr th:only-of-type {\n",
              "        vertical-align: middle;\n",
              "    }\n",
              "\n",
              "    .dataframe tbody tr th {\n",
              "        vertical-align: top;\n",
              "    }\n",
              "\n",
              "    .dataframe thead th {\n",
              "        text-align: right;\n",
              "    }\n",
              "</style>\n",
              "<table border=\"1\" class=\"dataframe\">\n",
              "  <thead>\n",
              "    <tr style=\"text-align: right;\">\n",
              "      <th></th>\n",
              "      <th>unidade</th>\n",
              "      <th>ano</th>\n",
              "      <th>Nfeedback</th>\n",
              "      <th>feedback</th>\n",
              "      <th>publication</th>\n",
              "      <th>teacher</th>\n",
              "      <th>editingteacher</th>\n",
              "      <th>forum</th>\n",
              "      <th>lesson</th>\n",
              "      <th>journal</th>\n",
              "      <th>poster</th>\n",
              "      <th>Nassess</th>\n",
              "      <th>Nadmin</th>\n",
              "      <th>checklist</th>\n",
              "      <th>advancedteacher</th>\n",
              "      <th>docentes</th>\n",
              "      <th>indicador1</th>\n",
              "      <th>indicador2</th>\n",
              "      <th>indicador3</th>\n",
              "      <th>indicador4</th>\n",
              "      <th>indicador5</th>\n",
              "      <th>indicador6</th>\n",
              "      <th>indicador7</th>\n",
              "      <th>indicador8</th>\n",
              "      <th>indicador9</th>\n",
              "      <th>indicador10</th>\n",
              "      <th>indicador11</th>\n",
              "      <th>indicador12</th>\n",
              "      <th>indicador13</th>\n",
              "    </tr>\n",
              "  </thead>\n",
              "  <tbody>\n",
              "    <tr>\n",
              "      <th>489</th>\n",
              "      <td>EERP</td>\n",
              "      <td>2020</td>\n",
              "      <td>110.0</td>\n",
              "      <td>6.0</td>\n",
              "      <td>17.0</td>\n",
              "      <td>54.0</td>\n",
              "      <td>536.0</td>\n",
              "      <td>466.0</td>\n",
              "      <td>6.0</td>\n",
              "      <td>1.0</td>\n",
              "      <td>0.0</td>\n",
              "      <td>1087.0</td>\n",
              "      <td>36.0</td>\n",
              "      <td>0.0</td>\n",
              "      <td>3.0</td>\n",
              "      <td>1.0</td>\n",
              "      <td>110.000000</td>\n",
              "      <td>6.0</td>\n",
              "      <td>17.0</td>\n",
              "      <td>54.0</td>\n",
              "      <td>536.000000</td>\n",
              "      <td>466.000000</td>\n",
              "      <td>6.0</td>\n",
              "      <td>1.0</td>\n",
              "      <td>0.0</td>\n",
              "      <td>1087.000000</td>\n",
              "      <td>36.0</td>\n",
              "      <td>0.000000</td>\n",
              "      <td>3.000000</td>\n",
              "    </tr>\n",
              "    <tr>\n",
              "      <th>507</th>\n",
              "      <td>FOB</td>\n",
              "      <td>2020</td>\n",
              "      <td>544.0</td>\n",
              "      <td>0.0</td>\n",
              "      <td>57.0</td>\n",
              "      <td>9.0</td>\n",
              "      <td>1286.0</td>\n",
              "      <td>605.0</td>\n",
              "      <td>0.0</td>\n",
              "      <td>12.0</td>\n",
              "      <td>0.0</td>\n",
              "      <td>848.0</td>\n",
              "      <td>30.0</td>\n",
              "      <td>5.0</td>\n",
              "      <td>22.0</td>\n",
              "      <td>3.0</td>\n",
              "      <td>181.333333</td>\n",
              "      <td>0.0</td>\n",
              "      <td>19.0</td>\n",
              "      <td>3.0</td>\n",
              "      <td>428.666667</td>\n",
              "      <td>201.666667</td>\n",
              "      <td>0.0</td>\n",
              "      <td>4.0</td>\n",
              "      <td>0.0</td>\n",
              "      <td>282.666667</td>\n",
              "      <td>10.0</td>\n",
              "      <td>1.666667</td>\n",
              "      <td>7.333333</td>\n",
              "    </tr>\n",
              "  </tbody>\n",
              "</table>\n",
              "</div>"
            ],
            "text/plain": [
              "    unidade   ano  Nfeedback  ...  indicador11  indicador12  indicador13\n",
              "489    EERP  2020      110.0  ...         36.0     0.000000     3.000000\n",
              "507     FOB  2020      544.0  ...         10.0     1.666667     7.333333\n",
              "\n",
              "[2 rows x 29 columns]"
            ]
          },
          "metadata": {
            "tags": []
          },
          "execution_count": 57
        }
      ]
    },
    {
      "cell_type": "code",
      "metadata": {
        "colab": {
          "base_uri": "https://localhost:8080/",
          "height": 286
        },
        "id": "JpoX_IA8hWlT",
        "outputId": "2bd164e3-2421-4781-ed5d-d0ec31e242c1"
      },
      "source": [
        "sns.catplot(x=\"ano\", y=\"indicador8\", col=\"unidade\",\n",
        "                data=i1_8, \n",
        "                kind=\"bar\"\n",
        "                )"
      ],
      "execution_count": null,
      "outputs": [
        {
          "output_type": "execute_result",
          "data": {
            "text/plain": [
              "<seaborn.axisgrid.FacetGrid at 0x7f1917aa9bd0>"
            ]
          },
          "metadata": {
            "tags": []
          },
          "execution_count": 58
        },
        {
          "output_type": "display_data",
          "data": {
            "image/png": "[encoded data removed]",
            "text/plain": [
              "<Figure size 1800x360 with 5 Axes>"
            ]
          },
          "metadata": {
            "tags": [],
            "needs_background": "light"
          }
        }
      ]
    },
    {
      "cell_type": "markdown",
      "metadata": {
        "id": "maLKxMhdhXAU"
      },
      "source": [
        "#**Indicador 9: poster / Nº de docentes**"
      ]
    },
    {
      "cell_type": "code",
      "metadata": {
        "colab": {
          "base_uri": "https://localhost:8080/",
          "height": 131
        },
        "id": "yWqeyGDNhbok",
        "outputId": "4dade36e-c7d2-41f0-e55f-64fbbe892679"
      },
      "source": [
        "i1_9 = i1.loc[(i1['indicador9']) > 0.01] \n",
        "i1_9.sample(2)"
      ],
      "execution_count": null,
      "outputs": [
        {
          "output_type": "execute_result",
          "data": {
            "text/html": [
              "<div>\n",
              "<style scoped>\n",
              "    .dataframe tbody tr th:only-of-type {\n",
              "        vertical-align: middle;\n",
              "    }\n",
              "\n",
              "    .dataframe tbody tr th {\n",
              "        vertical-align: top;\n",
              "    }\n",
              "\n",
              "    .dataframe thead th {\n",
              "        text-align: right;\n",
              "    }\n",
              "</style>\n",
              "<table border=\"1\" class=\"dataframe\">\n",
              "  <thead>\n",
              "    <tr style=\"text-align: right;\">\n",
              "      <th></th>\n",
              "      <th>unidade</th>\n",
              "      <th>ano</th>\n",
              "      <th>Nfeedback</th>\n",
              "      <th>feedback</th>\n",
              "      <th>publication</th>\n",
              "      <th>teacher</th>\n",
              "      <th>editingteacher</th>\n",
              "      <th>forum</th>\n",
              "      <th>lesson</th>\n",
              "      <th>journal</th>\n",
              "      <th>poster</th>\n",
              "      <th>Nassess</th>\n",
              "      <th>Nadmin</th>\n",
              "      <th>checklist</th>\n",
              "      <th>advancedteacher</th>\n",
              "      <th>docentes</th>\n",
              "      <th>indicador1</th>\n",
              "      <th>indicador2</th>\n",
              "      <th>indicador3</th>\n",
              "      <th>indicador4</th>\n",
              "      <th>indicador5</th>\n",
              "      <th>indicador6</th>\n",
              "      <th>indicador7</th>\n",
              "      <th>indicador8</th>\n",
              "      <th>indicador9</th>\n",
              "      <th>indicador10</th>\n",
              "      <th>indicador11</th>\n",
              "      <th>indicador12</th>\n",
              "      <th>indicador13</th>\n",
              "    </tr>\n",
              "  </thead>\n",
              "  <tbody>\n",
              "    <tr>\n",
              "      <th>392</th>\n",
              "      <td>FOB</td>\n",
              "      <td>2018</td>\n",
              "      <td>90.0</td>\n",
              "      <td>4.0</td>\n",
              "      <td>0.0</td>\n",
              "      <td>5.0</td>\n",
              "      <td>168.0</td>\n",
              "      <td>42.0</td>\n",
              "      <td>4.0</td>\n",
              "      <td>0.0</td>\n",
              "      <td>1.0</td>\n",
              "      <td>105.0</td>\n",
              "      <td>0.0</td>\n",
              "      <td>0.0</td>\n",
              "      <td>0.0</td>\n",
              "      <td>60.0</td>\n",
              "      <td>1.500000</td>\n",
              "      <td>0.066667</td>\n",
              "      <td>0.0</td>\n",
              "      <td>0.083333</td>\n",
              "      <td>2.800000</td>\n",
              "      <td>0.700000</td>\n",
              "      <td>0.066667</td>\n",
              "      <td>0.000000</td>\n",
              "      <td>0.016667</td>\n",
              "      <td>1.750000</td>\n",
              "      <td>0.000000</td>\n",
              "      <td>0.000000</td>\n",
              "      <td>0.000000</td>\n",
              "    </tr>\n",
              "    <tr>\n",
              "      <th>462</th>\n",
              "      <td>IF</td>\n",
              "      <td>2019</td>\n",
              "      <td>50.0</td>\n",
              "      <td>1.0</td>\n",
              "      <td>0.0</td>\n",
              "      <td>0.0</td>\n",
              "      <td>237.0</td>\n",
              "      <td>211.0</td>\n",
              "      <td>1.0</td>\n",
              "      <td>3.0</td>\n",
              "      <td>2.0</td>\n",
              "      <td>849.0</td>\n",
              "      <td>9.0</td>\n",
              "      <td>1.0</td>\n",
              "      <td>5.0</td>\n",
              "      <td>110.0</td>\n",
              "      <td>0.454545</td>\n",
              "      <td>0.009091</td>\n",
              "      <td>0.0</td>\n",
              "      <td>0.000000</td>\n",
              "      <td>2.154545</td>\n",
              "      <td>1.918182</td>\n",
              "      <td>0.009091</td>\n",
              "      <td>0.027273</td>\n",
              "      <td>0.018182</td>\n",
              "      <td>7.718182</td>\n",
              "      <td>0.081818</td>\n",
              "      <td>0.009091</td>\n",
              "      <td>0.045455</td>\n",
              "    </tr>\n",
              "  </tbody>\n",
              "</table>\n",
              "</div>"
            ],
            "text/plain": [
              "    unidade   ano  Nfeedback  ...  indicador11  indicador12  indicador13\n",
              "392     FOB  2018       90.0  ...     0.000000     0.000000     0.000000\n",
              "462      IF  2019       50.0  ...     0.081818     0.009091     0.045455\n",
              "\n",
              "[2 rows x 29 columns]"
            ]
          },
          "metadata": {
            "tags": []
          },
          "execution_count": 60
        }
      ]
    },
    {
      "cell_type": "code",
      "metadata": {
        "colab": {
          "base_uri": "https://localhost:8080/",
          "height": 400
        },
        "id": "Bxhe6D9ehbzT",
        "outputId": "96a4c874-e312-4081-b321-918736e9475e"
      },
      "source": [
        "sns.catplot(x=\"ano\", y=\"indicador9\", col=\"unidade\",\n",
        "                data=i1_9, \n",
        "                kind=\"bar\"\n",
        "                )"
      ],
      "execution_count": null,
      "outputs": [
        {
          "output_type": "execute_result",
          "data": {
            "text/plain": [
              "<seaborn.axisgrid.FacetGrid at 0x7f19178108d0>"
            ]
          },
          "metadata": {
            "tags": []
          },
          "execution_count": 61
        },
        {
          "output_type": "display_data",
          "data": {
            "image/png": "[encoded data removed]",
            "text/plain": [
              "<Figure size 1080x360 with 3 Axes>"
            ]
          },
          "metadata": {
            "tags": [],
            "needs_background": "light"
          }
        }
      ]
    },
    {
      "cell_type": "markdown",
      "metadata": {
        "id": "vXfV6gGKhb-k"
      },
      "source": [
        "#**Indicador 10: Nassess / Nº de docentes**"
      ]
    },
    {
      "cell_type": "code",
      "metadata": {
        "colab": {
          "base_uri": "https://localhost:8080/",
          "height": 131
        },
        "id": "uZuMWxl2hj0U",
        "outputId": "4891ef57-448d-4d83-fefa-86298c8d5a6e"
      },
      "source": [
        "i1_10 = i1.loc[(i1['indicador10']) > 40] \n",
        "i1_10.sample(2)"
      ],
      "execution_count": null,
      "outputs": [
        {
          "output_type": "execute_result",
          "data": {
            "text/html": [
              "<div>\n",
              "<style scoped>\n",
              "    .dataframe tbody tr th:only-of-type {\n",
              "        vertical-align: middle;\n",
              "    }\n",
              "\n",
              "    .dataframe tbody tr th {\n",
              "        vertical-align: top;\n",
              "    }\n",
              "\n",
              "    .dataframe thead th {\n",
              "        text-align: right;\n",
              "    }\n",
              "</style>\n",
              "<table border=\"1\" class=\"dataframe\">\n",
              "  <thead>\n",
              "    <tr style=\"text-align: right;\">\n",
              "      <th></th>\n",
              "      <th>unidade</th>\n",
              "      <th>ano</th>\n",
              "      <th>Nfeedback</th>\n",
              "      <th>feedback</th>\n",
              "      <th>publication</th>\n",
              "      <th>teacher</th>\n",
              "      <th>editingteacher</th>\n",
              "      <th>forum</th>\n",
              "      <th>lesson</th>\n",
              "      <th>journal</th>\n",
              "      <th>poster</th>\n",
              "      <th>Nassess</th>\n",
              "      <th>Nadmin</th>\n",
              "      <th>checklist</th>\n",
              "      <th>advancedteacher</th>\n",
              "      <th>docentes</th>\n",
              "      <th>indicador1</th>\n",
              "      <th>indicador2</th>\n",
              "      <th>indicador3</th>\n",
              "      <th>indicador4</th>\n",
              "      <th>indicador5</th>\n",
              "      <th>indicador6</th>\n",
              "      <th>indicador7</th>\n",
              "      <th>indicador8</th>\n",
              "      <th>indicador9</th>\n",
              "      <th>indicador10</th>\n",
              "      <th>indicador11</th>\n",
              "      <th>indicador12</th>\n",
              "      <th>indicador13</th>\n",
              "    </tr>\n",
              "  </thead>\n",
              "  <tbody>\n",
              "    <tr>\n",
              "      <th>260</th>\n",
              "      <td>FEARP</td>\n",
              "      <td>2016</td>\n",
              "      <td>23.0</td>\n",
              "      <td>0.0</td>\n",
              "      <td>0.0</td>\n",
              "      <td>43.0</td>\n",
              "      <td>354.0</td>\n",
              "      <td>476.0</td>\n",
              "      <td>3.0</td>\n",
              "      <td>0.0</td>\n",
              "      <td>0.0</td>\n",
              "      <td>4726.0</td>\n",
              "      <td>50.0</td>\n",
              "      <td>0.0</td>\n",
              "      <td>2.0</td>\n",
              "      <td>94.0</td>\n",
              "      <td>0.244681</td>\n",
              "      <td>0.0</td>\n",
              "      <td>0.000000</td>\n",
              "      <td>0.457447</td>\n",
              "      <td>3.765957</td>\n",
              "      <td>5.063830</td>\n",
              "      <td>0.031915</td>\n",
              "      <td>0.0</td>\n",
              "      <td>0.0</td>\n",
              "      <td>50.276596</td>\n",
              "      <td>0.531915</td>\n",
              "      <td>0.0</td>\n",
              "      <td>0.021277</td>\n",
              "    </tr>\n",
              "    <tr>\n",
              "      <th>508</th>\n",
              "      <td>FORP</td>\n",
              "      <td>2020</td>\n",
              "      <td>25.0</td>\n",
              "      <td>0.0</td>\n",
              "      <td>2.0</td>\n",
              "      <td>8.0</td>\n",
              "      <td>450.0</td>\n",
              "      <td>346.0</td>\n",
              "      <td>2.0</td>\n",
              "      <td>0.0</td>\n",
              "      <td>0.0</td>\n",
              "      <td>530.0</td>\n",
              "      <td>26.0</td>\n",
              "      <td>0.0</td>\n",
              "      <td>11.0</td>\n",
              "      <td>6.0</td>\n",
              "      <td>4.166667</td>\n",
              "      <td>0.0</td>\n",
              "      <td>0.333333</td>\n",
              "      <td>1.333333</td>\n",
              "      <td>75.000000</td>\n",
              "      <td>57.666667</td>\n",
              "      <td>0.333333</td>\n",
              "      <td>0.0</td>\n",
              "      <td>0.0</td>\n",
              "      <td>88.333333</td>\n",
              "      <td>4.333333</td>\n",
              "      <td>0.0</td>\n",
              "      <td>1.833333</td>\n",
              "    </tr>\n",
              "  </tbody>\n",
              "</table>\n",
              "</div>"
            ],
            "text/plain": [
              "    unidade   ano  Nfeedback  ...  indicador11  indicador12  indicador13\n",
              "260   FEARP  2016       23.0  ...     0.531915          0.0     0.021277\n",
              "508    FORP  2020       25.0  ...     4.333333          0.0     1.833333\n",
              "\n",
              "[2 rows x 29 columns]"
            ]
          },
          "metadata": {
            "tags": []
          },
          "execution_count": 64
        }
      ]
    },
    {
      "cell_type": "code",
      "metadata": {
        "colab": {
          "base_uri": "https://localhost:8080/",
          "height": 244
        },
        "id": "timi19gChj9N",
        "outputId": "89ca9dd3-2179-4223-c985-43e056dc975f"
      },
      "source": [
        "sns.catplot(x=\"ano\", y=\"indicador10\", col=\"unidade\",\n",
        "                data=i1_10, \n",
        "                kind=\"bar\"\n",
        "                )"
      ],
      "execution_count": null,
      "outputs": [
        {
          "output_type": "execute_result",
          "data": {
            "text/plain": [
              "<seaborn.axisgrid.FacetGrid at 0x7f1916e1d4d0>"
            ]
          },
          "metadata": {
            "tags": []
          },
          "execution_count": 65
        },
        {
          "output_type": "display_data",
          "data": {
            "image/png": "[encoded data removed]",
            "text/plain": [
              "<Figure size 2160x360 with 6 Axes>"
            ]
          },
          "metadata": {
            "tags": [],
            "needs_background": "light"
          }
        }
      ]
    },
    {
      "cell_type": "markdown",
      "metadata": {
        "id": "Q13tDlrGhkJu"
      },
      "source": [
        "#**Indicador 11: Nadmin / Nº de docentes**"
      ]
    },
    {
      "cell_type": "code",
      "metadata": {
        "colab": {
          "base_uri": "https://localhost:8080/",
          "height": 131
        },
        "id": "qcBbgLKPhpp9",
        "outputId": "c6e2f103-8320-417b-8ec6-2e80546dd95a"
      },
      "source": [
        "i1_11 = i1.loc[(i1['indicador11']) > 2] \n",
        "i1_11.sample(2)"
      ],
      "execution_count": null,
      "outputs": [
        {
          "output_type": "execute_result",
          "data": {
            "text/html": [
              "<div>\n",
              "<style scoped>\n",
              "    .dataframe tbody tr th:only-of-type {\n",
              "        vertical-align: middle;\n",
              "    }\n",
              "\n",
              "    .dataframe tbody tr th {\n",
              "        vertical-align: top;\n",
              "    }\n",
              "\n",
              "    .dataframe thead th {\n",
              "        text-align: right;\n",
              "    }\n",
              "</style>\n",
              "<table border=\"1\" class=\"dataframe\">\n",
              "  <thead>\n",
              "    <tr style=\"text-align: right;\">\n",
              "      <th></th>\n",
              "      <th>unidade</th>\n",
              "      <th>ano</th>\n",
              "      <th>Nfeedback</th>\n",
              "      <th>feedback</th>\n",
              "      <th>publication</th>\n",
              "      <th>teacher</th>\n",
              "      <th>editingteacher</th>\n",
              "      <th>forum</th>\n",
              "      <th>lesson</th>\n",
              "      <th>journal</th>\n",
              "      <th>poster</th>\n",
              "      <th>Nassess</th>\n",
              "      <th>Nadmin</th>\n",
              "      <th>checklist</th>\n",
              "      <th>advancedteacher</th>\n",
              "      <th>docentes</th>\n",
              "      <th>indicador1</th>\n",
              "      <th>indicador2</th>\n",
              "      <th>indicador3</th>\n",
              "      <th>indicador4</th>\n",
              "      <th>indicador5</th>\n",
              "      <th>indicador6</th>\n",
              "      <th>indicador7</th>\n",
              "      <th>indicador8</th>\n",
              "      <th>indicador9</th>\n",
              "      <th>indicador10</th>\n",
              "      <th>indicador11</th>\n",
              "      <th>indicador12</th>\n",
              "      <th>indicador13</th>\n",
              "    </tr>\n",
              "  </thead>\n",
              "  <tbody>\n",
              "    <tr>\n",
              "      <th>507</th>\n",
              "      <td>FOB</td>\n",
              "      <td>2020</td>\n",
              "      <td>544.0</td>\n",
              "      <td>0.0</td>\n",
              "      <td>57.0</td>\n",
              "      <td>9.0</td>\n",
              "      <td>1286.0</td>\n",
              "      <td>605.0</td>\n",
              "      <td>0.0</td>\n",
              "      <td>12.0</td>\n",
              "      <td>0.0</td>\n",
              "      <td>848.0</td>\n",
              "      <td>30.0</td>\n",
              "      <td>5.0</td>\n",
              "      <td>22.0</td>\n",
              "      <td>3.0</td>\n",
              "      <td>181.333333</td>\n",
              "      <td>0.0</td>\n",
              "      <td>19.000000</td>\n",
              "      <td>3.000000</td>\n",
              "      <td>428.666667</td>\n",
              "      <td>201.666667</td>\n",
              "      <td>0.000000</td>\n",
              "      <td>4.0</td>\n",
              "      <td>0.0</td>\n",
              "      <td>282.666667</td>\n",
              "      <td>10.000000</td>\n",
              "      <td>1.666667</td>\n",
              "      <td>7.333333</td>\n",
              "    </tr>\n",
              "    <tr>\n",
              "      <th>508</th>\n",
              "      <td>FORP</td>\n",
              "      <td>2020</td>\n",
              "      <td>25.0</td>\n",
              "      <td>0.0</td>\n",
              "      <td>2.0</td>\n",
              "      <td>8.0</td>\n",
              "      <td>450.0</td>\n",
              "      <td>346.0</td>\n",
              "      <td>2.0</td>\n",
              "      <td>0.0</td>\n",
              "      <td>0.0</td>\n",
              "      <td>530.0</td>\n",
              "      <td>26.0</td>\n",
              "      <td>0.0</td>\n",
              "      <td>11.0</td>\n",
              "      <td>6.0</td>\n",
              "      <td>4.166667</td>\n",
              "      <td>0.0</td>\n",
              "      <td>0.333333</td>\n",
              "      <td>1.333333</td>\n",
              "      <td>75.000000</td>\n",
              "      <td>57.666667</td>\n",
              "      <td>0.333333</td>\n",
              "      <td>0.0</td>\n",
              "      <td>0.0</td>\n",
              "      <td>88.333333</td>\n",
              "      <td>4.333333</td>\n",
              "      <td>0.000000</td>\n",
              "      <td>1.833333</td>\n",
              "    </tr>\n",
              "  </tbody>\n",
              "</table>\n",
              "</div>"
            ],
            "text/plain": [
              "    unidade   ano  Nfeedback  ...  indicador11  indicador12  indicador13\n",
              "507     FOB  2020      544.0  ...    10.000000     1.666667     7.333333\n",
              "508    FORP  2020       25.0  ...     4.333333     0.000000     1.833333\n",
              "\n",
              "[2 rows x 29 columns]"
            ]
          },
          "metadata": {
            "tags": []
          },
          "execution_count": 70
        }
      ]
    },
    {
      "cell_type": "code",
      "metadata": {
        "colab": {
          "base_uri": "https://localhost:8080/",
          "height": 286
        },
        "id": "04HoVetshpyk",
        "outputId": "0bca3e20-c25e-4a33-e157-f8d381c13294"
      },
      "source": [
        "sns.catplot(x=\"ano\", y=\"indicador11\", col=\"unidade\",\n",
        "                data=i1_11, \n",
        "                kind=\"bar\"\n",
        "                )"
      ],
      "execution_count": null,
      "outputs": [
        {
          "output_type": "execute_result",
          "data": {
            "text/plain": [
              "<seaborn.axisgrid.FacetGrid at 0x7f19164ef690>"
            ]
          },
          "metadata": {
            "tags": []
          },
          "execution_count": 71
        },
        {
          "output_type": "display_data",
          "data": {
            "image/png": "[encoded data removed]",
            "text/plain": [
              "<Figure size 1800x360 with 5 Axes>"
            ]
          },
          "metadata": {
            "tags": [],
            "needs_background": "light"
          }
        }
      ]
    },
    {
      "cell_type": "markdown",
      "metadata": {
        "id": "68k2W8yYhp90"
      },
      "source": [
        "#**Indicador 12: checklist / Nº de docentes**"
      ]
    },
    {
      "cell_type": "code",
      "metadata": {
        "colab": {
          "base_uri": "https://localhost:8080/",
          "height": 131
        },
        "id": "It3K54yRhwdj",
        "outputId": "46ed3aa8-3657-40cc-cb0b-476023119c88"
      },
      "source": [
        "i1_12 = i1.loc[(i1['indicador12']) > 0.01] \n",
        "i1_12.sample(2)"
      ],
      "execution_count": null,
      "outputs": [
        {
          "output_type": "execute_result",
          "data": {
            "text/html": [
              "<div>\n",
              "<style scoped>\n",
              "    .dataframe tbody tr th:only-of-type {\n",
              "        vertical-align: middle;\n",
              "    }\n",
              "\n",
              "    .dataframe tbody tr th {\n",
              "        vertical-align: top;\n",
              "    }\n",
              "\n",
              "    .dataframe thead th {\n",
              "        text-align: right;\n",
              "    }\n",
              "</style>\n",
              "<table border=\"1\" class=\"dataframe\">\n",
              "  <thead>\n",
              "    <tr style=\"text-align: right;\">\n",
              "      <th></th>\n",
              "      <th>unidade</th>\n",
              "      <th>ano</th>\n",
              "      <th>Nfeedback</th>\n",
              "      <th>feedback</th>\n",
              "      <th>publication</th>\n",
              "      <th>teacher</th>\n",
              "      <th>editingteacher</th>\n",
              "      <th>forum</th>\n",
              "      <th>lesson</th>\n",
              "      <th>journal</th>\n",
              "      <th>poster</th>\n",
              "      <th>Nassess</th>\n",
              "      <th>Nadmin</th>\n",
              "      <th>checklist</th>\n",
              "      <th>advancedteacher</th>\n",
              "      <th>docentes</th>\n",
              "      <th>indicador1</th>\n",
              "      <th>indicador2</th>\n",
              "      <th>indicador3</th>\n",
              "      <th>indicador4</th>\n",
              "      <th>indicador5</th>\n",
              "      <th>indicador6</th>\n",
              "      <th>indicador7</th>\n",
              "      <th>indicador8</th>\n",
              "      <th>indicador9</th>\n",
              "      <th>indicador10</th>\n",
              "      <th>indicador11</th>\n",
              "      <th>indicador12</th>\n",
              "      <th>indicador13</th>\n",
              "    </tr>\n",
              "  </thead>\n",
              "  <tbody>\n",
              "    <tr>\n",
              "      <th>521</th>\n",
              "      <td>IFSC</td>\n",
              "      <td>2020</td>\n",
              "      <td>61.0</td>\n",
              "      <td>0.0</td>\n",
              "      <td>28.0</td>\n",
              "      <td>5.0</td>\n",
              "      <td>273.0</td>\n",
              "      <td>327.0</td>\n",
              "      <td>5.0</td>\n",
              "      <td>0.0</td>\n",
              "      <td>0.0</td>\n",
              "      <td>884.0</td>\n",
              "      <td>79.0</td>\n",
              "      <td>2.0</td>\n",
              "      <td>3.0</td>\n",
              "      <td>79.0</td>\n",
              "      <td>0.772152</td>\n",
              "      <td>0.0</td>\n",
              "      <td>0.35443</td>\n",
              "      <td>0.063291</td>\n",
              "      <td>3.455696</td>\n",
              "      <td>4.139241</td>\n",
              "      <td>0.063291</td>\n",
              "      <td>0.0</td>\n",
              "      <td>0.0</td>\n",
              "      <td>11.189873</td>\n",
              "      <td>1.0</td>\n",
              "      <td>0.025316</td>\n",
              "      <td>0.037975</td>\n",
              "    </tr>\n",
              "    <tr>\n",
              "      <th>507</th>\n",
              "      <td>FOB</td>\n",
              "      <td>2020</td>\n",
              "      <td>544.0</td>\n",
              "      <td>0.0</td>\n",
              "      <td>57.0</td>\n",
              "      <td>9.0</td>\n",
              "      <td>1286.0</td>\n",
              "      <td>605.0</td>\n",
              "      <td>0.0</td>\n",
              "      <td>12.0</td>\n",
              "      <td>0.0</td>\n",
              "      <td>848.0</td>\n",
              "      <td>30.0</td>\n",
              "      <td>5.0</td>\n",
              "      <td>22.0</td>\n",
              "      <td>3.0</td>\n",
              "      <td>181.333333</td>\n",
              "      <td>0.0</td>\n",
              "      <td>19.00000</td>\n",
              "      <td>3.000000</td>\n",
              "      <td>428.666667</td>\n",
              "      <td>201.666667</td>\n",
              "      <td>0.000000</td>\n",
              "      <td>4.0</td>\n",
              "      <td>0.0</td>\n",
              "      <td>282.666667</td>\n",
              "      <td>10.0</td>\n",
              "      <td>1.666667</td>\n",
              "      <td>7.333333</td>\n",
              "    </tr>\n",
              "  </tbody>\n",
              "</table>\n",
              "</div>"
            ],
            "text/plain": [
              "    unidade   ano  Nfeedback  ...  indicador11  indicador12  indicador13\n",
              "521    IFSC  2020       61.0  ...          1.0     0.025316     0.037975\n",
              "507     FOB  2020      544.0  ...         10.0     1.666667     7.333333\n",
              "\n",
              "[2 rows x 29 columns]"
            ]
          },
          "metadata": {
            "tags": []
          },
          "execution_count": 77
        }
      ]
    },
    {
      "cell_type": "code",
      "metadata": {
        "colab": {
          "base_uri": "https://localhost:8080/",
          "height": 124
        },
        "id": "_QLuFkSjhwmt",
        "outputId": "efcce998-9d0e-41cb-e72c-1eba7d06aba8"
      },
      "source": [
        "sns.catplot(x=\"ano\", y=\"indicador12\", col=\"unidade\",\n",
        "                data=i1_12, \n",
        "                kind=\"bar\"\n",
        "                )"
      ],
      "execution_count": null,
      "outputs": [
        {
          "output_type": "execute_result",
          "data": {
            "text/plain": [
              "<seaborn.axisgrid.FacetGrid at 0x7f19158c3390>"
            ]
          },
          "metadata": {
            "tags": []
          },
          "execution_count": 78
        },
        {
          "output_type": "display_data",
          "data": {
            "image/png": "[encoded data removed]",
            "text/plain": [
              "<Figure size 5040x360 with 14 Axes>"
            ]
          },
          "metadata": {
            "tags": [],
            "needs_background": "light"
          }
        }
      ]
    },
    {
      "cell_type": "markdown",
      "metadata": {
        "id": "0dXIhzCahw9b"
      },
      "source": [
        "#**Indicador 13: advancedteacher / Nº de docentes**"
      ]
    },
    {
      "cell_type": "code",
      "metadata": {
        "colab": {
          "base_uri": "https://localhost:8080/",
          "height": 131
        },
        "id": "SLsf98cth28T",
        "outputId": "c01cc2a7-bf90-452c-b3aa-ae6288db064a"
      },
      "source": [
        "i1_13 = i1.loc[(i1['indicador13']) > 1] \n",
        "i1_13.sample(2)"
      ],
      "execution_count": null,
      "outputs": [
        {
          "output_type": "execute_result",
          "data": {
            "text/html": [
              "<div>\n",
              "<style scoped>\n",
              "    .dataframe tbody tr th:only-of-type {\n",
              "        vertical-align: middle;\n",
              "    }\n",
              "\n",
              "    .dataframe tbody tr th {\n",
              "        vertical-align: top;\n",
              "    }\n",
              "\n",
              "    .dataframe thead th {\n",
              "        text-align: right;\n",
              "    }\n",
              "</style>\n",
              "<table border=\"1\" class=\"dataframe\">\n",
              "  <thead>\n",
              "    <tr style=\"text-align: right;\">\n",
              "      <th></th>\n",
              "      <th>unidade</th>\n",
              "      <th>ano</th>\n",
              "      <th>Nfeedback</th>\n",
              "      <th>feedback</th>\n",
              "      <th>publication</th>\n",
              "      <th>teacher</th>\n",
              "      <th>editingteacher</th>\n",
              "      <th>forum</th>\n",
              "      <th>lesson</th>\n",
              "      <th>journal</th>\n",
              "      <th>poster</th>\n",
              "      <th>Nassess</th>\n",
              "      <th>Nadmin</th>\n",
              "      <th>checklist</th>\n",
              "      <th>advancedteacher</th>\n",
              "      <th>docentes</th>\n",
              "      <th>indicador1</th>\n",
              "      <th>indicador2</th>\n",
              "      <th>indicador3</th>\n",
              "      <th>indicador4</th>\n",
              "      <th>indicador5</th>\n",
              "      <th>indicador6</th>\n",
              "      <th>indicador7</th>\n",
              "      <th>indicador8</th>\n",
              "      <th>indicador9</th>\n",
              "      <th>indicador10</th>\n",
              "      <th>indicador11</th>\n",
              "      <th>indicador12</th>\n",
              "      <th>indicador13</th>\n",
              "    </tr>\n",
              "  </thead>\n",
              "  <tbody>\n",
              "    <tr>\n",
              "      <th>446</th>\n",
              "      <td>FMRP</td>\n",
              "      <td>2019</td>\n",
              "      <td>515.0</td>\n",
              "      <td>2.0</td>\n",
              "      <td>4.0</td>\n",
              "      <td>87.0</td>\n",
              "      <td>1394.0</td>\n",
              "      <td>993.0</td>\n",
              "      <td>135.0</td>\n",
              "      <td>0.0</td>\n",
              "      <td>0.0</td>\n",
              "      <td>1833.0</td>\n",
              "      <td>31.0</td>\n",
              "      <td>0.0</td>\n",
              "      <td>938.0</td>\n",
              "      <td>237.0</td>\n",
              "      <td>2.172996</td>\n",
              "      <td>0.008439</td>\n",
              "      <td>0.016878</td>\n",
              "      <td>0.367089</td>\n",
              "      <td>5.881857</td>\n",
              "      <td>4.189873</td>\n",
              "      <td>0.569620</td>\n",
              "      <td>0.0</td>\n",
              "      <td>0.0</td>\n",
              "      <td>7.734177</td>\n",
              "      <td>0.130802</td>\n",
              "      <td>0.0</td>\n",
              "      <td>3.957806</td>\n",
              "    </tr>\n",
              "    <tr>\n",
              "      <th>264</th>\n",
              "      <td>FMRP</td>\n",
              "      <td>2016</td>\n",
              "      <td>571.0</td>\n",
              "      <td>0.0</td>\n",
              "      <td>0.0</td>\n",
              "      <td>50.0</td>\n",
              "      <td>827.0</td>\n",
              "      <td>699.0</td>\n",
              "      <td>35.0</td>\n",
              "      <td>0.0</td>\n",
              "      <td>0.0</td>\n",
              "      <td>743.0</td>\n",
              "      <td>11.0</td>\n",
              "      <td>0.0</td>\n",
              "      <td>490.0</td>\n",
              "      <td>267.0</td>\n",
              "      <td>2.138577</td>\n",
              "      <td>0.000000</td>\n",
              "      <td>0.000000</td>\n",
              "      <td>0.187266</td>\n",
              "      <td>3.097378</td>\n",
              "      <td>2.617978</td>\n",
              "      <td>0.131086</td>\n",
              "      <td>0.0</td>\n",
              "      <td>0.0</td>\n",
              "      <td>2.782772</td>\n",
              "      <td>0.041199</td>\n",
              "      <td>0.0</td>\n",
              "      <td>1.835206</td>\n",
              "    </tr>\n",
              "  </tbody>\n",
              "</table>\n",
              "</div>"
            ],
            "text/plain": [
              "    unidade   ano  Nfeedback  ...  indicador11  indicador12  indicador13\n",
              "446    FMRP  2019      515.0  ...     0.130802          0.0     3.957806\n",
              "264    FMRP  2016      571.0  ...     0.041199          0.0     1.835206\n",
              "\n",
              "[2 rows x 29 columns]"
            ]
          },
          "metadata": {
            "tags": []
          },
          "execution_count": 81
        }
      ]
    },
    {
      "cell_type": "code",
      "metadata": {
        "colab": {
          "base_uri": "https://localhost:8080/",
          "height": 214
        },
        "id": "u-LVMa10h3Fb",
        "outputId": "4fdf7221-75b2-470c-ef4b-084a1d6557c8"
      },
      "source": [
        "sns.catplot(x=\"ano\", y=\"indicador13\", col=\"unidade\",\n",
        "                data=i1_13, \n",
        "                kind=\"bar\"\n",
        "                )"
      ],
      "execution_count": null,
      "outputs": [
        {
          "output_type": "execute_result",
          "data": {
            "text/plain": [
              "<seaborn.axisgrid.FacetGrid at 0x7f19138ba5d0>"
            ]
          },
          "metadata": {
            "tags": []
          },
          "execution_count": 82
        },
        {
          "output_type": "display_data",
          "data": {
            "image/png": "[encoded data removed]",
            "text/plain": [
              "<Figure size 2520x360 with 7 Axes>"
            ]
          },
          "metadata": {
            "tags": [],
            "needs_background": "light"
          }
        }
      ]
    }
  ]
}