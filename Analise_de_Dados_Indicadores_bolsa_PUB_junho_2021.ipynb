{
  "nbformat": 4,
  "nbformat_minor": 0,
  "metadata": {
    "colab": {
      "name": "Analise de Dados_Indicadores_bolsa_PUB_junho-2021.ipynb",
      "provenance": [],
      "collapsed_sections": [],
      "include_colab_link": true
    },
    "kernelspec": {
      "name": "python3",
      "display_name": "Python 3"
    },
    "language_info": {
      "name": "python"
    }
  },
  "cells": [
    {
      "cell_type": "markdown",
      "metadata": {
        "id": "view-in-github",
        "colab_type": "text"
      },
      "source": [
        "<a href=\"https://colab.research.google.com/github/gustavo-ifusp/edisc-analytics/blob/main/Analise_de_Dados_Indicadores_bolsa_PUB_junho_2021.ipynb\" target=\"_parent\"><img src=\"https://colab.research.google.com/assets/colab-badge.svg\" alt=\"Open In Colab\"/></a>"
      ]
    },
    {
      "cell_type": "markdown",
      "metadata": {
        "id": "Ms3RaPZpKaQx"
      },
      "source": [
        "# **Analises de Dados (Junho/2021) - parte 1 - E-Disciplinas USP - Bolsa PUB 2020/2021**\n",
        "Professor Orientador Dr. Ewout Ter Haar\n",
        "\n",
        "Aluno Gustavo de Andrade\n",
        "\n",
        "Este estudo é uma continuação ao projeto do Programa Unificado de Bolsa da Universidade de São Paulo de apoio pedagógico na plataforma moodle E-Disciplinas USP. \n",
        "\n",
        "Buscarei indicadores relacionados a métrica de total de matrículados.\n",
        "\n",
        "Este estudo, assim como os dados apresentados, são te interesse particular, com fim educacional, sendo proíbido sua reprodução em todas hipóteses, permitido apenas a visualização no próprio canal disponivel.\n"
      ]
    },
    {
      "cell_type": "code",
      "metadata": {
        "id": "8mIXtC8OLc08"
      },
      "source": [
        "import numpy as np\n",
        "import pandas as pd\n",
        "import matplotlib.pyplot as plt\n",
        "import seaborn as sns"
      ],
      "execution_count": null,
      "outputs": []
    },
    {
      "cell_type": "markdown",
      "metadata": {
        "id": "4GiiMpLMuO8s"
      },
      "source": [
        "#**Aqui efetuarei a leitura dos dataframes para comparação:**<br>\n",
        "São arquivos com 1 linha por \"módulo\" (= recurso ou atividade no Moodle) e a informação mais importante nas colunas é o número de \"views\" (cliques), quantos alunos eram inscritos neste ambiente e \"usuários únicos\" que clicaram neste módulo. Tem também uma coluna derivada fracstudents que é a fração dos alunos que clicaram pelo menos uma vez no módulo.\n",
        "\n",
        "  * quantos cliques (por aluno) fizeram (agregando tudo)\n",
        "  * quantos cliques por módulo\n",
        "  * quantos cliques em por exemplo \"fórum\" ou \"tarefa\" (=assign)"
      ]
    },
    {
      "cell_type": "code",
      "metadata": {
        "id": "oAj4Q3pjLhnk",
        "colab": {
          "base_uri": "https://localhost:8080/",
          "height": 142
        },
        "outputId": "776e871e-d9de-48dd-c204-852f3698c00d"
      },
      "source": [
        "url1 = \"https://raw.githubusercontent.com/atp/edisc-analytics/main/data/processed/mv-2020-FD.csv\"\n",
        "base_FD = pd.read_csv(url1)\n",
        "base_FD.sample(3)"
      ],
      "execution_count": null,
      "outputs": [
        {
          "output_type": "execute_result",
          "data": {
            "text/html": [
              "<div>\n",
              "<style scoped>\n",
              "    .dataframe tbody tr th:only-of-type {\n",
              "        vertical-align: middle;\n",
              "    }\n",
              "\n",
              "    .dataframe tbody tr th {\n",
              "        vertical-align: top;\n",
              "    }\n",
              "\n",
              "    .dataframe thead th {\n",
              "        text-align: right;\n",
              "    }\n",
              "</style>\n",
              "<table border=\"1\" class=\"dataframe\">\n",
              "  <thead>\n",
              "    <tr style=\"text-align: right;\">\n",
              "      <th></th>\n",
              "      <th>course</th>\n",
              "      <th>name</th>\n",
              "      <th>cmid</th>\n",
              "      <th>views</th>\n",
              "      <th>uniqusers</th>\n",
              "      <th>vpu</th>\n",
              "      <th>students</th>\n",
              "      <th>teachers</th>\n",
              "      <th>vps</th>\n",
              "      <th>fracstudents</th>\n",
              "    </tr>\n",
              "  </thead>\n",
              "  <tbody>\n",
              "    <tr>\n",
              "      <th>11725</th>\n",
              "      <td>338</td>\n",
              "      <td>resource</td>\n",
              "      <td>3240759</td>\n",
              "      <td>1.0</td>\n",
              "      <td>1.0</td>\n",
              "      <td>1.0000</td>\n",
              "      <td>231</td>\n",
              "      <td>5</td>\n",
              "      <td>0.004329</td>\n",
              "      <td>0.004329</td>\n",
              "    </tr>\n",
              "    <tr>\n",
              "      <th>4026</th>\n",
              "      <td>106</td>\n",
              "      <td>resource</td>\n",
              "      <td>3080492</td>\n",
              "      <td>282.0</td>\n",
              "      <td>96.0</td>\n",
              "      <td>2.9375</td>\n",
              "      <td>115</td>\n",
              "      <td>2</td>\n",
              "      <td>2.452174</td>\n",
              "      <td>0.834783</td>\n",
              "    </tr>\n",
              "    <tr>\n",
              "      <th>8182</th>\n",
              "      <td>232</td>\n",
              "      <td>resource</td>\n",
              "      <td>3171296</td>\n",
              "      <td>4.0</td>\n",
              "      <td>4.0</td>\n",
              "      <td>1.0000</td>\n",
              "      <td>17</td>\n",
              "      <td>2</td>\n",
              "      <td>0.235294</td>\n",
              "      <td>0.235294</td>\n",
              "    </tr>\n",
              "  </tbody>\n",
              "</table>\n",
              "</div>"
            ],
            "text/plain": [
              "       course      name     cmid  ...  teachers       vps  fracstudents\n",
              "11725     338  resource  3240759  ...         5  0.004329      0.004329\n",
              "4026      106  resource  3080492  ...         2  2.452174      0.834783\n",
              "8182      232  resource  3171296  ...         2  0.235294      0.235294\n",
              "\n",
              "[3 rows x 10 columns]"
            ]
          },
          "metadata": {
            "tags": []
          },
          "execution_count": 26
        }
      ]
    },
    {
      "cell_type": "code",
      "metadata": {
        "colab": {
          "base_uri": "https://localhost:8080/",
          "height": 142
        },
        "id": "_U4sAVZY48Jv",
        "outputId": "803aba5e-838a-4844-a17f-d740478816fc"
      },
      "source": [
        "url2 = \"https://raw.githubusercontent.com/atp/edisc-analytics/main/data/processed/mv-2020-FE.csv\"\n",
        "base_FE = pd.read_csv(url2)\n",
        "base_FE.sample(3)"
      ],
      "execution_count": null,
      "outputs": [
        {
          "output_type": "execute_result",
          "data": {
            "text/html": [
              "<div>\n",
              "<style scoped>\n",
              "    .dataframe tbody tr th:only-of-type {\n",
              "        vertical-align: middle;\n",
              "    }\n",
              "\n",
              "    .dataframe tbody tr th {\n",
              "        vertical-align: top;\n",
              "    }\n",
              "\n",
              "    .dataframe thead th {\n",
              "        text-align: right;\n",
              "    }\n",
              "</style>\n",
              "<table border=\"1\" class=\"dataframe\">\n",
              "  <thead>\n",
              "    <tr style=\"text-align: right;\">\n",
              "      <th></th>\n",
              "      <th>course</th>\n",
              "      <th>name</th>\n",
              "      <th>cmid</th>\n",
              "      <th>views</th>\n",
              "      <th>uniqusers</th>\n",
              "      <th>vpu</th>\n",
              "      <th>students</th>\n",
              "      <th>teachers</th>\n",
              "      <th>vps</th>\n",
              "      <th>fracstudents</th>\n",
              "    </tr>\n",
              "  </thead>\n",
              "  <tbody>\n",
              "    <tr>\n",
              "      <th>1716</th>\n",
              "      <td>48</td>\n",
              "      <td>resource</td>\n",
              "      <td>3178202</td>\n",
              "      <td>13.0</td>\n",
              "      <td>10.0</td>\n",
              "      <td>1.300000</td>\n",
              "      <td>26</td>\n",
              "      <td>1</td>\n",
              "      <td>0.500000</td>\n",
              "      <td>0.384615</td>\n",
              "    </tr>\n",
              "    <tr>\n",
              "      <th>412</th>\n",
              "      <td>7</td>\n",
              "      <td>forum</td>\n",
              "      <td>2762675</td>\n",
              "      <td>233.0</td>\n",
              "      <td>18.0</td>\n",
              "      <td>12.944444</td>\n",
              "      <td>17</td>\n",
              "      <td>5</td>\n",
              "      <td>13.705882</td>\n",
              "      <td>1.058824</td>\n",
              "    </tr>\n",
              "    <tr>\n",
              "      <th>468</th>\n",
              "      <td>8</td>\n",
              "      <td>resource</td>\n",
              "      <td>2766513</td>\n",
              "      <td>71.0</td>\n",
              "      <td>36.0</td>\n",
              "      <td>1.972222</td>\n",
              "      <td>56</td>\n",
              "      <td>1</td>\n",
              "      <td>1.267857</td>\n",
              "      <td>0.642857</td>\n",
              "    </tr>\n",
              "  </tbody>\n",
              "</table>\n",
              "</div>"
            ],
            "text/plain": [
              "      course      name     cmid  ...  teachers        vps  fracstudents\n",
              "1716      48  resource  3178202  ...         1   0.500000      0.384615\n",
              "412        7     forum  2762675  ...         5  13.705882      1.058824\n",
              "468        8  resource  2766513  ...         1   1.267857      0.642857\n",
              "\n",
              "[3 rows x 10 columns]"
            ]
          },
          "metadata": {
            "tags": []
          },
          "execution_count": 27
        }
      ]
    },
    {
      "cell_type": "code",
      "metadata": {
        "colab": {
          "base_uri": "https://localhost:8080/",
          "height": 142
        },
        "id": "3fbopM_q5Wnd",
        "outputId": "ba6ac87c-c777-4940-8296-3f24813b20bf"
      },
      "source": [
        "url3 = \"https://raw.githubusercontent.com/atp/edisc-analytics/main/data/processed/mv-2020-FEA.csv\"\n",
        "base_FEA = pd.read_csv(url3)\n",
        "base_FEA.sample(3)"
      ],
      "execution_count": null,
      "outputs": [
        {
          "output_type": "execute_result",
          "data": {
            "text/html": [
              "<div>\n",
              "<style scoped>\n",
              "    .dataframe tbody tr th:only-of-type {\n",
              "        vertical-align: middle;\n",
              "    }\n",
              "\n",
              "    .dataframe tbody tr th {\n",
              "        vertical-align: top;\n",
              "    }\n",
              "\n",
              "    .dataframe thead th {\n",
              "        text-align: right;\n",
              "    }\n",
              "</style>\n",
              "<table border=\"1\" class=\"dataframe\">\n",
              "  <thead>\n",
              "    <tr style=\"text-align: right;\">\n",
              "      <th></th>\n",
              "      <th>course</th>\n",
              "      <th>name</th>\n",
              "      <th>cmid</th>\n",
              "      <th>views</th>\n",
              "      <th>uniqusers</th>\n",
              "      <th>vpu</th>\n",
              "      <th>students</th>\n",
              "      <th>teachers</th>\n",
              "      <th>vps</th>\n",
              "      <th>fracstudents</th>\n",
              "    </tr>\n",
              "  </thead>\n",
              "  <tbody>\n",
              "    <tr>\n",
              "      <th>9222</th>\n",
              "      <td>168</td>\n",
              "      <td>resource</td>\n",
              "      <td>2916544</td>\n",
              "      <td>96.0</td>\n",
              "      <td>35.0</td>\n",
              "      <td>2.742857</td>\n",
              "      <td>44</td>\n",
              "      <td>1</td>\n",
              "      <td>2.181818</td>\n",
              "      <td>0.795455</td>\n",
              "    </tr>\n",
              "    <tr>\n",
              "      <th>24069</th>\n",
              "      <td>455</td>\n",
              "      <td>label</td>\n",
              "      <td>3211446</td>\n",
              "      <td>0.0</td>\n",
              "      <td>0.0</td>\n",
              "      <td>0.000000</td>\n",
              "      <td>128</td>\n",
              "      <td>2</td>\n",
              "      <td>0.000000</td>\n",
              "      <td>0.000000</td>\n",
              "    </tr>\n",
              "    <tr>\n",
              "      <th>11617</th>\n",
              "      <td>223</td>\n",
              "      <td>url</td>\n",
              "      <td>2900231</td>\n",
              "      <td>36.0</td>\n",
              "      <td>9.0</td>\n",
              "      <td>4.000000</td>\n",
              "      <td>15</td>\n",
              "      <td>2</td>\n",
              "      <td>2.400000</td>\n",
              "      <td>0.600000</td>\n",
              "    </tr>\n",
              "  </tbody>\n",
              "</table>\n",
              "</div>"
            ],
            "text/plain": [
              "       course      name     cmid  ...  teachers       vps  fracstudents\n",
              "9222      168  resource  2916544  ...         1  2.181818      0.795455\n",
              "24069     455     label  3211446  ...         2  0.000000      0.000000\n",
              "11617     223       url  2900231  ...         2  2.400000      0.600000\n",
              "\n",
              "[3 rows x 10 columns]"
            ]
          },
          "metadata": {
            "tags": []
          },
          "execution_count": 28
        }
      ]
    },
    {
      "cell_type": "code",
      "metadata": {
        "colab": {
          "base_uri": "https://localhost:8080/",
          "height": 142
        },
        "id": "ttsAJZbk5rZC",
        "outputId": "9186f23d-9ade-4e24-8f76-1d8a89642815"
      },
      "source": [
        "url4 = \"https://raw.githubusercontent.com/atp/edisc-analytics/main/data/processed/mv-2020-FFLCH.csv\"\n",
        "base_FFLCH = pd.read_csv(url4)\n",
        "base_FFLCH.sample(3)"
      ],
      "execution_count": null,
      "outputs": [
        {
          "output_type": "execute_result",
          "data": {
            "text/html": [
              "<div>\n",
              "<style scoped>\n",
              "    .dataframe tbody tr th:only-of-type {\n",
              "        vertical-align: middle;\n",
              "    }\n",
              "\n",
              "    .dataframe tbody tr th {\n",
              "        vertical-align: top;\n",
              "    }\n",
              "\n",
              "    .dataframe thead th {\n",
              "        text-align: right;\n",
              "    }\n",
              "</style>\n",
              "<table border=\"1\" class=\"dataframe\">\n",
              "  <thead>\n",
              "    <tr style=\"text-align: right;\">\n",
              "      <th></th>\n",
              "      <th>course</th>\n",
              "      <th>name</th>\n",
              "      <th>cmid</th>\n",
              "      <th>views</th>\n",
              "      <th>uniqusers</th>\n",
              "      <th>vpu</th>\n",
              "      <th>students</th>\n",
              "      <th>teachers</th>\n",
              "      <th>vps</th>\n",
              "      <th>fracstudents</th>\n",
              "    </tr>\n",
              "  </thead>\n",
              "  <tbody>\n",
              "    <tr>\n",
              "      <th>2815</th>\n",
              "      <td>58</td>\n",
              "      <td>forum</td>\n",
              "      <td>2815776</td>\n",
              "      <td>265.0</td>\n",
              "      <td>35.0</td>\n",
              "      <td>7.571429</td>\n",
              "      <td>38</td>\n",
              "      <td>3</td>\n",
              "      <td>6.973684</td>\n",
              "      <td>0.921053</td>\n",
              "    </tr>\n",
              "    <tr>\n",
              "      <th>24285</th>\n",
              "      <td>605</td>\n",
              "      <td>forum</td>\n",
              "      <td>2991144</td>\n",
              "      <td>40.0</td>\n",
              "      <td>19.0</td>\n",
              "      <td>2.105263</td>\n",
              "      <td>45</td>\n",
              "      <td>2</td>\n",
              "      <td>0.888889</td>\n",
              "      <td>0.422222</td>\n",
              "    </tr>\n",
              "    <tr>\n",
              "      <th>20332</th>\n",
              "      <td>475</td>\n",
              "      <td>resource</td>\n",
              "      <td>3146435</td>\n",
              "      <td>8.0</td>\n",
              "      <td>6.0</td>\n",
              "      <td>1.333333</td>\n",
              "      <td>16</td>\n",
              "      <td>1</td>\n",
              "      <td>0.500000</td>\n",
              "      <td>0.375000</td>\n",
              "    </tr>\n",
              "  </tbody>\n",
              "</table>\n",
              "</div>"
            ],
            "text/plain": [
              "       course      name     cmid  ...  teachers       vps  fracstudents\n",
              "2815       58     forum  2815776  ...         3  6.973684      0.921053\n",
              "24285     605     forum  2991144  ...         2  0.888889      0.422222\n",
              "20332     475  resource  3146435  ...         1  0.500000      0.375000\n",
              "\n",
              "[3 rows x 10 columns]"
            ]
          },
          "metadata": {
            "tags": []
          },
          "execution_count": 29
        }
      ]
    },
    {
      "cell_type": "code",
      "metadata": {
        "colab": {
          "base_uri": "https://localhost:8080/",
          "height": 142
        },
        "id": "3xvYnno_6VJ4",
        "outputId": "478ff2f1-4477-4be0-ae21-36e47a7500d3"
      },
      "source": [
        "url5 = \"https://raw.githubusercontent.com/atp/edisc-analytics/main/data/processed/mv-2020-FMRP.csv\"\n",
        "base_FMRP = pd.read_csv(url5)\n",
        "base_FMRP.sample(3)"
      ],
      "execution_count": null,
      "outputs": [
        {
          "output_type": "execute_result",
          "data": {
            "text/html": [
              "<div>\n",
              "<style scoped>\n",
              "    .dataframe tbody tr th:only-of-type {\n",
              "        vertical-align: middle;\n",
              "    }\n",
              "\n",
              "    .dataframe tbody tr th {\n",
              "        vertical-align: top;\n",
              "    }\n",
              "\n",
              "    .dataframe thead th {\n",
              "        text-align: right;\n",
              "    }\n",
              "</style>\n",
              "<table border=\"1\" class=\"dataframe\">\n",
              "  <thead>\n",
              "    <tr style=\"text-align: right;\">\n",
              "      <th></th>\n",
              "      <th>course</th>\n",
              "      <th>name</th>\n",
              "      <th>cmid</th>\n",
              "      <th>views</th>\n",
              "      <th>uniqusers</th>\n",
              "      <th>vpu</th>\n",
              "      <th>students</th>\n",
              "      <th>teachers</th>\n",
              "      <th>vps</th>\n",
              "      <th>fracstudents</th>\n",
              "    </tr>\n",
              "  </thead>\n",
              "  <tbody>\n",
              "    <tr>\n",
              "      <th>27575</th>\n",
              "      <td>563</td>\n",
              "      <td>dialogue</td>\n",
              "      <td>3021928</td>\n",
              "      <td>0.0</td>\n",
              "      <td>0.0</td>\n",
              "      <td>0.00</td>\n",
              "      <td>6</td>\n",
              "      <td>1</td>\n",
              "      <td>0.000000</td>\n",
              "      <td>0.000000</td>\n",
              "    </tr>\n",
              "    <tr>\n",
              "      <th>15571</th>\n",
              "      <td>255</td>\n",
              "      <td>resource</td>\n",
              "      <td>3174398</td>\n",
              "      <td>6.0</td>\n",
              "      <td>5.0</td>\n",
              "      <td>1.20</td>\n",
              "      <td>19</td>\n",
              "      <td>2</td>\n",
              "      <td>0.315789</td>\n",
              "      <td>0.263158</td>\n",
              "    </tr>\n",
              "    <tr>\n",
              "      <th>20057</th>\n",
              "      <td>362</td>\n",
              "      <td>resource</td>\n",
              "      <td>2919349</td>\n",
              "      <td>59.0</td>\n",
              "      <td>25.0</td>\n",
              "      <td>2.36</td>\n",
              "      <td>28</td>\n",
              "      <td>6</td>\n",
              "      <td>2.107143</td>\n",
              "      <td>0.892857</td>\n",
              "    </tr>\n",
              "  </tbody>\n",
              "</table>\n",
              "</div>"
            ],
            "text/plain": [
              "       course      name     cmid  ...  teachers       vps  fracstudents\n",
              "27575     563  dialogue  3021928  ...         1  0.000000      0.000000\n",
              "15571     255  resource  3174398  ...         2  0.315789      0.263158\n",
              "20057     362  resource  2919349  ...         6  2.107143      0.892857\n",
              "\n",
              "[3 rows x 10 columns]"
            ]
          },
          "metadata": {
            "tags": []
          },
          "execution_count": 30
        }
      ]
    },
    {
      "cell_type": "code",
      "metadata": {
        "colab": {
          "base_uri": "https://localhost:8080/",
          "height": 142
        },
        "id": "Z6uNvsAp6SEq",
        "outputId": "c90475d1-41e4-4c58-997c-e5208e5c64a1"
      },
      "source": [
        "url6 = \"https://raw.githubusercontent.com/atp/edisc-analytics/main/data/processed/mv-2020-IF.csv\"\n",
        "base_IF = pd.read_csv(url6)\n",
        "base_IF.sample(3)"
      ],
      "execution_count": null,
      "outputs": [
        {
          "output_type": "execute_result",
          "data": {
            "text/html": [
              "<div>\n",
              "<style scoped>\n",
              "    .dataframe tbody tr th:only-of-type {\n",
              "        vertical-align: middle;\n",
              "    }\n",
              "\n",
              "    .dataframe tbody tr th {\n",
              "        vertical-align: top;\n",
              "    }\n",
              "\n",
              "    .dataframe thead th {\n",
              "        text-align: right;\n",
              "    }\n",
              "</style>\n",
              "<table border=\"1\" class=\"dataframe\">\n",
              "  <thead>\n",
              "    <tr style=\"text-align: right;\">\n",
              "      <th></th>\n",
              "      <th>course</th>\n",
              "      <th>name</th>\n",
              "      <th>cmid</th>\n",
              "      <th>views</th>\n",
              "      <th>uniqusers</th>\n",
              "      <th>vpu</th>\n",
              "      <th>students</th>\n",
              "      <th>teachers</th>\n",
              "      <th>vps</th>\n",
              "      <th>fracstudents</th>\n",
              "    </tr>\n",
              "  </thead>\n",
              "  <tbody>\n",
              "    <tr>\n",
              "      <th>4249</th>\n",
              "      <td>80</td>\n",
              "      <td>quiz</td>\n",
              "      <td>3269904</td>\n",
              "      <td>37.0</td>\n",
              "      <td>1.0</td>\n",
              "      <td>37.000</td>\n",
              "      <td>84</td>\n",
              "      <td>2</td>\n",
              "      <td>0.440476</td>\n",
              "      <td>0.011905</td>\n",
              "    </tr>\n",
              "    <tr>\n",
              "      <th>7231</th>\n",
              "      <td>128</td>\n",
              "      <td>quiz</td>\n",
              "      <td>2763957</td>\n",
              "      <td>0.0</td>\n",
              "      <td>0.0</td>\n",
              "      <td>0.000</td>\n",
              "      <td>84</td>\n",
              "      <td>20</td>\n",
              "      <td>0.000000</td>\n",
              "      <td>0.000000</td>\n",
              "    </tr>\n",
              "    <tr>\n",
              "      <th>5675</th>\n",
              "      <td>97</td>\n",
              "      <td>resource</td>\n",
              "      <td>3269604</td>\n",
              "      <td>34.0</td>\n",
              "      <td>16.0</td>\n",
              "      <td>2.125</td>\n",
              "      <td>57</td>\n",
              "      <td>2</td>\n",
              "      <td>0.596491</td>\n",
              "      <td>0.280702</td>\n",
              "    </tr>\n",
              "  </tbody>\n",
              "</table>\n",
              "</div>"
            ],
            "text/plain": [
              "      course      name     cmid  ...  teachers       vps  fracstudents\n",
              "4249      80      quiz  3269904  ...         2  0.440476      0.011905\n",
              "7231     128      quiz  2763957  ...        20  0.000000      0.000000\n",
              "5675      97  resource  3269604  ...         2  0.596491      0.280702\n",
              "\n",
              "[3 rows x 10 columns]"
            ]
          },
          "metadata": {
            "tags": []
          },
          "execution_count": 31
        }
      ]
    },
    {
      "cell_type": "code",
      "metadata": {
        "colab": {
          "base_uri": "https://localhost:8080/",
          "height": 204
        },
        "id": "8FArlu6s-B_E",
        "outputId": "a9b51bc9-d30e-49d3-e6f3-2b30ce193ddc"
      },
      "source": [
        "url7 = \"https://raw.githubusercontent.com/atp/edisc-analytics/main/data/processed/matrcurso.csv\"\n",
        "matrcurso = pd.read_csv(url7)\n",
        "matrcurso['sglund'] = matrcurso['sglund'].astype('object')\n",
        "matrcurso.rename(columns={'sglund':'unidade'}, inplace = True)\n",
        "matrcurso.sample(5)"
      ],
      "execution_count": null,
      "outputs": [
        {
          "output_type": "execute_result",
          "data": {
            "text/html": [
              "<div>\n",
              "<style scoped>\n",
              "    .dataframe tbody tr th:only-of-type {\n",
              "        vertical-align: middle;\n",
              "    }\n",
              "\n",
              "    .dataframe tbody tr th {\n",
              "        vertical-align: top;\n",
              "    }\n",
              "\n",
              "    .dataframe thead th {\n",
              "        text-align: right;\n",
              "    }\n",
              "</style>\n",
              "<table border=\"1\" class=\"dataframe\">\n",
              "  <thead>\n",
              "    <tr style=\"text-align: right;\">\n",
              "      <th></th>\n",
              "      <th>ano</th>\n",
              "      <th>sem</th>\n",
              "      <th>codclg</th>\n",
              "      <th>codcur</th>\n",
              "      <th>codhab</th>\n",
              "      <th>staalu</th>\n",
              "      <th>codund</th>\n",
              "      <th>unidade</th>\n",
              "      <th>nomcur</th>\n",
              "      <th>nomhab</th>\n",
              "      <th>matr</th>\n",
              "    </tr>\n",
              "  </thead>\n",
              "  <tbody>\n",
              "    <tr>\n",
              "      <th>12696</th>\n",
              "      <td>2017</td>\n",
              "      <td>1</td>\n",
              "      <td>45</td>\n",
              "      <td>45031</td>\n",
              "      <td>1</td>\n",
              "      <td>A</td>\n",
              "      <td>45</td>\n",
              "      <td>IME</td>\n",
              "      <td>Matemática Bacharelado</td>\n",
              "      <td>Matemática Bacharelado</td>\n",
              "      <td>1</td>\n",
              "    </tr>\n",
              "    <tr>\n",
              "      <th>4587</th>\n",
              "      <td>2016</td>\n",
              "      <td>1</td>\n",
              "      <td>8</td>\n",
              "      <td>8051</td>\n",
              "      <td>3504</td>\n",
              "      <td>M</td>\n",
              "      <td>8</td>\n",
              "      <td>FFLCH</td>\n",
              "      <td>Letras</td>\n",
              "      <td>Bacharelado - Habilitação: Português e Japonês</td>\n",
              "      <td>72</td>\n",
              "    </tr>\n",
              "    <tr>\n",
              "      <th>11556</th>\n",
              "      <td>2014</td>\n",
              "      <td>1</td>\n",
              "      <td>42</td>\n",
              "      <td>42080</td>\n",
              "      <td>Sem cadastro</td>\n",
              "      <td>T</td>\n",
              "      <td>42</td>\n",
              "      <td>ICB</td>\n",
              "      <td>Bacharelado em Ciências Biomédicas</td>\n",
              "      <td>NaN</td>\n",
              "      <td>7</td>\n",
              "    </tr>\n",
              "    <tr>\n",
              "      <th>5349</th>\n",
              "      <td>2017</td>\n",
              "      <td>2</td>\n",
              "      <td>8</td>\n",
              "      <td>8051</td>\n",
              "      <td>2902</td>\n",
              "      <td>A</td>\n",
              "      <td>8</td>\n",
              "      <td>FFLCH</td>\n",
              "      <td>Letras</td>\n",
              "      <td>Bacharelado - Habilitação: Português e Italiano</td>\n",
              "      <td>4</td>\n",
              "    </tr>\n",
              "    <tr>\n",
              "      <th>16099</th>\n",
              "      <td>2018</td>\n",
              "      <td>2</td>\n",
              "      <td>75</td>\n",
              "      <td>75014</td>\n",
              "      <td>200</td>\n",
              "      <td>T</td>\n",
              "      <td>75</td>\n",
              "      <td>IQSC</td>\n",
              "      <td>Química</td>\n",
              "      <td>Bacharelado em Química - Habilitação: Fundamental</td>\n",
              "      <td>3</td>\n",
              "    </tr>\n",
              "  </tbody>\n",
              "</table>\n",
              "</div>"
            ],
            "text/plain": [
              "        ano  sem  ...                                             nomhab matr\n",
              "12696  2017    1  ...                             Matemática Bacharelado    1\n",
              "4587   2016    1  ...     Bacharelado - Habilitação: Português e Japonês   72\n",
              "11556  2014    1  ...                                                NaN    7\n",
              "5349   2017    2  ...    Bacharelado - Habilitação: Português e Italiano    4\n",
              "16099  2018    2  ...  Bacharelado em Química - Habilitação: Fundamental    3\n",
              "\n",
              "[5 rows x 11 columns]"
            ]
          },
          "metadata": {
            "tags": []
          },
          "execution_count": 35
        }
      ]
    },
    {
      "cell_type": "code",
      "metadata": {
        "colab": {
          "base_uri": "https://localhost:8080/"
        },
        "id": "ll-s1rgA4BvU",
        "outputId": "1c7cef34-01b4-4eab-d8e8-68b1e5e7b25d"
      },
      "source": [
        "base_IF.info()"
      ],
      "execution_count": null,
      "outputs": [
        {
          "output_type": "stream",
          "text": [
            "<class 'pandas.core.frame.DataFrame'>\n",
            "RangeIndex: 7535 entries, 0 to 7534\n",
            "Data columns (total 10 columns):\n",
            " #   Column        Non-Null Count  Dtype  \n",
            "---  ------        --------------  -----  \n",
            " 0   course        7535 non-null   int64  \n",
            " 1   name          7535 non-null   object \n",
            " 2   cmid          7535 non-null   int64  \n",
            " 3   views         7535 non-null   float64\n",
            " 4   uniqusers     7535 non-null   float64\n",
            " 5   vpu           7535 non-null   float64\n",
            " 6   students      7535 non-null   int64  \n",
            " 7   teachers      7535 non-null   int64  \n",
            " 8   vps           7534 non-null   float64\n",
            " 9   fracstudents  7534 non-null   float64\n",
            "dtypes: float64(5), int64(4), object(1)\n",
            "memory usage: 588.8+ KB\n"
          ],
          "name": "stdout"
        }
      ]
    },
    {
      "cell_type": "code",
      "metadata": {
        "colab": {
          "base_uri": "https://localhost:8080/"
        },
        "id": "rp1koVMu8Hxr",
        "outputId": "fa4577c7-bedc-4bc2-9226-138d6659c717"
      },
      "source": [
        "soma_views_FD = base_FD['views'].sum()\n",
        "soma_views_FE = base_FE['views'].sum()\n",
        "soma_views_FEA = base_FEA['views'].sum()\n",
        "soma_views_FFLCH = base_FFLCH['views'].sum()\n",
        "soma_views_FMRP = base_FMRP['views'].sum()\n",
        "soma_views_IF = base_IF['views'].sum()\n",
        "print(\"A soma do views do IF: \",soma_views_IF)"
      ],
      "execution_count": null,
      "outputs": [
        {
          "output_type": "stream",
          "text": [
            "A soma do views do IF:  2822222.0\n"
          ],
          "name": "stdout"
        }
      ]
    },
    {
      "cell_type": "code",
      "metadata": {
        "colab": {
          "base_uri": "https://localhost:8080/",
          "height": 467
        },
        "id": "vkrgNUew9rzf",
        "outputId": "b0b25024-694c-4b5c-f655-c0e1d1399aa4"
      },
      "source": [
        "NM = matrcurso.groupby(['unidade','ano'])['matr'].sum() #corrigido!\n",
        "print(\"Tabela coma soma de matriculados por unidades e ano\")\n",
        "Soma_matriculados = pd.DataFrame(NM)\n",
        "Soma_matriculados"
      ],
      "execution_count": null,
      "outputs": [
        {
          "output_type": "stream",
          "text": [
            "Tabela coma soma de matriculados por unidades\n"
          ],
          "name": "stdout"
        },
        {
          "output_type": "execute_result",
          "data": {
            "text/html": [
              "<div>\n",
              "<style scoped>\n",
              "    .dataframe tbody tr th:only-of-type {\n",
              "        vertical-align: middle;\n",
              "    }\n",
              "\n",
              "    .dataframe tbody tr th {\n",
              "        vertical-align: top;\n",
              "    }\n",
              "\n",
              "    .dataframe thead th {\n",
              "        text-align: right;\n",
              "    }\n",
              "</style>\n",
              "<table border=\"1\" class=\"dataframe\">\n",
              "  <thead>\n",
              "    <tr style=\"text-align: right;\">\n",
              "      <th></th>\n",
              "      <th></th>\n",
              "      <th>matr</th>\n",
              "    </tr>\n",
              "    <tr>\n",
              "      <th>unidade</th>\n",
              "      <th>ano</th>\n",
              "      <th></th>\n",
              "    </tr>\n",
              "  </thead>\n",
              "  <tbody>\n",
              "    <tr>\n",
              "      <th rowspan=\"5\" valign=\"top\">CENA</th>\n",
              "      <th>2012</th>\n",
              "      <td>9</td>\n",
              "    </tr>\n",
              "    <tr>\n",
              "      <th>2013</th>\n",
              "      <td>9</td>\n",
              "    </tr>\n",
              "    <tr>\n",
              "      <th>2014</th>\n",
              "      <td>13</td>\n",
              "    </tr>\n",
              "    <tr>\n",
              "      <th>2015</th>\n",
              "      <td>8</td>\n",
              "    </tr>\n",
              "    <tr>\n",
              "      <th>2016</th>\n",
              "      <td>7</td>\n",
              "    </tr>\n",
              "    <tr>\n",
              "      <th>...</th>\n",
              "      <th>...</th>\n",
              "      <td>...</td>\n",
              "    </tr>\n",
              "    <tr>\n",
              "      <th rowspan=\"5\" valign=\"top\">RUSP</th>\n",
              "      <th>2016</th>\n",
              "      <td>932</td>\n",
              "    </tr>\n",
              "    <tr>\n",
              "      <th>2017</th>\n",
              "      <td>664</td>\n",
              "    </tr>\n",
              "    <tr>\n",
              "      <th>2018</th>\n",
              "      <td>450</td>\n",
              "    </tr>\n",
              "    <tr>\n",
              "      <th>2019</th>\n",
              "      <td>328</td>\n",
              "    </tr>\n",
              "    <tr>\n",
              "      <th>2020</th>\n",
              "      <td>136</td>\n",
              "    </tr>\n",
              "  </tbody>\n",
              "</table>\n",
              "<p>448 rows × 1 columns</p>\n",
              "</div>"
            ],
            "text/plain": [
              "              matr\n",
              "unidade ano       \n",
              "CENA    2012     9\n",
              "        2013     9\n",
              "        2014    13\n",
              "        2015     8\n",
              "        2016     7\n",
              "...            ...\n",
              "RUSP    2016   932\n",
              "        2017   664\n",
              "        2018   450\n",
              "        2019   328\n",
              "        2020   136\n",
              "\n",
              "[448 rows x 1 columns]"
            ]
          },
          "metadata": {
            "tags": []
          },
          "execution_count": 38
        }
      ]
    },
    {
      "cell_type": "code",
      "metadata": {
        "colab": {
          "base_uri": "https://localhost:8080/"
        },
        "id": "zOarjYeiGIU8",
        "outputId": "0d7eedd8-2a9f-4233-ee3c-37af310d6fd5"
      },
      "source": [
        "alunos_FDD = Soma_matriculados.query('unidade == \"FD\" and ano == \"2020\"')\n",
        "alunos_FDD  = alunos_FDD['matr']\n",
        "alunos_FDD"
      ],
      "execution_count": null,
      "outputs": [
        {
          "output_type": "execute_result",
          "data": {
            "text/plain": [
              "unidade  ano \n",
              "FD       2020    2542\n",
              "Name: matr, dtype: int64"
            ]
          },
          "metadata": {
            "tags": []
          },
          "execution_count": 40
        }
      ]
    },
    {
      "cell_type": "code",
      "metadata": {
        "colab": {
          "base_uri": "https://localhost:8080/"
        },
        "id": "U3THIntGBQ3y",
        "outputId": "ad59cf4a-5564-43f9-b6ec-40950151d0a7"
      },
      "source": [
        "alunos_FD = Soma_matriculados.query('unidade == \"FD\" and ano == \"2020\"')['matr']\n",
        "alunos_FE = Soma_matriculados.query('unidade == \"FE\" and ano == \"2020\"')['matr']\n",
        "alunos_FEA = Soma_matriculados.query('unidade == \"FEA\" and ano == \"2020\"')['matr']\n",
        "alunos_FFLCH = Soma_matriculados.query('unidade == \"FFLCH\" and ano == \"2020\"')['matr']\n",
        "alunos_FMRP = Soma_matriculados.query('unidade == \"FMRP\" and ano == \"2020\"')['matr']\n",
        "alunos_IF = Soma_matriculados.query('unidade == \"IF\" and ano == \"2020\"')['matr']\n",
        "print(alunos_FD, alunos_FE, alunos_FEA, alunos_FFLCH, alunos_FMRP, alunos_IF)"
      ],
      "execution_count": null,
      "outputs": [
        {
          "output_type": "stream",
          "text": [
            "unidade  ano \n",
            "FD       2020    2542\n",
            "Name: matr, dtype: int64 unidade  ano \n",
            "FE       2020    1186\n",
            "Name: matr, dtype: int64 unidade  ano \n",
            "FEA      2020    3166\n",
            "Name: matr, dtype: int64 unidade  ano \n",
            "FFLCH    2020    9927\n",
            "Name: matr, dtype: int64 unidade  ano \n",
            "FMRP     2020    1435\n",
            "Name: matr, dtype: int64 unidade  ano \n",
            "IF       2020    1437\n",
            "Name: matr, dtype: int64\n"
          ],
          "name": "stdout"
        }
      ]
    },
    {
      "cell_type": "markdown",
      "metadata": {
        "id": "Nsfd4kC6GhXp"
      },
      "source": [
        "#**Cliques por alunos**"
      ]
    },
    {
      "cell_type": "code",
      "metadata": {
        "colab": {
          "base_uri": "https://localhost:8080/"
        },
        "id": "BRtXfjeDGgog",
        "outputId": "10897ca7-875a-4031-f90f-9bb28f82b2d8"
      },
      "source": [
        "clicks_por_alunos_FD = soma_views_FD/alunos_FD\n",
        "clicks_por_alunos_FE = soma_views_FE/alunos_FE\n",
        "clicks_por_alunos_FEA = soma_views_FEA/alunos_FEA\n",
        "clicks_por_alunos_FFLCH = soma_views_FFLCH/alunos_FFLCH\n",
        "clicks_por_alunos_FMRP = soma_views_FMRP/alunos_FMRP\n",
        "clicks_por_alunos_IF = soma_views_IF/alunos_IF\n",
        "print(clicks_por_alunos_FD, clicks_por_alunos_FE, clicks_por_alunos_FEA, clicks_por_alunos_FFLCH, clicks_por_alunos_FMRP, clicks_por_alunos_IF)"
      ],
      "execution_count": null,
      "outputs": [
        {
          "output_type": "stream",
          "text": [
            "unidade  ano \n",
            "FD       2020    1133.196696\n",
            "Name: matr, dtype: float64 unidade  ano \n",
            "FE       2020    387.440135\n",
            "Name: matr, dtype: float64 unidade  ano \n",
            "FEA      2020    1607.000316\n",
            "Name: matr, dtype: float64 unidade  ano \n",
            "FFLCH    2020    379.313589\n",
            "Name: matr, dtype: float64 unidade  ano \n",
            "FMRP     2020    2869.519861\n",
            "Name: matr, dtype: float64 unidade  ano \n",
            "IF       2020    1963.967989\n",
            "Name: matr, dtype: float64\n"
          ],
          "name": "stdout"
        }
      ]
    },
    {
      "cell_type": "code",
      "metadata": {
        "colab": {
          "base_uri": "https://localhost:8080/",
          "height": 266
        },
        "id": "IrARhSvTH_Pu",
        "outputId": "4c7fb8b8-ea02-4cf6-b09d-ed2c91a2dc44"
      },
      "source": [
        "clicks_por_alunos_teste= pd.concat([clicks_por_alunos_FD, clicks_por_alunos_FE, clicks_por_alunos_FEA, clicks_por_alunos_FFLCH, clicks_por_alunos_FMRP, clicks_por_alunos_IF],axis = 0)\n",
        "clicks_por_alunos_teste\n",
        "clicks_por_alunos = pd.DataFrame(clicks_por_alunos_teste)\n",
        "clicks_por_alunos.rename(columns={'matr':'Clicks/Matr'}, inplace = True)\n",
        "clicks_por_alunos"
      ],
      "execution_count": null,
      "outputs": [
        {
          "output_type": "execute_result",
          "data": {
            "text/html": [
              "<div>\n",
              "<style scoped>\n",
              "    .dataframe tbody tr th:only-of-type {\n",
              "        vertical-align: middle;\n",
              "    }\n",
              "\n",
              "    .dataframe tbody tr th {\n",
              "        vertical-align: top;\n",
              "    }\n",
              "\n",
              "    .dataframe thead th {\n",
              "        text-align: right;\n",
              "    }\n",
              "</style>\n",
              "<table border=\"1\" class=\"dataframe\">\n",
              "  <thead>\n",
              "    <tr style=\"text-align: right;\">\n",
              "      <th></th>\n",
              "      <th></th>\n",
              "      <th>Clicks/Matr</th>\n",
              "    </tr>\n",
              "    <tr>\n",
              "      <th>unidade</th>\n",
              "      <th>ano</th>\n",
              "      <th></th>\n",
              "    </tr>\n",
              "  </thead>\n",
              "  <tbody>\n",
              "    <tr>\n",
              "      <th>FD</th>\n",
              "      <th>2020</th>\n",
              "      <td>1133.196696</td>\n",
              "    </tr>\n",
              "    <tr>\n",
              "      <th>FE</th>\n",
              "      <th>2020</th>\n",
              "      <td>387.440135</td>\n",
              "    </tr>\n",
              "    <tr>\n",
              "      <th>FEA</th>\n",
              "      <th>2020</th>\n",
              "      <td>1607.000316</td>\n",
              "    </tr>\n",
              "    <tr>\n",
              "      <th>FFLCH</th>\n",
              "      <th>2020</th>\n",
              "      <td>379.313589</td>\n",
              "    </tr>\n",
              "    <tr>\n",
              "      <th>FMRP</th>\n",
              "      <th>2020</th>\n",
              "      <td>2869.519861</td>\n",
              "    </tr>\n",
              "    <tr>\n",
              "      <th>IF</th>\n",
              "      <th>2020</th>\n",
              "      <td>1963.967989</td>\n",
              "    </tr>\n",
              "  </tbody>\n",
              "</table>\n",
              "</div>"
            ],
            "text/plain": [
              "              Clicks/Matr\n",
              "unidade ano              \n",
              "FD      2020  1133.196696\n",
              "FE      2020   387.440135\n",
              "FEA     2020  1607.000316\n",
              "FFLCH   2020   379.313589\n",
              "FMRP    2020  2869.519861\n",
              "IF      2020  1963.967989"
            ]
          },
          "metadata": {
            "tags": []
          },
          "execution_count": 44
        }
      ]
    },
    {
      "cell_type": "code",
      "metadata": {
        "colab": {
          "base_uri": "https://localhost:8080/",
          "height": 373
        },
        "id": "i5htiZ5DMOea",
        "outputId": "f39a951e-1369-45e5-e0e0-9d53c8ba02a2"
      },
      "source": [
        "clicks_por_alunos.plot(kind='bar', color=\"c\")\n",
        "plt.title('Média de Clicks por matriculados', fontsize=16)\n",
        "plt.tick_params(labelsize=12)\n",
        "plt.show()"
      ],
      "execution_count": null,
      "outputs": [
        {
          "output_type": "display_data",
          "data": {
            "image/png": "[encoded data removed]",
            "text/plain": [
              "<Figure size 432x288 with 1 Axes>"
            ]
          },
          "metadata": {
            "tags": [],
            "needs_background": "light"
          }
        }
      ]
    },
    {
      "cell_type": "markdown",
      "metadata": {
        "id": "nAiessKCeRWD"
      },
      "source": [
        "#**Cliques por modulos**"
      ]
    },
    {
      "cell_type": "code",
      "metadata": {
        "colab": {
          "base_uri": "https://localhost:8080/"
        },
        "id": "ZgkPuF5tgoDW",
        "outputId": "4c80d792-87ba-49af-b34f-92608ca0594a"
      },
      "source": [
        "soma_mod_FD = base_FD.count()\n",
        "soma_mod_FE = base_FE.count()\n",
        "soma_mod_FEA = base_FEA.count()\n",
        "soma_mod_FFLCH = base_FFLCH.count()\n",
        "soma_mod_FMRP = base_FMRP.count()\n",
        "soma_mod_IF = base_IF.count()\n",
        "print(soma_mod_FD, soma_mod_FE, soma_mod_FEA, soma_mod_FFLCH, soma_mod_FMRP, soma_mod_IF )"
      ],
      "execution_count": null,
      "outputs": [
        {
          "output_type": "stream",
          "text": [
            "course          17438\n",
            "name            17438\n",
            "cmid            17438\n",
            "views           17438\n",
            "uniqusers       17438\n",
            "vpu             17438\n",
            "students        17438\n",
            "teachers        17438\n",
            "vps             17403\n",
            "fracstudents    17403\n",
            "dtype: int64 course          4852\n",
            "name            4852\n",
            "cmid            4852\n",
            "views           4852\n",
            "uniqusers       4852\n",
            "vpu             4852\n",
            "students        4852\n",
            "teachers        4852\n",
            "vps             4849\n",
            "fracstudents    4849\n",
            "dtype: int64 course          26454\n",
            "name            26454\n",
            "cmid            26454\n",
            "views           26454\n",
            "uniqusers       26454\n",
            "vpu             26454\n",
            "students        26454\n",
            "teachers        26454\n",
            "vps             26444\n",
            "fracstudents    26444\n",
            "dtype: int64 course          33023\n",
            "name            33023\n",
            "cmid            33023\n",
            "views           33023\n",
            "uniqusers       33023\n",
            "vpu             33023\n",
            "students        33023\n",
            "teachers        33023\n",
            "vps             32875\n",
            "fracstudents    32875\n",
            "dtype: int64 course          31015\n",
            "name            31015\n",
            "cmid            31015\n",
            "views           31015\n",
            "uniqusers       31015\n",
            "vpu             31015\n",
            "students        31015\n",
            "teachers        31015\n",
            "vps             29514\n",
            "fracstudents    29514\n",
            "dtype: int64 course          7535\n",
            "name            7535\n",
            "cmid            7535\n",
            "views           7535\n",
            "uniqusers       7535\n",
            "vpu             7535\n",
            "students        7535\n",
            "teachers        7535\n",
            "vps             7534\n",
            "fracstudents    7534\n",
            "dtype: int64\n"
          ],
          "name": "stdout"
        }
      ]
    },
    {
      "cell_type": "code",
      "metadata": {
        "colab": {
          "base_uri": "https://localhost:8080/"
        },
        "id": "Xyhniu5SheqU",
        "outputId": "86fd1aaa-e61d-4756-b1af-9b98fc0dafaf"
      },
      "source": [
        "base_FD.shape"
      ],
      "execution_count": null,
      "outputs": [
        {
          "output_type": "execute_result",
          "data": {
            "text/plain": [
              "(17438, 10)"
            ]
          },
          "metadata": {
            "tags": []
          },
          "execution_count": 47
        }
      ]
    },
    {
      "cell_type": "code",
      "metadata": {
        "colab": {
          "base_uri": "https://localhost:8080/"
        },
        "id": "O56VCtOHiDiI",
        "outputId": "b4c377fd-408d-498b-fad3-bce459888e41"
      },
      "source": [
        "soma_mod_FD = base_FD['name'].count() #verificado no info, leitura correta!\n",
        "soma_mod_FE = base_FE['name'].count()\n",
        "soma_mod_FEA = base_FEA['name'].count()\n",
        "soma_mod_FFLCH = base_FFLCH['name'].count()\n",
        "soma_mod_FMRP = base_FMRP['name'].count()\n",
        "soma_mod_IF = base_IF['name'].count()\n",
        "print(soma_mod_FD, soma_mod_FE, soma_mod_FEA, soma_mod_FFLCH, soma_mod_FMRP, soma_mod_IF )"
      ],
      "execution_count": null,
      "outputs": [
        {
          "output_type": "stream",
          "text": [
            "17438 4852 26454 33023 31015 7535\n"
          ],
          "name": "stdout"
        }
      ]
    },
    {
      "cell_type": "code",
      "metadata": {
        "colab": {
          "base_uri": "https://localhost:8080/"
        },
        "id": "WlaES4n1jVW8",
        "outputId": "022bbe73-764e-4862-b92e-fc1216411f87"
      },
      "source": [
        "clicks_por_mod_FD = soma_views_FD/soma_mod_FD\n",
        "clicks_por_mod_FE = soma_views_FE/soma_mod_FE\n",
        "clicks_por_mod_FEA = soma_views_FEA/soma_mod_FEA\n",
        "clicks_por_mod_FFLCH = soma_views_FFLCH/soma_mod_FFLCH\n",
        "clicks_por_mod_FMRP = soma_views_FMRP/soma_mod_FMRP\n",
        "clicks_por_mod_IF = soma_views_IF/soma_mod_IF\n",
        "print(clicks_por_mod_FD, clicks_por_mod_FE, clicks_por_mod_FEA, clicks_por_mod_FFLCH, clicks_por_mod_FMRP, clicks_por_mod_IF)"
      ],
      "execution_count": null,
      "outputs": [
        {
          "output_type": "stream",
          "text": [
            "165.19015942195205 94.7040395713108 192.3249036062599 114.02495230596857 132.76675802031275 374.54837425348376\n"
          ],
          "name": "stdout"
        }
      ]
    },
    {
      "cell_type": "code",
      "metadata": {
        "colab": {
          "base_uri": "https://localhost:8080/",
          "height": 235
        },
        "id": "SG1yYZadrSpt",
        "outputId": "184b1863-5f91-41fc-f8af-eedd93729fcf"
      },
      "source": [
        "l_clicks_mod = [clicks_por_mod_FD, clicks_por_mod_FE, clicks_por_mod_FEA, clicks_por_mod_FFLCH, clicks_por_mod_FMRP, clicks_por_mod_IF]\n",
        "list_clicks_mod =  {'Clicks/Modulo': l_clicks_mod}\n",
        "clicks_por_mod_result = pd.DataFrame(data=list_clicks_mod)\n",
        "clicks_por_mod_result"
      ],
      "execution_count": null,
      "outputs": [
        {
          "output_type": "execute_result",
          "data": {
            "text/html": [
              "<div>\n",
              "<style scoped>\n",
              "    .dataframe tbody tr th:only-of-type {\n",
              "        vertical-align: middle;\n",
              "    }\n",
              "\n",
              "    .dataframe tbody tr th {\n",
              "        vertical-align: top;\n",
              "    }\n",
              "\n",
              "    .dataframe thead th {\n",
              "        text-align: right;\n",
              "    }\n",
              "</style>\n",
              "<table border=\"1\" class=\"dataframe\">\n",
              "  <thead>\n",
              "    <tr style=\"text-align: right;\">\n",
              "      <th></th>\n",
              "      <th>Clicks/Modulo</th>\n",
              "    </tr>\n",
              "  </thead>\n",
              "  <tbody>\n",
              "    <tr>\n",
              "      <th>0</th>\n",
              "      <td>165.190159</td>\n",
              "    </tr>\n",
              "    <tr>\n",
              "      <th>1</th>\n",
              "      <td>94.704040</td>\n",
              "    </tr>\n",
              "    <tr>\n",
              "      <th>2</th>\n",
              "      <td>192.324904</td>\n",
              "    </tr>\n",
              "    <tr>\n",
              "      <th>3</th>\n",
              "      <td>114.024952</td>\n",
              "    </tr>\n",
              "    <tr>\n",
              "      <th>4</th>\n",
              "      <td>132.766758</td>\n",
              "    </tr>\n",
              "    <tr>\n",
              "      <th>5</th>\n",
              "      <td>374.548374</td>\n",
              "    </tr>\n",
              "  </tbody>\n",
              "</table>\n",
              "</div>"
            ],
            "text/plain": [
              "   Clicks/Modulo\n",
              "0     165.190159\n",
              "1      94.704040\n",
              "2     192.324904\n",
              "3     114.024952\n",
              "4     132.766758\n",
              "5     374.548374"
            ]
          },
          "metadata": {
            "tags": []
          },
          "execution_count": 50
        }
      ]
    },
    {
      "cell_type": "code",
      "metadata": {
        "colab": {
          "base_uri": "https://localhost:8080/",
          "height": 266
        },
        "id": "agkncPCyjVZ8",
        "outputId": "832e2f9f-a0e9-4476-94e6-e918dc989ede"
      },
      "source": [
        "clicks_por_mod = clicks_por_alunos\n",
        "clicks_por_mod.rename(columns={'Clicks/Matr':'Clicks/Modulo'}, inplace = True)\n",
        "clicks_por_mod['Clicks/Modulo'] = clicks_por_mod_result['Clicks/Modulo'].values\n",
        "clicks_por_mod"
      ],
      "execution_count": null,
      "outputs": [
        {
          "output_type": "execute_result",
          "data": {
            "text/html": [
              "<div>\n",
              "<style scoped>\n",
              "    .dataframe tbody tr th:only-of-type {\n",
              "        vertical-align: middle;\n",
              "    }\n",
              "\n",
              "    .dataframe tbody tr th {\n",
              "        vertical-align: top;\n",
              "    }\n",
              "\n",
              "    .dataframe thead th {\n",
              "        text-align: right;\n",
              "    }\n",
              "</style>\n",
              "<table border=\"1\" class=\"dataframe\">\n",
              "  <thead>\n",
              "    <tr style=\"text-align: right;\">\n",
              "      <th></th>\n",
              "      <th></th>\n",
              "      <th>Clicks/Modulo</th>\n",
              "    </tr>\n",
              "    <tr>\n",
              "      <th>unidade</th>\n",
              "      <th>ano</th>\n",
              "      <th></th>\n",
              "    </tr>\n",
              "  </thead>\n",
              "  <tbody>\n",
              "    <tr>\n",
              "      <th>FD</th>\n",
              "      <th>2020</th>\n",
              "      <td>165.190159</td>\n",
              "    </tr>\n",
              "    <tr>\n",
              "      <th>FE</th>\n",
              "      <th>2020</th>\n",
              "      <td>94.704040</td>\n",
              "    </tr>\n",
              "    <tr>\n",
              "      <th>FEA</th>\n",
              "      <th>2020</th>\n",
              "      <td>192.324904</td>\n",
              "    </tr>\n",
              "    <tr>\n",
              "      <th>FFLCH</th>\n",
              "      <th>2020</th>\n",
              "      <td>114.024952</td>\n",
              "    </tr>\n",
              "    <tr>\n",
              "      <th>FMRP</th>\n",
              "      <th>2020</th>\n",
              "      <td>132.766758</td>\n",
              "    </tr>\n",
              "    <tr>\n",
              "      <th>IF</th>\n",
              "      <th>2020</th>\n",
              "      <td>374.548374</td>\n",
              "    </tr>\n",
              "  </tbody>\n",
              "</table>\n",
              "</div>"
            ],
            "text/plain": [
              "              Clicks/Modulo\n",
              "unidade ano                \n",
              "FD      2020     165.190159\n",
              "FE      2020      94.704040\n",
              "FEA     2020     192.324904\n",
              "FFLCH   2020     114.024952\n",
              "FMRP    2020     132.766758\n",
              "IF      2020     374.548374"
            ]
          },
          "metadata": {
            "tags": []
          },
          "execution_count": 51
        }
      ]
    },
    {
      "cell_type": "code",
      "metadata": {
        "id": "quuGwVEBb-qR"
      },
      "source": [
        "clicks_por_mod.set_index"
      ],
      "execution_count": null,
      "outputs": []
    },
    {
      "cell_type": "code",
      "metadata": {
        "colab": {
          "base_uri": "https://localhost:8080/",
          "height": 373
        },
        "id": "OLzol1PauwW4",
        "outputId": "54914a81-7448-4e5b-ab7d-b68d02e1166b"
      },
      "source": [
        "clicks_por_mod.plot(kind='bar', color=\"c\")\n",
        "plt.title('Média de Clicks por módulos', fontsize=16)\n",
        "plt.tick_params(labelsize=12)\n",
        "plt.show()"
      ],
      "execution_count": null,
      "outputs": [
        {
          "output_type": "display_data",
          "data": {
            "image/png": "[encoded data removed]",
            "text/plain": [
              "<Figure size 432x288 with 1 Axes>"
            ]
          },
          "metadata": {
            "tags": [],
            "needs_background": "light"
          }
        }
      ]
    },
    {
      "cell_type": "markdown",
      "metadata": {
        "id": "dDSkYr18ttED"
      },
      "source": [
        "A interpretação destes gráficos são corretas, em que podemos ver uma média de clicks para cada aluno de alguma disciplina do instituto correspondente, porém, alunos do instituto A que possui alguma matéria do instituto B soma no total de clicks do instituto A e não soma no total de matriculado do instituto A, dando um certo problema logico ao não subitrair esses alunos de \"fora\" do instituto no numero total de clicks. Com isso, a solução proposta é trabalhar com o numero de docentes e não de matriculados, calculando o numero de clicks total dos ambientes de cada instituto por docente, uma média que mostrará essa densidade de clicks e a comparação entre os institutos será mais precisa. Quanto ao clicks por modulo, esta correto. "
      ]
    }
  ]
}