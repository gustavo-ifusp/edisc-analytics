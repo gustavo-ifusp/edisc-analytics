{
  "nbformat": 4,
  "nbformat_minor": 0,
  "metadata": {
    "colab": {
      "name": "Analise de Dados_Indicadores_bolsa_PUB_junho-2021.ipynb",
      "provenance": [],
      "collapsed_sections": [],
      "toc_visible": true,
      "include_colab_link": true
    },
    "kernelspec": {
      "name": "python3",
      "display_name": "Python 3"
    },
    "language_info": {
      "name": "python"
    }
  },
  "cells": [
    {
      "cell_type": "markdown",
      "metadata": {
        "id": "view-in-github",
        "colab_type": "text"
      },
      "source": [
        "<a href=\"https://colab.research.google.com/github/gustavo-ifusp/edisc-analytics/blob/main/Analise_de_Dados_Indicadores_bolsa_PUB_junho_2021.ipynb\" target=\"_parent\"><img src=\"https://colab.research.google.com/assets/colab-badge.svg\" alt=\"Open In Colab\"/></a>"
      ]
    },
    {
      "cell_type": "markdown",
      "metadata": {
        "id": "Ms3RaPZpKaQx"
      },
      "source": [
        "# **Analises de Dados (Junho/2021) - parte 1 - E-Disciplinas USP - Bolsa PUB 2020/2021**\n",
        "Professor Orientador Dr. Ewout Ter Haar\n",
        "\n",
        "Aluno Gustavo de Andrade\n",
        "\n",
        "Este estudo é uma continuação ao projeto do Programa Unificado de Bolsa da Universidade de São Paulo de apoio pedagógico na plataforma moodle E-Disciplinas USP. \n",
        "\n",
        "Buscarei indicadores relacionados a métrica de total de matrículados.\n",
        "\n",
        "Este estudo, assim como os dados apresentados, são te interesse particular, com fim educacional, sendo proíbido sua reprodução em todas hipóteses, permitido apenas a visualização no próprio canal disponivel.\n"
      ]
    },
    {
      "cell_type": "code",
      "metadata": {
        "id": "8mIXtC8OLc08"
      },
      "source": [
        "import numpy as np\n",
        "import pandas as pd\n",
        "import matplotlib.pyplot as plt\n",
        "import seaborn as sns"
      ],
      "execution_count": 10,
      "outputs": []
    },
    {
      "cell_type": "markdown",
      "metadata": {
        "id": "4GiiMpLMuO8s"
      },
      "source": [
        "#**Aqui efetuarei a leitura dos dataframes para comparação:**<br>\n",
        "São arquivos com 1 linha por \"módulo\" (= recurso ou atividade no Moodle) e a informação mais importante nas colunas é o número de \"views\" (cliques), quantos alunos eram inscritos neste ambiente e \"usuários únicos\" que clicaram neste módulo. Tem também uma coluna derivada fracstudents que é a fração dos alunos que clicaram pelo menos uma vez no módulo.\n",
        "\n",
        "Com isso o Gustavo pode começar tentar comparar e.g. o IF e o FD, em por exemplo:\n",
        "  * quantos cliques (por aluno) fizeram (agregando tudo)\n",
        "  * quantos cliques por módulo\n",
        "  * quantos cliques em por exemplo \"fórum\" ou \"tarefa\" (=assign)"
      ]
    },
    {
      "cell_type": "code",
      "metadata": {
        "id": "oAj4Q3pjLhnk",
        "colab": {
          "base_uri": "https://localhost:8080/",
          "height": 142
        },
        "outputId": "fe3393e5-18c8-4569-e688-769cc1ebdd4b"
      },
      "source": [
        "url1 = \"https://raw.githubusercontent.com/atp/edisc-analytics/main/data/processed/mv-2020-FD.csv\"\n",
        "base_FD = pd.read_csv(url1)\n",
        "base_FD.sample(3)"
      ],
      "execution_count": 11,
      "outputs": [
        {
          "output_type": "execute_result",
          "data": {
            "text/html": [
              "<div>\n",
              "<style scoped>\n",
              "    .dataframe tbody tr th:only-of-type {\n",
              "        vertical-align: middle;\n",
              "    }\n",
              "\n",
              "    .dataframe tbody tr th {\n",
              "        vertical-align: top;\n",
              "    }\n",
              "\n",
              "    .dataframe thead th {\n",
              "        text-align: right;\n",
              "    }\n",
              "</style>\n",
              "<table border=\"1\" class=\"dataframe\">\n",
              "  <thead>\n",
              "    <tr style=\"text-align: right;\">\n",
              "      <th></th>\n",
              "      <th>course</th>\n",
              "      <th>name</th>\n",
              "      <th>cmid</th>\n",
              "      <th>views</th>\n",
              "      <th>uniqusers</th>\n",
              "      <th>vpu</th>\n",
              "      <th>students</th>\n",
              "      <th>teachers</th>\n",
              "      <th>vps</th>\n",
              "      <th>fracstudents</th>\n",
              "    </tr>\n",
              "  </thead>\n",
              "  <tbody>\n",
              "    <tr>\n",
              "      <th>6149</th>\n",
              "      <td>158</td>\n",
              "      <td>label</td>\n",
              "      <td>2856179</td>\n",
              "      <td>0.0</td>\n",
              "      <td>0.0</td>\n",
              "      <td>0.000000</td>\n",
              "      <td>253</td>\n",
              "      <td>37</td>\n",
              "      <td>0.000000</td>\n",
              "      <td>0.000000</td>\n",
              "    </tr>\n",
              "    <tr>\n",
              "      <th>1024</th>\n",
              "      <td>30</td>\n",
              "      <td>assign</td>\n",
              "      <td>3248927</td>\n",
              "      <td>94.0</td>\n",
              "      <td>11.0</td>\n",
              "      <td>8.545455</td>\n",
              "      <td>105</td>\n",
              "      <td>3</td>\n",
              "      <td>0.895238</td>\n",
              "      <td>0.104762</td>\n",
              "    </tr>\n",
              "    <tr>\n",
              "      <th>7981</th>\n",
              "      <td>222</td>\n",
              "      <td>resource</td>\n",
              "      <td>3274936</td>\n",
              "      <td>12.0</td>\n",
              "      <td>8.0</td>\n",
              "      <td>1.500000</td>\n",
              "      <td>21</td>\n",
              "      <td>1</td>\n",
              "      <td>0.571429</td>\n",
              "      <td>0.380952</td>\n",
              "    </tr>\n",
              "  </tbody>\n",
              "</table>\n",
              "</div>"
            ],
            "text/plain": [
              "      course      name     cmid  ...  teachers       vps  fracstudents\n",
              "6149     158     label  2856179  ...        37  0.000000      0.000000\n",
              "1024      30    assign  3248927  ...         3  0.895238      0.104762\n",
              "7981     222  resource  3274936  ...         1  0.571429      0.380952\n",
              "\n",
              "[3 rows x 10 columns]"
            ]
          },
          "metadata": {
            "tags": []
          },
          "execution_count": 11
        }
      ]
    },
    {
      "cell_type": "code",
      "metadata": {
        "colab": {
          "base_uri": "https://localhost:8080/",
          "height": 142
        },
        "id": "_U4sAVZY48Jv",
        "outputId": "b50e2674-ebf8-4387-c1ba-0132e5e05ff7"
      },
      "source": [
        "url2 = \"https://raw.githubusercontent.com/atp/edisc-analytics/main/data/processed/mv-2020-FE.csv\"\n",
        "base_FE = pd.read_csv(url2)\n",
        "base_FE.sample(3)"
      ],
      "execution_count": 12,
      "outputs": [
        {
          "output_type": "execute_result",
          "data": {
            "text/html": [
              "<div>\n",
              "<style scoped>\n",
              "    .dataframe tbody tr th:only-of-type {\n",
              "        vertical-align: middle;\n",
              "    }\n",
              "\n",
              "    .dataframe tbody tr th {\n",
              "        vertical-align: top;\n",
              "    }\n",
              "\n",
              "    .dataframe thead th {\n",
              "        text-align: right;\n",
              "    }\n",
              "</style>\n",
              "<table border=\"1\" class=\"dataframe\">\n",
              "  <thead>\n",
              "    <tr style=\"text-align: right;\">\n",
              "      <th></th>\n",
              "      <th>course</th>\n",
              "      <th>name</th>\n",
              "      <th>cmid</th>\n",
              "      <th>views</th>\n",
              "      <th>uniqusers</th>\n",
              "      <th>vpu</th>\n",
              "      <th>students</th>\n",
              "      <th>teachers</th>\n",
              "      <th>vps</th>\n",
              "      <th>fracstudents</th>\n",
              "    </tr>\n",
              "  </thead>\n",
              "  <tbody>\n",
              "    <tr>\n",
              "      <th>289</th>\n",
              "      <td>4</td>\n",
              "      <td>resource</td>\n",
              "      <td>2810836</td>\n",
              "      <td>146.0</td>\n",
              "      <td>58.0</td>\n",
              "      <td>2.517241</td>\n",
              "      <td>71</td>\n",
              "      <td>3</td>\n",
              "      <td>2.056338</td>\n",
              "      <td>0.816901</td>\n",
              "    </tr>\n",
              "    <tr>\n",
              "      <th>4371</th>\n",
              "      <td>143</td>\n",
              "      <td>folder</td>\n",
              "      <td>3225510</td>\n",
              "      <td>16.0</td>\n",
              "      <td>10.0</td>\n",
              "      <td>1.600000</td>\n",
              "      <td>79</td>\n",
              "      <td>3</td>\n",
              "      <td>0.202532</td>\n",
              "      <td>0.126582</td>\n",
              "    </tr>\n",
              "    <tr>\n",
              "      <th>3902</th>\n",
              "      <td>132</td>\n",
              "      <td>url</td>\n",
              "      <td>3007112</td>\n",
              "      <td>10.0</td>\n",
              "      <td>7.0</td>\n",
              "      <td>1.428571</td>\n",
              "      <td>76</td>\n",
              "      <td>1</td>\n",
              "      <td>0.131579</td>\n",
              "      <td>0.092105</td>\n",
              "    </tr>\n",
              "  </tbody>\n",
              "</table>\n",
              "</div>"
            ],
            "text/plain": [
              "      course      name     cmid  ...  teachers       vps  fracstudents\n",
              "289        4  resource  2810836  ...         3  2.056338      0.816901\n",
              "4371     143    folder  3225510  ...         3  0.202532      0.126582\n",
              "3902     132       url  3007112  ...         1  0.131579      0.092105\n",
              "\n",
              "[3 rows x 10 columns]"
            ]
          },
          "metadata": {
            "tags": []
          },
          "execution_count": 12
        }
      ]
    },
    {
      "cell_type": "code",
      "metadata": {
        "colab": {
          "base_uri": "https://localhost:8080/",
          "height": 142
        },
        "id": "3fbopM_q5Wnd",
        "outputId": "46d95441-884f-4a84-9709-e25ccedc6914"
      },
      "source": [
        "url3 = \"https://raw.githubusercontent.com/atp/edisc-analytics/main/data/processed/mv-2020-FEA.csv\"\n",
        "base_FEA = pd.read_csv(url3)\n",
        "base_FEA.sample(3)"
      ],
      "execution_count": 13,
      "outputs": [
        {
          "output_type": "execute_result",
          "data": {
            "text/html": [
              "<div>\n",
              "<style scoped>\n",
              "    .dataframe tbody tr th:only-of-type {\n",
              "        vertical-align: middle;\n",
              "    }\n",
              "\n",
              "    .dataframe tbody tr th {\n",
              "        vertical-align: top;\n",
              "    }\n",
              "\n",
              "    .dataframe thead th {\n",
              "        text-align: right;\n",
              "    }\n",
              "</style>\n",
              "<table border=\"1\" class=\"dataframe\">\n",
              "  <thead>\n",
              "    <tr style=\"text-align: right;\">\n",
              "      <th></th>\n",
              "      <th>course</th>\n",
              "      <th>name</th>\n",
              "      <th>cmid</th>\n",
              "      <th>views</th>\n",
              "      <th>uniqusers</th>\n",
              "      <th>vpu</th>\n",
              "      <th>students</th>\n",
              "      <th>teachers</th>\n",
              "      <th>vps</th>\n",
              "      <th>fracstudents</th>\n",
              "    </tr>\n",
              "  </thead>\n",
              "  <tbody>\n",
              "    <tr>\n",
              "      <th>22884</th>\n",
              "      <td>431</td>\n",
              "      <td>resource</td>\n",
              "      <td>3259585</td>\n",
              "      <td>3.0</td>\n",
              "      <td>2.0</td>\n",
              "      <td>1.500000</td>\n",
              "      <td>70</td>\n",
              "      <td>1</td>\n",
              "      <td>0.042857</td>\n",
              "      <td>0.028571</td>\n",
              "    </tr>\n",
              "    <tr>\n",
              "      <th>8971</th>\n",
              "      <td>164</td>\n",
              "      <td>resource</td>\n",
              "      <td>2825552</td>\n",
              "      <td>326.0</td>\n",
              "      <td>94.0</td>\n",
              "      <td>3.468085</td>\n",
              "      <td>120</td>\n",
              "      <td>3</td>\n",
              "      <td>2.716667</td>\n",
              "      <td>0.783333</td>\n",
              "    </tr>\n",
              "    <tr>\n",
              "      <th>13056</th>\n",
              "      <td>258</td>\n",
              "      <td>resource</td>\n",
              "      <td>3106821</td>\n",
              "      <td>63.0</td>\n",
              "      <td>31.0</td>\n",
              "      <td>2.032258</td>\n",
              "      <td>120</td>\n",
              "      <td>2</td>\n",
              "      <td>0.525000</td>\n",
              "      <td>0.258333</td>\n",
              "    </tr>\n",
              "  </tbody>\n",
              "</table>\n",
              "</div>"
            ],
            "text/plain": [
              "       course      name     cmid  ...  teachers       vps  fracstudents\n",
              "22884     431  resource  3259585  ...         1  0.042857      0.028571\n",
              "8971      164  resource  2825552  ...         3  2.716667      0.783333\n",
              "13056     258  resource  3106821  ...         2  0.525000      0.258333\n",
              "\n",
              "[3 rows x 10 columns]"
            ]
          },
          "metadata": {
            "tags": []
          },
          "execution_count": 13
        }
      ]
    },
    {
      "cell_type": "code",
      "metadata": {
        "colab": {
          "base_uri": "https://localhost:8080/",
          "height": 142
        },
        "id": "ttsAJZbk5rZC",
        "outputId": "89d14684-54be-4d50-f55c-15016d32355b"
      },
      "source": [
        "url4 = \"https://raw.githubusercontent.com/atp/edisc-analytics/main/data/processed/mv-2020-FFLCH.csv\"\n",
        "base_FFLCH = pd.read_csv(url4)\n",
        "base_FFLCH.sample(3)"
      ],
      "execution_count": 14,
      "outputs": [
        {
          "output_type": "execute_result",
          "data": {
            "text/html": [
              "<div>\n",
              "<style scoped>\n",
              "    .dataframe tbody tr th:only-of-type {\n",
              "        vertical-align: middle;\n",
              "    }\n",
              "\n",
              "    .dataframe tbody tr th {\n",
              "        vertical-align: top;\n",
              "    }\n",
              "\n",
              "    .dataframe thead th {\n",
              "        text-align: right;\n",
              "    }\n",
              "</style>\n",
              "<table border=\"1\" class=\"dataframe\">\n",
              "  <thead>\n",
              "    <tr style=\"text-align: right;\">\n",
              "      <th></th>\n",
              "      <th>course</th>\n",
              "      <th>name</th>\n",
              "      <th>cmid</th>\n",
              "      <th>views</th>\n",
              "      <th>uniqusers</th>\n",
              "      <th>vpu</th>\n",
              "      <th>students</th>\n",
              "      <th>teachers</th>\n",
              "      <th>vps</th>\n",
              "      <th>fracstudents</th>\n",
              "    </tr>\n",
              "  </thead>\n",
              "  <tbody>\n",
              "    <tr>\n",
              "      <th>1040</th>\n",
              "      <td>22</td>\n",
              "      <td>resource</td>\n",
              "      <td>2972010</td>\n",
              "      <td>21.0</td>\n",
              "      <td>19.0</td>\n",
              "      <td>1.105263</td>\n",
              "      <td>122</td>\n",
              "      <td>1</td>\n",
              "      <td>0.172131</td>\n",
              "      <td>0.155738</td>\n",
              "    </tr>\n",
              "    <tr>\n",
              "      <th>3551</th>\n",
              "      <td>93</td>\n",
              "      <td>resource</td>\n",
              "      <td>2984865</td>\n",
              "      <td>92.0</td>\n",
              "      <td>75.0</td>\n",
              "      <td>1.226667</td>\n",
              "      <td>307</td>\n",
              "      <td>2</td>\n",
              "      <td>0.299674</td>\n",
              "      <td>0.244300</td>\n",
              "    </tr>\n",
              "    <tr>\n",
              "      <th>15581</th>\n",
              "      <td>348</td>\n",
              "      <td>url</td>\n",
              "      <td>3244583</td>\n",
              "      <td>7.0</td>\n",
              "      <td>6.0</td>\n",
              "      <td>1.166667</td>\n",
              "      <td>18</td>\n",
              "      <td>5</td>\n",
              "      <td>0.388889</td>\n",
              "      <td>0.333333</td>\n",
              "    </tr>\n",
              "  </tbody>\n",
              "</table>\n",
              "</div>"
            ],
            "text/plain": [
              "       course      name     cmid  ...  teachers       vps  fracstudents\n",
              "1040       22  resource  2972010  ...         1  0.172131      0.155738\n",
              "3551       93  resource  2984865  ...         2  0.299674      0.244300\n",
              "15581     348       url  3244583  ...         5  0.388889      0.333333\n",
              "\n",
              "[3 rows x 10 columns]"
            ]
          },
          "metadata": {
            "tags": []
          },
          "execution_count": 14
        }
      ]
    },
    {
      "cell_type": "code",
      "metadata": {
        "colab": {
          "base_uri": "https://localhost:8080/",
          "height": 142
        },
        "id": "3xvYnno_6VJ4",
        "outputId": "24f4cd3c-801e-4b98-8914-a2016aecb08e"
      },
      "source": [
        "url5 = \"https://raw.githubusercontent.com/atp/edisc-analytics/main/data/processed/mv-2020-FMRP.csv\"\n",
        "base_FMRP = pd.read_csv(url5)\n",
        "base_FMRP.sample(3)"
      ],
      "execution_count": 15,
      "outputs": [
        {
          "output_type": "execute_result",
          "data": {
            "text/html": [
              "<div>\n",
              "<style scoped>\n",
              "    .dataframe tbody tr th:only-of-type {\n",
              "        vertical-align: middle;\n",
              "    }\n",
              "\n",
              "    .dataframe tbody tr th {\n",
              "        vertical-align: top;\n",
              "    }\n",
              "\n",
              "    .dataframe thead th {\n",
              "        text-align: right;\n",
              "    }\n",
              "</style>\n",
              "<table border=\"1\" class=\"dataframe\">\n",
              "  <thead>\n",
              "    <tr style=\"text-align: right;\">\n",
              "      <th></th>\n",
              "      <th>course</th>\n",
              "      <th>name</th>\n",
              "      <th>cmid</th>\n",
              "      <th>views</th>\n",
              "      <th>uniqusers</th>\n",
              "      <th>vpu</th>\n",
              "      <th>students</th>\n",
              "      <th>teachers</th>\n",
              "      <th>vps</th>\n",
              "      <th>fracstudents</th>\n",
              "    </tr>\n",
              "  </thead>\n",
              "  <tbody>\n",
              "    <tr>\n",
              "      <th>15031</th>\n",
              "      <td>243</td>\n",
              "      <td>quiz</td>\n",
              "      <td>3231954</td>\n",
              "      <td>299.0</td>\n",
              "      <td>14.0</td>\n",
              "      <td>21.357143</td>\n",
              "      <td>110</td>\n",
              "      <td>18</td>\n",
              "      <td>2.718182</td>\n",
              "      <td>0.127273</td>\n",
              "    </tr>\n",
              "    <tr>\n",
              "      <th>11035</th>\n",
              "      <td>211</td>\n",
              "      <td>quiz</td>\n",
              "      <td>3245749</td>\n",
              "      <td>1232.0</td>\n",
              "      <td>59.0</td>\n",
              "      <td>20.881356</td>\n",
              "      <td>62</td>\n",
              "      <td>2</td>\n",
              "      <td>19.870968</td>\n",
              "      <td>0.951613</td>\n",
              "    </tr>\n",
              "    <tr>\n",
              "      <th>26970</th>\n",
              "      <td>535</td>\n",
              "      <td>folder</td>\n",
              "      <td>2992014</td>\n",
              "      <td>1.0</td>\n",
              "      <td>1.0</td>\n",
              "      <td>1.000000</td>\n",
              "      <td>10</td>\n",
              "      <td>3</td>\n",
              "      <td>0.100000</td>\n",
              "      <td>0.100000</td>\n",
              "    </tr>\n",
              "  </tbody>\n",
              "</table>\n",
              "</div>"
            ],
            "text/plain": [
              "       course    name     cmid  ...  teachers        vps  fracstudents\n",
              "15031     243    quiz  3231954  ...        18   2.718182      0.127273\n",
              "11035     211    quiz  3245749  ...         2  19.870968      0.951613\n",
              "26970     535  folder  2992014  ...         3   0.100000      0.100000\n",
              "\n",
              "[3 rows x 10 columns]"
            ]
          },
          "metadata": {
            "tags": []
          },
          "execution_count": 15
        }
      ]
    },
    {
      "cell_type": "code",
      "metadata": {
        "colab": {
          "base_uri": "https://localhost:8080/",
          "height": 142
        },
        "id": "Z6uNvsAp6SEq",
        "outputId": "687bbdff-b37b-49b6-88ad-50f7640edda0"
      },
      "source": [
        "url6 = \"https://raw.githubusercontent.com/atp/edisc-analytics/main/data/processed/mv-2020-IF.csv\"\n",
        "base_IF = pd.read_csv(url6)\n",
        "base_IF.sample(3)"
      ],
      "execution_count": 33,
      "outputs": [
        {
          "output_type": "execute_result",
          "data": {
            "text/html": [
              "<div>\n",
              "<style scoped>\n",
              "    .dataframe tbody tr th:only-of-type {\n",
              "        vertical-align: middle;\n",
              "    }\n",
              "\n",
              "    .dataframe tbody tr th {\n",
              "        vertical-align: top;\n",
              "    }\n",
              "\n",
              "    .dataframe thead th {\n",
              "        text-align: right;\n",
              "    }\n",
              "</style>\n",
              "<table border=\"1\" class=\"dataframe\">\n",
              "  <thead>\n",
              "    <tr style=\"text-align: right;\">\n",
              "      <th></th>\n",
              "      <th>course</th>\n",
              "      <th>name</th>\n",
              "      <th>cmid</th>\n",
              "      <th>views</th>\n",
              "      <th>uniqusers</th>\n",
              "      <th>vpu</th>\n",
              "      <th>students</th>\n",
              "      <th>teachers</th>\n",
              "      <th>vps</th>\n",
              "      <th>fracstudents</th>\n",
              "    </tr>\n",
              "  </thead>\n",
              "  <tbody>\n",
              "    <tr>\n",
              "      <th>658</th>\n",
              "      <td>14</td>\n",
              "      <td>resource</td>\n",
              "      <td>2867230</td>\n",
              "      <td>53.0</td>\n",
              "      <td>26.0</td>\n",
              "      <td>2.038462</td>\n",
              "      <td>28</td>\n",
              "      <td>2</td>\n",
              "      <td>1.892857</td>\n",
              "      <td>0.928571</td>\n",
              "    </tr>\n",
              "    <tr>\n",
              "      <th>4885</th>\n",
              "      <td>89</td>\n",
              "      <td>url</td>\n",
              "      <td>3183652</td>\n",
              "      <td>71.0</td>\n",
              "      <td>26.0</td>\n",
              "      <td>2.730769</td>\n",
              "      <td>104</td>\n",
              "      <td>4</td>\n",
              "      <td>0.682692</td>\n",
              "      <td>0.250000</td>\n",
              "    </tr>\n",
              "    <tr>\n",
              "      <th>2284</th>\n",
              "      <td>45</td>\n",
              "      <td>page</td>\n",
              "      <td>2819737</td>\n",
              "      <td>74.0</td>\n",
              "      <td>17.0</td>\n",
              "      <td>4.352941</td>\n",
              "      <td>23</td>\n",
              "      <td>2</td>\n",
              "      <td>3.217391</td>\n",
              "      <td>0.739130</td>\n",
              "    </tr>\n",
              "  </tbody>\n",
              "</table>\n",
              "</div>"
            ],
            "text/plain": [
              "      course      name     cmid  ...  teachers       vps  fracstudents\n",
              "658       14  resource  2867230  ...         2  1.892857      0.928571\n",
              "4885      89       url  3183652  ...         4  0.682692      0.250000\n",
              "2284      45      page  2819737  ...         2  3.217391      0.739130\n",
              "\n",
              "[3 rows x 10 columns]"
            ]
          },
          "metadata": {
            "tags": []
          },
          "execution_count": 33
        }
      ]
    },
    {
      "cell_type": "code",
      "metadata": {
        "colab": {
          "base_uri": "https://localhost:8080/",
          "height": 204
        },
        "id": "8FArlu6s-B_E",
        "outputId": "cb8220a4-733e-4d37-f154-296042ebee24"
      },
      "source": [
        "url7 = \"https://raw.githubusercontent.com/atp/edisc-analytics/main/data/processed/matrcurso.csv\"\n",
        "matrcurso = pd.read_csv(url7)\n",
        "matrcurso['sglund'] = matrcurso['sglund'].astype('object')\n",
        "matrcurso.rename(columns={'sglund':'unidade'}, inplace = True)\n",
        "matrcurso.sample(5)"
      ],
      "execution_count": 17,
      "outputs": [
        {
          "output_type": "execute_result",
          "data": {
            "text/html": [
              "<div>\n",
              "<style scoped>\n",
              "    .dataframe tbody tr th:only-of-type {\n",
              "        vertical-align: middle;\n",
              "    }\n",
              "\n",
              "    .dataframe tbody tr th {\n",
              "        vertical-align: top;\n",
              "    }\n",
              "\n",
              "    .dataframe thead th {\n",
              "        text-align: right;\n",
              "    }\n",
              "</style>\n",
              "<table border=\"1\" class=\"dataframe\">\n",
              "  <thead>\n",
              "    <tr style=\"text-align: right;\">\n",
              "      <th></th>\n",
              "      <th>ano</th>\n",
              "      <th>sem</th>\n",
              "      <th>codclg</th>\n",
              "      <th>codcur</th>\n",
              "      <th>codhab</th>\n",
              "      <th>staalu</th>\n",
              "      <th>codund</th>\n",
              "      <th>unidade</th>\n",
              "      <th>nomcur</th>\n",
              "      <th>nomhab</th>\n",
              "      <th>matr</th>\n",
              "    </tr>\n",
              "  </thead>\n",
              "  <tbody>\n",
              "    <tr>\n",
              "      <th>16852</th>\n",
              "      <td>2020</td>\n",
              "      <td>1</td>\n",
              "      <td>81</td>\n",
              "      <td>81003</td>\n",
              "      <td>4</td>\n",
              "      <td>M</td>\n",
              "      <td>81</td>\n",
              "      <td>FEARP</td>\n",
              "      <td>Bacharelado em Administração</td>\n",
              "      <td>Bacharelado em Administração</td>\n",
              "      <td>247</td>\n",
              "    </tr>\n",
              "    <tr>\n",
              "      <th>437</th>\n",
              "      <td>2019</td>\n",
              "      <td>2</td>\n",
              "      <td>2</td>\n",
              "      <td>2013</td>\n",
              "      <td>102</td>\n",
              "      <td>M</td>\n",
              "      <td>2</td>\n",
              "      <td>FD</td>\n",
              "      <td>Direito</td>\n",
              "      <td>Direito</td>\n",
              "      <td>711</td>\n",
              "    </tr>\n",
              "    <tr>\n",
              "      <th>9196</th>\n",
              "      <td>2019</td>\n",
              "      <td>2</td>\n",
              "      <td>23</td>\n",
              "      <td>23011</td>\n",
              "      <td>4</td>\n",
              "      <td>A</td>\n",
              "      <td>23</td>\n",
              "      <td>FO</td>\n",
              "      <td>Odontologia</td>\n",
              "      <td>Odontologia</td>\n",
              "      <td>2</td>\n",
              "    </tr>\n",
              "    <tr>\n",
              "      <th>18754</th>\n",
              "      <td>2013</td>\n",
              "      <td>2</td>\n",
              "      <td>90</td>\n",
              "      <td>90010</td>\n",
              "      <td>404</td>\n",
              "      <td>M</td>\n",
              "      <td>55</td>\n",
              "      <td>ICMC</td>\n",
              "      <td>Licenciatura em Ciências Exatas</td>\n",
              "      <td>Habilitação em Matemática</td>\n",
              "      <td>11</td>\n",
              "    </tr>\n",
              "    <tr>\n",
              "      <th>6925</th>\n",
              "      <td>2014</td>\n",
              "      <td>1</td>\n",
              "      <td>10</td>\n",
              "      <td>10011</td>\n",
              "      <td>Sem cadastro</td>\n",
              "      <td>R</td>\n",
              "      <td>10</td>\n",
              "      <td>FMVZ</td>\n",
              "      <td>Medicina Veterinária</td>\n",
              "      <td>NaN</td>\n",
              "      <td>1</td>\n",
              "    </tr>\n",
              "  </tbody>\n",
              "</table>\n",
              "</div>"
            ],
            "text/plain": [
              "        ano  sem  ...                        nomhab matr\n",
              "16852  2020    1  ...  Bacharelado em Administração  247\n",
              "437    2019    2  ...                       Direito  711\n",
              "9196   2019    2  ...                   Odontologia    2\n",
              "18754  2013    2  ...     Habilitação em Matemática   11\n",
              "6925   2014    1  ...                           NaN    1\n",
              "\n",
              "[5 rows x 11 columns]"
            ]
          },
          "metadata": {
            "tags": []
          },
          "execution_count": 17
        }
      ]
    },
    {
      "cell_type": "code",
      "metadata": {
        "colab": {
          "base_uri": "https://localhost:8080/"
        },
        "id": "ll-s1rgA4BvU",
        "outputId": "cb4fd9e6-ebce-4f8a-b70f-f17f074fa8cc"
      },
      "source": [
        "base_IF.info()"
      ],
      "execution_count": 18,
      "outputs": [
        {
          "output_type": "stream",
          "text": [
            "<class 'pandas.core.frame.DataFrame'>\n",
            "RangeIndex: 7535 entries, 0 to 7534\n",
            "Data columns (total 10 columns):\n",
            " #   Column        Non-Null Count  Dtype  \n",
            "---  ------        --------------  -----  \n",
            " 0   course        7535 non-null   int64  \n",
            " 1   name          7535 non-null   object \n",
            " 2   cmid          7535 non-null   int64  \n",
            " 3   views         7535 non-null   float64\n",
            " 4   uniqusers     7535 non-null   float64\n",
            " 5   vpu           7535 non-null   float64\n",
            " 6   students      7535 non-null   int64  \n",
            " 7   teachers      7535 non-null   int64  \n",
            " 8   vps           7534 non-null   float64\n",
            " 9   fracstudents  7534 non-null   float64\n",
            "dtypes: float64(5), int64(4), object(1)\n",
            "memory usage: 588.8+ KB\n"
          ],
          "name": "stdout"
        }
      ]
    },
    {
      "cell_type": "code",
      "metadata": {
        "colab": {
          "base_uri": "https://localhost:8080/"
        },
        "id": "rp1koVMu8Hxr",
        "outputId": "88001f84-6d04-4543-8dc2-fc7ddcd5e259"
      },
      "source": [
        "soma_views_FD = base_FD['views'].sum()\n",
        "soma_views_FE = base_FE['views'].sum()\n",
        "soma_views_FEA = base_FEA['views'].sum()\n",
        "soma_views_FFLCH = base_FFLCH['views'].sum()\n",
        "soma_views_FMRP = base_FMRP['views'].sum()\n",
        "soma_views_IF = base_IF['views'].sum()\n",
        "print(\"A soma do views do IF: \",soma_views_IF)"
      ],
      "execution_count": 19,
      "outputs": [
        {
          "output_type": "stream",
          "text": [
            "A soma do views do IF:  2822222.0\n"
          ],
          "name": "stdout"
        }
      ]
    },
    {
      "cell_type": "code",
      "metadata": {
        "colab": {
          "base_uri": "https://localhost:8080/",
          "height": 1000
        },
        "id": "vkrgNUew9rzf",
        "outputId": "b9b28e80-97c0-4844-ca5b-ef2c3b5c2e7a"
      },
      "source": [
        "NM = matrcurso.groupby(['unidade'])['matr'].sum()\n",
        "print(\"Tabela coma soma de matriculados por unidades\")\n",
        "Soma_matriculados = pd.DataFrame(NM)\n",
        "Soma_matriculados"
      ],
      "execution_count": 20,
      "outputs": [
        {
          "output_type": "stream",
          "text": [
            "Tabela coma soma de matriculados por unidades\n"
          ],
          "name": "stdout"
        },
        {
          "output_type": "execute_result",
          "data": {
            "text/html": [
              "<div>\n",
              "<style scoped>\n",
              "    .dataframe tbody tr th:only-of-type {\n",
              "        vertical-align: middle;\n",
              "    }\n",
              "\n",
              "    .dataframe tbody tr th {\n",
              "        vertical-align: top;\n",
              "    }\n",
              "\n",
              "    .dataframe thead th {\n",
              "        text-align: right;\n",
              "    }\n",
              "</style>\n",
              "<table border=\"1\" class=\"dataframe\">\n",
              "  <thead>\n",
              "    <tr style=\"text-align: right;\">\n",
              "      <th></th>\n",
              "      <th>matr</th>\n",
              "    </tr>\n",
              "    <tr>\n",
              "      <th>unidade</th>\n",
              "      <th></th>\n",
              "    </tr>\n",
              "  </thead>\n",
              "  <tbody>\n",
              "    <tr>\n",
              "      <th>CENA</th>\n",
              "      <td>73</td>\n",
              "    </tr>\n",
              "    <tr>\n",
              "      <th>EACH</th>\n",
              "      <td>75691</td>\n",
              "    </tr>\n",
              "    <tr>\n",
              "      <th>ECA</th>\n",
              "      <td>37498</td>\n",
              "    </tr>\n",
              "    <tr>\n",
              "      <th>EE</th>\n",
              "      <td>7040</td>\n",
              "    </tr>\n",
              "    <tr>\n",
              "      <th>EEFE</th>\n",
              "      <td>8507</td>\n",
              "    </tr>\n",
              "    <tr>\n",
              "      <th>EEFERP</th>\n",
              "      <td>4489</td>\n",
              "    </tr>\n",
              "    <tr>\n",
              "      <th>EEL</th>\n",
              "      <td>32227</td>\n",
              "    </tr>\n",
              "    <tr>\n",
              "      <th>EERP</th>\n",
              "      <td>9798</td>\n",
              "    </tr>\n",
              "    <tr>\n",
              "      <th>EESC</th>\n",
              "      <td>50110</td>\n",
              "    </tr>\n",
              "    <tr>\n",
              "      <th>EP</th>\n",
              "      <td>87294</td>\n",
              "    </tr>\n",
              "    <tr>\n",
              "      <th>ESALQ</th>\n",
              "      <td>37031</td>\n",
              "    </tr>\n",
              "    <tr>\n",
              "      <th>FAU</th>\n",
              "      <td>23503</td>\n",
              "    </tr>\n",
              "    <tr>\n",
              "      <th>FCF</th>\n",
              "      <td>15881</td>\n",
              "    </tr>\n",
              "    <tr>\n",
              "      <th>FCFRP</th>\n",
              "      <td>7621</td>\n",
              "    </tr>\n",
              "    <tr>\n",
              "      <th>FD</th>\n",
              "      <td>42155</td>\n",
              "    </tr>\n",
              "    <tr>\n",
              "      <th>FDRP</th>\n",
              "      <td>8305</td>\n",
              "    </tr>\n",
              "    <tr>\n",
              "      <th>FE</th>\n",
              "      <td>17509</td>\n",
              "    </tr>\n",
              "    <tr>\n",
              "      <th>FEA</th>\n",
              "      <td>51152</td>\n",
              "    </tr>\n",
              "    <tr>\n",
              "      <th>FEARP</th>\n",
              "      <td>23584</td>\n",
              "    </tr>\n",
              "    <tr>\n",
              "      <th>FFCLRP</th>\n",
              "      <td>31124</td>\n",
              "    </tr>\n",
              "    <tr>\n",
              "      <th>FFLCH</th>\n",
              "      <td>158338</td>\n",
              "    </tr>\n",
              "    <tr>\n",
              "      <th>FM</th>\n",
              "      <td>24939</td>\n",
              "    </tr>\n",
              "    <tr>\n",
              "      <th>FMRP</th>\n",
              "      <td>24196</td>\n",
              "    </tr>\n",
              "    <tr>\n",
              "      <th>FMVZ</th>\n",
              "      <td>7808</td>\n",
              "    </tr>\n",
              "    <tr>\n",
              "      <th>FO</th>\n",
              "      <td>12464</td>\n",
              "    </tr>\n",
              "    <tr>\n",
              "      <th>FOB</th>\n",
              "      <td>6296</td>\n",
              "    </tr>\n",
              "    <tr>\n",
              "      <th>FORP</th>\n",
              "      <td>6586</td>\n",
              "    </tr>\n",
              "    <tr>\n",
              "      <th>FSP</th>\n",
              "      <td>9246</td>\n",
              "    </tr>\n",
              "    <tr>\n",
              "      <th>FZEA</th>\n",
              "      <td>24286</td>\n",
              "    </tr>\n",
              "    <tr>\n",
              "      <th>IAG</th>\n",
              "      <td>5469</td>\n",
              "    </tr>\n",
              "    <tr>\n",
              "      <th>IAU</th>\n",
              "      <td>4608</td>\n",
              "    </tr>\n",
              "    <tr>\n",
              "      <th>IB</th>\n",
              "      <td>12811</td>\n",
              "    </tr>\n",
              "    <tr>\n",
              "      <th>ICB</th>\n",
              "      <td>2766</td>\n",
              "    </tr>\n",
              "    <tr>\n",
              "      <th>ICMC</th>\n",
              "      <td>22080</td>\n",
              "    </tr>\n",
              "    <tr>\n",
              "      <th>IEB</th>\n",
              "      <td>271</td>\n",
              "    </tr>\n",
              "    <tr>\n",
              "      <th>IEE</th>\n",
              "      <td>51</td>\n",
              "    </tr>\n",
              "    <tr>\n",
              "      <th>IF</th>\n",
              "      <td>20771</td>\n",
              "    </tr>\n",
              "    <tr>\n",
              "      <th>IFSC</th>\n",
              "      <td>6793</td>\n",
              "    </tr>\n",
              "    <tr>\n",
              "      <th>IGc</th>\n",
              "      <td>7973</td>\n",
              "    </tr>\n",
              "    <tr>\n",
              "      <th>IME</th>\n",
              "      <td>27797</td>\n",
              "    </tr>\n",
              "    <tr>\n",
              "      <th>IO</th>\n",
              "      <td>3912</td>\n",
              "    </tr>\n",
              "    <tr>\n",
              "      <th>IP</th>\n",
              "      <td>7571</td>\n",
              "    </tr>\n",
              "    <tr>\n",
              "      <th>IPEN</th>\n",
              "      <td>114</td>\n",
              "    </tr>\n",
              "    <tr>\n",
              "      <th>IQ</th>\n",
              "      <td>12148</td>\n",
              "    </tr>\n",
              "    <tr>\n",
              "      <th>IQSC</th>\n",
              "      <td>5033</td>\n",
              "    </tr>\n",
              "    <tr>\n",
              "      <th>IRI</th>\n",
              "      <td>5562</td>\n",
              "    </tr>\n",
              "    <tr>\n",
              "      <th>MAC</th>\n",
              "      <td>73</td>\n",
              "    </tr>\n",
              "    <tr>\n",
              "      <th>MAE</th>\n",
              "      <td>89</td>\n",
              "    </tr>\n",
              "    <tr>\n",
              "      <th>MP</th>\n",
              "      <td>104</td>\n",
              "    </tr>\n",
              "    <tr>\n",
              "      <th>MZ</th>\n",
              "      <td>12</td>\n",
              "    </tr>\n",
              "    <tr>\n",
              "      <th>RUSP</th>\n",
              "      <td>6930</td>\n",
              "    </tr>\n",
              "  </tbody>\n",
              "</table>\n",
              "</div>"
            ],
            "text/plain": [
              "           matr\n",
              "unidade        \n",
              "CENA         73\n",
              "EACH      75691\n",
              "ECA       37498\n",
              "EE         7040\n",
              "EEFE       8507\n",
              "EEFERP     4489\n",
              "EEL       32227\n",
              "EERP       9798\n",
              "EESC      50110\n",
              "EP        87294\n",
              "ESALQ     37031\n",
              "FAU       23503\n",
              "FCF       15881\n",
              "FCFRP      7621\n",
              "FD        42155\n",
              "FDRP       8305\n",
              "FE        17509\n",
              "FEA       51152\n",
              "FEARP     23584\n",
              "FFCLRP    31124\n",
              "FFLCH    158338\n",
              "FM        24939\n",
              "FMRP      24196\n",
              "FMVZ       7808\n",
              "FO        12464\n",
              "FOB        6296\n",
              "FORP       6586\n",
              "FSP        9246\n",
              "FZEA      24286\n",
              "IAG        5469\n",
              "IAU        4608\n",
              "IB        12811\n",
              "ICB        2766\n",
              "ICMC      22080\n",
              "IEB         271\n",
              "IEE          51\n",
              "IF        20771\n",
              "IFSC       6793\n",
              "IGc        7973\n",
              "IME       27797\n",
              "IO         3912\n",
              "IP         7571\n",
              "IPEN        114\n",
              "IQ        12148\n",
              "IQSC       5033\n",
              "IRI        5562\n",
              "MAC          73\n",
              "MAE          89\n",
              "MP          104\n",
              "MZ           12\n",
              "RUSP       6930"
            ]
          },
          "metadata": {
            "tags": []
          },
          "execution_count": 20
        }
      ]
    },
    {
      "cell_type": "code",
      "metadata": {
        "colab": {
          "base_uri": "https://localhost:8080/"
        },
        "id": "zOarjYeiGIU8",
        "outputId": "142aea74-1298-44d6-ae8c-80b20302e6ab"
      },
      "source": [
        "alunos_FDD = Soma_matriculados.query('unidade == \"FD\"')\n",
        "alunos_FDD  = alunos_FDD['matr']\n",
        "alunos_FDD"
      ],
      "execution_count": 21,
      "outputs": [
        {
          "output_type": "execute_result",
          "data": {
            "text/plain": [
              "unidade\n",
              "FD    42155\n",
              "Name: matr, dtype: int64"
            ]
          },
          "metadata": {
            "tags": []
          },
          "execution_count": 21
        }
      ]
    },
    {
      "cell_type": "code",
      "metadata": {
        "colab": {
          "base_uri": "https://localhost:8080/"
        },
        "id": "U3THIntGBQ3y",
        "outputId": "25059f53-e828-4bb2-bcc1-1004ecaa114f"
      },
      "source": [
        "alunos_FD = Soma_matriculados.query('unidade == \"FD\"')['matr']\n",
        "alunos_FE = Soma_matriculados.query('unidade == \"FE\"')['matr']\n",
        "alunos_FEA = Soma_matriculados.query('unidade == \"FEA\"')['matr']\n",
        "alunos_FFLCH = Soma_matriculados.query('unidade == \"FFLCH\"')['matr']\n",
        "alunos_FMRP = Soma_matriculados.query('unidade == \"FMRP\"')['matr']\n",
        "alunos_IF = Soma_matriculados.query('unidade == \"IF\"')['matr']\n",
        "print(alunos_FD, alunos_FE, alunos_FEA, alunos_FFLCH, alunos_FMRP, alunos_IF)"
      ],
      "execution_count": 22,
      "outputs": [
        {
          "output_type": "stream",
          "text": [
            "unidade\n",
            "FD    42155\n",
            "Name: matr, dtype: int64 unidade\n",
            "FE    17509\n",
            "Name: matr, dtype: int64 unidade\n",
            "FEA    51152\n",
            "Name: matr, dtype: int64 unidade\n",
            "FFLCH    158338\n",
            "Name: matr, dtype: int64 unidade\n",
            "FMRP    24196\n",
            "Name: matr, dtype: int64 unidade\n",
            "IF    20771\n",
            "Name: matr, dtype: int64\n"
          ],
          "name": "stdout"
        }
      ]
    },
    {
      "cell_type": "code",
      "metadata": {
        "colab": {
          "base_uri": "https://localhost:8080/"
        },
        "id": "PomBiky-G7xA",
        "outputId": "08346974-81fc-4423-e5b1-5e228aff6b75"
      },
      "source": [
        "alunos_FD"
      ],
      "execution_count": 23,
      "outputs": [
        {
          "output_type": "execute_result",
          "data": {
            "text/plain": [
              "unidade\n",
              "FD    42155\n",
              "Name: matr, dtype: int64"
            ]
          },
          "metadata": {
            "tags": []
          },
          "execution_count": 23
        }
      ]
    },
    {
      "cell_type": "markdown",
      "metadata": {
        "id": "Nsfd4kC6GhXp"
      },
      "source": [
        "#**Cliques por alunos**"
      ]
    },
    {
      "cell_type": "code",
      "metadata": {
        "colab": {
          "base_uri": "https://localhost:8080/"
        },
        "id": "BRtXfjeDGgog",
        "outputId": "2d890f55-30cc-41df-e9c3-dbd3f449a32b"
      },
      "source": [
        "clicks_por_alunos_FD = soma_views_FD/alunos_FD\n",
        "clicks_por_alunos_FE = soma_views_FE/alunos_FE\n",
        "clicks_por_alunos_FEA = soma_views_FEA/alunos_FEA\n",
        "clicks_por_alunos_FFLCH = soma_views_FFLCH/alunos_FFLCH\n",
        "clicks_por_alunos_FMRP = soma_views_FMRP/alunos_FMRP\n",
        "clicks_por_alunos_IF = soma_views_IF/alunos_IF\n",
        "print(clicks_por_alunos_FD, clicks_por_alunos_FE, clicks_por_alunos_FEA, clicks_por_alunos_FFLCH, clicks_por_alunos_FMRP, clicks_por_alunos_IF)"
      ],
      "execution_count": 37,
      "outputs": [
        {
          "output_type": "stream",
          "text": [
            "unidade\n",
            "FD    68.333199\n",
            "Name: matr, dtype: float64 unidade\n",
            "FE    26.243875\n",
            "Name: matr, dtype: float64 unidade\n",
            "FEA    99.463618\n",
            "Name: matr, dtype: float64 unidade\n",
            "FFLCH    23.781063\n",
            "Name: matr, dtype: float64 unidade\n",
            "FMRP    170.183543\n",
            "Name: matr, dtype: float64 unidade\n",
            "IF    135.873189\n",
            "Name: matr, dtype: float64\n"
          ],
          "name": "stdout"
        }
      ]
    },
    {
      "cell_type": "code",
      "metadata": {
        "colab": {
          "base_uri": "https://localhost:8080/",
          "height": 266
        },
        "id": "IrARhSvTH_Pu",
        "outputId": "55239dd5-5f9d-4a83-a823-870acbd8d16d"
      },
      "source": [
        "clicks_por_alunos_teste= pd.concat([clicks_por_alunos_FD, clicks_por_alunos_FE, clicks_por_alunos_FEA, clicks_por_alunos_FFLCH, clicks_por_alunos_FMRP, clicks_por_alunos_IF],axis = 0)\n",
        "clicks_por_alunos_teste\n",
        "clicks_por_alunos = pd.DataFrame(clicks_por_alunos_teste)\n",
        "clicks_por_alunos.rename(columns={'matr':'Clicks/Matr'}, inplace = True)\n",
        "clicks_por_alunos"
      ],
      "execution_count": 25,
      "outputs": [
        {
          "output_type": "execute_result",
          "data": {
            "text/html": [
              "<div>\n",
              "<style scoped>\n",
              "    .dataframe tbody tr th:only-of-type {\n",
              "        vertical-align: middle;\n",
              "    }\n",
              "\n",
              "    .dataframe tbody tr th {\n",
              "        vertical-align: top;\n",
              "    }\n",
              "\n",
              "    .dataframe thead th {\n",
              "        text-align: right;\n",
              "    }\n",
              "</style>\n",
              "<table border=\"1\" class=\"dataframe\">\n",
              "  <thead>\n",
              "    <tr style=\"text-align: right;\">\n",
              "      <th></th>\n",
              "      <th>Clicks/Matr</th>\n",
              "    </tr>\n",
              "    <tr>\n",
              "      <th>unidade</th>\n",
              "      <th></th>\n",
              "    </tr>\n",
              "  </thead>\n",
              "  <tbody>\n",
              "    <tr>\n",
              "      <th>FD</th>\n",
              "      <td>68.333199</td>\n",
              "    </tr>\n",
              "    <tr>\n",
              "      <th>FE</th>\n",
              "      <td>26.243875</td>\n",
              "    </tr>\n",
              "    <tr>\n",
              "      <th>FEA</th>\n",
              "      <td>99.463618</td>\n",
              "    </tr>\n",
              "    <tr>\n",
              "      <th>FFLCH</th>\n",
              "      <td>23.781063</td>\n",
              "    </tr>\n",
              "    <tr>\n",
              "      <th>FMRP</th>\n",
              "      <td>170.183543</td>\n",
              "    </tr>\n",
              "    <tr>\n",
              "      <th>IF</th>\n",
              "      <td>135.873189</td>\n",
              "    </tr>\n",
              "  </tbody>\n",
              "</table>\n",
              "</div>"
            ],
            "text/plain": [
              "         Clicks/Matr\n",
              "unidade             \n",
              "FD         68.333199\n",
              "FE         26.243875\n",
              "FEA        99.463618\n",
              "FFLCH      23.781063\n",
              "FMRP      170.183543\n",
              "IF        135.873189"
            ]
          },
          "metadata": {
            "tags": []
          },
          "execution_count": 25
        }
      ]
    },
    {
      "cell_type": "code",
      "metadata": {
        "colab": {
          "base_uri": "https://localhost:8080/",
          "height": 326
        },
        "id": "i5htiZ5DMOea",
        "outputId": "3e14d468-f5a4-4e9e-9c6f-8b39648c4575"
      },
      "source": [
        "clicks_por_alunos.plot(kind='bar', color=\"c\")\n",
        "plt.title('Média de Clicks por matriculados', fontsize=16)\n",
        "plt.tick_params(labelsize=12)\n",
        "plt.show()"
      ],
      "execution_count": 26,
      "outputs": [
        {
          "output_type": "display_data",
          "data": {
            "image/png": "[encoded data removed]",
            "text/plain": [
              "<Figure size 432x288 with 1 Axes>"
            ]
          },
          "metadata": {
            "tags": [],
            "needs_background": "light"
          }
        }
      ]
    },
    {
      "cell_type": "markdown",
      "metadata": {
        "id": "nAiessKCeRWD"
      },
      "source": [
        "#**Cliques por modulos**"
      ]
    },
    {
      "cell_type": "code",
      "metadata": {
        "colab": {
          "base_uri": "https://localhost:8080/"
        },
        "id": "ZgkPuF5tgoDW",
        "outputId": "fe953dcb-8e07-479a-820b-e39f13c5ff25"
      },
      "source": [
        "soma_mod_FD = base_FD.count()\n",
        "soma_mod_FE = base_FE.count()\n",
        "soma_mod_FEA = base_FEA.count()\n",
        "soma_mod_FFLCH = base_FFLCH.count()\n",
        "soma_mod_FMRP = base_FMRP.count()\n",
        "soma_mod_IF = base_IF.count()\n",
        "print(soma_mod_FD, soma_mod_FE, soma_mod_FEA, soma_mod_FFLCH, soma_mod_FMRP, soma_mod_IF )"
      ],
      "execution_count": 28,
      "outputs": [
        {
          "output_type": "stream",
          "text": [
            "course          17438\n",
            "name            17438\n",
            "cmid            17438\n",
            "views           17438\n",
            "uniqusers       17438\n",
            "vpu             17438\n",
            "students        17438\n",
            "teachers        17438\n",
            "vps             17403\n",
            "fracstudents    17403\n",
            "dtype: int64 course          4852\n",
            "name            4852\n",
            "cmid            4852\n",
            "views           4852\n",
            "uniqusers       4852\n",
            "vpu             4852\n",
            "students        4852\n",
            "teachers        4852\n",
            "vps             4849\n",
            "fracstudents    4849\n",
            "dtype: int64 course          26454\n",
            "name            26454\n",
            "cmid            26454\n",
            "views           26454\n",
            "uniqusers       26454\n",
            "vpu             26454\n",
            "students        26454\n",
            "teachers        26454\n",
            "vps             26444\n",
            "fracstudents    26444\n",
            "dtype: int64 course          33023\n",
            "name            33023\n",
            "cmid            33023\n",
            "views           33023\n",
            "uniqusers       33023\n",
            "vpu             33023\n",
            "students        33023\n",
            "teachers        33023\n",
            "vps             32875\n",
            "fracstudents    32875\n",
            "dtype: int64 course          31015\n",
            "name            31015\n",
            "cmid            31015\n",
            "views           31015\n",
            "uniqusers       31015\n",
            "vpu             31015\n",
            "students        31015\n",
            "teachers        31015\n",
            "vps             29514\n",
            "fracstudents    29514\n",
            "dtype: int64 course          7535\n",
            "name            7535\n",
            "cmid            7535\n",
            "views           7535\n",
            "uniqusers       7535\n",
            "vpu             7535\n",
            "students        7535\n",
            "teachers        7535\n",
            "vps             7534\n",
            "fracstudents    7534\n",
            "dtype: int64\n"
          ],
          "name": "stdout"
        }
      ]
    },
    {
      "cell_type": "code",
      "metadata": {
        "colab": {
          "base_uri": "https://localhost:8080/"
        },
        "id": "Xyhniu5SheqU",
        "outputId": "4fb4e223-3556-4f77-aa47-b8e30c9a1b7a"
      },
      "source": [
        "base_FD.shape"
      ],
      "execution_count": 29,
      "outputs": [
        {
          "output_type": "execute_result",
          "data": {
            "text/plain": [
              "(17438, 10)"
            ]
          },
          "metadata": {
            "tags": []
          },
          "execution_count": 29
        }
      ]
    },
    {
      "cell_type": "code",
      "metadata": {
        "colab": {
          "base_uri": "https://localhost:8080/"
        },
        "id": "O56VCtOHiDiI",
        "outputId": "e49ef7ca-63e9-4461-e836-b9417f39f97a"
      },
      "source": [
        "soma_mod_FD = base_FD['name'].count() #verificado no info, leitura correta!\n",
        "soma_mod_FE = base_FE['name'].count()\n",
        "soma_mod_FEA = base_FEA['name'].count()\n",
        "soma_mod_FFLCH = base_FFLCH['name'].count()\n",
        "soma_mod_FMRP = base_FMRP['name'].count()\n",
        "soma_mod_IF = base_IF['name'].count()\n",
        "print(soma_mod_FD, soma_mod_FE, soma_mod_FEA, soma_mod_FFLCH, soma_mod_FMRP, soma_mod_IF )"
      ],
      "execution_count": 36,
      "outputs": [
        {
          "output_type": "stream",
          "text": [
            "17438 4852 26454 33023 31015 7535\n"
          ],
          "name": "stdout"
        }
      ]
    },
    {
      "cell_type": "code",
      "metadata": {
        "colab": {
          "base_uri": "https://localhost:8080/"
        },
        "id": "WlaES4n1jVW8",
        "outputId": "46ff654c-feaf-434e-c6aa-1e7f8f516fe3"
      },
      "source": [
        "clicks_por_mod_FD = soma_views_FD/soma_mod_FD\n",
        "clicks_por_mod_FE = soma_views_FE/soma_mod_FE\n",
        "clicks_por_mod_FEA = soma_views_FEA/soma_mod_FEA\n",
        "clicks_por_mod_FFLCH = soma_views_FFLCH/soma_mod_FFLCH\n",
        "clicks_por_mod_FMRP = soma_views_FMRP/soma_mod_FMRP\n",
        "clicks_por_mod_IF = soma_views_IF/soma_mod_IF\n",
        "print(clicks_por_mod_FD, clicks_por_mod_FE, clicks_por_mod_FEA, clicks_por_mod_FFLCH, clicks_por_mod_FMRP, clicks_por_mod_IF)"
      ],
      "execution_count": 38,
      "outputs": [
        {
          "output_type": "stream",
          "text": [
            "165.19015942195205 94.7040395713108 192.3249036062599 114.02495230596857 132.76675802031275 374.54837425348376\n"
          ],
          "name": "stdout"
        }
      ]
    },
    {
      "cell_type": "code",
      "metadata": {
        "colab": {
          "base_uri": "https://localhost:8080/",
          "height": 235
        },
        "id": "SG1yYZadrSpt",
        "outputId": "cb04812f-8a4b-4962-f165-eda019fb02c9"
      },
      "source": [
        "l_clicks_mod = [clicks_por_mod_FD, clicks_por_mod_FE, clicks_por_mod_FEA, clicks_por_mod_FFLCH, clicks_por_mod_FMRP, clicks_por_mod_IF]\n",
        "list_clicks_mod =  {'Clicks/Modulo': l_clicks_mod}\n",
        "clicks_por_mod_result = pd.DataFrame(data=list_clicks_mod)\n",
        "clicks_por_mod_result"
      ],
      "execution_count": 67,
      "outputs": [
        {
          "output_type": "execute_result",
          "data": {
            "text/html": [
              "<div>\n",
              "<style scoped>\n",
              "    .dataframe tbody tr th:only-of-type {\n",
              "        vertical-align: middle;\n",
              "    }\n",
              "\n",
              "    .dataframe tbody tr th {\n",
              "        vertical-align: top;\n",
              "    }\n",
              "\n",
              "    .dataframe thead th {\n",
              "        text-align: right;\n",
              "    }\n",
              "</style>\n",
              "<table border=\"1\" class=\"dataframe\">\n",
              "  <thead>\n",
              "    <tr style=\"text-align: right;\">\n",
              "      <th></th>\n",
              "      <th>Clicks/Modulo</th>\n",
              "    </tr>\n",
              "  </thead>\n",
              "  <tbody>\n",
              "    <tr>\n",
              "      <th>0</th>\n",
              "      <td>165.190159</td>\n",
              "    </tr>\n",
              "    <tr>\n",
              "      <th>1</th>\n",
              "      <td>94.704040</td>\n",
              "    </tr>\n",
              "    <tr>\n",
              "      <th>2</th>\n",
              "      <td>192.324904</td>\n",
              "    </tr>\n",
              "    <tr>\n",
              "      <th>3</th>\n",
              "      <td>114.024952</td>\n",
              "    </tr>\n",
              "    <tr>\n",
              "      <th>4</th>\n",
              "      <td>132.766758</td>\n",
              "    </tr>\n",
              "    <tr>\n",
              "      <th>5</th>\n",
              "      <td>374.548374</td>\n",
              "    </tr>\n",
              "  </tbody>\n",
              "</table>\n",
              "</div>"
            ],
            "text/plain": [
              "   Clicks/Modulo\n",
              "0     165.190159\n",
              "1      94.704040\n",
              "2     192.324904\n",
              "3     114.024952\n",
              "4     132.766758\n",
              "5     374.548374"
            ]
          },
          "metadata": {
            "tags": []
          },
          "execution_count": 67
        }
      ]
    },
    {
      "cell_type": "code",
      "metadata": {
        "colab": {
          "base_uri": "https://localhost:8080/",
          "height": 266
        },
        "id": "agkncPCyjVZ8",
        "outputId": "c055c1a7-9361-4361-a4ea-abc319f61025"
      },
      "source": [
        "clicks_por_mod = clicks_por_alunos\n",
        "clicks_por_mod.rename(columns={'Clicks/Matr':'Clicks/Modulo'}, inplace = True)\n",
        "clicks_por_mod['Clicks/Modulo'] = clicks_por_mod_result['Clicks/Modulo'].values\n",
        "clicks_por_mod"
      ],
      "execution_count": 69,
      "outputs": [
        {
          "output_type": "execute_result",
          "data": {
            "text/html": [
              "<div>\n",
              "<style scoped>\n",
              "    .dataframe tbody tr th:only-of-type {\n",
              "        vertical-align: middle;\n",
              "    }\n",
              "\n",
              "    .dataframe tbody tr th {\n",
              "        vertical-align: top;\n",
              "    }\n",
              "\n",
              "    .dataframe thead th {\n",
              "        text-align: right;\n",
              "    }\n",
              "</style>\n",
              "<table border=\"1\" class=\"dataframe\">\n",
              "  <thead>\n",
              "    <tr style=\"text-align: right;\">\n",
              "      <th></th>\n",
              "      <th>Clicks/Modulo</th>\n",
              "    </tr>\n",
              "    <tr>\n",
              "      <th>unidade</th>\n",
              "      <th></th>\n",
              "    </tr>\n",
              "  </thead>\n",
              "  <tbody>\n",
              "    <tr>\n",
              "      <th>FD</th>\n",
              "      <td>165.190159</td>\n",
              "    </tr>\n",
              "    <tr>\n",
              "      <th>FE</th>\n",
              "      <td>94.704040</td>\n",
              "    </tr>\n",
              "    <tr>\n",
              "      <th>FEA</th>\n",
              "      <td>192.324904</td>\n",
              "    </tr>\n",
              "    <tr>\n",
              "      <th>FFLCH</th>\n",
              "      <td>114.024952</td>\n",
              "    </tr>\n",
              "    <tr>\n",
              "      <th>FMRP</th>\n",
              "      <td>132.766758</td>\n",
              "    </tr>\n",
              "    <tr>\n",
              "      <th>IF</th>\n",
              "      <td>374.548374</td>\n",
              "    </tr>\n",
              "  </tbody>\n",
              "</table>\n",
              "</div>"
            ],
            "text/plain": [
              "         Clicks/Modulo\n",
              "unidade               \n",
              "FD          165.190159\n",
              "FE           94.704040\n",
              "FEA         192.324904\n",
              "FFLCH       114.024952\n",
              "FMRP        132.766758\n",
              "IF          374.548374"
            ]
          },
          "metadata": {
            "tags": []
          },
          "execution_count": 69
        }
      ]
    },
    {
      "cell_type": "code",
      "metadata": {
        "colab": {
          "base_uri": "https://localhost:8080/",
          "height": 326
        },
        "id": "OLzol1PauwW4",
        "outputId": "9ef1037d-dce5-42c2-eff9-4f4f02619cc5"
      },
      "source": [
        "clicks_por_mod.plot(kind='bar', color=\"c\")\n",
        "plt.title('Média de Clicks por módulos', fontsize=16)\n",
        "plt.tick_params(labelsize=12)\n",
        "plt.show()"
      ],
      "execution_count": 70,
      "outputs": [
        {
          "output_type": "display_data",
          "data": {
            "image/png": "[encoded data removed]",
            "text/plain": [
              "<Figure size 432x288 with 1 Axes>"
            ]
          },
          "metadata": {
            "tags": [],
            "needs_background": "light"
          }
        }
      ]
    }
  ]
}