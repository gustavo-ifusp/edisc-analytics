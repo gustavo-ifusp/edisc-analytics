{
  "nbformat": 4,
  "nbformat_minor": 0,
  "metadata": {
    "colab": {
      "name": "Analise de Dados_Indicadores_bolsa_PUB_junho-2021.ipynb",
      "provenance": [],
      "collapsed_sections": [],
      "include_colab_link": true
    },
    "kernelspec": {
      "name": "python3",
      "display_name": "Python 3"
    },
    "language_info": {
      "name": "python"
    }
  },
  "cells": [
    {
      "cell_type": "markdown",
      "metadata": {
        "id": "view-in-github",
        "colab_type": "text"
      },
      "source": [
        "<a href=\"https://colab.research.google.com/github/gustavo-ifusp/edisc-analytics/blob/main/g4-Analise_de_Dados_Indicadores_bolsa_PUB_junho_2021.ipynb\" target=\"_parent\"><img src=\"https://colab.research.google.com/assets/colab-badge.svg\" alt=\"Open In Colab\"/></a>"
      ]
    },
    {
      "cell_type": "markdown",
      "metadata": {
        "id": "Ms3RaPZpKaQx"
      },
      "source": [
        "# **Analises de Dados (Junho/2021) - parte 1 - E-Disciplinas USP - Bolsa PUB 2020/2021**\n",
        "Professor Orientador Dr. Ewout Ter Haar\n",
        "\n",
        "Aluno Gustavo de Andrade\n",
        "\n",
        "Este estudo é uma continuação ao projeto do Programa Unificado de Bolsa da Universidade de São Paulo de apoio pedagógico na plataforma moodle E-Disciplinas USP. \n",
        "\n",
        "Buscarei indicadores relacionados a métrica de total de matrículados.\n",
        "\n",
        "Este estudo, assim como os dados apresentados, são te interesse particular, com fim educacional, sendo proíbido sua reprodução em todas hipóteses, permitido apenas a visualização no próprio canal disponivel.\n"
      ]
    },
    {
      "cell_type": "code",
      "metadata": {
        "id": "8mIXtC8OLc08"
      },
      "source": [
        "import numpy as np\n",
        "import pandas as pd\n",
        "import matplotlib.pyplot as plt\n",
        "import seaborn as sns"
      ],
      "execution_count": 1,
      "outputs": []
    },
    {
      "cell_type": "markdown",
      "metadata": {
        "id": "4GiiMpLMuO8s"
      },
      "source": [
        "#**Aqui efetuarei a leitura dos dataframes para comparação:**<br>\n",
        "São arquivos com 1 linha por \"módulo\" (= recurso ou atividade no Moodle) e a informação mais importante nas colunas é o número de \"views\" (cliques), quantos alunos eram inscritos neste ambiente e \"usuários únicos\" que clicaram neste módulo. Tem também uma coluna derivada fracstudents que é a fração dos alunos que clicaram pelo menos uma vez no módulo.\n",
        "\n",
        "  * quantos cliques (por aluno) fizeram (agregando tudo)\n",
        "  * quantos cliques por módulo\n",
        "  * quantos cliques em por exemplo \"fórum\" ou \"tarefa\" (=assign)"
      ]
    },
    {
      "cell_type": "code",
      "metadata": {
        "id": "oAj4Q3pjLhnk",
        "colab": {
          "base_uri": "https://localhost:8080/",
          "height": 142
        },
        "outputId": "09c66d77-b932-4968-ce38-bc81bfffa01a"
      },
      "source": [
        "url1 = \"https://raw.githubusercontent.com/atp/edisc-analytics/main/data/processed/mv-2020-FD.csv\"\n",
        "base_FD = pd.read_csv(url1)\n",
        "base_FD.sample(3)"
      ],
      "execution_count": 2,
      "outputs": [
        {
          "output_type": "execute_result",
          "data": {
            "text/html": [
              "<div>\n",
              "<style scoped>\n",
              "    .dataframe tbody tr th:only-of-type {\n",
              "        vertical-align: middle;\n",
              "    }\n",
              "\n",
              "    .dataframe tbody tr th {\n",
              "        vertical-align: top;\n",
              "    }\n",
              "\n",
              "    .dataframe thead th {\n",
              "        text-align: right;\n",
              "    }\n",
              "</style>\n",
              "<table border=\"1\" class=\"dataframe\">\n",
              "  <thead>\n",
              "    <tr style=\"text-align: right;\">\n",
              "      <th></th>\n",
              "      <th>course</th>\n",
              "      <th>name</th>\n",
              "      <th>cmid</th>\n",
              "      <th>views</th>\n",
              "      <th>uniqusers</th>\n",
              "      <th>vpu</th>\n",
              "      <th>students</th>\n",
              "      <th>teachers</th>\n",
              "      <th>vps</th>\n",
              "      <th>fracstudents</th>\n",
              "    </tr>\n",
              "  </thead>\n",
              "  <tbody>\n",
              "    <tr>\n",
              "      <th>14974</th>\n",
              "      <td>419</td>\n",
              "      <td>quiz</td>\n",
              "      <td>3207593</td>\n",
              "      <td>294.0</td>\n",
              "      <td>34.0</td>\n",
              "      <td>8.647059</td>\n",
              "      <td>111</td>\n",
              "      <td>12</td>\n",
              "      <td>2.648649</td>\n",
              "      <td>0.306306</td>\n",
              "    </tr>\n",
              "    <tr>\n",
              "      <th>2593</th>\n",
              "      <td>73</td>\n",
              "      <td>resource</td>\n",
              "      <td>2785621</td>\n",
              "      <td>314.0</td>\n",
              "      <td>127.0</td>\n",
              "      <td>2.472441</td>\n",
              "      <td>142</td>\n",
              "      <td>3</td>\n",
              "      <td>2.211268</td>\n",
              "      <td>0.894366</td>\n",
              "    </tr>\n",
              "    <tr>\n",
              "      <th>12559</th>\n",
              "      <td>366</td>\n",
              "      <td>resource</td>\n",
              "      <td>2952369</td>\n",
              "      <td>20.0</td>\n",
              "      <td>13.0</td>\n",
              "      <td>1.538462</td>\n",
              "      <td>21</td>\n",
              "      <td>2</td>\n",
              "      <td>0.952381</td>\n",
              "      <td>0.619048</td>\n",
              "    </tr>\n",
              "  </tbody>\n",
              "</table>\n",
              "</div>"
            ],
            "text/plain": [
              "       course      name     cmid  ...  teachers       vps  fracstudents\n",
              "14974     419      quiz  3207593  ...        12  2.648649      0.306306\n",
              "2593       73  resource  2785621  ...         3  2.211268      0.894366\n",
              "12559     366  resource  2952369  ...         2  0.952381      0.619048\n",
              "\n",
              "[3 rows x 10 columns]"
            ]
          },
          "metadata": {},
          "execution_count": 2
        }
      ]
    },
    {
      "cell_type": "code",
      "metadata": {
        "colab": {
          "base_uri": "https://localhost:8080/",
          "height": 142
        },
        "id": "_U4sAVZY48Jv",
        "outputId": "f7083a19-a442-402e-be56-4c7d0b523ad9"
      },
      "source": [
        "url2 = \"https://raw.githubusercontent.com/atp/edisc-analytics/main/data/processed/mv-2020-FE.csv\"\n",
        "base_FE = pd.read_csv(url2)\n",
        "base_FE.sample(3)"
      ],
      "execution_count": 3,
      "outputs": [
        {
          "output_type": "execute_result",
          "data": {
            "text/html": [
              "<div>\n",
              "<style scoped>\n",
              "    .dataframe tbody tr th:only-of-type {\n",
              "        vertical-align: middle;\n",
              "    }\n",
              "\n",
              "    .dataframe tbody tr th {\n",
              "        vertical-align: top;\n",
              "    }\n",
              "\n",
              "    .dataframe thead th {\n",
              "        text-align: right;\n",
              "    }\n",
              "</style>\n",
              "<table border=\"1\" class=\"dataframe\">\n",
              "  <thead>\n",
              "    <tr style=\"text-align: right;\">\n",
              "      <th></th>\n",
              "      <th>course</th>\n",
              "      <th>name</th>\n",
              "      <th>cmid</th>\n",
              "      <th>views</th>\n",
              "      <th>uniqusers</th>\n",
              "      <th>vpu</th>\n",
              "      <th>students</th>\n",
              "      <th>teachers</th>\n",
              "      <th>vps</th>\n",
              "      <th>fracstudents</th>\n",
              "    </tr>\n",
              "  </thead>\n",
              "  <tbody>\n",
              "    <tr>\n",
              "      <th>4276</th>\n",
              "      <td>141</td>\n",
              "      <td>assign</td>\n",
              "      <td>3141174</td>\n",
              "      <td>1168.0</td>\n",
              "      <td>46.0</td>\n",
              "      <td>25.391304</td>\n",
              "      <td>49</td>\n",
              "      <td>2</td>\n",
              "      <td>23.836735</td>\n",
              "      <td>0.938776</td>\n",
              "    </tr>\n",
              "    <tr>\n",
              "      <th>1804</th>\n",
              "      <td>52</td>\n",
              "      <td>forum</td>\n",
              "      <td>3196723</td>\n",
              "      <td>128.0</td>\n",
              "      <td>32.0</td>\n",
              "      <td>4.000000</td>\n",
              "      <td>39</td>\n",
              "      <td>4</td>\n",
              "      <td>3.282051</td>\n",
              "      <td>0.820513</td>\n",
              "    </tr>\n",
              "    <tr>\n",
              "      <th>3195</th>\n",
              "      <td>93</td>\n",
              "      <td>folder</td>\n",
              "      <td>3271421</td>\n",
              "      <td>44.0</td>\n",
              "      <td>27.0</td>\n",
              "      <td>1.629630</td>\n",
              "      <td>101</td>\n",
              "      <td>2</td>\n",
              "      <td>0.435644</td>\n",
              "      <td>0.267327</td>\n",
              "    </tr>\n",
              "  </tbody>\n",
              "</table>\n",
              "</div>"
            ],
            "text/plain": [
              "      course    name     cmid  ...  teachers        vps  fracstudents\n",
              "4276     141  assign  3141174  ...         2  23.836735      0.938776\n",
              "1804      52   forum  3196723  ...         4   3.282051      0.820513\n",
              "3195      93  folder  3271421  ...         2   0.435644      0.267327\n",
              "\n",
              "[3 rows x 10 columns]"
            ]
          },
          "metadata": {},
          "execution_count": 3
        }
      ]
    },
    {
      "cell_type": "code",
      "metadata": {
        "colab": {
          "base_uri": "https://localhost:8080/",
          "height": 142
        },
        "id": "3fbopM_q5Wnd",
        "outputId": "ae9e3aa4-de2c-4059-8ca0-6922d5ff23b5"
      },
      "source": [
        "url3 = \"https://raw.githubusercontent.com/atp/edisc-analytics/main/data/processed/mv-2020-FEA.csv\"\n",
        "base_FEA = pd.read_csv(url3)\n",
        "base_FEA.sample(3)"
      ],
      "execution_count": 4,
      "outputs": [
        {
          "output_type": "execute_result",
          "data": {
            "text/html": [
              "<div>\n",
              "<style scoped>\n",
              "    .dataframe tbody tr th:only-of-type {\n",
              "        vertical-align: middle;\n",
              "    }\n",
              "\n",
              "    .dataframe tbody tr th {\n",
              "        vertical-align: top;\n",
              "    }\n",
              "\n",
              "    .dataframe thead th {\n",
              "        text-align: right;\n",
              "    }\n",
              "</style>\n",
              "<table border=\"1\" class=\"dataframe\">\n",
              "  <thead>\n",
              "    <tr style=\"text-align: right;\">\n",
              "      <th></th>\n",
              "      <th>course</th>\n",
              "      <th>name</th>\n",
              "      <th>cmid</th>\n",
              "      <th>views</th>\n",
              "      <th>uniqusers</th>\n",
              "      <th>vpu</th>\n",
              "      <th>students</th>\n",
              "      <th>teachers</th>\n",
              "      <th>vps</th>\n",
              "      <th>fracstudents</th>\n",
              "    </tr>\n",
              "  </thead>\n",
              "  <tbody>\n",
              "    <tr>\n",
              "      <th>7070</th>\n",
              "      <td>118</td>\n",
              "      <td>resource</td>\n",
              "      <td>3053426</td>\n",
              "      <td>0.0</td>\n",
              "      <td>0.0</td>\n",
              "      <td>0.000000</td>\n",
              "      <td>181</td>\n",
              "      <td>5</td>\n",
              "      <td>0.000000</td>\n",
              "      <td>0.000000</td>\n",
              "    </tr>\n",
              "    <tr>\n",
              "      <th>25397</th>\n",
              "      <td>483</td>\n",
              "      <td>resource</td>\n",
              "      <td>2883256</td>\n",
              "      <td>51.0</td>\n",
              "      <td>21.0</td>\n",
              "      <td>2.428571</td>\n",
              "      <td>37</td>\n",
              "      <td>6</td>\n",
              "      <td>1.378378</td>\n",
              "      <td>0.567568</td>\n",
              "    </tr>\n",
              "    <tr>\n",
              "      <th>8940</th>\n",
              "      <td>164</td>\n",
              "      <td>resource</td>\n",
              "      <td>2746760</td>\n",
              "      <td>196.0</td>\n",
              "      <td>77.0</td>\n",
              "      <td>2.545455</td>\n",
              "      <td>120</td>\n",
              "      <td>3</td>\n",
              "      <td>1.633333</td>\n",
              "      <td>0.641667</td>\n",
              "    </tr>\n",
              "  </tbody>\n",
              "</table>\n",
              "</div>"
            ],
            "text/plain": [
              "       course      name     cmid  ...  teachers       vps  fracstudents\n",
              "7070      118  resource  3053426  ...         5  0.000000      0.000000\n",
              "25397     483  resource  2883256  ...         6  1.378378      0.567568\n",
              "8940      164  resource  2746760  ...         3  1.633333      0.641667\n",
              "\n",
              "[3 rows x 10 columns]"
            ]
          },
          "metadata": {},
          "execution_count": 4
        }
      ]
    },
    {
      "cell_type": "code",
      "metadata": {
        "colab": {
          "base_uri": "https://localhost:8080/",
          "height": 142
        },
        "id": "ttsAJZbk5rZC",
        "outputId": "d15f22be-b652-40c2-b71a-6083414ee3e4"
      },
      "source": [
        "url4 = \"https://raw.githubusercontent.com/atp/edisc-analytics/main/data/processed/mv-2020-FFLCH.csv\"\n",
        "base_FFLCH = pd.read_csv(url4)\n",
        "base_FFLCH.sample(3)"
      ],
      "execution_count": 5,
      "outputs": [
        {
          "output_type": "execute_result",
          "data": {
            "text/html": [
              "<div>\n",
              "<style scoped>\n",
              "    .dataframe tbody tr th:only-of-type {\n",
              "        vertical-align: middle;\n",
              "    }\n",
              "\n",
              "    .dataframe tbody tr th {\n",
              "        vertical-align: top;\n",
              "    }\n",
              "\n",
              "    .dataframe thead th {\n",
              "        text-align: right;\n",
              "    }\n",
              "</style>\n",
              "<table border=\"1\" class=\"dataframe\">\n",
              "  <thead>\n",
              "    <tr style=\"text-align: right;\">\n",
              "      <th></th>\n",
              "      <th>course</th>\n",
              "      <th>name</th>\n",
              "      <th>cmid</th>\n",
              "      <th>views</th>\n",
              "      <th>uniqusers</th>\n",
              "      <th>vpu</th>\n",
              "      <th>students</th>\n",
              "      <th>teachers</th>\n",
              "      <th>vps</th>\n",
              "      <th>fracstudents</th>\n",
              "    </tr>\n",
              "  </thead>\n",
              "  <tbody>\n",
              "    <tr>\n",
              "      <th>11900</th>\n",
              "      <td>272</td>\n",
              "      <td>resource</td>\n",
              "      <td>2823875</td>\n",
              "      <td>0.0</td>\n",
              "      <td>0.0</td>\n",
              "      <td>0.000000</td>\n",
              "      <td>8</td>\n",
              "      <td>1</td>\n",
              "      <td>0.000000</td>\n",
              "      <td>0.000000</td>\n",
              "    </tr>\n",
              "    <tr>\n",
              "      <th>4582</th>\n",
              "      <td>121</td>\n",
              "      <td>url</td>\n",
              "      <td>3172901</td>\n",
              "      <td>23.0</td>\n",
              "      <td>16.0</td>\n",
              "      <td>1.437500</td>\n",
              "      <td>119</td>\n",
              "      <td>1</td>\n",
              "      <td>0.193277</td>\n",
              "      <td>0.134454</td>\n",
              "    </tr>\n",
              "    <tr>\n",
              "      <th>1913</th>\n",
              "      <td>46</td>\n",
              "      <td>resource</td>\n",
              "      <td>2795973</td>\n",
              "      <td>34.0</td>\n",
              "      <td>24.0</td>\n",
              "      <td>1.416667</td>\n",
              "      <td>118</td>\n",
              "      <td>1</td>\n",
              "      <td>0.288136</td>\n",
              "      <td>0.203390</td>\n",
              "    </tr>\n",
              "  </tbody>\n",
              "</table>\n",
              "</div>"
            ],
            "text/plain": [
              "       course      name     cmid  ...  teachers       vps  fracstudents\n",
              "11900     272  resource  2823875  ...         1  0.000000      0.000000\n",
              "4582      121       url  3172901  ...         1  0.193277      0.134454\n",
              "1913       46  resource  2795973  ...         1  0.288136      0.203390\n",
              "\n",
              "[3 rows x 10 columns]"
            ]
          },
          "metadata": {},
          "execution_count": 5
        }
      ]
    },
    {
      "cell_type": "code",
      "metadata": {
        "colab": {
          "base_uri": "https://localhost:8080/",
          "height": 142
        },
        "id": "3xvYnno_6VJ4",
        "outputId": "0edee553-3b4d-43b1-97d0-6a843272acaf"
      },
      "source": [
        "url5 = \"https://raw.githubusercontent.com/atp/edisc-analytics/main/data/processed/mv-2020-FMRP.csv\"\n",
        "base_FMRP = pd.read_csv(url5)\n",
        "base_FMRP.sample(3)"
      ],
      "execution_count": 6,
      "outputs": [
        {
          "output_type": "execute_result",
          "data": {
            "text/html": [
              "<div>\n",
              "<style scoped>\n",
              "    .dataframe tbody tr th:only-of-type {\n",
              "        vertical-align: middle;\n",
              "    }\n",
              "\n",
              "    .dataframe tbody tr th {\n",
              "        vertical-align: top;\n",
              "    }\n",
              "\n",
              "    .dataframe thead th {\n",
              "        text-align: right;\n",
              "    }\n",
              "</style>\n",
              "<table border=\"1\" class=\"dataframe\">\n",
              "  <thead>\n",
              "    <tr style=\"text-align: right;\">\n",
              "      <th></th>\n",
              "      <th>course</th>\n",
              "      <th>name</th>\n",
              "      <th>cmid</th>\n",
              "      <th>views</th>\n",
              "      <th>uniqusers</th>\n",
              "      <th>vpu</th>\n",
              "      <th>students</th>\n",
              "      <th>teachers</th>\n",
              "      <th>vps</th>\n",
              "      <th>fracstudents</th>\n",
              "    </tr>\n",
              "  </thead>\n",
              "  <tbody>\n",
              "    <tr>\n",
              "      <th>29399</th>\n",
              "      <td>633</td>\n",
              "      <td>resource</td>\n",
              "      <td>3155918</td>\n",
              "      <td>1.0</td>\n",
              "      <td>1.0</td>\n",
              "      <td>1.000000</td>\n",
              "      <td>4</td>\n",
              "      <td>3</td>\n",
              "      <td>0.250000</td>\n",
              "      <td>0.250000</td>\n",
              "    </tr>\n",
              "    <tr>\n",
              "      <th>9099</th>\n",
              "      <td>162</td>\n",
              "      <td>resource</td>\n",
              "      <td>2820759</td>\n",
              "      <td>45.0</td>\n",
              "      <td>31.0</td>\n",
              "      <td>1.451613</td>\n",
              "      <td>35</td>\n",
              "      <td>4</td>\n",
              "      <td>1.285714</td>\n",
              "      <td>0.885714</td>\n",
              "    </tr>\n",
              "    <tr>\n",
              "      <th>8195</th>\n",
              "      <td>145</td>\n",
              "      <td>url</td>\n",
              "      <td>2826756</td>\n",
              "      <td>89.0</td>\n",
              "      <td>54.0</td>\n",
              "      <td>1.648148</td>\n",
              "      <td>62</td>\n",
              "      <td>3</td>\n",
              "      <td>1.435484</td>\n",
              "      <td>0.870968</td>\n",
              "    </tr>\n",
              "  </tbody>\n",
              "</table>\n",
              "</div>"
            ],
            "text/plain": [
              "       course      name     cmid  ...  teachers       vps  fracstudents\n",
              "29399     633  resource  3155918  ...         3  0.250000      0.250000\n",
              "9099      162  resource  2820759  ...         4  1.285714      0.885714\n",
              "8195      145       url  2826756  ...         3  1.435484      0.870968\n",
              "\n",
              "[3 rows x 10 columns]"
            ]
          },
          "metadata": {},
          "execution_count": 6
        }
      ]
    },
    {
      "cell_type": "code",
      "metadata": {
        "colab": {
          "base_uri": "https://localhost:8080/",
          "height": 142
        },
        "id": "Z6uNvsAp6SEq",
        "outputId": "6bc0577a-ff10-4e48-9f6b-88cebf8698c2"
      },
      "source": [
        "url6 = \"https://raw.githubusercontent.com/atp/edisc-analytics/main/data/processed/mv-2020-IF.csv\"\n",
        "base_IF = pd.read_csv(url6)\n",
        "base_IF.sample(3)"
      ],
      "execution_count": 7,
      "outputs": [
        {
          "output_type": "execute_result",
          "data": {
            "text/html": [
              "<div>\n",
              "<style scoped>\n",
              "    .dataframe tbody tr th:only-of-type {\n",
              "        vertical-align: middle;\n",
              "    }\n",
              "\n",
              "    .dataframe tbody tr th {\n",
              "        vertical-align: top;\n",
              "    }\n",
              "\n",
              "    .dataframe thead th {\n",
              "        text-align: right;\n",
              "    }\n",
              "</style>\n",
              "<table border=\"1\" class=\"dataframe\">\n",
              "  <thead>\n",
              "    <tr style=\"text-align: right;\">\n",
              "      <th></th>\n",
              "      <th>course</th>\n",
              "      <th>name</th>\n",
              "      <th>cmid</th>\n",
              "      <th>views</th>\n",
              "      <th>uniqusers</th>\n",
              "      <th>vpu</th>\n",
              "      <th>students</th>\n",
              "      <th>teachers</th>\n",
              "      <th>vps</th>\n",
              "      <th>fracstudents</th>\n",
              "    </tr>\n",
              "  </thead>\n",
              "  <tbody>\n",
              "    <tr>\n",
              "      <th>1751</th>\n",
              "      <td>35</td>\n",
              "      <td>folder</td>\n",
              "      <td>2856147</td>\n",
              "      <td>150.0</td>\n",
              "      <td>67.0</td>\n",
              "      <td>2.238806</td>\n",
              "      <td>177</td>\n",
              "      <td>5</td>\n",
              "      <td>0.847458</td>\n",
              "      <td>0.378531</td>\n",
              "    </tr>\n",
              "    <tr>\n",
              "      <th>586</th>\n",
              "      <td>12</td>\n",
              "      <td>url</td>\n",
              "      <td>2887479</td>\n",
              "      <td>1.0</td>\n",
              "      <td>1.0</td>\n",
              "      <td>1.000000</td>\n",
              "      <td>15</td>\n",
              "      <td>1</td>\n",
              "      <td>0.066667</td>\n",
              "      <td>0.066667</td>\n",
              "    </tr>\n",
              "    <tr>\n",
              "      <th>5558</th>\n",
              "      <td>96</td>\n",
              "      <td>quiz</td>\n",
              "      <td>3177635</td>\n",
              "      <td>2273.0</td>\n",
              "      <td>100.0</td>\n",
              "      <td>22.730000</td>\n",
              "      <td>130</td>\n",
              "      <td>8</td>\n",
              "      <td>17.484615</td>\n",
              "      <td>0.769231</td>\n",
              "    </tr>\n",
              "  </tbody>\n",
              "</table>\n",
              "</div>"
            ],
            "text/plain": [
              "      course    name     cmid  ...  teachers        vps  fracstudents\n",
              "1751      35  folder  2856147  ...         5   0.847458      0.378531\n",
              "586       12     url  2887479  ...         1   0.066667      0.066667\n",
              "5558      96    quiz  3177635  ...         8  17.484615      0.769231\n",
              "\n",
              "[3 rows x 10 columns]"
            ]
          },
          "metadata": {},
          "execution_count": 7
        }
      ]
    },
    {
      "cell_type": "code",
      "metadata": {
        "colab": {
          "base_uri": "https://localhost:8080/",
          "height": 204
        },
        "id": "8FArlu6s-B_E",
        "outputId": "ae729553-aef7-4512-f296-7154b3707fc0"
      },
      "source": [
        "url7 = \"https://raw.githubusercontent.com/atp/edisc-analytics/main/data/processed/matrcurso.csv\"\n",
        "matrcurso = pd.read_csv(url7)\n",
        "matrcurso['sglund'] = matrcurso['sglund'].astype('object')\n",
        "matrcurso.rename(columns={'sglund':'unidade'}, inplace = True)\n",
        "matrcurso.sample(5)"
      ],
      "execution_count": 8,
      "outputs": [
        {
          "output_type": "execute_result",
          "data": {
            "text/html": [
              "<div>\n",
              "<style scoped>\n",
              "    .dataframe tbody tr th:only-of-type {\n",
              "        vertical-align: middle;\n",
              "    }\n",
              "\n",
              "    .dataframe tbody tr th {\n",
              "        vertical-align: top;\n",
              "    }\n",
              "\n",
              "    .dataframe thead th {\n",
              "        text-align: right;\n",
              "    }\n",
              "</style>\n",
              "<table border=\"1\" class=\"dataframe\">\n",
              "  <thead>\n",
              "    <tr style=\"text-align: right;\">\n",
              "      <th></th>\n",
              "      <th>ano</th>\n",
              "      <th>sem</th>\n",
              "      <th>codclg</th>\n",
              "      <th>codcur</th>\n",
              "      <th>codhab</th>\n",
              "      <th>staalu</th>\n",
              "      <th>codund</th>\n",
              "      <th>unidade</th>\n",
              "      <th>nomcur</th>\n",
              "      <th>nomhab</th>\n",
              "      <th>matr</th>\n",
              "    </tr>\n",
              "  </thead>\n",
              "  <tbody>\n",
              "    <tr>\n",
              "      <th>7029</th>\n",
              "      <td>2012</td>\n",
              "      <td>2</td>\n",
              "      <td>11</td>\n",
              "      <td>11070</td>\n",
              "      <td>104</td>\n",
              "      <td>M</td>\n",
              "      <td>11</td>\n",
              "      <td>ESALQ</td>\n",
              "      <td>Ciências Biológicas</td>\n",
              "      <td>Licenciatura em Ciências Biológicas</td>\n",
              "      <td>3</td>\n",
              "    </tr>\n",
              "    <tr>\n",
              "      <th>12056</th>\n",
              "      <td>2017</td>\n",
              "      <td>1</td>\n",
              "      <td>44</td>\n",
              "      <td>44100</td>\n",
              "      <td>4</td>\n",
              "      <td>M</td>\n",
              "      <td>44</td>\n",
              "      <td>IGc</td>\n",
              "      <td>Licenciatura em Geociências e Educação Ambiental</td>\n",
              "      <td>Licenciatura em Geociências e Educação Ambiental</td>\n",
              "      <td>149</td>\n",
              "    </tr>\n",
              "    <tr>\n",
              "      <th>10854</th>\n",
              "      <td>2013</td>\n",
              "      <td>1</td>\n",
              "      <td>39</td>\n",
              "      <td>Sem cadastro</td>\n",
              "      <td>Sem cadastro</td>\n",
              "      <td>M</td>\n",
              "      <td>39</td>\n",
              "      <td>EEFE</td>\n",
              "      <td>NaN</td>\n",
              "      <td>NaN</td>\n",
              "      <td>16</td>\n",
              "    </tr>\n",
              "    <tr>\n",
              "      <th>16761</th>\n",
              "      <td>2017</td>\n",
              "      <td>2</td>\n",
              "      <td>81</td>\n",
              "      <td>Sem cadastro</td>\n",
              "      <td>Sem cadastro</td>\n",
              "      <td>M</td>\n",
              "      <td>81</td>\n",
              "      <td>FEARP</td>\n",
              "      <td>NaN</td>\n",
              "      <td>NaN</td>\n",
              "      <td>41</td>\n",
              "    </tr>\n",
              "    <tr>\n",
              "      <th>7901</th>\n",
              "      <td>2020</td>\n",
              "      <td>1</td>\n",
              "      <td>14</td>\n",
              "      <td>14030</td>\n",
              "      <td>1</td>\n",
              "      <td>M</td>\n",
              "      <td>14</td>\n",
              "      <td>IAG</td>\n",
              "      <td>Bacharelado em Astronomia</td>\n",
              "      <td>Bacharelado em Astronomia</td>\n",
              "      <td>95</td>\n",
              "    </tr>\n",
              "  </tbody>\n",
              "</table>\n",
              "</div>"
            ],
            "text/plain": [
              "        ano  sem  ...                                            nomhab matr\n",
              "7029   2012    2  ...               Licenciatura em Ciências Biológicas    3\n",
              "12056  2017    1  ...  Licenciatura em Geociências e Educação Ambiental  149\n",
              "10854  2013    1  ...                                               NaN   16\n",
              "16761  2017    2  ...                                               NaN   41\n",
              "7901   2020    1  ...                         Bacharelado em Astronomia   95\n",
              "\n",
              "[5 rows x 11 columns]"
            ]
          },
          "metadata": {},
          "execution_count": 8
        }
      ]
    },
    {
      "cell_type": "code",
      "metadata": {
        "colab": {
          "base_uri": "https://localhost:8080/"
        },
        "id": "ll-s1rgA4BvU",
        "outputId": "59daadbb-848e-4112-ca9c-c454bfa713d7"
      },
      "source": [
        "base_IF.info()"
      ],
      "execution_count": 9,
      "outputs": [
        {
          "output_type": "stream",
          "text": [
            "<class 'pandas.core.frame.DataFrame'>\n",
            "RangeIndex: 7535 entries, 0 to 7534\n",
            "Data columns (total 10 columns):\n",
            " #   Column        Non-Null Count  Dtype  \n",
            "---  ------        --------------  -----  \n",
            " 0   course        7535 non-null   int64  \n",
            " 1   name          7535 non-null   object \n",
            " 2   cmid          7535 non-null   int64  \n",
            " 3   views         7535 non-null   float64\n",
            " 4   uniqusers     7535 non-null   float64\n",
            " 5   vpu           7535 non-null   float64\n",
            " 6   students      7535 non-null   int64  \n",
            " 7   teachers      7535 non-null   int64  \n",
            " 8   vps           7534 non-null   float64\n",
            " 9   fracstudents  7534 non-null   float64\n",
            "dtypes: float64(5), int64(4), object(1)\n",
            "memory usage: 588.8+ KB\n"
          ],
          "name": "stdout"
        }
      ]
    },
    {
      "cell_type": "code",
      "metadata": {
        "colab": {
          "base_uri": "https://localhost:8080/"
        },
        "id": "rp1koVMu8Hxr",
        "outputId": "6d6d3723-73d2-4fa0-e6f1-1edd06393a59"
      },
      "source": [
        "soma_views_FD = base_FD['views'].sum()\n",
        "soma_views_FE = base_FE['views'].sum()\n",
        "soma_views_FEA = base_FEA['views'].sum()\n",
        "soma_views_FFLCH = base_FFLCH['views'].sum()\n",
        "soma_views_FMRP = base_FMRP['views'].sum()\n",
        "soma_views_IF = base_IF['views'].sum()\n",
        "print(\"A soma do views do IF: \",soma_views_IF)"
      ],
      "execution_count": 10,
      "outputs": [
        {
          "output_type": "stream",
          "text": [
            "A soma do views do IF:  2822222.0\n"
          ],
          "name": "stdout"
        }
      ]
    },
    {
      "cell_type": "code",
      "metadata": {
        "colab": {
          "base_uri": "https://localhost:8080/",
          "height": 467
        },
        "id": "vkrgNUew9rzf",
        "outputId": "2380f225-2547-488d-8665-fcbcc1aa1835"
      },
      "source": [
        "NM = matrcurso.groupby(['unidade','ano'])['matr'].sum() #corrigido!\n",
        "print(\"Tabela coma soma de matriculados por unidades e ano\")\n",
        "Soma_matriculados = pd.DataFrame(NM)\n",
        "Soma_matriculados"
      ],
      "execution_count": 11,
      "outputs": [
        {
          "output_type": "stream",
          "text": [
            "Tabela coma soma de matriculados por unidades e ano\n"
          ],
          "name": "stdout"
        },
        {
          "output_type": "execute_result",
          "data": {
            "text/html": [
              "<div>\n",
              "<style scoped>\n",
              "    .dataframe tbody tr th:only-of-type {\n",
              "        vertical-align: middle;\n",
              "    }\n",
              "\n",
              "    .dataframe tbody tr th {\n",
              "        vertical-align: top;\n",
              "    }\n",
              "\n",
              "    .dataframe thead th {\n",
              "        text-align: right;\n",
              "    }\n",
              "</style>\n",
              "<table border=\"1\" class=\"dataframe\">\n",
              "  <thead>\n",
              "    <tr style=\"text-align: right;\">\n",
              "      <th></th>\n",
              "      <th></th>\n",
              "      <th>matr</th>\n",
              "    </tr>\n",
              "    <tr>\n",
              "      <th>unidade</th>\n",
              "      <th>ano</th>\n",
              "      <th></th>\n",
              "    </tr>\n",
              "  </thead>\n",
              "  <tbody>\n",
              "    <tr>\n",
              "      <th rowspan=\"5\" valign=\"top\">CENA</th>\n",
              "      <th>2012</th>\n",
              "      <td>9</td>\n",
              "    </tr>\n",
              "    <tr>\n",
              "      <th>2013</th>\n",
              "      <td>9</td>\n",
              "    </tr>\n",
              "    <tr>\n",
              "      <th>2014</th>\n",
              "      <td>13</td>\n",
              "    </tr>\n",
              "    <tr>\n",
              "      <th>2015</th>\n",
              "      <td>8</td>\n",
              "    </tr>\n",
              "    <tr>\n",
              "      <th>2016</th>\n",
              "      <td>7</td>\n",
              "    </tr>\n",
              "    <tr>\n",
              "      <th>...</th>\n",
              "      <th>...</th>\n",
              "      <td>...</td>\n",
              "    </tr>\n",
              "    <tr>\n",
              "      <th rowspan=\"5\" valign=\"top\">RUSP</th>\n",
              "      <th>2016</th>\n",
              "      <td>932</td>\n",
              "    </tr>\n",
              "    <tr>\n",
              "      <th>2017</th>\n",
              "      <td>664</td>\n",
              "    </tr>\n",
              "    <tr>\n",
              "      <th>2018</th>\n",
              "      <td>450</td>\n",
              "    </tr>\n",
              "    <tr>\n",
              "      <th>2019</th>\n",
              "      <td>328</td>\n",
              "    </tr>\n",
              "    <tr>\n",
              "      <th>2020</th>\n",
              "      <td>136</td>\n",
              "    </tr>\n",
              "  </tbody>\n",
              "</table>\n",
              "<p>448 rows × 1 columns</p>\n",
              "</div>"
            ],
            "text/plain": [
              "              matr\n",
              "unidade ano       \n",
              "CENA    2012     9\n",
              "        2013     9\n",
              "        2014    13\n",
              "        2015     8\n",
              "        2016     7\n",
              "...            ...\n",
              "RUSP    2016   932\n",
              "        2017   664\n",
              "        2018   450\n",
              "        2019   328\n",
              "        2020   136\n",
              "\n",
              "[448 rows x 1 columns]"
            ]
          },
          "metadata": {},
          "execution_count": 11
        }
      ]
    },
    {
      "cell_type": "code",
      "metadata": {
        "colab": {
          "base_uri": "https://localhost:8080/"
        },
        "id": "zOarjYeiGIU8",
        "outputId": "afef1521-0854-4c86-c76d-ed67279b8d28"
      },
      "source": [
        "alunos_FDD = Soma_matriculados.query('unidade == \"FD\" and ano == \"2020\"')\n",
        "alunos_FDD  = alunos_FDD['matr']\n",
        "alunos_FDD"
      ],
      "execution_count": 12,
      "outputs": [
        {
          "output_type": "execute_result",
          "data": {
            "text/plain": [
              "unidade  ano \n",
              "FD       2020    2542\n",
              "Name: matr, dtype: int64"
            ]
          },
          "metadata": {},
          "execution_count": 12
        }
      ]
    },
    {
      "cell_type": "code",
      "metadata": {
        "colab": {
          "base_uri": "https://localhost:8080/"
        },
        "id": "U3THIntGBQ3y",
        "outputId": "4a64fd40-17f6-421c-9d0b-e8af2eb47420"
      },
      "source": [
        "alunos_FD = Soma_matriculados.query('unidade == \"FD\" and ano == \"2020\"')['matr']\n",
        "alunos_FE = Soma_matriculados.query('unidade == \"FE\" and ano == \"2020\"')['matr']\n",
        "alunos_FEA = Soma_matriculados.query('unidade == \"FEA\" and ano == \"2020\"')['matr']\n",
        "alunos_FFLCH = Soma_matriculados.query('unidade == \"FFLCH\" and ano == \"2020\"')['matr']\n",
        "alunos_FMRP = Soma_matriculados.query('unidade == \"FMRP\" and ano == \"2020\"')['matr']\n",
        "alunos_IF = Soma_matriculados.query('unidade == \"IF\" and ano == \"2020\"')['matr']\n",
        "print(alunos_FD, alunos_FE, alunos_FEA, alunos_FFLCH, alunos_FMRP, alunos_IF)"
      ],
      "execution_count": 13,
      "outputs": [
        {
          "output_type": "stream",
          "text": [
            "unidade  ano \n",
            "FD       2020    2542\n",
            "Name: matr, dtype: int64 unidade  ano \n",
            "FE       2020    1186\n",
            "Name: matr, dtype: int64 unidade  ano \n",
            "FEA      2020    3166\n",
            "Name: matr, dtype: int64 unidade  ano \n",
            "FFLCH    2020    9927\n",
            "Name: matr, dtype: int64 unidade  ano \n",
            "FMRP     2020    1435\n",
            "Name: matr, dtype: int64 unidade  ano \n",
            "IF       2020    1437\n",
            "Name: matr, dtype: int64\n"
          ],
          "name": "stdout"
        }
      ]
    },
    {
      "cell_type": "markdown",
      "metadata": {
        "id": "Nsfd4kC6GhXp"
      },
      "source": [
        "#**Cliques por alunos**"
      ]
    },
    {
      "cell_type": "code",
      "metadata": {
        "colab": {
          "base_uri": "https://localhost:8080/"
        },
        "id": "BRtXfjeDGgog",
        "outputId": "707d5673-371a-48db-a54b-aa745251104e"
      },
      "source": [
        "clicks_por_alunos_FD = soma_views_FD/alunos_FD\n",
        "clicks_por_alunos_FE = soma_views_FE/alunos_FE\n",
        "clicks_por_alunos_FEA = soma_views_FEA/alunos_FEA\n",
        "clicks_por_alunos_FFLCH = soma_views_FFLCH/alunos_FFLCH\n",
        "clicks_por_alunos_FMRP = soma_views_FMRP/alunos_FMRP\n",
        "clicks_por_alunos_IF = soma_views_IF/alunos_IF\n",
        "print(clicks_por_alunos_FD, clicks_por_alunos_FE, clicks_por_alunos_FEA, clicks_por_alunos_FFLCH, clicks_por_alunos_FMRP, clicks_por_alunos_IF)"
      ],
      "execution_count": 14,
      "outputs": [
        {
          "output_type": "stream",
          "text": [
            "unidade  ano \n",
            "FD       2020    1133.196696\n",
            "Name: matr, dtype: float64 unidade  ano \n",
            "FE       2020    387.440135\n",
            "Name: matr, dtype: float64 unidade  ano \n",
            "FEA      2020    1607.000316\n",
            "Name: matr, dtype: float64 unidade  ano \n",
            "FFLCH    2020    379.313589\n",
            "Name: matr, dtype: float64 unidade  ano \n",
            "FMRP     2020    2869.519861\n",
            "Name: matr, dtype: float64 unidade  ano \n",
            "IF       2020    1963.967989\n",
            "Name: matr, dtype: float64\n"
          ],
          "name": "stdout"
        }
      ]
    },
    {
      "cell_type": "code",
      "metadata": {
        "colab": {
          "base_uri": "https://localhost:8080/",
          "height": 266
        },
        "id": "IrARhSvTH_Pu",
        "outputId": "34cd3de8-da5a-46c0-8acf-2d78d95f7404"
      },
      "source": [
        "clicks_por_alunos_teste= pd.concat([clicks_por_alunos_FD, clicks_por_alunos_FE, clicks_por_alunos_FEA, clicks_por_alunos_FFLCH, clicks_por_alunos_FMRP, clicks_por_alunos_IF],axis = 0)\n",
        "clicks_por_alunos_teste\n",
        "clicks_por_alunos = pd.DataFrame(clicks_por_alunos_teste)\n",
        "clicks_por_alunos.rename(columns={'matr':'Clicks/Matr'}, inplace = True)\n",
        "clicks_por_alunos"
      ],
      "execution_count": 28,
      "outputs": [
        {
          "output_type": "execute_result",
          "data": {
            "text/html": [
              "<div>\n",
              "<style scoped>\n",
              "    .dataframe tbody tr th:only-of-type {\n",
              "        vertical-align: middle;\n",
              "    }\n",
              "\n",
              "    .dataframe tbody tr th {\n",
              "        vertical-align: top;\n",
              "    }\n",
              "\n",
              "    .dataframe thead th {\n",
              "        text-align: right;\n",
              "    }\n",
              "</style>\n",
              "<table border=\"1\" class=\"dataframe\">\n",
              "  <thead>\n",
              "    <tr style=\"text-align: right;\">\n",
              "      <th></th>\n",
              "      <th></th>\n",
              "      <th>Clicks/Matr</th>\n",
              "    </tr>\n",
              "    <tr>\n",
              "      <th>unidade</th>\n",
              "      <th>ano</th>\n",
              "      <th></th>\n",
              "    </tr>\n",
              "  </thead>\n",
              "  <tbody>\n",
              "    <tr>\n",
              "      <th>FD</th>\n",
              "      <th>2020</th>\n",
              "      <td>1133.196696</td>\n",
              "    </tr>\n",
              "    <tr>\n",
              "      <th>FE</th>\n",
              "      <th>2020</th>\n",
              "      <td>387.440135</td>\n",
              "    </tr>\n",
              "    <tr>\n",
              "      <th>FEA</th>\n",
              "      <th>2020</th>\n",
              "      <td>1607.000316</td>\n",
              "    </tr>\n",
              "    <tr>\n",
              "      <th>FFLCH</th>\n",
              "      <th>2020</th>\n",
              "      <td>379.313589</td>\n",
              "    </tr>\n",
              "    <tr>\n",
              "      <th>FMRP</th>\n",
              "      <th>2020</th>\n",
              "      <td>2869.519861</td>\n",
              "    </tr>\n",
              "    <tr>\n",
              "      <th>IF</th>\n",
              "      <th>2020</th>\n",
              "      <td>1963.967989</td>\n",
              "    </tr>\n",
              "  </tbody>\n",
              "</table>\n",
              "</div>"
            ],
            "text/plain": [
              "              Clicks/Matr\n",
              "unidade ano              \n",
              "FD      2020  1133.196696\n",
              "FE      2020   387.440135\n",
              "FEA     2020  1607.000316\n",
              "FFLCH   2020   379.313589\n",
              "FMRP    2020  2869.519861\n",
              "IF      2020  1963.967989"
            ]
          },
          "metadata": {},
          "execution_count": 28
        }
      ]
    },
    {
      "cell_type": "code",
      "metadata": {
        "colab": {
          "base_uri": "https://localhost:8080/",
          "height": 342
        },
        "id": "i5htiZ5DMOea",
        "outputId": "f2a71227-e0b7-45d1-e791-c5fd1399101c"
      },
      "source": [
        "clicks_por_alunos.sort_values(\"Clicks/Matr\").plot(kind='bar', color=\"c\")\n",
        "plt.title('Média de Clicks por matriculados', fontsize=16)\n",
        "plt.tick_params(labelsize=12)\n",
        "plt.xticks(rotation=30)\n",
        "plt.show()"
      ],
      "execution_count": 35,
      "outputs": [
        {
          "output_type": "display_data",
          "data": {
            "image/png": "[encoded data removed]",
            "text/plain": [
              "<Figure size 432x288 with 1 Axes>"
            ]
          },
          "metadata": {
            "needs_background": "light"
          }
        }
      ]
    },
    {
      "cell_type": "markdown",
      "metadata": {
        "id": "nAiessKCeRWD"
      },
      "source": [
        "#**Cliques por modulos**"
      ]
    },
    {
      "cell_type": "code",
      "metadata": {
        "colab": {
          "base_uri": "https://localhost:8080/"
        },
        "id": "ZgkPuF5tgoDW",
        "outputId": "700beadc-da4c-4d3a-ae40-89d10e4bb133"
      },
      "source": [
        "soma_mod_FD = base_FD.count()\n",
        "soma_mod_FE = base_FE.count()\n",
        "soma_mod_FEA = base_FEA.count()\n",
        "soma_mod_FFLCH = base_FFLCH.count()\n",
        "soma_mod_FMRP = base_FMRP.count()\n",
        "soma_mod_IF = base_IF.count()\n",
        "print(soma_mod_FD, soma_mod_FE, soma_mod_FEA, soma_mod_FFLCH, soma_mod_FMRP, soma_mod_IF )"
      ],
      "execution_count": 17,
      "outputs": [
        {
          "output_type": "stream",
          "text": [
            "course          17438\n",
            "name            17438\n",
            "cmid            17438\n",
            "views           17438\n",
            "uniqusers       17438\n",
            "vpu             17438\n",
            "students        17438\n",
            "teachers        17438\n",
            "vps             17403\n",
            "fracstudents    17403\n",
            "dtype: int64 course          4852\n",
            "name            4852\n",
            "cmid            4852\n",
            "views           4852\n",
            "uniqusers       4852\n",
            "vpu             4852\n",
            "students        4852\n",
            "teachers        4852\n",
            "vps             4849\n",
            "fracstudents    4849\n",
            "dtype: int64 course          26454\n",
            "name            26454\n",
            "cmid            26454\n",
            "views           26454\n",
            "uniqusers       26454\n",
            "vpu             26454\n",
            "students        26454\n",
            "teachers        26454\n",
            "vps             26444\n",
            "fracstudents    26444\n",
            "dtype: int64 course          33023\n",
            "name            33023\n",
            "cmid            33023\n",
            "views           33023\n",
            "uniqusers       33023\n",
            "vpu             33023\n",
            "students        33023\n",
            "teachers        33023\n",
            "vps             32875\n",
            "fracstudents    32875\n",
            "dtype: int64 course          31015\n",
            "name            31015\n",
            "cmid            31015\n",
            "views           31015\n",
            "uniqusers       31015\n",
            "vpu             31015\n",
            "students        31015\n",
            "teachers        31015\n",
            "vps             29514\n",
            "fracstudents    29514\n",
            "dtype: int64 course          7535\n",
            "name            7535\n",
            "cmid            7535\n",
            "views           7535\n",
            "uniqusers       7535\n",
            "vpu             7535\n",
            "students        7535\n",
            "teachers        7535\n",
            "vps             7534\n",
            "fracstudents    7534\n",
            "dtype: int64\n"
          ],
          "name": "stdout"
        }
      ]
    },
    {
      "cell_type": "code",
      "metadata": {
        "colab": {
          "base_uri": "https://localhost:8080/"
        },
        "id": "Xyhniu5SheqU",
        "outputId": "072978e9-f6aa-42d6-c34c-a53b5d2b28d5"
      },
      "source": [
        "base_FD.shape"
      ],
      "execution_count": 18,
      "outputs": [
        {
          "output_type": "execute_result",
          "data": {
            "text/plain": [
              "(17438, 10)"
            ]
          },
          "metadata": {},
          "execution_count": 18
        }
      ]
    },
    {
      "cell_type": "code",
      "metadata": {
        "colab": {
          "base_uri": "https://localhost:8080/"
        },
        "id": "O56VCtOHiDiI",
        "outputId": "53d0c559-ca82-491e-c0df-72592a0b32df"
      },
      "source": [
        "soma_mod_FD = base_FD['name'].count() #verificado no info, leitura correta!\n",
        "soma_mod_FE = base_FE['name'].count()\n",
        "soma_mod_FEA = base_FEA['name'].count()\n",
        "soma_mod_FFLCH = base_FFLCH['name'].count()\n",
        "soma_mod_FMRP = base_FMRP['name'].count()\n",
        "soma_mod_IF = base_IF['name'].count()\n",
        "print(soma_mod_FD, soma_mod_FE, soma_mod_FEA, soma_mod_FFLCH, soma_mod_FMRP, soma_mod_IF )"
      ],
      "execution_count": 19,
      "outputs": [
        {
          "output_type": "stream",
          "text": [
            "17438 4852 26454 33023 31015 7535\n"
          ],
          "name": "stdout"
        }
      ]
    },
    {
      "cell_type": "code",
      "metadata": {
        "colab": {
          "base_uri": "https://localhost:8080/"
        },
        "id": "WlaES4n1jVW8",
        "outputId": "2b8bf012-c249-45e7-8501-5664e5edf086"
      },
      "source": [
        "clicks_por_mod_FD = soma_views_FD/soma_mod_FD\n",
        "clicks_por_mod_FE = soma_views_FE/soma_mod_FE\n",
        "clicks_por_mod_FEA = soma_views_FEA/soma_mod_FEA\n",
        "clicks_por_mod_FFLCH = soma_views_FFLCH/soma_mod_FFLCH\n",
        "clicks_por_mod_FMRP = soma_views_FMRP/soma_mod_FMRP\n",
        "clicks_por_mod_IF = soma_views_IF/soma_mod_IF\n",
        "print(clicks_por_mod_FD, clicks_por_mod_FE, clicks_por_mod_FEA, clicks_por_mod_FFLCH, clicks_por_mod_FMRP, clicks_por_mod_IF)"
      ],
      "execution_count": 20,
      "outputs": [
        {
          "output_type": "stream",
          "text": [
            "165.19015942195205 94.7040395713108 192.3249036062599 114.02495230596857 132.76675802031275 374.54837425348376\n"
          ],
          "name": "stdout"
        }
      ]
    },
    {
      "cell_type": "code",
      "metadata": {
        "colab": {
          "base_uri": "https://localhost:8080/",
          "height": 235
        },
        "id": "SG1yYZadrSpt",
        "outputId": "4e0dda79-01f7-499b-8590-0d8e77000e70"
      },
      "source": [
        "l_clicks_mod = [clicks_por_mod_FD, clicks_por_mod_FE, clicks_por_mod_FEA, clicks_por_mod_FFLCH, clicks_por_mod_FMRP, clicks_por_mod_IF]\n",
        "list_clicks_mod =  {'Clicks/Modulo': l_clicks_mod}\n",
        "clicks_por_mod_result = pd.DataFrame(data=list_clicks_mod)\n",
        "clicks_por_mod_result"
      ],
      "execution_count": 21,
      "outputs": [
        {
          "output_type": "execute_result",
          "data": {
            "text/html": [
              "<div>\n",
              "<style scoped>\n",
              "    .dataframe tbody tr th:only-of-type {\n",
              "        vertical-align: middle;\n",
              "    }\n",
              "\n",
              "    .dataframe tbody tr th {\n",
              "        vertical-align: top;\n",
              "    }\n",
              "\n",
              "    .dataframe thead th {\n",
              "        text-align: right;\n",
              "    }\n",
              "</style>\n",
              "<table border=\"1\" class=\"dataframe\">\n",
              "  <thead>\n",
              "    <tr style=\"text-align: right;\">\n",
              "      <th></th>\n",
              "      <th>Clicks/Modulo</th>\n",
              "    </tr>\n",
              "  </thead>\n",
              "  <tbody>\n",
              "    <tr>\n",
              "      <th>0</th>\n",
              "      <td>165.190159</td>\n",
              "    </tr>\n",
              "    <tr>\n",
              "      <th>1</th>\n",
              "      <td>94.704040</td>\n",
              "    </tr>\n",
              "    <tr>\n",
              "      <th>2</th>\n",
              "      <td>192.324904</td>\n",
              "    </tr>\n",
              "    <tr>\n",
              "      <th>3</th>\n",
              "      <td>114.024952</td>\n",
              "    </tr>\n",
              "    <tr>\n",
              "      <th>4</th>\n",
              "      <td>132.766758</td>\n",
              "    </tr>\n",
              "    <tr>\n",
              "      <th>5</th>\n",
              "      <td>374.548374</td>\n",
              "    </tr>\n",
              "  </tbody>\n",
              "</table>\n",
              "</div>"
            ],
            "text/plain": [
              "   Clicks/Modulo\n",
              "0     165.190159\n",
              "1      94.704040\n",
              "2     192.324904\n",
              "3     114.024952\n",
              "4     132.766758\n",
              "5     374.548374"
            ]
          },
          "metadata": {},
          "execution_count": 21
        }
      ]
    },
    {
      "cell_type": "code",
      "metadata": {
        "colab": {
          "base_uri": "https://localhost:8080/",
          "height": 266
        },
        "id": "agkncPCyjVZ8",
        "outputId": "bb559f1e-9454-4f31-b249-a80a72ce25df"
      },
      "source": [
        "clicks_por_mod = clicks_por_alunos\n",
        "clicks_por_mod.rename(columns={'Clicks/Matr':'Clicks/Modulo'}, inplace = True)\n",
        "clicks_por_mod['Clicks/Modulo'] = clicks_por_mod_result['Clicks/Modulo'].values\n",
        "clicks_por_mod"
      ],
      "execution_count": 22,
      "outputs": [
        {
          "output_type": "execute_result",
          "data": {
            "text/html": [
              "<div>\n",
              "<style scoped>\n",
              "    .dataframe tbody tr th:only-of-type {\n",
              "        vertical-align: middle;\n",
              "    }\n",
              "\n",
              "    .dataframe tbody tr th {\n",
              "        vertical-align: top;\n",
              "    }\n",
              "\n",
              "    .dataframe thead th {\n",
              "        text-align: right;\n",
              "    }\n",
              "</style>\n",
              "<table border=\"1\" class=\"dataframe\">\n",
              "  <thead>\n",
              "    <tr style=\"text-align: right;\">\n",
              "      <th></th>\n",
              "      <th></th>\n",
              "      <th>Clicks/Modulo</th>\n",
              "    </tr>\n",
              "    <tr>\n",
              "      <th>unidade</th>\n",
              "      <th>ano</th>\n",
              "      <th></th>\n",
              "    </tr>\n",
              "  </thead>\n",
              "  <tbody>\n",
              "    <tr>\n",
              "      <th>FD</th>\n",
              "      <th>2020</th>\n",
              "      <td>165.190159</td>\n",
              "    </tr>\n",
              "    <tr>\n",
              "      <th>FE</th>\n",
              "      <th>2020</th>\n",
              "      <td>94.704040</td>\n",
              "    </tr>\n",
              "    <tr>\n",
              "      <th>FEA</th>\n",
              "      <th>2020</th>\n",
              "      <td>192.324904</td>\n",
              "    </tr>\n",
              "    <tr>\n",
              "      <th>FFLCH</th>\n",
              "      <th>2020</th>\n",
              "      <td>114.024952</td>\n",
              "    </tr>\n",
              "    <tr>\n",
              "      <th>FMRP</th>\n",
              "      <th>2020</th>\n",
              "      <td>132.766758</td>\n",
              "    </tr>\n",
              "    <tr>\n",
              "      <th>IF</th>\n",
              "      <th>2020</th>\n",
              "      <td>374.548374</td>\n",
              "    </tr>\n",
              "  </tbody>\n",
              "</table>\n",
              "</div>"
            ],
            "text/plain": [
              "              Clicks/Modulo\n",
              "unidade ano                \n",
              "FD      2020     165.190159\n",
              "FE      2020      94.704040\n",
              "FEA     2020     192.324904\n",
              "FFLCH   2020     114.024952\n",
              "FMRP    2020     132.766758\n",
              "IF      2020     374.548374"
            ]
          },
          "metadata": {},
          "execution_count": 22
        }
      ]
    },
    {
      "cell_type": "code",
      "metadata": {
        "id": "quuGwVEBb-qR",
        "outputId": "27e53076-2948-4f61-de72-d8291566c58c",
        "colab": {
          "base_uri": "https://localhost:8080/"
        }
      },
      "source": [
        "clicks_por_mod.set_index"
      ],
      "execution_count": 23,
      "outputs": [
        {
          "output_type": "execute_result",
          "data": {
            "text/plain": [
              "<bound method DataFrame.set_index of               Clicks/Modulo\n",
              "unidade ano                \n",
              "FD      2020     165.190159\n",
              "FE      2020      94.704040\n",
              "FEA     2020     192.324904\n",
              "FFLCH   2020     114.024952\n",
              "FMRP    2020     132.766758\n",
              "IF      2020     374.548374>"
            ]
          },
          "metadata": {},
          "execution_count": 23
        }
      ]
    },
    {
      "cell_type": "code",
      "metadata": {
        "colab": {
          "base_uri": "https://localhost:8080/",
          "height": 342
        },
        "id": "OLzol1PauwW4",
        "outputId": "07990ae7-194e-4b1b-f34e-db02e785aeb5"
      },
      "source": [
        "clicks_por_mod.sort_values(\"Clicks/Modulo\").plot(kind='bar', color=\"c\")\n",
        "plt.title('Média de Clicks por módulos', fontsize=16)\n",
        "plt.tick_params(labelsize=12)\n",
        "plt.xticks(rotation=30)\n",
        "plt.show()"
      ],
      "execution_count": 36,
      "outputs": [
        {
          "output_type": "display_data",
          "data": {
            "image/png": "[encoded data removed]",
            "text/plain": [
              "<Figure size 432x288 with 1 Axes>"
            ]
          },
          "metadata": {
            "needs_background": "light"
          }
        }
      ]
    },
    {
      "cell_type": "markdown",
      "metadata": {
        "id": "dDSkYr18ttED"
      },
      "source": [
        "A interpretação destes gráficos são corretas, em que podemos ver uma média de clicks para cada aluno de alguma disciplina do instituto correspondente, porém, alunos do instituto A que possui alguma matéria do instituto B soma no total de clicks do instituto A e não soma no total de matriculado do instituto A, dando um certo problema logico ao não subitrair esses alunos de \"fora\" do instituto no numero total de clicks. Com isso, a solução proposta é trabalhar com o numero de docentes e não de matriculados, calculando o numero de clicks total dos ambientes de cada instituto por docente, uma média que mostrará essa densidade de clicks e a comparação entre os institutos será mais precisa. Quanto ao clicks por modulo, esta correto. "
      ]
    }
  ]
}