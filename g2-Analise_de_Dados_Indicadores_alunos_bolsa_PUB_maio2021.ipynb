{
  "nbformat": 4,
  "nbformat_minor": 0,
  "metadata": {
    "colab": {
      "name": "Analise de Dados_Indicadores_alunos_bolsa_PUB_maio2021.ipynb",
      "provenance": []
    },
    "kernelspec": {
      "name": "python3",
      "display_name": "Python 3"
    },
    "language_info": {
      "name": "python"
    }
  },
  "cells": [
    {
      "cell_type": "markdown",
      "metadata": {
        "id": "Ms3RaPZpKaQx"
      },
      "source": [
        "# **Analises de Dados (Maio/2021) - parte 1 - E-Disciplinas USP - Bolsa PUB 2020/2021**\n",
        "Professor Orientador Dr. Ewout Ter Haar\n",
        "\n",
        "Aluno Gustavo de Andrade\n",
        "\n",
        "Este estudo é uma continuação ao projeto do Programa Unificado de Bolsa da Universidade de São Paulo de apoio pedagógico na plataforma moodle E-Disciplinas USP. Aprofundaremos as leituras do dataframe da plataforma modelando os dados de forma a normalizá-los, buscando identificar indicadores já conhecidos e buscando novos que façam sentido, introduzindo a Machine Learning como agente facilitador, padronizando e rescalonando para fim de comparação.\n",
        "Buscarei introduzir na analise o engajamento dos alunos, fazer comparações entre institutos em sua participação normalizando os dados da seguinte forma:\n",
        "\n",
        "Quando dividimos a somatoria do uso de uma ferramenta didática pelo número de matrículados, analisando por ano e por unidade obtemos uma média de uso, normalizando o uso pela quantidade de alunos, e visualizando as unidades que mais usam cada ferramenta.\n",
        "\n",
        "Este estudo, assim como os dados apresentados, são te interesse particular, com fim educacional, sendo proíbido sua reprodução em todas hipóteses, permitido apenas a visualização no próprio canal disponivel.\n"
      ]
    },
    {
      "cell_type": "code",
      "metadata": {
        "id": "8mIXtC8OLc08"
      },
      "source": [
        "import numpy as np\n",
        "import pandas as pd\n",
        "import matplotlib.pyplot as plt\n",
        "import seaborn as sns"
      ],
      "execution_count": 35,
      "outputs": []
    },
    {
      "cell_type": "markdown",
      "metadata": {
        "id": "4GiiMpLMuO8s"
      },
      "source": [
        "Este Dataframe  apresenta a contagem da quantidade de docentes, disciplinas e turmas, separadas por unidade e por ano oriunda do sistema de matrículas (Jupiterweb) da Universidade de São Paulo. "
      ]
    },
    {
      "cell_type": "code",
      "metadata": {
        "id": "oAj4Q3pjLhnk",
        "colab": {
          "base_uri": "https://localhost:8080/",
          "height": 111
        },
        "outputId": "8c08effe-7912-416a-c50a-68e22e5fa64d"
      },
      "source": [
        "url1 = \"https://raw.githubusercontent.com/atp/edisc-analytics/main/data/processed/docdistur.csv\"\n",
        "base = pd.read_csv(url1)\n",
        "base['sglund'] = base['sglund'].astype('object')\n",
        "base['ano'] = base['ano'].astype('int64')\n",
        "base.rename(columns={'sglund':'unidade'}, inplace = True)\n",
        "base = base[base[\"ano\"] > 2011]\n",
        "base.sample(2)"
      ],
      "execution_count": 36,
      "outputs": [
        {
          "output_type": "execute_result",
          "data": {
            "text/html": [
              "<div>\n",
              "<style scoped>\n",
              "    .dataframe tbody tr th:only-of-type {\n",
              "        vertical-align: middle;\n",
              "    }\n",
              "\n",
              "    .dataframe tbody tr th {\n",
              "        vertical-align: top;\n",
              "    }\n",
              "\n",
              "    .dataframe thead th {\n",
              "        text-align: right;\n",
              "    }\n",
              "</style>\n",
              "<table border=\"1\" class=\"dataframe\">\n",
              "  <thead>\n",
              "    <tr style=\"text-align: right;\">\n",
              "      <th></th>\n",
              "      <th>unidade</th>\n",
              "      <th>ano</th>\n",
              "      <th>docentes</th>\n",
              "      <th>disciplinas</th>\n",
              "      <th>turmas</th>\n",
              "    </tr>\n",
              "  </thead>\n",
              "  <tbody>\n",
              "    <tr>\n",
              "      <th>1017</th>\n",
              "      <td>IP</td>\n",
              "      <td>2012</td>\n",
              "      <td>88</td>\n",
              "      <td>111</td>\n",
              "      <td>230</td>\n",
              "    </tr>\n",
              "    <tr>\n",
              "      <th>850</th>\n",
              "      <td>IEB</td>\n",
              "      <td>2014</td>\n",
              "      <td>11</td>\n",
              "      <td>16</td>\n",
              "      <td>25</td>\n",
              "    </tr>\n",
              "  </tbody>\n",
              "</table>\n",
              "</div>"
            ],
            "text/plain": [
              "     unidade   ano  docentes  disciplinas  turmas\n",
              "1017      IP  2012        88          111     230\n",
              "850      IEB  2014        11           16      25"
            ]
          },
          "metadata": {},
          "execution_count": 36
        }
      ]
    },
    {
      "cell_type": "markdown",
      "metadata": {
        "id": "yU5gW6bou2gb"
      },
      "source": [
        "Este dataframe a seguir condiz com os dados do E-disciplina USP completo:"
      ]
    },
    {
      "cell_type": "code",
      "metadata": {
        "colab": {
          "base_uri": "https://localhost:8080/",
          "height": 199
        },
        "id": "gjapyauiNxaf",
        "outputId": "38afd275-f27f-4fdf-bc4c-f76833c4cb95"
      },
      "source": [
        "url2 = \"https://raw.githubusercontent.com/gustavo-ifusp/edisc-analytics/main/data/raw/mc-24-11-2020.csv\"\n",
        "dados = pd.read_csv(url2)\n",
        "dados.iloc[-2:]"
      ],
      "execution_count": 37,
      "outputs": [
        {
          "output_type": "stream",
          "text": [
            "/usr/local/lib/python3.7/dist-packages/IPython/core/interactiveshell.py:2718: DtypeWarning: Columns (56) have mixed types.Specify dtype option on import or set low_memory=False.\n",
            "  interactivity=interactivity, compiler=compiler, result=result)\n"
          ],
          "name": "stderr"
        },
        {
          "output_type": "execute_result",
          "data": {
            "text/html": [
              "<div>\n",
              "<style scoped>\n",
              "    .dataframe tbody tr th:only-of-type {\n",
              "        vertical-align: middle;\n",
              "    }\n",
              "\n",
              "    .dataframe tbody tr th {\n",
              "        vertical-align: top;\n",
              "    }\n",
              "\n",
              "    .dataframe thead th {\n",
              "        text-align: right;\n",
              "    }\n",
              "</style>\n",
              "<table border=\"1\" class=\"dataframe\">\n",
              "  <thead>\n",
              "    <tr style=\"text-align: right;\">\n",
              "      <th></th>\n",
              "      <th>index</th>\n",
              "      <th>link</th>\n",
              "      <th>assign</th>\n",
              "      <th>attendance</th>\n",
              "      <th>bigbluebuttonbn</th>\n",
              "      <th>book</th>\n",
              "      <th>chat</th>\n",
              "      <th>choice</th>\n",
              "      <th>data</th>\n",
              "      <th>dialogue</th>\n",
              "      <th>folder</th>\n",
              "      <th>forum</th>\n",
              "      <th>glossary</th>\n",
              "      <th>imscp</th>\n",
              "      <th>label</th>\n",
              "      <th>lesson</th>\n",
              "      <th>lti</th>\n",
              "      <th>oublog</th>\n",
              "      <th>ouwiki</th>\n",
              "      <th>page</th>\n",
              "      <th>questionnaire</th>\n",
              "      <th>quiz</th>\n",
              "      <th>recordingsbn</th>\n",
              "      <th>resource</th>\n",
              "      <th>scorm</th>\n",
              "      <th>survey</th>\n",
              "      <th>url</th>\n",
              "      <th>wiki</th>\n",
              "      <th>workshop</th>\n",
              "      <th>sdi</th>\n",
              "      <th>Nunique</th>\n",
              "      <th>N</th>\n",
              "      <th>Nresource1</th>\n",
              "      <th>Nresource2</th>\n",
              "      <th>Ncommunication</th>\n",
              "      <th>Nfeedback</th>\n",
              "      <th>Nassess</th>\n",
              "      <th>Nadmin</th>\n",
              "      <th>fullname</th>\n",
              "      <th>shortname</th>\n",
              "      <th>idnumber</th>\n",
              "      <th>catname</th>\n",
              "      <th>unidade</th>\n",
              "      <th>ano</th>\n",
              "      <th>sem</th>\n",
              "      <th>advancedteacher</th>\n",
              "      <th>editingteacher</th>\n",
              "      <th>manager</th>\n",
              "      <th>monitor</th>\n",
              "      <th>student</th>\n",
              "      <th>studentcopy</th>\n",
              "      <th>teacher</th>\n",
              "      <th>nturmas</th>\n",
              "      <th>area</th>\n",
              "      <th>posgrad</th>\n",
              "      <th>coddis</th>\n",
              "      <th>semestre</th>\n",
              "      <th>activequiz</th>\n",
              "      <th>assignment</th>\n",
              "      <th>hvp</th>\n",
              "      <th>simplecertificate</th>\n",
              "      <th>videogallery</th>\n",
              "      <th>choicegroup</th>\n",
              "      <th>scheduler</th>\n",
              "      <th>vpl</th>\n",
              "      <th>offlinequiz</th>\n",
              "      <th>obs</th>\n",
              "      <th>journal</th>\n",
              "      <th>poster</th>\n",
              "      <th>feedback</th>\n",
              "      <th>checklist</th>\n",
              "      <th>pdfannotator</th>\n",
              "      <th>publication</th>\n",
              "      <th>studentquiz</th>\n",
              "      <th>game</th>\n",
              "      <th>quizgame</th>\n",
              "      <th>subcourse</th>\n",
              "    </tr>\n",
              "  </thead>\n",
              "  <tbody>\n",
              "    <tr>\n",
              "      <th>38292</th>\n",
              "      <td>83959</td>\n",
              "      <td>https://edisciplinas.usp.br/course/view.php?id...</td>\n",
              "      <td>1</td>\n",
              "      <td>0</td>\n",
              "      <td>0</td>\n",
              "      <td>0</td>\n",
              "      <td>0</td>\n",
              "      <td>0</td>\n",
              "      <td>0</td>\n",
              "      <td>0</td>\n",
              "      <td>0</td>\n",
              "      <td>1</td>\n",
              "      <td>0</td>\n",
              "      <td>0.0</td>\n",
              "      <td>0</td>\n",
              "      <td>0</td>\n",
              "      <td>0.0</td>\n",
              "      <td>0</td>\n",
              "      <td>0</td>\n",
              "      <td>0</td>\n",
              "      <td>0</td>\n",
              "      <td>0</td>\n",
              "      <td>0.0</td>\n",
              "      <td>0</td>\n",
              "      <td>0.0</td>\n",
              "      <td>0</td>\n",
              "      <td>0</td>\n",
              "      <td>0</td>\n",
              "      <td>0</td>\n",
              "      <td>0.693147</td>\n",
              "      <td>2</td>\n",
              "      <td>2</td>\n",
              "      <td>0</td>\n",
              "      <td>0</td>\n",
              "      <td>1</td>\n",
              "      <td>0</td>\n",
              "      <td>1</td>\n",
              "      <td>0</td>\n",
              "      <td>teste_marcos</td>\n",
              "      <td>teste_marcos</td>\n",
              "      <td>NaN</td>\n",
              "      <td>FFLCH</td>\n",
              "      <td>FFLCH</td>\n",
              "      <td>2020</td>\n",
              "      <td>2</td>\n",
              "      <td>0</td>\n",
              "      <td>0</td>\n",
              "      <td>0</td>\n",
              "      <td>0</td>\n",
              "      <td>1</td>\n",
              "      <td>0</td>\n",
              "      <td>0</td>\n",
              "      <td>0</td>\n",
              "      <td>humanas</td>\n",
              "      <td>0</td>\n",
              "      <td>0</td>\n",
              "      <td>0</td>\n",
              "      <td>0.0</td>\n",
              "      <td>0.0</td>\n",
              "      <td>0.0</td>\n",
              "      <td>0.0</td>\n",
              "      <td>0.0</td>\n",
              "      <td>0.0</td>\n",
              "      <td>0.0</td>\n",
              "      <td>0.0</td>\n",
              "      <td>0.0</td>\n",
              "      <td>0.0</td>\n",
              "      <td>0.0</td>\n",
              "      <td>0.0</td>\n",
              "      <td>0.0</td>\n",
              "      <td>0.0</td>\n",
              "      <td>0.0</td>\n",
              "      <td>0.0</td>\n",
              "      <td>0.0</td>\n",
              "      <td>0.0</td>\n",
              "      <td>0.0</td>\n",
              "      <td>0.0</td>\n",
              "    </tr>\n",
              "    <tr>\n",
              "      <th>38293</th>\n",
              "      <td>83965</td>\n",
              "      <td>https://edisciplinas.usp.br/course/view.php?id...</td>\n",
              "      <td>3</td>\n",
              "      <td>1</td>\n",
              "      <td>1</td>\n",
              "      <td>1</td>\n",
              "      <td>1</td>\n",
              "      <td>1</td>\n",
              "      <td>0</td>\n",
              "      <td>1</td>\n",
              "      <td>1</td>\n",
              "      <td>4</td>\n",
              "      <td>1</td>\n",
              "      <td>0.0</td>\n",
              "      <td>7</td>\n",
              "      <td>1</td>\n",
              "      <td>0.0</td>\n",
              "      <td>0</td>\n",
              "      <td>0</td>\n",
              "      <td>2</td>\n",
              "      <td>0</td>\n",
              "      <td>8</td>\n",
              "      <td>0.0</td>\n",
              "      <td>1</td>\n",
              "      <td>0.0</td>\n",
              "      <td>0</td>\n",
              "      <td>6</td>\n",
              "      <td>0</td>\n",
              "      <td>0</td>\n",
              "      <td>2.517794</td>\n",
              "      <td>18</td>\n",
              "      <td>42</td>\n",
              "      <td>15</td>\n",
              "      <td>4</td>\n",
              "      <td>7</td>\n",
              "      <td>1</td>\n",
              "      <td>12</td>\n",
              "      <td>2</td>\n",
              "      <td>STI FMRP 2020</td>\n",
              "      <td>STI FMRP 2020</td>\n",
              "      <td>NaN</td>\n",
              "      <td>STI</td>\n",
              "      <td>FMRP</td>\n",
              "      <td>2020</td>\n",
              "      <td>2</td>\n",
              "      <td>0</td>\n",
              "      <td>1</td>\n",
              "      <td>0</td>\n",
              "      <td>0</td>\n",
              "      <td>0</td>\n",
              "      <td>0</td>\n",
              "      <td>0</td>\n",
              "      <td>0</td>\n",
              "      <td>biologicas</td>\n",
              "      <td>0</td>\n",
              "      <td>0</td>\n",
              "      <td>0</td>\n",
              "      <td>0.0</td>\n",
              "      <td>0.0</td>\n",
              "      <td>0.0</td>\n",
              "      <td>0.0</td>\n",
              "      <td>0.0</td>\n",
              "      <td>1.0</td>\n",
              "      <td>0.0</td>\n",
              "      <td>0.0</td>\n",
              "      <td>0.0</td>\n",
              "      <td>0.0</td>\n",
              "      <td>0.0</td>\n",
              "      <td>0.0</td>\n",
              "      <td>0.0</td>\n",
              "      <td>1.0</td>\n",
              "      <td>0.0</td>\n",
              "      <td>0.0</td>\n",
              "      <td>0.0</td>\n",
              "      <td>0.0</td>\n",
              "      <td>0.0</td>\n",
              "      <td>0.0</td>\n",
              "    </tr>\n",
              "  </tbody>\n",
              "</table>\n",
              "</div>"
            ],
            "text/plain": [
              "       index  ... subcourse\n",
              "38292  83959  ...       0.0\n",
              "38293  83965  ...       0.0\n",
              "\n",
              "[2 rows x 77 columns]"
            ]
          },
          "metadata": {},
          "execution_count": 37
        }
      ]
    },
    {
      "cell_type": "code",
      "metadata": {
        "colab": {
          "base_uri": "https://localhost:8080/"
        },
        "id": "ll-s1rgA4BvU",
        "outputId": "9a5d2bf1-aed6-4ad8-f608-d562b6842433"
      },
      "source": [
        "dados.info()"
      ],
      "execution_count": 38,
      "outputs": [
        {
          "output_type": "stream",
          "text": [
            "<class 'pandas.core.frame.DataFrame'>\n",
            "RangeIndex: 38294 entries, 0 to 38293\n",
            "Data columns (total 77 columns):\n",
            " #   Column             Non-Null Count  Dtype  \n",
            "---  ------             --------------  -----  \n",
            " 0   index              38294 non-null  int64  \n",
            " 1   link               38294 non-null  object \n",
            " 2   assign             38294 non-null  int64  \n",
            " 3   attendance         38294 non-null  int64  \n",
            " 4   bigbluebuttonbn    38294 non-null  int64  \n",
            " 5   book               38294 non-null  int64  \n",
            " 6   chat               38294 non-null  int64  \n",
            " 7   choice             38294 non-null  int64  \n",
            " 8   data               38294 non-null  int64  \n",
            " 9   dialogue           38294 non-null  int64  \n",
            " 10  folder             38294 non-null  int64  \n",
            " 11  forum              38294 non-null  int64  \n",
            " 12  glossary           38294 non-null  int64  \n",
            " 13  imscp              38294 non-null  float64\n",
            " 14  label              38294 non-null  int64  \n",
            " 15  lesson             38294 non-null  int64  \n",
            " 16  lti                38294 non-null  float64\n",
            " 17  oublog             38294 non-null  int64  \n",
            " 18  ouwiki             38294 non-null  int64  \n",
            " 19  page               38294 non-null  int64  \n",
            " 20  questionnaire      38294 non-null  int64  \n",
            " 21  quiz               38294 non-null  int64  \n",
            " 22  recordingsbn       38294 non-null  float64\n",
            " 23  resource           38294 non-null  int64  \n",
            " 24  scorm              38294 non-null  float64\n",
            " 25  survey             38294 non-null  int64  \n",
            " 26  url                38294 non-null  int64  \n",
            " 27  wiki               38294 non-null  int64  \n",
            " 28  workshop           38294 non-null  int64  \n",
            " 29  sdi                38294 non-null  float64\n",
            " 30  Nunique            38294 non-null  int64  \n",
            " 31  N                  38294 non-null  int64  \n",
            " 32  Nresource1         38294 non-null  int64  \n",
            " 33  Nresource2         38294 non-null  int64  \n",
            " 34  Ncommunication     38294 non-null  int64  \n",
            " 35  Nfeedback          38294 non-null  int64  \n",
            " 36  Nassess            38294 non-null  int64  \n",
            " 37  Nadmin             38294 non-null  int64  \n",
            " 38  fullname           38294 non-null  object \n",
            " 39  shortname          38294 non-null  object \n",
            " 40  idnumber           36980 non-null  object \n",
            " 41  catname            38294 non-null  object \n",
            " 42  unidade            38294 non-null  object \n",
            " 43  ano                38294 non-null  int64  \n",
            " 44  sem                38294 non-null  int64  \n",
            " 45  advancedteacher    38294 non-null  int64  \n",
            " 46  editingteacher     38294 non-null  int64  \n",
            " 47  manager            38294 non-null  int64  \n",
            " 48  monitor            38294 non-null  int64  \n",
            " 49  student            38294 non-null  int64  \n",
            " 50  studentcopy        38294 non-null  int64  \n",
            " 51  teacher            38294 non-null  int64  \n",
            " 52  nturmas            38294 non-null  int64  \n",
            " 53  area               38294 non-null  object \n",
            " 54  posgrad            38294 non-null  object \n",
            " 55  coddis             38294 non-null  object \n",
            " 56  semestre           38294 non-null  object \n",
            " 57  activequiz         38294 non-null  float64\n",
            " 58  assignment         38294 non-null  float64\n",
            " 59  hvp                38294 non-null  float64\n",
            " 60  simplecertificate  38294 non-null  float64\n",
            " 61  videogallery       38294 non-null  float64\n",
            " 62  choicegroup        38294 non-null  float64\n",
            " 63  scheduler          38294 non-null  float64\n",
            " 64  vpl                38294 non-null  float64\n",
            " 65  offlinequiz        38294 non-null  float64\n",
            " 66  obs                38294 non-null  float64\n",
            " 67  journal            38294 non-null  float64\n",
            " 68  poster             38294 non-null  float64\n",
            " 69  feedback           38294 non-null  float64\n",
            " 70  checklist          38294 non-null  float64\n",
            " 71  pdfannotator       38294 non-null  float64\n",
            " 72  publication        38294 non-null  float64\n",
            " 73  studentquiz        38294 non-null  float64\n",
            " 74  game               38294 non-null  float64\n",
            " 75  quizgame           38294 non-null  float64\n",
            " 76  subcourse          38294 non-null  float64\n",
            "dtypes: float64(25), int64(42), object(10)\n",
            "memory usage: 22.5+ MB\n"
          ],
          "name": "stdout"
        }
      ]
    },
    {
      "cell_type": "markdown",
      "metadata": {
        "id": "JyjbVgsUzc45"
      },
      "source": [
        "Este terceiro Dataframe a seguir informa por curso a quantidade de matriculados:"
      ]
    },
    {
      "cell_type": "code",
      "metadata": {
        "colab": {
          "base_uri": "https://localhost:8080/",
          "height": 204
        },
        "id": "rDTpDiZHzcSc",
        "outputId": "9001b0c7-542a-48e0-a4df-626b020af49c"
      },
      "source": [
        "url3 = \"https://raw.githubusercontent.com/atp/edisc-analytics/main/data/processed/matrcurso.csv\"\n",
        "matrcurso = pd.read_csv(url3)\n",
        "matrcurso['sglund'] = matrcurso['sglund'].astype('object')\n",
        "matrcurso.rename(columns={'sglund':'unidade'}, inplace = True)\n",
        "matrcurso.sample(5)"
      ],
      "execution_count": 39,
      "outputs": [
        {
          "output_type": "execute_result",
          "data": {
            "text/html": [
              "<div>\n",
              "<style scoped>\n",
              "    .dataframe tbody tr th:only-of-type {\n",
              "        vertical-align: middle;\n",
              "    }\n",
              "\n",
              "    .dataframe tbody tr th {\n",
              "        vertical-align: top;\n",
              "    }\n",
              "\n",
              "    .dataframe thead th {\n",
              "        text-align: right;\n",
              "    }\n",
              "</style>\n",
              "<table border=\"1\" class=\"dataframe\">\n",
              "  <thead>\n",
              "    <tr style=\"text-align: right;\">\n",
              "      <th></th>\n",
              "      <th>ano</th>\n",
              "      <th>sem</th>\n",
              "      <th>codclg</th>\n",
              "      <th>codcur</th>\n",
              "      <th>codhab</th>\n",
              "      <th>staalu</th>\n",
              "      <th>codund</th>\n",
              "      <th>unidade</th>\n",
              "      <th>nomcur</th>\n",
              "      <th>nomhab</th>\n",
              "      <th>matr</th>\n",
              "    </tr>\n",
              "  </thead>\n",
              "  <tbody>\n",
              "    <tr>\n",
              "      <th>2785</th>\n",
              "      <td>2012</td>\n",
              "      <td>1</td>\n",
              "      <td>8</td>\n",
              "      <td>8051</td>\n",
              "      <td>904</td>\n",
              "      <td>T</td>\n",
              "      <td>8</td>\n",
              "      <td>FFLCH</td>\n",
              "      <td>Letras</td>\n",
              "      <td>Bacharelado - Habilitação: Italiano</td>\n",
              "      <td>14</td>\n",
              "    </tr>\n",
              "    <tr>\n",
              "      <th>5513</th>\n",
              "      <td>2018</td>\n",
              "      <td>1</td>\n",
              "      <td>8</td>\n",
              "      <td>8040</td>\n",
              "      <td>200</td>\n",
              "      <td>T</td>\n",
              "      <td>8</td>\n",
              "      <td>FFLCH</td>\n",
              "      <td>Ciências Sociais</td>\n",
              "      <td>Licenciatura em Ciências Sociais</td>\n",
              "      <td>57</td>\n",
              "    </tr>\n",
              "    <tr>\n",
              "      <th>17533</th>\n",
              "      <td>2016</td>\n",
              "      <td>2</td>\n",
              "      <td>86</td>\n",
              "      <td>86200</td>\n",
              "      <td>102</td>\n",
              "      <td>A</td>\n",
              "      <td>86</td>\n",
              "      <td>EACH</td>\n",
              "      <td>Bacharelado em Sistemas de Informação</td>\n",
              "      <td>Bacharelado em Sistemas de Informação - Ciclo ...</td>\n",
              "      <td>1</td>\n",
              "    </tr>\n",
              "    <tr>\n",
              "      <th>15932</th>\n",
              "      <td>2012</td>\n",
              "      <td>1</td>\n",
              "      <td>75</td>\n",
              "      <td>75014</td>\n",
              "      <td>400</td>\n",
              "      <td>M</td>\n",
              "      <td>75</td>\n",
              "      <td>IQSC</td>\n",
              "      <td>Química</td>\n",
              "      <td>Bacharelado em Química - Habilitação: Tecnológ...</td>\n",
              "      <td>45</td>\n",
              "    </tr>\n",
              "    <tr>\n",
              "      <th>13303</th>\n",
              "      <td>2015</td>\n",
              "      <td>2</td>\n",
              "      <td>46</td>\n",
              "      <td>46300</td>\n",
              "      <td>500</td>\n",
              "      <td>R</td>\n",
              "      <td>46</td>\n",
              "      <td>IQ</td>\n",
              "      <td>Química</td>\n",
              "      <td>Bacharelado em Química com Ênfase em Biotecnol...</td>\n",
              "      <td>1</td>\n",
              "    </tr>\n",
              "  </tbody>\n",
              "</table>\n",
              "</div>"
            ],
            "text/plain": [
              "        ano  sem  ...                                             nomhab matr\n",
              "2785   2012    1  ...                Bacharelado - Habilitação: Italiano   14\n",
              "5513   2018    1  ...                   Licenciatura em Ciências Sociais   57\n",
              "17533  2016    2  ...  Bacharelado em Sistemas de Informação - Ciclo ...    1\n",
              "15932  2012    1  ...  Bacharelado em Química - Habilitação: Tecnológ...   45\n",
              "13303  2015    2  ...  Bacharelado em Química com Ênfase em Biotecnol...    1\n",
              "\n",
              "[5 rows x 11 columns]"
            ]
          },
          "metadata": {},
          "execution_count": 39
        }
      ]
    },
    {
      "cell_type": "markdown",
      "metadata": {
        "id": "NPYr_G51SanI"
      },
      "source": [
        "A normalização de dados também pode ser uma prática típica em aprendizado de máquina (Machine Learning), que consiste em transformar colunas numéricas em uma escala padrão. No aprendizado de máquina, alguns valores de recursos diferem de outros várias vezes em escalas. Os recursos com valores mais elevados dominarão o processo de aprendizagem. Logo a normalização garante melhor clareza nas visualizações finais.\n",
        "\n",
        "\n",
        "\n"
      ]
    },
    {
      "cell_type": "markdown",
      "metadata": {
        "id": "jq0Oc_mP1Bdk"
      },
      "source": [
        "# **Indicador 1: Mn /n° de matriculados**\n",
        "O primeiro indicador que vou analisar é a somatoria das colunas (Mn) / nº de matriculados e visualizar as unidades mais representativas por ano e unidade, lembrando que temos 60 entradas em unidade nos três dataframes. Este indicador possui como objetivo analisar uma média de utilização de cada recurso didático do e-disciplina comparada por ano e unidade afim de ver quais recursos são mais utilizados, normalizado pelo número de matriculados de cada unidade.<br>\n",
        "<br>Cada coluna foi identificada como:\n",
        "\n",
        "M1 = Nunique;<br>\n",
        "M2 = N;<br>\n",
        "M3 = Nresource1;<br>\n",
        "M4 = Nresource2;<br>\n",
        "M5 = Ncommunication;<br>\n",
        "M6 = forum;<br>\n",
        "M7 = lesson;<br>\n",
        "M8 = questionaire;<br>\n",
        "M9 = quiz;<br>\n",
        "M10 = resource;<br>\n",
        "M11 = url;<br>\n",
        "M12 = studentquiz;<br>\n",
        "M13 = game;<br>\n",
        "NM = Número de matriculados"
      ]
    },
    {
      "cell_type": "code",
      "metadata": {
        "id": "JHJq8z9b0hlv"
      },
      "source": [
        "M1 = dados.groupby(['ano','unidade'])['Nunique'].sum()\n",
        "M2 = dados.groupby(['ano','unidade'])['N'].sum()\n",
        "M3 = dados.groupby(['ano','unidade'])['Nresource1'].sum()\n",
        "M4 = dados.groupby(['ano','unidade'])['Nresource2'].sum()\n",
        "M5 = dados.groupby(['ano','unidade'])['Ncommunication'].sum()\n",
        "M6 = dados.groupby(['ano','unidade'])['forum'].sum()\n",
        "M7 = dados.groupby(['ano','unidade'])['lesson'].sum()\n",
        "M8 = dados.groupby(['ano','unidade'])['questionnaire'].sum()\n",
        "M9 = dados.groupby(['ano','unidade'])['quiz'].sum()\n",
        "M10 = dados.groupby(['ano','unidade'])['resource'].sum()\n",
        "M11 = dados.groupby(['ano','unidade'])['url'].sum()\n",
        "M12 = dados.groupby(['ano','unidade'])['studentquiz'].sum()\n",
        "M13 = dados.groupby(['ano','unidade'])['game'].sum()\n",
        "NM = matrcurso.groupby(['ano','unidade'])['matr'].sum()\n",
        "i1 = pd.concat([M1,M2, M3, M4, M5, M6, M7, M8, M9, M10, M11, M12, M13, NM],axis = 1)\n",
        "i1 = i1.fillna(0)\n",
        "#\n",
        "#caso queira deixar de ser categorico\n",
        "i1.reset_index(level=0, inplace=True)\n",
        "i1.reset_index(level=0, inplace=True)\n",
        "i1 = i1.query(\"matr != '0'\")"
      ],
      "execution_count": 40,
      "outputs": []
    },
    {
      "cell_type": "code",
      "metadata": {
        "colab": {
          "base_uri": "https://localhost:8080/",
          "height": 224
        },
        "id": "XTtAIWZaWpkw",
        "outputId": "7e432e88-f07b-4585-95df-54e1f03820ca"
      },
      "source": [
        "i1['indicador1'] = (i1['Nunique']/i1['matr'])\n",
        "i1['indicador2'] = (i1['N']/i1['matr'])\n",
        "i1['indicador3'] = (i1['Nresource1']/i1['matr'])\n",
        "i1['indicador4'] = (i1['Nresource2']/i1['matr'])\n",
        "i1['indicador5'] = (i1['Ncommunication']/i1['matr'])\n",
        "i1['indicador6'] = (i1['forum']/i1['matr'])\n",
        "i1['indicador7'] = (i1['lesson']/i1['matr'])\n",
        "i1['indicador8'] = (i1['questionnaire']/i1['matr'])\n",
        "i1['indicador9'] = (i1['quiz']/i1['matr'])\n",
        "i1['indicador10'] = (i1['resource']/i1['matr'])\n",
        "i1['indicador11'] = (i1['url']/i1['matr'])\n",
        "i1['indicador12'] = (i1['studentquiz']/i1['matr'])\n",
        "i1['indicador13'] = (i1['game']/i1['matr'])\n",
        "i1.head(5)"
      ],
      "execution_count": 41,
      "outputs": [
        {
          "output_type": "execute_result",
          "data": {
            "text/html": [
              "<div>\n",
              "<style scoped>\n",
              "    .dataframe tbody tr th:only-of-type {\n",
              "        vertical-align: middle;\n",
              "    }\n",
              "\n",
              "    .dataframe tbody tr th {\n",
              "        vertical-align: top;\n",
              "    }\n",
              "\n",
              "    .dataframe thead th {\n",
              "        text-align: right;\n",
              "    }\n",
              "</style>\n",
              "<table border=\"1\" class=\"dataframe\">\n",
              "  <thead>\n",
              "    <tr style=\"text-align: right;\">\n",
              "      <th></th>\n",
              "      <th>unidade</th>\n",
              "      <th>ano</th>\n",
              "      <th>Nunique</th>\n",
              "      <th>N</th>\n",
              "      <th>Nresource1</th>\n",
              "      <th>Nresource2</th>\n",
              "      <th>Ncommunication</th>\n",
              "      <th>forum</th>\n",
              "      <th>lesson</th>\n",
              "      <th>questionnaire</th>\n",
              "      <th>quiz</th>\n",
              "      <th>resource</th>\n",
              "      <th>url</th>\n",
              "      <th>studentquiz</th>\n",
              "      <th>game</th>\n",
              "      <th>matr</th>\n",
              "      <th>indicador1</th>\n",
              "      <th>indicador2</th>\n",
              "      <th>indicador3</th>\n",
              "      <th>indicador4</th>\n",
              "      <th>indicador5</th>\n",
              "      <th>indicador6</th>\n",
              "      <th>indicador7</th>\n",
              "      <th>indicador8</th>\n",
              "      <th>indicador9</th>\n",
              "      <th>indicador10</th>\n",
              "      <th>indicador11</th>\n",
              "      <th>indicador12</th>\n",
              "      <th>indicador13</th>\n",
              "    </tr>\n",
              "  </thead>\n",
              "  <tbody>\n",
              "    <tr>\n",
              "      <th>0</th>\n",
              "      <td>CENA</td>\n",
              "      <td>2012</td>\n",
              "      <td>4.0</td>\n",
              "      <td>25.0</td>\n",
              "      <td>22.0</td>\n",
              "      <td>0.0</td>\n",
              "      <td>2.0</td>\n",
              "      <td>2.0</td>\n",
              "      <td>0.0</td>\n",
              "      <td>0.0</td>\n",
              "      <td>0.0</td>\n",
              "      <td>22.0</td>\n",
              "      <td>0.0</td>\n",
              "      <td>0.0</td>\n",
              "      <td>0.0</td>\n",
              "      <td>9.0</td>\n",
              "      <td>0.444444</td>\n",
              "      <td>2.777778</td>\n",
              "      <td>2.444444</td>\n",
              "      <td>0.000000</td>\n",
              "      <td>0.222222</td>\n",
              "      <td>0.222222</td>\n",
              "      <td>0.000000</td>\n",
              "      <td>0.000000</td>\n",
              "      <td>0.000000</td>\n",
              "      <td>2.444444</td>\n",
              "      <td>0.000000</td>\n",
              "      <td>0.0</td>\n",
              "      <td>0.0</td>\n",
              "    </tr>\n",
              "    <tr>\n",
              "      <th>1</th>\n",
              "      <td>EACH</td>\n",
              "      <td>2012</td>\n",
              "      <td>43.0</td>\n",
              "      <td>497.0</td>\n",
              "      <td>392.0</td>\n",
              "      <td>0.0</td>\n",
              "      <td>43.0</td>\n",
              "      <td>42.0</td>\n",
              "      <td>0.0</td>\n",
              "      <td>0.0</td>\n",
              "      <td>23.0</td>\n",
              "      <td>356.0</td>\n",
              "      <td>24.0</td>\n",
              "      <td>0.0</td>\n",
              "      <td>0.0</td>\n",
              "      <td>9467.0</td>\n",
              "      <td>0.004542</td>\n",
              "      <td>0.052498</td>\n",
              "      <td>0.041407</td>\n",
              "      <td>0.000000</td>\n",
              "      <td>0.004542</td>\n",
              "      <td>0.004436</td>\n",
              "      <td>0.000000</td>\n",
              "      <td>0.000000</td>\n",
              "      <td>0.002429</td>\n",
              "      <td>0.037604</td>\n",
              "      <td>0.002535</td>\n",
              "      <td>0.0</td>\n",
              "      <td>0.0</td>\n",
              "    </tr>\n",
              "    <tr>\n",
              "      <th>2</th>\n",
              "      <td>ECA</td>\n",
              "      <td>2012</td>\n",
              "      <td>112.0</td>\n",
              "      <td>861.0</td>\n",
              "      <td>605.0</td>\n",
              "      <td>109.0</td>\n",
              "      <td>52.0</td>\n",
              "      <td>51.0</td>\n",
              "      <td>1.0</td>\n",
              "      <td>1.0</td>\n",
              "      <td>9.0</td>\n",
              "      <td>367.0</td>\n",
              "      <td>124.0</td>\n",
              "      <td>0.0</td>\n",
              "      <td>0.0</td>\n",
              "      <td>4308.0</td>\n",
              "      <td>0.025998</td>\n",
              "      <td>0.199861</td>\n",
              "      <td>0.140436</td>\n",
              "      <td>0.025302</td>\n",
              "      <td>0.012071</td>\n",
              "      <td>0.011838</td>\n",
              "      <td>0.000232</td>\n",
              "      <td>0.000232</td>\n",
              "      <td>0.002089</td>\n",
              "      <td>0.085190</td>\n",
              "      <td>0.028784</td>\n",
              "      <td>0.0</td>\n",
              "      <td>0.0</td>\n",
              "    </tr>\n",
              "    <tr>\n",
              "      <th>4</th>\n",
              "      <td>EE</td>\n",
              "      <td>2012</td>\n",
              "      <td>18.0</td>\n",
              "      <td>224.0</td>\n",
              "      <td>214.0</td>\n",
              "      <td>0.0</td>\n",
              "      <td>10.0</td>\n",
              "      <td>10.0</td>\n",
              "      <td>0.0</td>\n",
              "      <td>0.0</td>\n",
              "      <td>0.0</td>\n",
              "      <td>203.0</td>\n",
              "      <td>9.0</td>\n",
              "      <td>0.0</td>\n",
              "      <td>0.0</td>\n",
              "      <td>849.0</td>\n",
              "      <td>0.021201</td>\n",
              "      <td>0.263840</td>\n",
              "      <td>0.252061</td>\n",
              "      <td>0.000000</td>\n",
              "      <td>0.011779</td>\n",
              "      <td>0.011779</td>\n",
              "      <td>0.000000</td>\n",
              "      <td>0.000000</td>\n",
              "      <td>0.000000</td>\n",
              "      <td>0.239105</td>\n",
              "      <td>0.010601</td>\n",
              "      <td>0.0</td>\n",
              "      <td>0.0</td>\n",
              "    </tr>\n",
              "    <tr>\n",
              "      <th>5</th>\n",
              "      <td>EEFE</td>\n",
              "      <td>2012</td>\n",
              "      <td>17.0</td>\n",
              "      <td>150.0</td>\n",
              "      <td>138.0</td>\n",
              "      <td>2.0</td>\n",
              "      <td>8.0</td>\n",
              "      <td>8.0</td>\n",
              "      <td>0.0</td>\n",
              "      <td>0.0</td>\n",
              "      <td>0.0</td>\n",
              "      <td>110.0</td>\n",
              "      <td>0.0</td>\n",
              "      <td>0.0</td>\n",
              "      <td>0.0</td>\n",
              "      <td>1070.0</td>\n",
              "      <td>0.015888</td>\n",
              "      <td>0.140187</td>\n",
              "      <td>0.128972</td>\n",
              "      <td>0.001869</td>\n",
              "      <td>0.007477</td>\n",
              "      <td>0.007477</td>\n",
              "      <td>0.000000</td>\n",
              "      <td>0.000000</td>\n",
              "      <td>0.000000</td>\n",
              "      <td>0.102804</td>\n",
              "      <td>0.000000</td>\n",
              "      <td>0.0</td>\n",
              "      <td>0.0</td>\n",
              "    </tr>\n",
              "  </tbody>\n",
              "</table>\n",
              "</div>"
            ],
            "text/plain": [
              "  unidade   ano  Nunique  ...  indicador11  indicador12  indicador13\n",
              "0    CENA  2012      4.0  ...     0.000000          0.0          0.0\n",
              "1    EACH  2012     43.0  ...     0.002535          0.0          0.0\n",
              "2     ECA  2012    112.0  ...     0.028784          0.0          0.0\n",
              "4      EE  2012     18.0  ...     0.010601          0.0          0.0\n",
              "5    EEFE  2012     17.0  ...     0.000000          0.0          0.0\n",
              "\n",
              "[5 rows x 29 columns]"
            ]
          },
          "metadata": {},
          "execution_count": 41
        }
      ]
    },
    {
      "cell_type": "code",
      "metadata": {
        "colab": {
          "base_uri": "https://localhost:8080/",
          "height": 131
        },
        "id": "M2a1Y867mZTu",
        "outputId": "fe7e4168-03ab-4e31-85ae-c10e57160324"
      },
      "source": [
        "i1.describe().loc[['mean','std']]"
      ],
      "execution_count": 42,
      "outputs": [
        {
          "output_type": "execute_result",
          "data": {
            "text/html": [
              "<div>\n",
              "<style scoped>\n",
              "    .dataframe tbody tr th:only-of-type {\n",
              "        vertical-align: middle;\n",
              "    }\n",
              "\n",
              "    .dataframe tbody tr th {\n",
              "        vertical-align: top;\n",
              "    }\n",
              "\n",
              "    .dataframe thead th {\n",
              "        text-align: right;\n",
              "    }\n",
              "</style>\n",
              "<table border=\"1\" class=\"dataframe\">\n",
              "  <thead>\n",
              "    <tr style=\"text-align: right;\">\n",
              "      <th></th>\n",
              "      <th>ano</th>\n",
              "      <th>Nunique</th>\n",
              "      <th>N</th>\n",
              "      <th>Nresource1</th>\n",
              "      <th>Nresource2</th>\n",
              "      <th>Ncommunication</th>\n",
              "      <th>forum</th>\n",
              "      <th>lesson</th>\n",
              "      <th>questionnaire</th>\n",
              "      <th>quiz</th>\n",
              "      <th>resource</th>\n",
              "      <th>url</th>\n",
              "      <th>studentquiz</th>\n",
              "      <th>game</th>\n",
              "      <th>matr</th>\n",
              "      <th>indicador1</th>\n",
              "      <th>indicador2</th>\n",
              "      <th>indicador3</th>\n",
              "      <th>indicador4</th>\n",
              "      <th>indicador5</th>\n",
              "      <th>indicador6</th>\n",
              "      <th>indicador7</th>\n",
              "      <th>indicador8</th>\n",
              "      <th>indicador9</th>\n",
              "      <th>indicador10</th>\n",
              "      <th>indicador11</th>\n",
              "      <th>indicador12</th>\n",
              "      <th>indicador13</th>\n",
              "    </tr>\n",
              "  </thead>\n",
              "  <tbody>\n",
              "    <tr>\n",
              "      <th>mean</th>\n",
              "      <td>2015.995536</td>\n",
              "      <td>291.553571</td>\n",
              "      <td>2819.680804</td>\n",
              "      <td>2198.020089</td>\n",
              "      <td>58.361607</td>\n",
              "      <td>163.183036</td>\n",
              "      <td>146.390625</td>\n",
              "      <td>4.337054</td>\n",
              "      <td>21.959821</td>\n",
              "      <td>86.544643</td>\n",
              "      <td>1687.214286</td>\n",
              "      <td>269.058036</td>\n",
              "      <td>0.100446</td>\n",
              "      <td>0.020089</td>\n",
              "      <td>2226.984375</td>\n",
              "      <td>0.671539</td>\n",
              "      <td>6.787971</td>\n",
              "      <td>5.747919</td>\n",
              "      <td>0.143524</td>\n",
              "      <td>0.346068</td>\n",
              "      <td>0.329553</td>\n",
              "      <td>0.004951</td>\n",
              "      <td>0.019049</td>\n",
              "      <td>0.142797</td>\n",
              "      <td>4.390228</td>\n",
              "      <td>0.912339</td>\n",
              "      <td>0.000114</td>\n",
              "      <td>0.000013</td>\n",
              "    </tr>\n",
              "    <tr>\n",
              "      <th>std</th>\n",
              "      <td>2.568956</td>\n",
              "      <td>537.427322</td>\n",
              "      <td>5583.711686</td>\n",
              "      <td>4334.469454</td>\n",
              "      <td>120.509335</td>\n",
              "      <td>319.670898</td>\n",
              "      <td>264.233121</td>\n",
              "      <td>16.427599</td>\n",
              "      <td>74.907120</td>\n",
              "      <td>237.000142</td>\n",
              "      <td>3256.807583</td>\n",
              "      <td>718.553441</td>\n",
              "      <td>0.846733</td>\n",
              "      <td>0.380801</td>\n",
              "      <td>3077.625451</td>\n",
              "      <td>3.944901</td>\n",
              "      <td>47.015973</td>\n",
              "      <td>41.967015</td>\n",
              "      <td>0.999960</td>\n",
              "      <td>2.119902</td>\n",
              "      <td>2.103658</td>\n",
              "      <td>0.049831</td>\n",
              "      <td>0.099848</td>\n",
              "      <td>1.147678</td>\n",
              "      <td>30.089896</td>\n",
              "      <td>9.508714</td>\n",
              "      <td>0.001373</td>\n",
              "      <td>0.000263</td>\n",
              "    </tr>\n",
              "  </tbody>\n",
              "</table>\n",
              "</div>"
            ],
            "text/plain": [
              "              ano     Nunique  ...  indicador12  indicador13\n",
              "mean  2015.995536  291.553571  ...     0.000114     0.000013\n",
              "std      2.568956  537.427322  ...     0.001373     0.000263\n",
              "\n",
              "[2 rows x 28 columns]"
            ]
          },
          "metadata": {},
          "execution_count": 42
        }
      ]
    },
    {
      "cell_type": "markdown",
      "metadata": {
        "id": "v6vJRP7R2lih"
      },
      "source": [
        "#**Indicador 1: Nunique / Nº de matriculas**"
      ]
    },
    {
      "cell_type": "code",
      "metadata": {
        "colab": {
          "base_uri": "https://localhost:8080/",
          "height": 131
        },
        "id": "AQiky0fa71UY",
        "outputId": "ffe08dce-5950-4b37-e254-bde35bd34438"
      },
      "source": [
        "i1_1 = i1.loc[(i1['indicador1']) > 2] #esse filtro seleciona apenas as unidades que possuirem uma media >2\n",
        "i1_1.head(2)"
      ],
      "execution_count": 43,
      "outputs": [
        {
          "output_type": "execute_result",
          "data": {
            "text/html": [
              "<div>\n",
              "<style scoped>\n",
              "    .dataframe tbody tr th:only-of-type {\n",
              "        vertical-align: middle;\n",
              "    }\n",
              "\n",
              "    .dataframe tbody tr th {\n",
              "        vertical-align: top;\n",
              "    }\n",
              "\n",
              "    .dataframe thead th {\n",
              "        text-align: right;\n",
              "    }\n",
              "</style>\n",
              "<table border=\"1\" class=\"dataframe\">\n",
              "  <thead>\n",
              "    <tr style=\"text-align: right;\">\n",
              "      <th></th>\n",
              "      <th>unidade</th>\n",
              "      <th>ano</th>\n",
              "      <th>Nunique</th>\n",
              "      <th>N</th>\n",
              "      <th>Nresource1</th>\n",
              "      <th>Nresource2</th>\n",
              "      <th>Ncommunication</th>\n",
              "      <th>forum</th>\n",
              "      <th>lesson</th>\n",
              "      <th>questionnaire</th>\n",
              "      <th>quiz</th>\n",
              "      <th>resource</th>\n",
              "      <th>url</th>\n",
              "      <th>studentquiz</th>\n",
              "      <th>game</th>\n",
              "      <th>matr</th>\n",
              "      <th>indicador1</th>\n",
              "      <th>indicador2</th>\n",
              "      <th>indicador3</th>\n",
              "      <th>indicador4</th>\n",
              "      <th>indicador5</th>\n",
              "      <th>indicador6</th>\n",
              "      <th>indicador7</th>\n",
              "      <th>indicador8</th>\n",
              "      <th>indicador9</th>\n",
              "      <th>indicador10</th>\n",
              "      <th>indicador11</th>\n",
              "      <th>indicador12</th>\n",
              "      <th>indicador13</th>\n",
              "    </tr>\n",
              "  </thead>\n",
              "  <tbody>\n",
              "    <tr>\n",
              "      <th>46</th>\n",
              "      <td>MAC</td>\n",
              "      <td>2012</td>\n",
              "      <td>15.0</td>\n",
              "      <td>193.0</td>\n",
              "      <td>139.0</td>\n",
              "      <td>13.0</td>\n",
              "      <td>5.0</td>\n",
              "      <td>5.0</td>\n",
              "      <td>0.0</td>\n",
              "      <td>0.0</td>\n",
              "      <td>0.0</td>\n",
              "      <td>122.0</td>\n",
              "      <td>5.0</td>\n",
              "      <td>0.0</td>\n",
              "      <td>0.0</td>\n",
              "      <td>3.0</td>\n",
              "      <td>5.000000</td>\n",
              "      <td>64.333333</td>\n",
              "      <td>46.333333</td>\n",
              "      <td>4.333333</td>\n",
              "      <td>1.666667</td>\n",
              "      <td>1.666667</td>\n",
              "      <td>0.0</td>\n",
              "      <td>0.0</td>\n",
              "      <td>0.0</td>\n",
              "      <td>40.666667</td>\n",
              "      <td>1.666667</td>\n",
              "      <td>0.0</td>\n",
              "      <td>0.0</td>\n",
              "    </tr>\n",
              "    <tr>\n",
              "      <th>155</th>\n",
              "      <td>MAC</td>\n",
              "      <td>2014</td>\n",
              "      <td>25.0</td>\n",
              "      <td>222.0</td>\n",
              "      <td>200.0</td>\n",
              "      <td>0.0</td>\n",
              "      <td>12.0</td>\n",
              "      <td>12.0</td>\n",
              "      <td>0.0</td>\n",
              "      <td>0.0</td>\n",
              "      <td>0.0</td>\n",
              "      <td>187.0</td>\n",
              "      <td>2.0</td>\n",
              "      <td>0.0</td>\n",
              "      <td>0.0</td>\n",
              "      <td>3.0</td>\n",
              "      <td>8.333333</td>\n",
              "      <td>74.000000</td>\n",
              "      <td>66.666667</td>\n",
              "      <td>0.000000</td>\n",
              "      <td>4.000000</td>\n",
              "      <td>4.000000</td>\n",
              "      <td>0.0</td>\n",
              "      <td>0.0</td>\n",
              "      <td>0.0</td>\n",
              "      <td>62.333333</td>\n",
              "      <td>0.666667</td>\n",
              "      <td>0.0</td>\n",
              "      <td>0.0</td>\n",
              "    </tr>\n",
              "  </tbody>\n",
              "</table>\n",
              "</div>"
            ],
            "text/plain": [
              "    unidade   ano  Nunique  ...  indicador11  indicador12  indicador13\n",
              "46      MAC  2012     15.0  ...     1.666667          0.0          0.0\n",
              "155     MAC  2014     25.0  ...     0.666667          0.0          0.0\n",
              "\n",
              "[2 rows x 29 columns]"
            ]
          },
          "metadata": {},
          "execution_count": 43
        }
      ]
    },
    {
      "cell_type": "code",
      "metadata": {
        "colab": {
          "base_uri": "https://localhost:8080/",
          "height": 168
        },
        "id": "02SgKl3mu27i",
        "outputId": "2590af62-fa01-47bf-8458-76ce909229d5"
      },
      "source": [
        "sns.catplot(x=\"ano\", y=\"indicador1\", col=\"unidade\",\n",
        "                data=i1_1, \n",
        "                kind=\"bar\"\n",
        "                )"
      ],
      "execution_count": 44,
      "outputs": [
        {
          "output_type": "execute_result",
          "data": {
            "text/plain": [
              "<seaborn.axisgrid.FacetGrid at 0x7efc325a3910>"
            ]
          },
          "metadata": {},
          "execution_count": 44
        },
        {
          "output_type": "display_data",
          "data": {
            "image/png": "[encoded data removed]",
            "text/plain": [
              "<Figure size 3600x360 with 10 Axes>"
            ]
          },
          "metadata": {
            "needs_background": "light"
          }
        }
      ]
    },
    {
      "cell_type": "markdown",
      "metadata": {
        "id": "K6AvY39a2pLI"
      },
      "source": [
        "#**Indicador 2: N / Nº de matriculas**"
      ]
    },
    {
      "cell_type": "code",
      "metadata": {
        "colab": {
          "base_uri": "https://localhost:8080/",
          "height": 0
        },
        "id": "SfirTS0KDvXl",
        "outputId": "08615e09-68fe-4fc0-8aac-802393f5b45f"
      },
      "source": [
        "i1_2 = i1.loc[(i1['indicador2']) > 25] \n",
        "i1_2.sample(2)"
      ],
      "execution_count": 45,
      "outputs": [
        {
          "output_type": "execute_result",
          "data": {
            "text/html": [
              "<div>\n",
              "<style scoped>\n",
              "    .dataframe tbody tr th:only-of-type {\n",
              "        vertical-align: middle;\n",
              "    }\n",
              "\n",
              "    .dataframe tbody tr th {\n",
              "        vertical-align: top;\n",
              "    }\n",
              "\n",
              "    .dataframe thead th {\n",
              "        text-align: right;\n",
              "    }\n",
              "</style>\n",
              "<table border=\"1\" class=\"dataframe\">\n",
              "  <thead>\n",
              "    <tr style=\"text-align: right;\">\n",
              "      <th></th>\n",
              "      <th>unidade</th>\n",
              "      <th>ano</th>\n",
              "      <th>Nunique</th>\n",
              "      <th>N</th>\n",
              "      <th>Nresource1</th>\n",
              "      <th>Nresource2</th>\n",
              "      <th>Ncommunication</th>\n",
              "      <th>forum</th>\n",
              "      <th>lesson</th>\n",
              "      <th>questionnaire</th>\n",
              "      <th>quiz</th>\n",
              "      <th>resource</th>\n",
              "      <th>url</th>\n",
              "      <th>studentquiz</th>\n",
              "      <th>game</th>\n",
              "      <th>matr</th>\n",
              "      <th>indicador1</th>\n",
              "      <th>indicador2</th>\n",
              "      <th>indicador3</th>\n",
              "      <th>indicador4</th>\n",
              "      <th>indicador5</th>\n",
              "      <th>indicador6</th>\n",
              "      <th>indicador7</th>\n",
              "      <th>indicador8</th>\n",
              "      <th>indicador9</th>\n",
              "      <th>indicador10</th>\n",
              "      <th>indicador11</th>\n",
              "      <th>indicador12</th>\n",
              "      <th>indicador13</th>\n",
              "    </tr>\n",
              "  </thead>\n",
              "  <tbody>\n",
              "    <tr>\n",
              "      <th>324</th>\n",
              "      <td>MAE</td>\n",
              "      <td>2017</td>\n",
              "      <td>25.0</td>\n",
              "      <td>289.0</td>\n",
              "      <td>278.0</td>\n",
              "      <td>0.0</td>\n",
              "      <td>10.0</td>\n",
              "      <td>10.0</td>\n",
              "      <td>0.0</td>\n",
              "      <td>0.0</td>\n",
              "      <td>0.0</td>\n",
              "      <td>235.0</td>\n",
              "      <td>36.0</td>\n",
              "      <td>0.0</td>\n",
              "      <td>0.0</td>\n",
              "      <td>8.0</td>\n",
              "      <td>3.125000</td>\n",
              "      <td>36.125000</td>\n",
              "      <td>34.75</td>\n",
              "      <td>0.0</td>\n",
              "      <td>1.250000</td>\n",
              "      <td>1.250000</td>\n",
              "      <td>0.0</td>\n",
              "      <td>0.0</td>\n",
              "      <td>0.0</td>\n",
              "      <td>29.375000</td>\n",
              "      <td>4.500000</td>\n",
              "      <td>0.0</td>\n",
              "      <td>0.0</td>\n",
              "    </tr>\n",
              "    <tr>\n",
              "      <th>428</th>\n",
              "      <td>MAE</td>\n",
              "      <td>2019</td>\n",
              "      <td>62.0</td>\n",
              "      <td>692.0</td>\n",
              "      <td>648.0</td>\n",
              "      <td>0.0</td>\n",
              "      <td>32.0</td>\n",
              "      <td>32.0</td>\n",
              "      <td>0.0</td>\n",
              "      <td>0.0</td>\n",
              "      <td>0.0</td>\n",
              "      <td>548.0</td>\n",
              "      <td>71.0</td>\n",
              "      <td>0.0</td>\n",
              "      <td>0.0</td>\n",
              "      <td>3.0</td>\n",
              "      <td>20.666667</td>\n",
              "      <td>230.666667</td>\n",
              "      <td>216.00</td>\n",
              "      <td>0.0</td>\n",
              "      <td>10.666667</td>\n",
              "      <td>10.666667</td>\n",
              "      <td>0.0</td>\n",
              "      <td>0.0</td>\n",
              "      <td>0.0</td>\n",
              "      <td>182.666667</td>\n",
              "      <td>23.666667</td>\n",
              "      <td>0.0</td>\n",
              "      <td>0.0</td>\n",
              "    </tr>\n",
              "  </tbody>\n",
              "</table>\n",
              "</div>"
            ],
            "text/plain": [
              "    unidade   ano  Nunique  ...  indicador11  indicador12  indicador13\n",
              "324     MAE  2017     25.0  ...     4.500000          0.0          0.0\n",
              "428     MAE  2019     62.0  ...    23.666667          0.0          0.0\n",
              "\n",
              "[2 rows x 29 columns]"
            ]
          },
          "metadata": {},
          "execution_count": 45
        }
      ]
    },
    {
      "cell_type": "code",
      "metadata": {
        "colab": {
          "base_uri": "https://localhost:8080/",
          "height": 0
        },
        "id": "VZD1NpmP2L4E",
        "outputId": "95da607e-1922-47d4-cff0-3edc9978afec"
      },
      "source": [
        "sns.catplot(x=\"ano\", y=\"indicador2\", col=\"unidade\",\n",
        "                data=i1_2, \n",
        "                kind=\"bar\"\n",
        "                )"
      ],
      "execution_count": 46,
      "outputs": [
        {
          "output_type": "execute_result",
          "data": {
            "text/plain": [
              "<seaborn.axisgrid.FacetGrid at 0x7efc260385d0>"
            ]
          },
          "metadata": {},
          "execution_count": 46
        },
        {
          "output_type": "display_data",
          "data": {
            "image/png": "[encoded data removed]",
            "text/plain": [
              "<Figure size 2520x360 with 7 Axes>"
            ]
          },
          "metadata": {
            "needs_background": "light"
          }
        }
      ]
    },
    {
      "cell_type": "markdown",
      "metadata": {
        "id": "zmmc_w872rEY"
      },
      "source": [
        "#**Indicador 3: Nresource1 / Nº de matriculas**"
      ]
    },
    {
      "cell_type": "code",
      "metadata": {
        "colab": {
          "base_uri": "https://localhost:8080/",
          "height": 0
        },
        "id": "WDIafMciEcUE",
        "outputId": "c62a049e-0c33-4b09-cc8a-58ba59ea17ed"
      },
      "source": [
        "i1_3 = i1.loc[(i1['indicador3']) > 50] \n",
        "i1_3.sample(2)"
      ],
      "execution_count": 47,
      "outputs": [
        {
          "output_type": "execute_result",
          "data": {
            "text/html": [
              "<div>\n",
              "<style scoped>\n",
              "    .dataframe tbody tr th:only-of-type {\n",
              "        vertical-align: middle;\n",
              "    }\n",
              "\n",
              "    .dataframe tbody tr th {\n",
              "        vertical-align: top;\n",
              "    }\n",
              "\n",
              "    .dataframe thead th {\n",
              "        text-align: right;\n",
              "    }\n",
              "</style>\n",
              "<table border=\"1\" class=\"dataframe\">\n",
              "  <thead>\n",
              "    <tr style=\"text-align: right;\">\n",
              "      <th></th>\n",
              "      <th>unidade</th>\n",
              "      <th>ano</th>\n",
              "      <th>Nunique</th>\n",
              "      <th>N</th>\n",
              "      <th>Nresource1</th>\n",
              "      <th>Nresource2</th>\n",
              "      <th>Ncommunication</th>\n",
              "      <th>forum</th>\n",
              "      <th>lesson</th>\n",
              "      <th>questionnaire</th>\n",
              "      <th>quiz</th>\n",
              "      <th>resource</th>\n",
              "      <th>url</th>\n",
              "      <th>studentquiz</th>\n",
              "      <th>game</th>\n",
              "      <th>matr</th>\n",
              "      <th>indicador1</th>\n",
              "      <th>indicador2</th>\n",
              "      <th>indicador3</th>\n",
              "      <th>indicador4</th>\n",
              "      <th>indicador5</th>\n",
              "      <th>indicador6</th>\n",
              "      <th>indicador7</th>\n",
              "      <th>indicador8</th>\n",
              "      <th>indicador9</th>\n",
              "      <th>indicador10</th>\n",
              "      <th>indicador11</th>\n",
              "      <th>indicador12</th>\n",
              "      <th>indicador13</th>\n",
              "    </tr>\n",
              "  </thead>\n",
              "  <tbody>\n",
              "    <tr>\n",
              "      <th>415</th>\n",
              "      <td>IEE</td>\n",
              "      <td>2019</td>\n",
              "      <td>29.0</td>\n",
              "      <td>292.0</td>\n",
              "      <td>257.0</td>\n",
              "      <td>1.0</td>\n",
              "      <td>12.0</td>\n",
              "      <td>12.0</td>\n",
              "      <td>0.0</td>\n",
              "      <td>0.0</td>\n",
              "      <td>0.0</td>\n",
              "      <td>213.0</td>\n",
              "      <td>15.0</td>\n",
              "      <td>0.0</td>\n",
              "      <td>0.0</td>\n",
              "      <td>3.0</td>\n",
              "      <td>9.666667</td>\n",
              "      <td>97.333333</td>\n",
              "      <td>85.666667</td>\n",
              "      <td>0.333333</td>\n",
              "      <td>4.000000</td>\n",
              "      <td>4.000000</td>\n",
              "      <td>0.0</td>\n",
              "      <td>0.000000</td>\n",
              "      <td>0.0</td>\n",
              "      <td>71.000000</td>\n",
              "      <td>5.000000</td>\n",
              "      <td>0.0</td>\n",
              "      <td>0.0</td>\n",
              "    </tr>\n",
              "    <tr>\n",
              "      <th>379</th>\n",
              "      <td>CENA</td>\n",
              "      <td>2019</td>\n",
              "      <td>29.0</td>\n",
              "      <td>259.0</td>\n",
              "      <td>208.0</td>\n",
              "      <td>18.0</td>\n",
              "      <td>8.0</td>\n",
              "      <td>8.0</td>\n",
              "      <td>0.0</td>\n",
              "      <td>4.0</td>\n",
              "      <td>6.0</td>\n",
              "      <td>170.0</td>\n",
              "      <td>38.0</td>\n",
              "      <td>0.0</td>\n",
              "      <td>0.0</td>\n",
              "      <td>3.0</td>\n",
              "      <td>9.666667</td>\n",
              "      <td>86.333333</td>\n",
              "      <td>69.333333</td>\n",
              "      <td>6.000000</td>\n",
              "      <td>2.666667</td>\n",
              "      <td>2.666667</td>\n",
              "      <td>0.0</td>\n",
              "      <td>1.333333</td>\n",
              "      <td>2.0</td>\n",
              "      <td>56.666667</td>\n",
              "      <td>12.666667</td>\n",
              "      <td>0.0</td>\n",
              "      <td>0.0</td>\n",
              "    </tr>\n",
              "  </tbody>\n",
              "</table>\n",
              "</div>"
            ],
            "text/plain": [
              "    unidade   ano  Nunique  ...  indicador11  indicador12  indicador13\n",
              "415     IEE  2019     29.0  ...     5.000000          0.0          0.0\n",
              "379    CENA  2019     29.0  ...    12.666667          0.0          0.0\n",
              "\n",
              "[2 rows x 29 columns]"
            ]
          },
          "metadata": {},
          "execution_count": 47
        }
      ]
    },
    {
      "cell_type": "code",
      "metadata": {
        "colab": {
          "base_uri": "https://localhost:8080/",
          "height": 0
        },
        "id": "HBT6GJjK2NgC",
        "outputId": "3bab785a-a0f8-430f-89bb-94ad7cec2459"
      },
      "source": [
        "sns.catplot(x=\"ano\", y=\"indicador3\", col=\"unidade\",\n",
        "                data=i1_3, \n",
        "                kind=\"bar\"\n",
        "                )"
      ],
      "execution_count": 48,
      "outputs": [
        {
          "output_type": "execute_result",
          "data": {
            "text/plain": [
              "<seaborn.axisgrid.FacetGrid at 0x7efc25a93550>"
            ]
          },
          "metadata": {},
          "execution_count": 48
        },
        {
          "output_type": "display_data",
          "data": {
            "image/png": "[encoded data removed]",
            "text/plain": [
              "<Figure size 1800x360 with 5 Axes>"
            ]
          },
          "metadata": {
            "needs_background": "light"
          }
        }
      ]
    },
    {
      "cell_type": "markdown",
      "metadata": {
        "id": "ckK93X0V2tGZ"
      },
      "source": [
        "#**Indicador 4: Nresource2 / Nº de matriculas**"
      ]
    },
    {
      "cell_type": "code",
      "metadata": {
        "colab": {
          "base_uri": "https://localhost:8080/",
          "height": 0
        },
        "id": "8TuORuS4Ewg7",
        "outputId": "f047e88f-0dd2-46db-9d72-2183982c9800"
      },
      "source": [
        "i1_4 = i1.loc[(i1['indicador4']) > 1] \n",
        "i1_4.sample(2)"
      ],
      "execution_count": 49,
      "outputs": [
        {
          "output_type": "execute_result",
          "data": {
            "text/html": [
              "<div>\n",
              "<style scoped>\n",
              "    .dataframe tbody tr th:only-of-type {\n",
              "        vertical-align: middle;\n",
              "    }\n",
              "\n",
              "    .dataframe tbody tr th {\n",
              "        vertical-align: top;\n",
              "    }\n",
              "\n",
              "    .dataframe thead th {\n",
              "        text-align: right;\n",
              "    }\n",
              "</style>\n",
              "<table border=\"1\" class=\"dataframe\">\n",
              "  <thead>\n",
              "    <tr style=\"text-align: right;\">\n",
              "      <th></th>\n",
              "      <th>unidade</th>\n",
              "      <th>ano</th>\n",
              "      <th>Nunique</th>\n",
              "      <th>N</th>\n",
              "      <th>Nresource1</th>\n",
              "      <th>Nresource2</th>\n",
              "      <th>Ncommunication</th>\n",
              "      <th>forum</th>\n",
              "      <th>lesson</th>\n",
              "      <th>questionnaire</th>\n",
              "      <th>quiz</th>\n",
              "      <th>resource</th>\n",
              "      <th>url</th>\n",
              "      <th>studentquiz</th>\n",
              "      <th>game</th>\n",
              "      <th>matr</th>\n",
              "      <th>indicador1</th>\n",
              "      <th>indicador2</th>\n",
              "      <th>indicador3</th>\n",
              "      <th>indicador4</th>\n",
              "      <th>indicador5</th>\n",
              "      <th>indicador6</th>\n",
              "      <th>indicador7</th>\n",
              "      <th>indicador8</th>\n",
              "      <th>indicador9</th>\n",
              "      <th>indicador10</th>\n",
              "      <th>indicador11</th>\n",
              "      <th>indicador12</th>\n",
              "      <th>indicador13</th>\n",
              "    </tr>\n",
              "  </thead>\n",
              "  <tbody>\n",
              "    <tr>\n",
              "      <th>46</th>\n",
              "      <td>MAC</td>\n",
              "      <td>2012</td>\n",
              "      <td>15.0</td>\n",
              "      <td>193.0</td>\n",
              "      <td>139.0</td>\n",
              "      <td>13.0</td>\n",
              "      <td>5.0</td>\n",
              "      <td>5.0</td>\n",
              "      <td>0.0</td>\n",
              "      <td>0.0</td>\n",
              "      <td>0.0</td>\n",
              "      <td>122.0</td>\n",
              "      <td>5.0</td>\n",
              "      <td>0.0</td>\n",
              "      <td>0.0</td>\n",
              "      <td>3.0</td>\n",
              "      <td>5.000000</td>\n",
              "      <td>64.333333</td>\n",
              "      <td>46.333333</td>\n",
              "      <td>4.333333</td>\n",
              "      <td>1.666667</td>\n",
              "      <td>1.666667</td>\n",
              "      <td>0.0</td>\n",
              "      <td>0.000000</td>\n",
              "      <td>0.000000</td>\n",
              "      <td>40.666667</td>\n",
              "      <td>1.666667</td>\n",
              "      <td>0.00000</td>\n",
              "      <td>0.0</td>\n",
              "    </tr>\n",
              "    <tr>\n",
              "      <th>458</th>\n",
              "      <td>FOB</td>\n",
              "      <td>2020</td>\n",
              "      <td>1169.0</td>\n",
              "      <td>9088.0</td>\n",
              "      <td>6108.0</td>\n",
              "      <td>720.0</td>\n",
              "      <td>647.0</td>\n",
              "      <td>605.0</td>\n",
              "      <td>0.0</td>\n",
              "      <td>540.0</td>\n",
              "      <td>530.0</td>\n",
              "      <td>2854.0</td>\n",
              "      <td>2295.0</td>\n",
              "      <td>15.0</td>\n",
              "      <td>0.0</td>\n",
              "      <td>534.0</td>\n",
              "      <td>2.189139</td>\n",
              "      <td>17.018727</td>\n",
              "      <td>11.438202</td>\n",
              "      <td>1.348315</td>\n",
              "      <td>1.211610</td>\n",
              "      <td>1.132959</td>\n",
              "      <td>0.0</td>\n",
              "      <td>1.011236</td>\n",
              "      <td>0.992509</td>\n",
              "      <td>5.344569</td>\n",
              "      <td>4.297753</td>\n",
              "      <td>0.02809</td>\n",
              "      <td>0.0</td>\n",
              "    </tr>\n",
              "  </tbody>\n",
              "</table>\n",
              "</div>"
            ],
            "text/plain": [
              "    unidade   ano  Nunique  ...  indicador11  indicador12  indicador13\n",
              "46      MAC  2012     15.0  ...     1.666667      0.00000          0.0\n",
              "458     FOB  2020   1169.0  ...     4.297753      0.02809          0.0\n",
              "\n",
              "[2 rows x 29 columns]"
            ]
          },
          "metadata": {},
          "execution_count": 49
        }
      ]
    },
    {
      "cell_type": "code",
      "metadata": {
        "colab": {
          "base_uri": "https://localhost:8080/",
          "height": 0
        },
        "id": "oXaFHRIb2N1a",
        "outputId": "106b78ce-0ef4-44d3-ae58-dac16bf8ad5a"
      },
      "source": [
        "sns.catplot(x=\"ano\", y=\"indicador4\", col=\"unidade\",\n",
        "                data=i1_4, \n",
        "                kind=\"bar\"\n",
        "                )"
      ],
      "execution_count": 50,
      "outputs": [
        {
          "output_type": "execute_result",
          "data": {
            "text/plain": [
              "<seaborn.axisgrid.FacetGrid at 0x7efc25b09310>"
            ]
          },
          "metadata": {},
          "execution_count": 50
        },
        {
          "output_type": "display_data",
          "data": {
            "image/png": "[encoded data removed]",
            "text/plain": [
              "<Figure size 2160x360 with 6 Axes>"
            ]
          },
          "metadata": {
            "needs_background": "light"
          }
        }
      ]
    },
    {
      "cell_type": "markdown",
      "metadata": {
        "id": "OiOXGQ8T3YeG"
      },
      "source": [
        "#**Indicador 5: Ncommunication / Nº de matriculas**"
      ]
    },
    {
      "cell_type": "code",
      "metadata": {
        "colab": {
          "base_uri": "https://localhost:8080/",
          "height": 0
        },
        "id": "WpyhVbIaFqmQ",
        "outputId": "4e400991-0761-4203-e0a1-afe4b4b9a43a"
      },
      "source": [
        "i1_5 = i1.loc[(i1['indicador5']) > 3] \n",
        "i1_5.sample(2)"
      ],
      "execution_count": 51,
      "outputs": [
        {
          "output_type": "execute_result",
          "data": {
            "text/html": [
              "<div>\n",
              "<style scoped>\n",
              "    .dataframe tbody tr th:only-of-type {\n",
              "        vertical-align: middle;\n",
              "    }\n",
              "\n",
              "    .dataframe tbody tr th {\n",
              "        vertical-align: top;\n",
              "    }\n",
              "\n",
              "    .dataframe thead th {\n",
              "        text-align: right;\n",
              "    }\n",
              "</style>\n",
              "<table border=\"1\" class=\"dataframe\">\n",
              "  <thead>\n",
              "    <tr style=\"text-align: right;\">\n",
              "      <th></th>\n",
              "      <th>unidade</th>\n",
              "      <th>ano</th>\n",
              "      <th>Nunique</th>\n",
              "      <th>N</th>\n",
              "      <th>Nresource1</th>\n",
              "      <th>Nresource2</th>\n",
              "      <th>Ncommunication</th>\n",
              "      <th>forum</th>\n",
              "      <th>lesson</th>\n",
              "      <th>questionnaire</th>\n",
              "      <th>quiz</th>\n",
              "      <th>resource</th>\n",
              "      <th>url</th>\n",
              "      <th>studentquiz</th>\n",
              "      <th>game</th>\n",
              "      <th>matr</th>\n",
              "      <th>indicador1</th>\n",
              "      <th>indicador2</th>\n",
              "      <th>indicador3</th>\n",
              "      <th>indicador4</th>\n",
              "      <th>indicador5</th>\n",
              "      <th>indicador6</th>\n",
              "      <th>indicador7</th>\n",
              "      <th>indicador8</th>\n",
              "      <th>indicador9</th>\n",
              "      <th>indicador10</th>\n",
              "      <th>indicador11</th>\n",
              "      <th>indicador12</th>\n",
              "      <th>indicador13</th>\n",
              "    </tr>\n",
              "  </thead>\n",
              "  <tbody>\n",
              "    <tr>\n",
              "      <th>471</th>\n",
              "      <td>IFSC</td>\n",
              "      <td>2020</td>\n",
              "      <td>925.0</td>\n",
              "      <td>8457.0</td>\n",
              "      <td>5590.0</td>\n",
              "      <td>229.0</td>\n",
              "      <td>1545.0</td>\n",
              "      <td>327.0</td>\n",
              "      <td>5.0</td>\n",
              "      <td>50.0</td>\n",
              "      <td>345.0</td>\n",
              "      <td>3274.0</td>\n",
              "      <td>1696.0</td>\n",
              "      <td>0.0</td>\n",
              "      <td>0.0</td>\n",
              "      <td>462.0</td>\n",
              "      <td>2.002165</td>\n",
              "      <td>18.305195</td>\n",
              "      <td>12.099567</td>\n",
              "      <td>0.495671</td>\n",
              "      <td>3.344156</td>\n",
              "      <td>0.707792</td>\n",
              "      <td>0.010823</td>\n",
              "      <td>0.108225</td>\n",
              "      <td>0.746753</td>\n",
              "      <td>7.08658</td>\n",
              "      <td>3.670996</td>\n",
              "      <td>0.0</td>\n",
              "      <td>0.0</td>\n",
              "    </tr>\n",
              "    <tr>\n",
              "      <th>375</th>\n",
              "      <td>MAE</td>\n",
              "      <td>2018</td>\n",
              "      <td>36.0</td>\n",
              "      <td>381.0</td>\n",
              "      <td>324.0</td>\n",
              "      <td>0.0</td>\n",
              "      <td>18.0</td>\n",
              "      <td>18.0</td>\n",
              "      <td>0.0</td>\n",
              "      <td>0.0</td>\n",
              "      <td>2.0</td>\n",
              "      <td>287.0</td>\n",
              "      <td>27.0</td>\n",
              "      <td>0.0</td>\n",
              "      <td>0.0</td>\n",
              "      <td>4.0</td>\n",
              "      <td>9.000000</td>\n",
              "      <td>95.250000</td>\n",
              "      <td>81.000000</td>\n",
              "      <td>0.000000</td>\n",
              "      <td>4.500000</td>\n",
              "      <td>4.500000</td>\n",
              "      <td>0.000000</td>\n",
              "      <td>0.000000</td>\n",
              "      <td>0.500000</td>\n",
              "      <td>71.75000</td>\n",
              "      <td>6.750000</td>\n",
              "      <td>0.0</td>\n",
              "      <td>0.0</td>\n",
              "    </tr>\n",
              "  </tbody>\n",
              "</table>\n",
              "</div>"
            ],
            "text/plain": [
              "    unidade   ano  Nunique  ...  indicador11  indicador12  indicador13\n",
              "471    IFSC  2020    925.0  ...     3.670996          0.0          0.0\n",
              "375     MAE  2018     36.0  ...     6.750000          0.0          0.0\n",
              "\n",
              "[2 rows x 29 columns]"
            ]
          },
          "metadata": {},
          "execution_count": 51
        }
      ]
    },
    {
      "cell_type": "code",
      "metadata": {
        "colab": {
          "base_uri": "https://localhost:8080/",
          "height": 0
        },
        "id": "DqdoaBO-2N_p",
        "outputId": "d45566cd-752c-483c-81a3-47462c73839d"
      },
      "source": [
        "sns.catplot(x=\"ano\", y=\"indicador5\", col=\"unidade\",\n",
        "                data=i1_5, \n",
        "                kind=\"bar\"\n",
        "                )"
      ],
      "execution_count": 52,
      "outputs": [
        {
          "output_type": "execute_result",
          "data": {
            "text/plain": [
              "<seaborn.axisgrid.FacetGrid at 0x7efc25616950>"
            ]
          },
          "metadata": {},
          "execution_count": 52
        },
        {
          "output_type": "display_data",
          "data": {
            "image/png": "[encoded data removed]",
            "text/plain": [
              "<Figure size 2520x360 with 7 Axes>"
            ]
          },
          "metadata": {
            "needs_background": "light"
          }
        }
      ]
    },
    {
      "cell_type": "markdown",
      "metadata": {
        "id": "xU0RcWdO3aFO"
      },
      "source": [
        "#**Indicador 6: forum / Nº de matriculas**"
      ]
    },
    {
      "cell_type": "code",
      "metadata": {
        "colab": {
          "base_uri": "https://localhost:8080/",
          "height": 131
        },
        "id": "W6IRzyHGGPLn",
        "outputId": "42dd1981-3fc1-4707-bee9-1a2a4e4ed24b"
      },
      "source": [
        "i1_6 = i1.loc[(i1['indicador6']) > 3] \n",
        "i1_6.sample(2)"
      ],
      "execution_count": 53,
      "outputs": [
        {
          "output_type": "execute_result",
          "data": {
            "text/html": [
              "<div>\n",
              "<style scoped>\n",
              "    .dataframe tbody tr th:only-of-type {\n",
              "        vertical-align: middle;\n",
              "    }\n",
              "\n",
              "    .dataframe tbody tr th {\n",
              "        vertical-align: top;\n",
              "    }\n",
              "\n",
              "    .dataframe thead th {\n",
              "        text-align: right;\n",
              "    }\n",
              "</style>\n",
              "<table border=\"1\" class=\"dataframe\">\n",
              "  <thead>\n",
              "    <tr style=\"text-align: right;\">\n",
              "      <th></th>\n",
              "      <th>unidade</th>\n",
              "      <th>ano</th>\n",
              "      <th>Nunique</th>\n",
              "      <th>N</th>\n",
              "      <th>Nresource1</th>\n",
              "      <th>Nresource2</th>\n",
              "      <th>Ncommunication</th>\n",
              "      <th>forum</th>\n",
              "      <th>lesson</th>\n",
              "      <th>questionnaire</th>\n",
              "      <th>quiz</th>\n",
              "      <th>resource</th>\n",
              "      <th>url</th>\n",
              "      <th>studentquiz</th>\n",
              "      <th>game</th>\n",
              "      <th>matr</th>\n",
              "      <th>indicador1</th>\n",
              "      <th>indicador2</th>\n",
              "      <th>indicador3</th>\n",
              "      <th>indicador4</th>\n",
              "      <th>indicador5</th>\n",
              "      <th>indicador6</th>\n",
              "      <th>indicador7</th>\n",
              "      <th>indicador8</th>\n",
              "      <th>indicador9</th>\n",
              "      <th>indicador10</th>\n",
              "      <th>indicador11</th>\n",
              "      <th>indicador12</th>\n",
              "      <th>indicador13</th>\n",
              "    </tr>\n",
              "  </thead>\n",
              "  <tbody>\n",
              "    <tr>\n",
              "      <th>484</th>\n",
              "      <td>MZ</td>\n",
              "      <td>2020</td>\n",
              "      <td>26.0</td>\n",
              "      <td>127.0</td>\n",
              "      <td>75.0</td>\n",
              "      <td>32.0</td>\n",
              "      <td>7.0</td>\n",
              "      <td>7.0</td>\n",
              "      <td>2.0</td>\n",
              "      <td>2.0</td>\n",
              "      <td>3.0</td>\n",
              "      <td>72.0</td>\n",
              "      <td>1.0</td>\n",
              "      <td>0.0</td>\n",
              "      <td>0.0</td>\n",
              "      <td>2.0</td>\n",
              "      <td>13.000000</td>\n",
              "      <td>63.500000</td>\n",
              "      <td>37.500000</td>\n",
              "      <td>16.0</td>\n",
              "      <td>3.500000</td>\n",
              "      <td>3.500000</td>\n",
              "      <td>1.0</td>\n",
              "      <td>1.0</td>\n",
              "      <td>1.500000</td>\n",
              "      <td>36.0</td>\n",
              "      <td>0.500000</td>\n",
              "      <td>0.0</td>\n",
              "      <td>0.0</td>\n",
              "    </tr>\n",
              "    <tr>\n",
              "      <th>469</th>\n",
              "      <td>IEE</td>\n",
              "      <td>2020</td>\n",
              "      <td>88.0</td>\n",
              "      <td>608.0</td>\n",
              "      <td>512.0</td>\n",
              "      <td>0.0</td>\n",
              "      <td>37.0</td>\n",
              "      <td>35.0</td>\n",
              "      <td>0.0</td>\n",
              "      <td>0.0</td>\n",
              "      <td>4.0</td>\n",
              "      <td>369.0</td>\n",
              "      <td>109.0</td>\n",
              "      <td>0.0</td>\n",
              "      <td>0.0</td>\n",
              "      <td>3.0</td>\n",
              "      <td>29.333333</td>\n",
              "      <td>202.666667</td>\n",
              "      <td>170.666667</td>\n",
              "      <td>0.0</td>\n",
              "      <td>12.333333</td>\n",
              "      <td>11.666667</td>\n",
              "      <td>0.0</td>\n",
              "      <td>0.0</td>\n",
              "      <td>1.333333</td>\n",
              "      <td>123.0</td>\n",
              "      <td>36.333333</td>\n",
              "      <td>0.0</td>\n",
              "      <td>0.0</td>\n",
              "    </tr>\n",
              "  </tbody>\n",
              "</table>\n",
              "</div>"
            ],
            "text/plain": [
              "    unidade   ano  Nunique  ...  indicador11  indicador12  indicador13\n",
              "484      MZ  2020     26.0  ...     0.500000          0.0          0.0\n",
              "469     IEE  2020     88.0  ...    36.333333          0.0          0.0\n",
              "\n",
              "[2 rows x 29 columns]"
            ]
          },
          "metadata": {},
          "execution_count": 53
        }
      ]
    },
    {
      "cell_type": "code",
      "metadata": {
        "colab": {
          "base_uri": "https://localhost:8080/",
          "height": 257
        },
        "id": "J9IVzUnaRfHy",
        "outputId": "190d784e-a3d4-4552-eac1-a7a43c1b1ea5"
      },
      "source": [
        "sns.catplot(x=\"ano\", y=\"indicador6\", col=\"unidade\",\n",
        "                data=i1_6, \n",
        "                kind=\"bar\"\n",
        "                )"
      ],
      "execution_count": 54,
      "outputs": [
        {
          "output_type": "execute_result",
          "data": {
            "text/plain": [
              "<seaborn.axisgrid.FacetGrid at 0x7efc251e0e10>"
            ]
          },
          "metadata": {},
          "execution_count": 54
        },
        {
          "output_type": "display_data",
          "data": {
            "image/png": "[encoded data removed]",
            "text/plain": [
              "<Figure size 2160x360 with 6 Axes>"
            ]
          },
          "metadata": {
            "needs_background": "light"
          }
        }
      ]
    },
    {
      "cell_type": "markdown",
      "metadata": {
        "id": "iiK-P1j33dBW"
      },
      "source": [
        "#**Indicador 7: lesson / Nº de matriculas**"
      ]
    },
    {
      "cell_type": "code",
      "metadata": {
        "colab": {
          "base_uri": "https://localhost:8080/",
          "height": 0
        },
        "id": "U1YlwssvGgA9",
        "outputId": "fcd23c92-8a79-4e81-fc4b-5d296246551a"
      },
      "source": [
        "i1_7 = i1.loc[(i1['indicador7']) > 0.1] #esse indicador possui uma média de uso muito pequena por aluno, possivelmente não faça sentido!\n",
        "i1_7.sample(2)"
      ],
      "execution_count": 55,
      "outputs": [
        {
          "output_type": "execute_result",
          "data": {
            "text/html": [
              "<div>\n",
              "<style scoped>\n",
              "    .dataframe tbody tr th:only-of-type {\n",
              "        vertical-align: middle;\n",
              "    }\n",
              "\n",
              "    .dataframe tbody tr th {\n",
              "        vertical-align: top;\n",
              "    }\n",
              "\n",
              "    .dataframe thead th {\n",
              "        text-align: right;\n",
              "    }\n",
              "</style>\n",
              "<table border=\"1\" class=\"dataframe\">\n",
              "  <thead>\n",
              "    <tr style=\"text-align: right;\">\n",
              "      <th></th>\n",
              "      <th>unidade</th>\n",
              "      <th>ano</th>\n",
              "      <th>Nunique</th>\n",
              "      <th>N</th>\n",
              "      <th>Nresource1</th>\n",
              "      <th>Nresource2</th>\n",
              "      <th>Ncommunication</th>\n",
              "      <th>forum</th>\n",
              "      <th>lesson</th>\n",
              "      <th>questionnaire</th>\n",
              "      <th>quiz</th>\n",
              "      <th>resource</th>\n",
              "      <th>url</th>\n",
              "      <th>studentquiz</th>\n",
              "      <th>game</th>\n",
              "      <th>matr</th>\n",
              "      <th>indicador1</th>\n",
              "      <th>indicador2</th>\n",
              "      <th>indicador3</th>\n",
              "      <th>indicador4</th>\n",
              "      <th>indicador5</th>\n",
              "      <th>indicador6</th>\n",
              "      <th>indicador7</th>\n",
              "      <th>indicador8</th>\n",
              "      <th>indicador9</th>\n",
              "      <th>indicador10</th>\n",
              "      <th>indicador11</th>\n",
              "      <th>indicador12</th>\n",
              "      <th>indicador13</th>\n",
              "    </tr>\n",
              "  </thead>\n",
              "  <tbody>\n",
              "    <tr>\n",
              "      <th>484</th>\n",
              "      <td>MZ</td>\n",
              "      <td>2020</td>\n",
              "      <td>26.0</td>\n",
              "      <td>127.0</td>\n",
              "      <td>75.0</td>\n",
              "      <td>32.0</td>\n",
              "      <td>7.0</td>\n",
              "      <td>7.0</td>\n",
              "      <td>2.0</td>\n",
              "      <td>2.0</td>\n",
              "      <td>3.0</td>\n",
              "      <td>72.0</td>\n",
              "      <td>1.0</td>\n",
              "      <td>0.0</td>\n",
              "      <td>0.0</td>\n",
              "      <td>2.0</td>\n",
              "      <td>13.000000</td>\n",
              "      <td>63.500000</td>\n",
              "      <td>37.50000</td>\n",
              "      <td>16.000000</td>\n",
              "      <td>3.500000</td>\n",
              "      <td>3.500000</td>\n",
              "      <td>1.000000</td>\n",
              "      <td>1.000000</td>\n",
              "      <td>1.500000</td>\n",
              "      <td>36.000000</td>\n",
              "      <td>0.500000</td>\n",
              "      <td>0.0</td>\n",
              "      <td>0.0</td>\n",
              "    </tr>\n",
              "    <tr>\n",
              "      <th>472</th>\n",
              "      <td>IGc</td>\n",
              "      <td>2020</td>\n",
              "      <td>392.0</td>\n",
              "      <td>3846.0</td>\n",
              "      <td>2832.0</td>\n",
              "      <td>138.0</td>\n",
              "      <td>222.0</td>\n",
              "      <td>216.0</td>\n",
              "      <td>92.0</td>\n",
              "      <td>22.0</td>\n",
              "      <td>125.0</td>\n",
              "      <td>2140.0</td>\n",
              "      <td>527.0</td>\n",
              "      <td>0.0</td>\n",
              "      <td>0.0</td>\n",
              "      <td>484.0</td>\n",
              "      <td>0.809917</td>\n",
              "      <td>7.946281</td>\n",
              "      <td>5.85124</td>\n",
              "      <td>0.285124</td>\n",
              "      <td>0.458678</td>\n",
              "      <td>0.446281</td>\n",
              "      <td>0.190083</td>\n",
              "      <td>0.045455</td>\n",
              "      <td>0.258264</td>\n",
              "      <td>4.421488</td>\n",
              "      <td>1.088843</td>\n",
              "      <td>0.0</td>\n",
              "      <td>0.0</td>\n",
              "    </tr>\n",
              "  </tbody>\n",
              "</table>\n",
              "</div>"
            ],
            "text/plain": [
              "    unidade   ano  Nunique  ...  indicador11  indicador12  indicador13\n",
              "484      MZ  2020     26.0  ...     0.500000          0.0          0.0\n",
              "472     IGc  2020    392.0  ...     1.088843          0.0          0.0\n",
              "\n",
              "[2 rows x 29 columns]"
            ]
          },
          "metadata": {},
          "execution_count": 55
        }
      ]
    },
    {
      "cell_type": "code",
      "metadata": {
        "colab": {
          "base_uri": "https://localhost:8080/",
          "height": 0
        },
        "id": "lpvaq30e3EoH",
        "outputId": "12668c2b-972a-42b2-c04c-840ffa7e95b5"
      },
      "source": [
        "sns.catplot(x=\"ano\", y=\"indicador7\", col=\"unidade\",\n",
        "                data=i1_7, \n",
        "                kind=\"bar\"\n",
        "                )"
      ],
      "execution_count": 56,
      "outputs": [
        {
          "output_type": "execute_result",
          "data": {
            "text/plain": [
              "<seaborn.axisgrid.FacetGrid at 0x7efc253150d0>"
            ]
          },
          "metadata": {},
          "execution_count": 56
        },
        {
          "output_type": "display_data",
          "data": {
            "image/png": "[encoded data removed]",
            "text/plain": [
              "<Figure size 1440x360 with 4 Axes>"
            ]
          },
          "metadata": {
            "needs_background": "light"
          }
        }
      ]
    },
    {
      "cell_type": "markdown",
      "metadata": {
        "id": "BDx1v9xY3fEW"
      },
      "source": [
        "#**Indicador 8: questionnaire / Nº de matriculas**"
      ]
    },
    {
      "cell_type": "code",
      "metadata": {
        "colab": {
          "base_uri": "https://localhost:8080/",
          "height": 131
        },
        "id": "yfZpkoCnG-O8",
        "outputId": "72d434d1-0764-4b97-efed-5174abae35ce"
      },
      "source": [
        "i1_8 = i1.loc[(i1['indicador8']) > 0.1] \n",
        "i1_8.sample(2)"
      ],
      "execution_count": 57,
      "outputs": [
        {
          "output_type": "execute_result",
          "data": {
            "text/html": [
              "<div>\n",
              "<style scoped>\n",
              "    .dataframe tbody tr th:only-of-type {\n",
              "        vertical-align: middle;\n",
              "    }\n",
              "\n",
              "    .dataframe tbody tr th {\n",
              "        vertical-align: top;\n",
              "    }\n",
              "\n",
              "    .dataframe thead th {\n",
              "        text-align: right;\n",
              "    }\n",
              "</style>\n",
              "<table border=\"1\" class=\"dataframe\">\n",
              "  <thead>\n",
              "    <tr style=\"text-align: right;\">\n",
              "      <th></th>\n",
              "      <th>unidade</th>\n",
              "      <th>ano</th>\n",
              "      <th>Nunique</th>\n",
              "      <th>N</th>\n",
              "      <th>Nresource1</th>\n",
              "      <th>Nresource2</th>\n",
              "      <th>Ncommunication</th>\n",
              "      <th>forum</th>\n",
              "      <th>lesson</th>\n",
              "      <th>questionnaire</th>\n",
              "      <th>quiz</th>\n",
              "      <th>resource</th>\n",
              "      <th>url</th>\n",
              "      <th>studentquiz</th>\n",
              "      <th>game</th>\n",
              "      <th>matr</th>\n",
              "      <th>indicador1</th>\n",
              "      <th>indicador2</th>\n",
              "      <th>indicador3</th>\n",
              "      <th>indicador4</th>\n",
              "      <th>indicador5</th>\n",
              "      <th>indicador6</th>\n",
              "      <th>indicador7</th>\n",
              "      <th>indicador8</th>\n",
              "      <th>indicador9</th>\n",
              "      <th>indicador10</th>\n",
              "      <th>indicador11</th>\n",
              "      <th>indicador12</th>\n",
              "      <th>indicador13</th>\n",
              "    </tr>\n",
              "  </thead>\n",
              "  <tbody>\n",
              "    <tr>\n",
              "      <th>296</th>\n",
              "      <td>FMRP</td>\n",
              "      <td>2017</td>\n",
              "      <td>1600.0</td>\n",
              "      <td>10151.0</td>\n",
              "      <td>7228.0</td>\n",
              "      <td>155.0</td>\n",
              "      <td>956.0</td>\n",
              "      <td>940.0</td>\n",
              "      <td>39.0</td>\n",
              "      <td>654.0</td>\n",
              "      <td>432.0</td>\n",
              "      <td>5489.0</td>\n",
              "      <td>682.0</td>\n",
              "      <td>0.0</td>\n",
              "      <td>0.0</td>\n",
              "      <td>2862.0</td>\n",
              "      <td>0.559050</td>\n",
              "      <td>3.546820</td>\n",
              "      <td>2.525507</td>\n",
              "      <td>0.054158</td>\n",
              "      <td>0.334032</td>\n",
              "      <td>0.328442</td>\n",
              "      <td>0.013627</td>\n",
              "      <td>0.228512</td>\n",
              "      <td>0.150943</td>\n",
              "      <td>1.917890</td>\n",
              "      <td>0.238295</td>\n",
              "      <td>0.0</td>\n",
              "      <td>0.0</td>\n",
              "    </tr>\n",
              "    <tr>\n",
              "      <th>349</th>\n",
              "      <td>FMRP</td>\n",
              "      <td>2018</td>\n",
              "      <td>1754.0</td>\n",
              "      <td>11837.0</td>\n",
              "      <td>8833.0</td>\n",
              "      <td>224.0</td>\n",
              "      <td>1064.0</td>\n",
              "      <td>1043.0</td>\n",
              "      <td>61.0</td>\n",
              "      <td>474.0</td>\n",
              "      <td>446.0</td>\n",
              "      <td>6770.0</td>\n",
              "      <td>874.0</td>\n",
              "      <td>0.0</td>\n",
              "      <td>0.0</td>\n",
              "      <td>2887.0</td>\n",
              "      <td>0.607551</td>\n",
              "      <td>4.100104</td>\n",
              "      <td>3.059577</td>\n",
              "      <td>0.077589</td>\n",
              "      <td>0.368549</td>\n",
              "      <td>0.361275</td>\n",
              "      <td>0.021129</td>\n",
              "      <td>0.164184</td>\n",
              "      <td>0.154486</td>\n",
              "      <td>2.344995</td>\n",
              "      <td>0.302736</td>\n",
              "      <td>0.0</td>\n",
              "      <td>0.0</td>\n",
              "    </tr>\n",
              "  </tbody>\n",
              "</table>\n",
              "</div>"
            ],
            "text/plain": [
              "    unidade   ano  Nunique  ...  indicador11  indicador12  indicador13\n",
              "296    FMRP  2017   1600.0  ...     0.238295          0.0          0.0\n",
              "349    FMRP  2018   1754.0  ...     0.302736          0.0          0.0\n",
              "\n",
              "[2 rows x 29 columns]"
            ]
          },
          "metadata": {},
          "execution_count": 57
        }
      ]
    },
    {
      "cell_type": "code",
      "metadata": {
        "colab": {
          "base_uri": "https://localhost:8080/",
          "height": 201
        },
        "id": "atRmKMYJ3GWQ",
        "outputId": "cf4b4c61-ba9d-46f7-bd5f-c9d404e79e7f"
      },
      "source": [
        "sns.catplot(x=\"ano\", y=\"indicador8\", col=\"unidade\",\n",
        "                data=i1_8, \n",
        "                kind=\"bar\"\n",
        "                )"
      ],
      "execution_count": 58,
      "outputs": [
        {
          "output_type": "execute_result",
          "data": {
            "text/plain": [
              "<seaborn.axisgrid.FacetGrid at 0x7efc24e91710>"
            ]
          },
          "metadata": {},
          "execution_count": 58
        },
        {
          "output_type": "display_data",
          "data": {
            "image/png": "[encoded data removed]",
            "text/plain": [
              "<Figure size 2880x360 with 8 Axes>"
            ]
          },
          "metadata": {
            "needs_background": "light"
          }
        }
      ]
    },
    {
      "cell_type": "markdown",
      "metadata": {
        "id": "oBEU3WSR3hE9"
      },
      "source": [
        "#**Indicador 9: quiz / Nº de matriculas**"
      ]
    },
    {
      "cell_type": "code",
      "metadata": {
        "colab": {
          "base_uri": "https://localhost:8080/",
          "height": 0
        },
        "id": "t9NrlHvgHZ2r",
        "outputId": "4fb7d370-7151-4dd5-e1a3-0392d8138bb4"
      },
      "source": [
        "i1_9 = i1.loc[(i1['indicador9']) > 1] \n",
        "i1_9.sample(2)"
      ],
      "execution_count": 59,
      "outputs": [
        {
          "output_type": "execute_result",
          "data": {
            "text/html": [
              "<div>\n",
              "<style scoped>\n",
              "    .dataframe tbody tr th:only-of-type {\n",
              "        vertical-align: middle;\n",
              "    }\n",
              "\n",
              "    .dataframe tbody tr th {\n",
              "        vertical-align: top;\n",
              "    }\n",
              "\n",
              "    .dataframe thead th {\n",
              "        text-align: right;\n",
              "    }\n",
              "</style>\n",
              "<table border=\"1\" class=\"dataframe\">\n",
              "  <thead>\n",
              "    <tr style=\"text-align: right;\">\n",
              "      <th></th>\n",
              "      <th>unidade</th>\n",
              "      <th>ano</th>\n",
              "      <th>Nunique</th>\n",
              "      <th>N</th>\n",
              "      <th>Nresource1</th>\n",
              "      <th>Nresource2</th>\n",
              "      <th>Ncommunication</th>\n",
              "      <th>forum</th>\n",
              "      <th>lesson</th>\n",
              "      <th>questionnaire</th>\n",
              "      <th>quiz</th>\n",
              "      <th>resource</th>\n",
              "      <th>url</th>\n",
              "      <th>studentquiz</th>\n",
              "      <th>game</th>\n",
              "      <th>matr</th>\n",
              "      <th>indicador1</th>\n",
              "      <th>indicador2</th>\n",
              "      <th>indicador3</th>\n",
              "      <th>indicador4</th>\n",
              "      <th>indicador5</th>\n",
              "      <th>indicador6</th>\n",
              "      <th>indicador7</th>\n",
              "      <th>indicador8</th>\n",
              "      <th>indicador9</th>\n",
              "      <th>indicador10</th>\n",
              "      <th>indicador11</th>\n",
              "      <th>indicador12</th>\n",
              "      <th>indicador13</th>\n",
              "    </tr>\n",
              "  </thead>\n",
              "  <tbody>\n",
              "    <tr>\n",
              "      <th>379</th>\n",
              "      <td>CENA</td>\n",
              "      <td>2019</td>\n",
              "      <td>29.0</td>\n",
              "      <td>259.0</td>\n",
              "      <td>208.0</td>\n",
              "      <td>18.0</td>\n",
              "      <td>8.0</td>\n",
              "      <td>8.0</td>\n",
              "      <td>0.0</td>\n",
              "      <td>4.0</td>\n",
              "      <td>6.0</td>\n",
              "      <td>170.0</td>\n",
              "      <td>38.0</td>\n",
              "      <td>0.0</td>\n",
              "      <td>0.0</td>\n",
              "      <td>3.0</td>\n",
              "      <td>9.666667</td>\n",
              "      <td>86.333333</td>\n",
              "      <td>69.333333</td>\n",
              "      <td>6.0</td>\n",
              "      <td>2.666667</td>\n",
              "      <td>2.666667</td>\n",
              "      <td>0.0</td>\n",
              "      <td>1.333333</td>\n",
              "      <td>2.0</td>\n",
              "      <td>56.666667</td>\n",
              "      <td>12.666667</td>\n",
              "      <td>0.0</td>\n",
              "      <td>0.0</td>\n",
              "    </tr>\n",
              "    <tr>\n",
              "      <th>482</th>\n",
              "      <td>MAE</td>\n",
              "      <td>2020</td>\n",
              "      <td>68.0</td>\n",
              "      <td>909.0</td>\n",
              "      <td>817.0</td>\n",
              "      <td>9.0</td>\n",
              "      <td>40.0</td>\n",
              "      <td>40.0</td>\n",
              "      <td>0.0</td>\n",
              "      <td>0.0</td>\n",
              "      <td>19.0</td>\n",
              "      <td>574.0</td>\n",
              "      <td>193.0</td>\n",
              "      <td>0.0</td>\n",
              "      <td>0.0</td>\n",
              "      <td>1.0</td>\n",
              "      <td>68.000000</td>\n",
              "      <td>909.000000</td>\n",
              "      <td>817.000000</td>\n",
              "      <td>9.0</td>\n",
              "      <td>40.000000</td>\n",
              "      <td>40.000000</td>\n",
              "      <td>0.0</td>\n",
              "      <td>0.000000</td>\n",
              "      <td>19.0</td>\n",
              "      <td>574.000000</td>\n",
              "      <td>193.000000</td>\n",
              "      <td>0.0</td>\n",
              "      <td>0.0</td>\n",
              "    </tr>\n",
              "  </tbody>\n",
              "</table>\n",
              "</div>"
            ],
            "text/plain": [
              "    unidade   ano  Nunique  ...  indicador11  indicador12  indicador13\n",
              "379    CENA  2019     29.0  ...    12.666667          0.0          0.0\n",
              "482     MAE  2020     68.0  ...   193.000000          0.0          0.0\n",
              "\n",
              "[2 rows x 29 columns]"
            ]
          },
          "metadata": {},
          "execution_count": 59
        }
      ]
    },
    {
      "cell_type": "code",
      "metadata": {
        "colab": {
          "base_uri": "https://localhost:8080/",
          "height": 0
        },
        "id": "LDvuVu9D3IWP",
        "outputId": "e70f5d1c-a1f1-486f-fbcd-bfcb614433eb"
      },
      "source": [
        "sns.catplot(x=\"ano\", y=\"indicador9\", col=\"unidade\",\n",
        "                data=i1_9, \n",
        "                kind=\"bar\"\n",
        "                )"
      ],
      "execution_count": 60,
      "outputs": [
        {
          "output_type": "execute_result",
          "data": {
            "text/plain": [
              "<seaborn.axisgrid.FacetGrid at 0x7efc24ac6b50>"
            ]
          },
          "metadata": {},
          "execution_count": 60
        },
        {
          "output_type": "display_data",
          "data": {
            "image/png": "[encoded data removed]",
            "text/plain": [
              "<Figure size 2160x360 with 6 Axes>"
            ]
          },
          "metadata": {
            "needs_background": "light"
          }
        }
      ]
    },
    {
      "cell_type": "markdown",
      "metadata": {
        "id": "dvC5Ho4u3jce"
      },
      "source": [
        "#**Indicador 10: resource / Nº de matriculas**"
      ]
    },
    {
      "cell_type": "code",
      "metadata": {
        "colab": {
          "base_uri": "https://localhost:8080/",
          "height": 0
        },
        "id": "Un9p1t5wHsdy",
        "outputId": "754febf3-ba3a-48df-e23f-6cc4e177f913"
      },
      "source": [
        "i1_10 = i1.loc[(i1['indicador10']) > 10] \n",
        "i1_10.sample(2)"
      ],
      "execution_count": 61,
      "outputs": [
        {
          "output_type": "execute_result",
          "data": {
            "text/html": [
              "<div>\n",
              "<style scoped>\n",
              "    .dataframe tbody tr th:only-of-type {\n",
              "        vertical-align: middle;\n",
              "    }\n",
              "\n",
              "    .dataframe tbody tr th {\n",
              "        vertical-align: top;\n",
              "    }\n",
              "\n",
              "    .dataframe thead th {\n",
              "        text-align: right;\n",
              "    }\n",
              "</style>\n",
              "<table border=\"1\" class=\"dataframe\">\n",
              "  <thead>\n",
              "    <tr style=\"text-align: right;\">\n",
              "      <th></th>\n",
              "      <th>unidade</th>\n",
              "      <th>ano</th>\n",
              "      <th>Nunique</th>\n",
              "      <th>N</th>\n",
              "      <th>Nresource1</th>\n",
              "      <th>Nresource2</th>\n",
              "      <th>Ncommunication</th>\n",
              "      <th>forum</th>\n",
              "      <th>lesson</th>\n",
              "      <th>questionnaire</th>\n",
              "      <th>quiz</th>\n",
              "      <th>resource</th>\n",
              "      <th>url</th>\n",
              "      <th>studentquiz</th>\n",
              "      <th>game</th>\n",
              "      <th>matr</th>\n",
              "      <th>indicador1</th>\n",
              "      <th>indicador2</th>\n",
              "      <th>indicador3</th>\n",
              "      <th>indicador4</th>\n",
              "      <th>indicador5</th>\n",
              "      <th>indicador6</th>\n",
              "      <th>indicador7</th>\n",
              "      <th>indicador8</th>\n",
              "      <th>indicador9</th>\n",
              "      <th>indicador10</th>\n",
              "      <th>indicador11</th>\n",
              "      <th>indicador12</th>\n",
              "      <th>indicador13</th>\n",
              "    </tr>\n",
              "  </thead>\n",
              "  <tbody>\n",
              "    <tr>\n",
              "      <th>324</th>\n",
              "      <td>MAE</td>\n",
              "      <td>2017</td>\n",
              "      <td>25.0</td>\n",
              "      <td>289.0</td>\n",
              "      <td>278.0</td>\n",
              "      <td>0.0</td>\n",
              "      <td>10.0</td>\n",
              "      <td>10.0</td>\n",
              "      <td>0.0</td>\n",
              "      <td>0.0</td>\n",
              "      <td>0.0</td>\n",
              "      <td>235.0</td>\n",
              "      <td>36.0</td>\n",
              "      <td>0.0</td>\n",
              "      <td>0.0</td>\n",
              "      <td>8.0</td>\n",
              "      <td>3.125000</td>\n",
              "      <td>36.125000</td>\n",
              "      <td>34.75</td>\n",
              "      <td>0.0</td>\n",
              "      <td>1.250000</td>\n",
              "      <td>1.250000</td>\n",
              "      <td>0.0</td>\n",
              "      <td>0.0</td>\n",
              "      <td>0.0</td>\n",
              "      <td>29.375000</td>\n",
              "      <td>4.500000</td>\n",
              "      <td>0.0</td>\n",
              "      <td>0.0</td>\n",
              "    </tr>\n",
              "    <tr>\n",
              "      <th>423</th>\n",
              "      <td>IPEN</td>\n",
              "      <td>2019</td>\n",
              "      <td>13.0</td>\n",
              "      <td>130.0</td>\n",
              "      <td>123.0</td>\n",
              "      <td>0.0</td>\n",
              "      <td>5.0</td>\n",
              "      <td>5.0</td>\n",
              "      <td>0.0</td>\n",
              "      <td>0.0</td>\n",
              "      <td>0.0</td>\n",
              "      <td>115.0</td>\n",
              "      <td>1.0</td>\n",
              "      <td>0.0</td>\n",
              "      <td>0.0</td>\n",
              "      <td>6.0</td>\n",
              "      <td>2.166667</td>\n",
              "      <td>21.666667</td>\n",
              "      <td>20.50</td>\n",
              "      <td>0.0</td>\n",
              "      <td>0.833333</td>\n",
              "      <td>0.833333</td>\n",
              "      <td>0.0</td>\n",
              "      <td>0.0</td>\n",
              "      <td>0.0</td>\n",
              "      <td>19.166667</td>\n",
              "      <td>0.166667</td>\n",
              "      <td>0.0</td>\n",
              "      <td>0.0</td>\n",
              "    </tr>\n",
              "  </tbody>\n",
              "</table>\n",
              "</div>"
            ],
            "text/plain": [
              "    unidade   ano  Nunique  ...  indicador11  indicador12  indicador13\n",
              "324     MAE  2017     25.0  ...     4.500000          0.0          0.0\n",
              "423    IPEN  2019     13.0  ...     0.166667          0.0          0.0\n",
              "\n",
              "[2 rows x 29 columns]"
            ]
          },
          "metadata": {},
          "execution_count": 61
        }
      ]
    },
    {
      "cell_type": "code",
      "metadata": {
        "colab": {
          "base_uri": "https://localhost:8080/",
          "height": 0
        },
        "id": "y92K9puM3Lfv",
        "outputId": "c7d561e1-f4a8-45f0-f63c-24dee1e1e020"
      },
      "source": [
        "sns.catplot(x=\"ano\", y=\"indicador10\", col=\"unidade\",\n",
        "                data=i1_10, \n",
        "                kind=\"bar\"\n",
        "                )"
      ],
      "execution_count": 62,
      "outputs": [
        {
          "output_type": "execute_result",
          "data": {
            "text/plain": [
              "<seaborn.axisgrid.FacetGrid at 0x7efc2480c990>"
            ]
          },
          "metadata": {},
          "execution_count": 62
        },
        {
          "output_type": "display_data",
          "data": {
            "image/png": "[encoded data removed]",
            "text/plain": [
              "<Figure size 2520x360 with 7 Axes>"
            ]
          },
          "metadata": {
            "needs_background": "light"
          }
        }
      ]
    },
    {
      "cell_type": "markdown",
      "metadata": {
        "id": "1lx4BQ4p3mIl"
      },
      "source": [
        "#**Indicador 11: url / Nº de matriculas**"
      ]
    },
    {
      "cell_type": "code",
      "metadata": {
        "colab": {
          "base_uri": "https://localhost:8080/",
          "height": 0
        },
        "id": "No2XnR4aIHTQ",
        "outputId": "d9bd4432-8661-4f37-9d40-b0aa4f4ba9e5"
      },
      "source": [
        "i1_11 = i1.loc[(i1['indicador11']) > 4] \n",
        "i1_11.sample(2)"
      ],
      "execution_count": 63,
      "outputs": [
        {
          "output_type": "execute_result",
          "data": {
            "text/html": [
              "<div>\n",
              "<style scoped>\n",
              "    .dataframe tbody tr th:only-of-type {\n",
              "        vertical-align: middle;\n",
              "    }\n",
              "\n",
              "    .dataframe tbody tr th {\n",
              "        vertical-align: top;\n",
              "    }\n",
              "\n",
              "    .dataframe thead th {\n",
              "        text-align: right;\n",
              "    }\n",
              "</style>\n",
              "<table border=\"1\" class=\"dataframe\">\n",
              "  <thead>\n",
              "    <tr style=\"text-align: right;\">\n",
              "      <th></th>\n",
              "      <th>unidade</th>\n",
              "      <th>ano</th>\n",
              "      <th>Nunique</th>\n",
              "      <th>N</th>\n",
              "      <th>Nresource1</th>\n",
              "      <th>Nresource2</th>\n",
              "      <th>Ncommunication</th>\n",
              "      <th>forum</th>\n",
              "      <th>lesson</th>\n",
              "      <th>questionnaire</th>\n",
              "      <th>quiz</th>\n",
              "      <th>resource</th>\n",
              "      <th>url</th>\n",
              "      <th>studentquiz</th>\n",
              "      <th>game</th>\n",
              "      <th>matr</th>\n",
              "      <th>indicador1</th>\n",
              "      <th>indicador2</th>\n",
              "      <th>indicador3</th>\n",
              "      <th>indicador4</th>\n",
              "      <th>indicador5</th>\n",
              "      <th>indicador6</th>\n",
              "      <th>indicador7</th>\n",
              "      <th>indicador8</th>\n",
              "      <th>indicador9</th>\n",
              "      <th>indicador10</th>\n",
              "      <th>indicador11</th>\n",
              "      <th>indicador12</th>\n",
              "      <th>indicador13</th>\n",
              "    </tr>\n",
              "  </thead>\n",
              "  <tbody>\n",
              "    <tr>\n",
              "      <th>428</th>\n",
              "      <td>MAE</td>\n",
              "      <td>2019</td>\n",
              "      <td>62.0</td>\n",
              "      <td>692.0</td>\n",
              "      <td>648.0</td>\n",
              "      <td>0.0</td>\n",
              "      <td>32.0</td>\n",
              "      <td>32.0</td>\n",
              "      <td>0.0</td>\n",
              "      <td>0.0</td>\n",
              "      <td>0.0</td>\n",
              "      <td>548.0</td>\n",
              "      <td>71.0</td>\n",
              "      <td>0.0</td>\n",
              "      <td>0.0</td>\n",
              "      <td>3.0</td>\n",
              "      <td>20.666667</td>\n",
              "      <td>230.666667</td>\n",
              "      <td>216.000000</td>\n",
              "      <td>0.000000</td>\n",
              "      <td>10.666667</td>\n",
              "      <td>10.666667</td>\n",
              "      <td>0.0</td>\n",
              "      <td>0.0</td>\n",
              "      <td>0.0</td>\n",
              "      <td>182.666667</td>\n",
              "      <td>23.666667</td>\n",
              "      <td>0.0</td>\n",
              "      <td>0.0</td>\n",
              "    </tr>\n",
              "    <tr>\n",
              "      <th>415</th>\n",
              "      <td>IEE</td>\n",
              "      <td>2019</td>\n",
              "      <td>29.0</td>\n",
              "      <td>292.0</td>\n",
              "      <td>257.0</td>\n",
              "      <td>1.0</td>\n",
              "      <td>12.0</td>\n",
              "      <td>12.0</td>\n",
              "      <td>0.0</td>\n",
              "      <td>0.0</td>\n",
              "      <td>0.0</td>\n",
              "      <td>213.0</td>\n",
              "      <td>15.0</td>\n",
              "      <td>0.0</td>\n",
              "      <td>0.0</td>\n",
              "      <td>3.0</td>\n",
              "      <td>9.666667</td>\n",
              "      <td>97.333333</td>\n",
              "      <td>85.666667</td>\n",
              "      <td>0.333333</td>\n",
              "      <td>4.000000</td>\n",
              "      <td>4.000000</td>\n",
              "      <td>0.0</td>\n",
              "      <td>0.0</td>\n",
              "      <td>0.0</td>\n",
              "      <td>71.000000</td>\n",
              "      <td>5.000000</td>\n",
              "      <td>0.0</td>\n",
              "      <td>0.0</td>\n",
              "    </tr>\n",
              "  </tbody>\n",
              "</table>\n",
              "</div>"
            ],
            "text/plain": [
              "    unidade   ano  Nunique  ...  indicador11  indicador12  indicador13\n",
              "428     MAE  2019     62.0  ...    23.666667          0.0          0.0\n",
              "415     IEE  2019     29.0  ...     5.000000          0.0          0.0\n",
              "\n",
              "[2 rows x 29 columns]"
            ]
          },
          "metadata": {},
          "execution_count": 63
        }
      ]
    },
    {
      "cell_type": "code",
      "metadata": {
        "colab": {
          "base_uri": "https://localhost:8080/",
          "height": 0
        },
        "id": "-xJoteCB3uEV",
        "outputId": "9691c388-7e17-474f-defb-485cdca7a0a6"
      },
      "source": [
        "sns.catplot(x=\"ano\", y=\"indicador11\", col=\"unidade\",\n",
        "                data=i1_11, \n",
        "                kind=\"bar\"\n",
        "                )"
      ],
      "execution_count": 64,
      "outputs": [
        {
          "output_type": "execute_result",
          "data": {
            "text/plain": [
              "<seaborn.axisgrid.FacetGrid at 0x7efc243ef110>"
            ]
          },
          "metadata": {},
          "execution_count": 64
        },
        {
          "output_type": "display_data",
          "data": {
            "image/png": "[encoded data removed]",
            "text/plain": [
              "<Figure size 1800x360 with 5 Axes>"
            ]
          },
          "metadata": {
            "needs_background": "light"
          }
        }
      ]
    },
    {
      "cell_type": "markdown",
      "metadata": {
        "id": "rE3KCaeA3ogO"
      },
      "source": [
        "#**Indicador 12: studentquiz / Nº de matriculas**"
      ]
    },
    {
      "cell_type": "code",
      "metadata": {
        "colab": {
          "base_uri": "https://localhost:8080/",
          "height": 0
        },
        "id": "jUleiFeFI48O",
        "outputId": "de41d408-d8b3-44ea-f959-ec0eceb62f03"
      },
      "source": [
        "i1_12 = i1.loc[(i1['indicador12']) > 0.001] \n",
        "i1_12.sample(2)"
      ],
      "execution_count": 65,
      "outputs": [
        {
          "output_type": "execute_result",
          "data": {
            "text/html": [
              "<div>\n",
              "<style scoped>\n",
              "    .dataframe tbody tr th:only-of-type {\n",
              "        vertical-align: middle;\n",
              "    }\n",
              "\n",
              "    .dataframe tbody tr th {\n",
              "        vertical-align: top;\n",
              "    }\n",
              "\n",
              "    .dataframe thead th {\n",
              "        text-align: right;\n",
              "    }\n",
              "</style>\n",
              "<table border=\"1\" class=\"dataframe\">\n",
              "  <thead>\n",
              "    <tr style=\"text-align: right;\">\n",
              "      <th></th>\n",
              "      <th>unidade</th>\n",
              "      <th>ano</th>\n",
              "      <th>Nunique</th>\n",
              "      <th>N</th>\n",
              "      <th>Nresource1</th>\n",
              "      <th>Nresource2</th>\n",
              "      <th>Ncommunication</th>\n",
              "      <th>forum</th>\n",
              "      <th>lesson</th>\n",
              "      <th>questionnaire</th>\n",
              "      <th>quiz</th>\n",
              "      <th>resource</th>\n",
              "      <th>url</th>\n",
              "      <th>studentquiz</th>\n",
              "      <th>game</th>\n",
              "      <th>matr</th>\n",
              "      <th>indicador1</th>\n",
              "      <th>indicador2</th>\n",
              "      <th>indicador3</th>\n",
              "      <th>indicador4</th>\n",
              "      <th>indicador5</th>\n",
              "      <th>indicador6</th>\n",
              "      <th>indicador7</th>\n",
              "      <th>indicador8</th>\n",
              "      <th>indicador9</th>\n",
              "      <th>indicador10</th>\n",
              "      <th>indicador11</th>\n",
              "      <th>indicador12</th>\n",
              "      <th>indicador13</th>\n",
              "    </tr>\n",
              "  </thead>\n",
              "  <tbody>\n",
              "    <tr>\n",
              "      <th>478</th>\n",
              "      <td>IQ</td>\n",
              "      <td>2020</td>\n",
              "      <td>510.0</td>\n",
              "      <td>5262.0</td>\n",
              "      <td>4143.0</td>\n",
              "      <td>38.0</td>\n",
              "      <td>258.0</td>\n",
              "      <td>232.0</td>\n",
              "      <td>5.0</td>\n",
              "      <td>30.0</td>\n",
              "      <td>331.0</td>\n",
              "      <td>2846.0</td>\n",
              "      <td>1010.0</td>\n",
              "      <td>1.0</td>\n",
              "      <td>0.0</td>\n",
              "      <td>816.0</td>\n",
              "      <td>0.625000</td>\n",
              "      <td>6.448529</td>\n",
              "      <td>5.077206</td>\n",
              "      <td>0.046569</td>\n",
              "      <td>0.316176</td>\n",
              "      <td>0.284314</td>\n",
              "      <td>0.006127</td>\n",
              "      <td>0.036765</td>\n",
              "      <td>0.405637</td>\n",
              "      <td>3.487745</td>\n",
              "      <td>1.237745</td>\n",
              "      <td>0.001225</td>\n",
              "      <td>0.0</td>\n",
              "    </tr>\n",
              "    <tr>\n",
              "      <th>470</th>\n",
              "      <td>IF</td>\n",
              "      <td>2020</td>\n",
              "      <td>627.0</td>\n",
              "      <td>6935.0</td>\n",
              "      <td>4956.0</td>\n",
              "      <td>191.0</td>\n",
              "      <td>360.0</td>\n",
              "      <td>300.0</td>\n",
              "      <td>13.0</td>\n",
              "      <td>53.0</td>\n",
              "      <td>680.0</td>\n",
              "      <td>3364.0</td>\n",
              "      <td>700.0</td>\n",
              "      <td>2.0</td>\n",
              "      <td>0.0</td>\n",
              "      <td>1437.0</td>\n",
              "      <td>0.436326</td>\n",
              "      <td>4.826026</td>\n",
              "      <td>3.448852</td>\n",
              "      <td>0.132916</td>\n",
              "      <td>0.250522</td>\n",
              "      <td>0.208768</td>\n",
              "      <td>0.009047</td>\n",
              "      <td>0.036882</td>\n",
              "      <td>0.473208</td>\n",
              "      <td>2.340988</td>\n",
              "      <td>0.487126</td>\n",
              "      <td>0.001392</td>\n",
              "      <td>0.0</td>\n",
              "    </tr>\n",
              "  </tbody>\n",
              "</table>\n",
              "</div>"
            ],
            "text/plain": [
              "    unidade   ano  Nunique  ...  indicador11  indicador12  indicador13\n",
              "478      IQ  2020    510.0  ...     1.237745     0.001225          0.0\n",
              "470      IF  2020    627.0  ...     0.487126     0.001392          0.0\n",
              "\n",
              "[2 rows x 29 columns]"
            ]
          },
          "metadata": {},
          "execution_count": 65
        }
      ]
    },
    {
      "cell_type": "code",
      "metadata": {
        "colab": {
          "base_uri": "https://localhost:8080/",
          "height": 0
        },
        "id": "xUYdAGZ_3v74",
        "outputId": "55a1dd9c-4de5-49cf-a1ef-bf774d0e735a"
      },
      "source": [
        "sns.catplot(x=\"ano\", y=\"indicador12\", col=\"unidade\",\n",
        "                data=i1_12, \n",
        "                kind=\"bar\"\n",
        "                )"
      ],
      "execution_count": 66,
      "outputs": [
        {
          "output_type": "execute_result",
          "data": {
            "text/plain": [
              "<seaborn.axisgrid.FacetGrid at 0x7efc2411c1d0>"
            ]
          },
          "metadata": {},
          "execution_count": 66
        },
        {
          "output_type": "display_data",
          "data": {
            "image/png": "[encoded data removed]",
            "text/plain": [
              "<Figure size 3240x360 with 9 Axes>"
            ]
          },
          "metadata": {
            "needs_background": "light"
          }
        }
      ]
    },
    {
      "cell_type": "markdown",
      "metadata": {
        "id": "5SJ11VpL3qX-"
      },
      "source": [
        "#**Indicador 13: game / Nº de matriculas**"
      ]
    },
    {
      "cell_type": "code",
      "metadata": {
        "colab": {
          "base_uri": "https://localhost:8080/",
          "height": 0
        },
        "id": "QrrA6HdNJUVQ",
        "outputId": "2a89c9be-8fb9-40dc-934f-9e391903dab4"
      },
      "source": [
        "i1_13 = i1.loc[(i1['indicador13']) > 0.00001] \n",
        "i1_13.sample(2)"
      ],
      "execution_count": 67,
      "outputs": [
        {
          "output_type": "execute_result",
          "data": {
            "text/html": [
              "<div>\n",
              "<style scoped>\n",
              "    .dataframe tbody tr th:only-of-type {\n",
              "        vertical-align: middle;\n",
              "    }\n",
              "\n",
              "    .dataframe tbody tr th {\n",
              "        vertical-align: top;\n",
              "    }\n",
              "\n",
              "    .dataframe thead th {\n",
              "        text-align: right;\n",
              "    }\n",
              "</style>\n",
              "<table border=\"1\" class=\"dataframe\">\n",
              "  <thead>\n",
              "    <tr style=\"text-align: right;\">\n",
              "      <th></th>\n",
              "      <th>unidade</th>\n",
              "      <th>ano</th>\n",
              "      <th>Nunique</th>\n",
              "      <th>N</th>\n",
              "      <th>Nresource1</th>\n",
              "      <th>Nresource2</th>\n",
              "      <th>Ncommunication</th>\n",
              "      <th>forum</th>\n",
              "      <th>lesson</th>\n",
              "      <th>questionnaire</th>\n",
              "      <th>quiz</th>\n",
              "      <th>resource</th>\n",
              "      <th>url</th>\n",
              "      <th>studentquiz</th>\n",
              "      <th>game</th>\n",
              "      <th>matr</th>\n",
              "      <th>indicador1</th>\n",
              "      <th>indicador2</th>\n",
              "      <th>indicador3</th>\n",
              "      <th>indicador4</th>\n",
              "      <th>indicador5</th>\n",
              "      <th>indicador6</th>\n",
              "      <th>indicador7</th>\n",
              "      <th>indicador8</th>\n",
              "      <th>indicador9</th>\n",
              "      <th>indicador10</th>\n",
              "      <th>indicador11</th>\n",
              "      <th>indicador12</th>\n",
              "      <th>indicador13</th>\n",
              "    </tr>\n",
              "  </thead>\n",
              "  <tbody>\n",
              "    <tr>\n",
              "      <th>455</th>\n",
              "      <td>FMRP</td>\n",
              "      <td>2020</td>\n",
              "      <td>3899.0</td>\n",
              "      <td>29385.0</td>\n",
              "      <td>20966.0</td>\n",
              "      <td>550.0</td>\n",
              "      <td>3076.0</td>\n",
              "      <td>2051.0</td>\n",
              "      <td>150.0</td>\n",
              "      <td>656.0</td>\n",
              "      <td>1764.0</td>\n",
              "      <td>13649.0</td>\n",
              "      <td>3082.0</td>\n",
              "      <td>6.0</td>\n",
              "      <td>8.0</td>\n",
              "      <td>1435.0</td>\n",
              "      <td>2.717073</td>\n",
              "      <td>20.477352</td>\n",
              "      <td>14.610453</td>\n",
              "      <td>0.383275</td>\n",
              "      <td>2.143554</td>\n",
              "      <td>1.429268</td>\n",
              "      <td>0.10453</td>\n",
              "      <td>0.457143</td>\n",
              "      <td>1.229268</td>\n",
              "      <td>9.511498</td>\n",
              "      <td>2.147735</td>\n",
              "      <td>0.004181</td>\n",
              "      <td>0.005575</td>\n",
              "    </tr>\n",
              "    <tr>\n",
              "      <th>453</th>\n",
              "      <td>FFLCH</td>\n",
              "      <td>2020</td>\n",
              "      <td>2769.0</td>\n",
              "      <td>30252.0</td>\n",
              "      <td>25080.0</td>\n",
              "      <td>567.0</td>\n",
              "      <td>2033.0</td>\n",
              "      <td>1810.0</td>\n",
              "      <td>41.0</td>\n",
              "      <td>225.0</td>\n",
              "      <td>382.0</td>\n",
              "      <td>18314.0</td>\n",
              "      <td>4713.0</td>\n",
              "      <td>0.0</td>\n",
              "      <td>1.0</td>\n",
              "      <td>9927.0</td>\n",
              "      <td>0.278936</td>\n",
              "      <td>3.047446</td>\n",
              "      <td>2.526443</td>\n",
              "      <td>0.057117</td>\n",
              "      <td>0.204795</td>\n",
              "      <td>0.182331</td>\n",
              "      <td>0.00413</td>\n",
              "      <td>0.022665</td>\n",
              "      <td>0.038481</td>\n",
              "      <td>1.844868</td>\n",
              "      <td>0.474766</td>\n",
              "      <td>0.000000</td>\n",
              "      <td>0.000101</td>\n",
              "    </tr>\n",
              "  </tbody>\n",
              "</table>\n",
              "</div>"
            ],
            "text/plain": [
              "    unidade   ano  Nunique  ...  indicador11  indicador12  indicador13\n",
              "455    FMRP  2020   3899.0  ...     2.147735     0.004181     0.005575\n",
              "453   FFLCH  2020   2769.0  ...     0.474766     0.000000     0.000101\n",
              "\n",
              "[2 rows x 29 columns]"
            ]
          },
          "metadata": {},
          "execution_count": 67
        }
      ]
    },
    {
      "cell_type": "code",
      "metadata": {
        "colab": {
          "base_uri": "https://localhost:8080/",
          "height": 0
        },
        "id": "AxHlVvxH3yzm",
        "outputId": "7dd23db2-fc84-4f66-e16e-89f0cad87a4c"
      },
      "source": [
        "sns.catplot(x=\"ano\", y=\"indicador13\", col=\"unidade\",\n",
        "                data=i1_13, \n",
        "                kind=\"bar\"\n",
        "                )"
      ],
      "execution_count": 68,
      "outputs": [
        {
          "output_type": "execute_result",
          "data": {
            "text/plain": [
              "<seaborn.axisgrid.FacetGrid at 0x7efc23df3490>"
            ]
          },
          "metadata": {},
          "execution_count": 68
        },
        {
          "output_type": "display_data",
          "data": {
            "image/png": "[encoded data removed]",
            "text/plain": [
              "<Figure size 720x360 with 2 Axes>"
            ]
          },
          "metadata": {
            "needs_background": "light"
          }
        }
      ]
    }
  ]
}